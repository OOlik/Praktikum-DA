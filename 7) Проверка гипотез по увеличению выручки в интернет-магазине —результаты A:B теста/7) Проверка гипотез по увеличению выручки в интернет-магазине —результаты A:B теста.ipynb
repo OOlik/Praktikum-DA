{
 "cells": [
  {
   "cell_type": "markdown",
   "metadata": {},
   "source": [
    "# Анализ A/B-тестов для интернет-магазина"
   ]
  },
  {
   "cell_type": "markdown",
   "metadata": {},
   "source": [
    "# Описание проекта\n",
    "\n",
    "Вместе с отделом маркетинга крупного интернет-магазина был подготовлен список гипотез для увеличения выручки.\n",
    "Необходимо приоритизировать гипотезы, запустить A/B-тест и проанализировать результаты.\n",
    "\n",
    "# Описание данных\n",
    "\n",
    "# Данные для первой части\n",
    "Файл /datasets/hypothesis.csv.\n",
    "Hypothesis — краткое описание гипотезы;\n",
    "Reach — охват пользователей по 10-балльной шкале;\n",
    "Impact — влияние на пользователей по 10-балльной шкале;\n",
    "Confidence — уверенность в гипотезе по 10-балльной шкале;\n",
    "Efforts — затраты ресурсов на проверку гипотезы по 10-балльной шкале. Чем больше значение Efforts, тем дороже проверка гипотезы.\n",
    "# Данные для второй части\n",
    "Файл /datasets/orders.csv.\n",
    "transactionId — идентификатор заказа;\n",
    "visitorId — идентификатор пользователя, совершившего заказ;\n",
    "date — дата, когда был совершён заказ;\n",
    "revenue — выручка заказа;\n",
    "group — группа A/B-теста, в которую попал заказ.\n",
    "Файл /datasets/visitors.csv.\n",
    "date — дата;\n",
    "group — группа A/B-теста;\n",
    "visitors — количество пользователей в указанную дату в указанной группе A/B-теста"
   ]
  },
  {
   "cell_type": "markdown",
   "metadata": {
    "toc": true
   },
   "source": [
    "<h1>Оглавление<span class=\"tocSkip\"></span></h1>\n",
    "<div class=\"toc\"><ul class=\"toc-item\"><li><span><a href=\"#Часть-1.-Приоритизация-гипотез.\" data-toc-modified-id=\"Часть-1.-Приоритизация-гипотез.-1\"><span class=\"toc-item-num\">1&nbsp;&nbsp;</span>Часть 1. Приоритизация гипотез.</a></span><ul class=\"toc-item\"><li><span><a href=\"#Применение-фреймворка-ICE-для-приоритизации-гипотез.\" data-toc-modified-id=\"Применение-фреймворка-ICE-для-приоритизации-гипотез.-1.1\"><span class=\"toc-item-num\">1.1&nbsp;&nbsp;</span>Применение фреймворка ICE для приоритизации гипотез.</a></span></li><li><span><a href=\"#Применение-фреймворка-RICE-для-приоритизации-гипотез.\" data-toc-modified-id=\"Применение-фреймворка-RICE-для-приоритизации-гипотез.-1.2\"><span class=\"toc-item-num\">1.2&nbsp;&nbsp;</span>Применение фреймворка RICE для приоритизации гипотез.</a></span></li><li><span><a href=\"#Изменение-приоритизации-гипотез-при-применении-RICE-вместо-ICE.\" data-toc-modified-id=\"Изменение-приоритизации-гипотез-при-применении-RICE-вместо-ICE.-1.3\"><span class=\"toc-item-num\">1.3&nbsp;&nbsp;</span>Изменение приоритизации гипотез при применении RICE вместо ICE.</a></span></li></ul></li><li><span><a href=\"#Часть-2.-Анализ-A/B-теста.\" data-toc-modified-id=\"Часть-2.-Анализ-A/B-теста.-2\"><span class=\"toc-item-num\">2&nbsp;&nbsp;</span>Часть 2. Анализ A/B-теста.</a></span><ul class=\"toc-item\"><li><span><a href=\"#Построение-графика-кумулятивной-выручки-по-группам.\" data-toc-modified-id=\"Построение-графика-кумулятивной-выручки-по-группам.-2.1\"><span class=\"toc-item-num\">2.1&nbsp;&nbsp;</span>Построение графика кумулятивной выручки по группам.</a></span></li><li><span><a href=\"#Построение-графика-кумулятивного-среднего-чека-по-группам.\" data-toc-modified-id=\"Построение-графика-кумулятивного-среднего-чека-по-группам.-2.2\"><span class=\"toc-item-num\">2.2&nbsp;&nbsp;</span>Построение графика кумулятивного среднего чека по группам.</a></span></li><li><span><a href=\"#Построение-графика-относительного-изменения-кумулятивного-среднего-чека-группы-B-к-группе-A.\" data-toc-modified-id=\"Построение-графика-относительного-изменения-кумулятивного-среднего-чека-группы-B-к-группе-A.-2.3\"><span class=\"toc-item-num\">2.3&nbsp;&nbsp;</span>Построение графика относительного изменения кумулятивного среднего чека группы B к группе A.</a></span></li><li><span><a href=\"#Построение-графика-кумулятивной-конверсии-по-группам.-Сделайте-выводы-и-предположения.\" data-toc-modified-id=\"Построение-графика-кумулятивной-конверсии-по-группам.-Сделайте-выводы-и-предположения.-2.4\"><span class=\"toc-item-num\">2.4&nbsp;&nbsp;</span>Построение графика кумулятивной конверсии по группам. Сделайте выводы и предположения.</a></span></li><li><span><a href=\"#Построение-графика-относительного-изменения-кумулятивной-конверсии-группы-B-к-группе-A.\" data-toc-modified-id=\"Построение-графика-относительного-изменения-кумулятивной-конверсии-группы-B-к-группе-A.-2.5\"><span class=\"toc-item-num\">2.5&nbsp;&nbsp;</span>Построение графика относительного изменения кумулятивной конверсии группы B к группе A.</a></span></li><li><span><a href=\"#Построение-точечного-графика-количества-заказов-по-пользователям.\" data-toc-modified-id=\"Построение-точечного-графика-количества-заказов-по-пользователям.-2.6\"><span class=\"toc-item-num\">2.6&nbsp;&nbsp;</span>Построение точечного графика количества заказов по пользователям.</a></span></li><li><span><a href=\"#Рассчет-95-го-и-99-го-перцентилей-количества-заказов-на-пользователя.\" data-toc-modified-id=\"Рассчет-95-го-и-99-го-перцентилей-количества-заказов-на-пользователя.-2.7\"><span class=\"toc-item-num\">2.7&nbsp;&nbsp;</span>Рассчет 95-го и 99-го перцентилей количества заказов на пользователя.</a></span></li><li><span><a href=\"#Построение-точечного-графика-стоимостей-заказов.\" data-toc-modified-id=\"Построение-точечного-графика-стоимостей-заказов.-2.8\"><span class=\"toc-item-num\">2.8&nbsp;&nbsp;</span>Построение точечного графика стоимостей заказов.</a></span></li><li><span><a href=\"#Рассчет-95-го-и-99-го-перцентилей-стоимости-заказов.\" data-toc-modified-id=\"Рассчет-95-го-и-99-го-перцентилей-стоимости-заказов.-2.9\"><span class=\"toc-item-num\">2.9&nbsp;&nbsp;</span>Рассчет 95-го и 99-го перцентилей стоимости заказов.</a></span></li><li><span><a href=\"#Рассчет-статистической-значимости-различий-в-конверсии-между-группами-по-«сырым»-данным.\" data-toc-modified-id=\"Рассчет-статистической-значимости-различий-в-конверсии-между-группами-по-«сырым»-данным.-2.10\"><span class=\"toc-item-num\">2.10&nbsp;&nbsp;</span>Рассчет статистической значимости различий в конверсии между группами по «сырым» данным.</a></span></li><li><span><a href=\"#Рассчет-статистической-значимости-различий-в-среднем-чеке-заказа-между-группами-по-«сырым»-данным.\" data-toc-modified-id=\"Рассчет-статистической-значимости-различий-в-среднем-чеке-заказа-между-группами-по-«сырым»-данным.-2.11\"><span class=\"toc-item-num\">2.11&nbsp;&nbsp;</span>Рассчет статистической значимости различий в среднем чеке заказа между группами по «сырым» данным.</a></span></li><li><span><a href=\"#Рассчет-статистической-значимости-различий-в-конверсии-между-группами-по-«очищенным»-данным.\" data-toc-modified-id=\"Рассчет-статистической-значимости-различий-в-конверсии-между-группами-по-«очищенным»-данным.-2.12\"><span class=\"toc-item-num\">2.12&nbsp;&nbsp;</span>Рассчет статистической значимости различий в конверсии между группами по «очищенным» данным.</a></span></li><li><span><a href=\"#Рассчет-статистической-значимости-различий-в-среднем-чеке-заказа-между-группами-по-«очищенным»-данным.\" data-toc-modified-id=\"Рассчет-статистической-значимости-различий-в-среднем-чеке-заказа-между-группами-по-«очищенным»-данным.-2.13\"><span class=\"toc-item-num\">2.13&nbsp;&nbsp;</span>Рассчет статистической значимости различий в среднем чеке заказа между группами по «очищенным» данным.</a></span></li><li><span><a href=\"#Принятое-решения-по-результатам-теста.\" data-toc-modified-id=\"Принятое-решения-по-результатам-теста.-2.14\"><span class=\"toc-item-num\">2.14&nbsp;&nbsp;</span>Принятое решения по результатам теста.</a></span></li></ul></li><li><span><a href=\"#Общий-вывод.\" data-toc-modified-id=\"Общий-вывод.-3\"><span class=\"toc-item-num\">3&nbsp;&nbsp;</span>Общий вывод.</a></span></li></ul></div>"
   ]
  },
  {
   "cell_type": "code",
   "execution_count": 1,
   "metadata": {},
   "outputs": [],
   "source": [
    "# импортируем библиотеки\n",
    "\n",
    "import pandas as pd\n",
    "import matplotlib.pyplot as plt\n",
    "import numpy as np\n",
    "import scipy.stats as stats\n",
    "import math\n",
    "import seaborn as sns\n",
    "\n",
    "from pandas.plotting import register_matplotlib_converters\n",
    "pd.plotting.register_matplotlib_converters()\n",
    "\n",
    "from IPython.display import display\n",
    "from scipy import stats as st"
   ]
  },
  {
   "cell_type": "markdown",
   "metadata": {},
   "source": [
    "## Часть 1. Приоритизация гипотез."
   ]
  },
  {
   "cell_type": "code",
   "execution_count": 2,
   "metadata": {},
   "outputs": [
    {
     "data": {
      "text/html": [
       "<div>\n",
       "<style scoped>\n",
       "    .dataframe tbody tr th:only-of-type {\n",
       "        vertical-align: middle;\n",
       "    }\n",
       "\n",
       "    .dataframe tbody tr th {\n",
       "        vertical-align: top;\n",
       "    }\n",
       "\n",
       "    .dataframe thead th {\n",
       "        text-align: right;\n",
       "    }\n",
       "</style>\n",
       "<table border=\"1\" class=\"dataframe\">\n",
       "  <thead>\n",
       "    <tr style=\"text-align: right;\">\n",
       "      <th></th>\n",
       "      <th>Hypothesis</th>\n",
       "      <th>Reach</th>\n",
       "      <th>Impact</th>\n",
       "      <th>Confidence</th>\n",
       "      <th>Efforts</th>\n",
       "    </tr>\n",
       "  </thead>\n",
       "  <tbody>\n",
       "    <tr>\n",
       "      <td>0</td>\n",
       "      <td>Добавить два новых канала привлечения трафика, что позволит привлекать на 30% больше пользователей</td>\n",
       "      <td>3</td>\n",
       "      <td>10</td>\n",
       "      <td>8</td>\n",
       "      <td>6</td>\n",
       "    </tr>\n",
       "    <tr>\n",
       "      <td>1</td>\n",
       "      <td>Запустить собственную службу доставки, что сократит срок доставки заказов</td>\n",
       "      <td>2</td>\n",
       "      <td>5</td>\n",
       "      <td>4</td>\n",
       "      <td>10</td>\n",
       "    </tr>\n",
       "    <tr>\n",
       "      <td>2</td>\n",
       "      <td>Добавить блоки рекомендаций товаров на сайт интернет магазина, чтобы повысить конверсию и средний чек заказа</td>\n",
       "      <td>8</td>\n",
       "      <td>3</td>\n",
       "      <td>7</td>\n",
       "      <td>3</td>\n",
       "    </tr>\n",
       "    <tr>\n",
       "      <td>3</td>\n",
       "      <td>Изменить структура категорий, что увеличит конверсию, т.к. пользователи быстрее найдут нужный товар</td>\n",
       "      <td>8</td>\n",
       "      <td>3</td>\n",
       "      <td>3</td>\n",
       "      <td>8</td>\n",
       "    </tr>\n",
       "    <tr>\n",
       "      <td>4</td>\n",
       "      <td>Изменить цвет фона главной страницы, чтобы увеличить вовлеченность пользователей</td>\n",
       "      <td>3</td>\n",
       "      <td>1</td>\n",
       "      <td>1</td>\n",
       "      <td>1</td>\n",
       "    </tr>\n",
       "    <tr>\n",
       "      <td>5</td>\n",
       "      <td>Добавить страницу отзывов клиентов о магазине, что позволит увеличить количество заказов</td>\n",
       "      <td>3</td>\n",
       "      <td>2</td>\n",
       "      <td>2</td>\n",
       "      <td>3</td>\n",
       "    </tr>\n",
       "    <tr>\n",
       "      <td>6</td>\n",
       "      <td>Показать на главной странице баннеры с актуальными акциями и распродажами, чтобы увеличить конверсию</td>\n",
       "      <td>5</td>\n",
       "      <td>3</td>\n",
       "      <td>8</td>\n",
       "      <td>3</td>\n",
       "    </tr>\n",
       "    <tr>\n",
       "      <td>7</td>\n",
       "      <td>Добавить форму подписки на все основные страницы, чтобы собрать базу клиентов для email-рассылок</td>\n",
       "      <td>10</td>\n",
       "      <td>7</td>\n",
       "      <td>8</td>\n",
       "      <td>5</td>\n",
       "    </tr>\n",
       "    <tr>\n",
       "      <td>8</td>\n",
       "      <td>Запустить акцию, дающую скидку на товар в день рождения</td>\n",
       "      <td>1</td>\n",
       "      <td>9</td>\n",
       "      <td>9</td>\n",
       "      <td>5</td>\n",
       "    </tr>\n",
       "  </tbody>\n",
       "</table>\n",
       "</div>"
      ],
      "text/plain": [
       "                                                                                                     Hypothesis  \\\n",
       "0            Добавить два новых канала привлечения трафика, что позволит привлекать на 30% больше пользователей   \n",
       "1                                     Запустить собственную службу доставки, что сократит срок доставки заказов   \n",
       "2  Добавить блоки рекомендаций товаров на сайт интернет магазина, чтобы повысить конверсию и средний чек заказа   \n",
       "3           Изменить структура категорий, что увеличит конверсию, т.к. пользователи быстрее найдут нужный товар   \n",
       "4                              Изменить цвет фона главной страницы, чтобы увеличить вовлеченность пользователей   \n",
       "5                      Добавить страницу отзывов клиентов о магазине, что позволит увеличить количество заказов   \n",
       "6          Показать на главной странице баннеры с актуальными акциями и распродажами, чтобы увеличить конверсию   \n",
       "7              Добавить форму подписки на все основные страницы, чтобы собрать базу клиентов для email-рассылок   \n",
       "8                                                       Запустить акцию, дающую скидку на товар в день рождения   \n",
       "\n",
       "   Reach  Impact  Confidence  Efforts  \n",
       "0      3      10           8        6  \n",
       "1      2       5           4       10  \n",
       "2      8       3           7        3  \n",
       "3      8       3           3        8  \n",
       "4      3       1           1        1  \n",
       "5      3       2           2        3  \n",
       "6      5       3           8        3  \n",
       "7     10       7           8        5  \n",
       "8      1       9           9        5  "
      ]
     },
     "metadata": {},
     "output_type": "display_data"
    }
   ],
   "source": [
    "hypothesis = pd.read_csv('/datasets/hypothesis.csv')\n",
    "pd.set_option('display.max_columns', None)\n",
    "pd.options.display.max_colwidth = 150\n",
    "display(hypothesis)"
   ]
  },
  {
   "cell_type": "code",
   "execution_count": 3,
   "metadata": {},
   "outputs": [],
   "source": [
    "hypothesis.columns = ['hypothesis', 'reach', 'impact', 'confidence', 'efforts']"
   ]
  },
  {
   "cell_type": "markdown",
   "metadata": {},
   "source": [
    "### Применение фреймворка ICE для приоритизации гипотез."
   ]
  },
  {
   "cell_type": "code",
   "execution_count": 4,
   "metadata": {},
   "outputs": [
    {
     "data": {
      "text/html": [
       "<style  type=\"text/css\" >\n",
       "    #T_d98702ec_bf03_11eb_81e8_02420a390f61row0_col1 {\n",
       "            background-color:  #008000;\n",
       "            color:  #f1f1f1;\n",
       "        }    #T_d98702ec_bf03_11eb_81e8_02420a390f61row1_col1 {\n",
       "            background-color:  #2e992e;\n",
       "            color:  #000000;\n",
       "        }    #T_d98702ec_bf03_11eb_81e8_02420a390f61row2_col1 {\n",
       "            background-color:  #4daa4d;\n",
       "            color:  #000000;\n",
       "        }    #T_d98702ec_bf03_11eb_81e8_02420a390f61row3_col1 {\n",
       "            background-color:  #7ac47a;\n",
       "            color:  #000000;\n",
       "        }    #T_d98702ec_bf03_11eb_81e8_02420a390f61row4_col1 {\n",
       "            background-color:  #8acc8a;\n",
       "            color:  #000000;\n",
       "        }    #T_d98702ec_bf03_11eb_81e8_02420a390f61row5_col1 {\n",
       "            background-color:  #d6f7d6;\n",
       "            color:  #000000;\n",
       "        }    #T_d98702ec_bf03_11eb_81e8_02420a390f61row6_col1 {\n",
       "            background-color:  #e5ffe5;\n",
       "            color:  #000000;\n",
       "        }    #T_d98702ec_bf03_11eb_81e8_02420a390f61row7_col1 {\n",
       "            background-color:  #e5ffe5;\n",
       "            color:  #000000;\n",
       "        }    #T_d98702ec_bf03_11eb_81e8_02420a390f61row8_col1 {\n",
       "            background-color:  #e5ffe5;\n",
       "            color:  #000000;\n",
       "        }</style><table id=\"T_d98702ec_bf03_11eb_81e8_02420a390f61\" ><thead>    <tr>        <th class=\"blank level0\" ></th>        <th class=\"col_heading level0 col0\" >hypothesis</th>        <th class=\"col_heading level0 col1\" >ICE</th>    </tr></thead><tbody>\n",
       "                <tr>\n",
       "                        <th id=\"T_d98702ec_bf03_11eb_81e8_02420a390f61level0_row0\" class=\"row_heading level0 row0\" >8</th>\n",
       "                        <td id=\"T_d98702ec_bf03_11eb_81e8_02420a390f61row0_col0\" class=\"data row0 col0\" >Запустить акцию, дающую скидку на товар в день рождения</td>\n",
       "                        <td id=\"T_d98702ec_bf03_11eb_81e8_02420a390f61row0_col1\" class=\"data row0 col1\" >16</td>\n",
       "            </tr>\n",
       "            <tr>\n",
       "                        <th id=\"T_d98702ec_bf03_11eb_81e8_02420a390f61level0_row1\" class=\"row_heading level0 row1\" >0</th>\n",
       "                        <td id=\"T_d98702ec_bf03_11eb_81e8_02420a390f61row1_col0\" class=\"data row1 col0\" >Добавить два новых канала привлечения трафика, что позволит привлекать на 30% больше пользователей</td>\n",
       "                        <td id=\"T_d98702ec_bf03_11eb_81e8_02420a390f61row1_col1\" class=\"data row1 col1\" >13</td>\n",
       "            </tr>\n",
       "            <tr>\n",
       "                        <th id=\"T_d98702ec_bf03_11eb_81e8_02420a390f61level0_row2\" class=\"row_heading level0 row2\" >7</th>\n",
       "                        <td id=\"T_d98702ec_bf03_11eb_81e8_02420a390f61row2_col0\" class=\"data row2 col0\" >Добавить форму подписки на все основные страницы, чтобы собрать базу клиентов для email-рассылок</td>\n",
       "                        <td id=\"T_d98702ec_bf03_11eb_81e8_02420a390f61row2_col1\" class=\"data row2 col1\" >11</td>\n",
       "            </tr>\n",
       "            <tr>\n",
       "                        <th id=\"T_d98702ec_bf03_11eb_81e8_02420a390f61level0_row3\" class=\"row_heading level0 row3\" >6</th>\n",
       "                        <td id=\"T_d98702ec_bf03_11eb_81e8_02420a390f61row3_col0\" class=\"data row3 col0\" >Показать на главной странице баннеры с актуальными акциями и распродажами, чтобы увеличить конверсию</td>\n",
       "                        <td id=\"T_d98702ec_bf03_11eb_81e8_02420a390f61row3_col1\" class=\"data row3 col1\" >8</td>\n",
       "            </tr>\n",
       "            <tr>\n",
       "                        <th id=\"T_d98702ec_bf03_11eb_81e8_02420a390f61level0_row4\" class=\"row_heading level0 row4\" >2</th>\n",
       "                        <td id=\"T_d98702ec_bf03_11eb_81e8_02420a390f61row4_col0\" class=\"data row4 col0\" >Добавить блоки рекомендаций товаров на сайт интернет магазина, чтобы повысить конверсию и средний чек заказа</td>\n",
       "                        <td id=\"T_d98702ec_bf03_11eb_81e8_02420a390f61row4_col1\" class=\"data row4 col1\" >7</td>\n",
       "            </tr>\n",
       "            <tr>\n",
       "                        <th id=\"T_d98702ec_bf03_11eb_81e8_02420a390f61level0_row5\" class=\"row_heading level0 row5\" >1</th>\n",
       "                        <td id=\"T_d98702ec_bf03_11eb_81e8_02420a390f61row5_col0\" class=\"data row5 col0\" >Запустить собственную службу доставки, что сократит срок доставки заказов</td>\n",
       "                        <td id=\"T_d98702ec_bf03_11eb_81e8_02420a390f61row5_col1\" class=\"data row5 col1\" >2</td>\n",
       "            </tr>\n",
       "            <tr>\n",
       "                        <th id=\"T_d98702ec_bf03_11eb_81e8_02420a390f61level0_row6\" class=\"row_heading level0 row6\" >3</th>\n",
       "                        <td id=\"T_d98702ec_bf03_11eb_81e8_02420a390f61row6_col0\" class=\"data row6 col0\" >Изменить структура категорий, что увеличит конверсию, т.к. пользователи быстрее найдут нужный товар</td>\n",
       "                        <td id=\"T_d98702ec_bf03_11eb_81e8_02420a390f61row6_col1\" class=\"data row6 col1\" >1</td>\n",
       "            </tr>\n",
       "            <tr>\n",
       "                        <th id=\"T_d98702ec_bf03_11eb_81e8_02420a390f61level0_row7\" class=\"row_heading level0 row7\" >4</th>\n",
       "                        <td id=\"T_d98702ec_bf03_11eb_81e8_02420a390f61row7_col0\" class=\"data row7 col0\" >Изменить цвет фона главной страницы, чтобы увеличить вовлеченность пользователей</td>\n",
       "                        <td id=\"T_d98702ec_bf03_11eb_81e8_02420a390f61row7_col1\" class=\"data row7 col1\" >1</td>\n",
       "            </tr>\n",
       "            <tr>\n",
       "                        <th id=\"T_d98702ec_bf03_11eb_81e8_02420a390f61level0_row8\" class=\"row_heading level0 row8\" >5</th>\n",
       "                        <td id=\"T_d98702ec_bf03_11eb_81e8_02420a390f61row8_col0\" class=\"data row8 col0\" >Добавить страницу отзывов клиентов о магазине, что позволит увеличить количество заказов</td>\n",
       "                        <td id=\"T_d98702ec_bf03_11eb_81e8_02420a390f61row8_col1\" class=\"data row8 col1\" >1</td>\n",
       "            </tr>\n",
       "    </tbody></table>"
      ],
      "text/plain": [
       "<pandas.io.formats.style.Styler at 0x7f1c057f0950>"
      ]
     },
     "metadata": {},
     "output_type": "display_data"
    }
   ],
   "source": [
    "cm = sns.light_palette(\"green\", as_cmap=True)\n",
    "\n",
    "hypothesis['ICE'] = ((hypothesis['impact'] * hypothesis['confidence']) / hypothesis['efforts']).round()\n",
    "\n",
    "display(hypothesis[['hypothesis', 'ICE']].sort_values(by='ICE', ascending=False).style.background_gradient(cmap=cm))"
   ]
  },
  {
   "cell_type": "markdown",
   "metadata": {},
   "source": [
    "Наиболее перспективные гипотезы по ICE - \"Запустить акцию, дающую скидку на товар в день рождения\" (8), \"Добавить два новых канала привлечения трафика, что позволит привлекать на 30% больше пользователей\" (0), \"Добавить форму подписки на все основные страницы, чтобы собрать базу клиентов для email-рассылок\" (7)."
   ]
  },
  {
   "cell_type": "markdown",
   "metadata": {},
   "source": [
    "### Применение фреймворка RICE для приоритизации гипотез."
   ]
  },
  {
   "cell_type": "code",
   "execution_count": 5,
   "metadata": {},
   "outputs": [
    {
     "data": {
      "text/html": [
       "<style  type=\"text/css\" >\n",
       "    #T_d98cdf14_bf03_11eb_81e8_02420a390f61row0_col1 {\n",
       "            background-color:  #008000;\n",
       "            color:  #f1f1f1;\n",
       "        }    #T_d98cdf14_bf03_11eb_81e8_02420a390f61row1_col1 {\n",
       "            background-color:  #76c176;\n",
       "            color:  #000000;\n",
       "        }    #T_d98cdf14_bf03_11eb_81e8_02420a390f61row2_col1 {\n",
       "            background-color:  #98d498;\n",
       "            color:  #000000;\n",
       "        }    #T_d98cdf14_bf03_11eb_81e8_02420a390f61row3_col1 {\n",
       "            background-color:  #98d498;\n",
       "            color:  #000000;\n",
       "        }    #T_d98cdf14_bf03_11eb_81e8_02420a390f61row4_col1 {\n",
       "            background-color:  #caf0ca;\n",
       "            color:  #000000;\n",
       "        }    #T_d98cdf14_bf03_11eb_81e8_02420a390f61row5_col1 {\n",
       "            background-color:  #d9f8d9;\n",
       "            color:  #000000;\n",
       "        }    #T_d98cdf14_bf03_11eb_81e8_02420a390f61row6_col1 {\n",
       "            background-color:  #e4fee4;\n",
       "            color:  #000000;\n",
       "        }    #T_d98cdf14_bf03_11eb_81e8_02420a390f61row7_col1 {\n",
       "            background-color:  #e4fee4;\n",
       "            color:  #000000;\n",
       "        }    #T_d98cdf14_bf03_11eb_81e8_02420a390f61row8_col1 {\n",
       "            background-color:  #e5ffe5;\n",
       "            color:  #000000;\n",
       "        }</style><table id=\"T_d98cdf14_bf03_11eb_81e8_02420a390f61\" ><thead>    <tr>        <th class=\"blank level0\" ></th>        <th class=\"col_heading level0 col0\" >hypothesis</th>        <th class=\"col_heading level0 col1\" >RICE</th>    </tr></thead><tbody>\n",
       "                <tr>\n",
       "                        <th id=\"T_d98cdf14_bf03_11eb_81e8_02420a390f61level0_row0\" class=\"row_heading level0 row0\" >7</th>\n",
       "                        <td id=\"T_d98cdf14_bf03_11eb_81e8_02420a390f61row0_col0\" class=\"data row0 col0\" >Добавить форму подписки на все основные страницы, чтобы собрать базу клиентов для email-рассылок</td>\n",
       "                        <td id=\"T_d98cdf14_bf03_11eb_81e8_02420a390f61row0_col1\" class=\"data row0 col1\" >112</td>\n",
       "            </tr>\n",
       "            <tr>\n",
       "                        <th id=\"T_d98cdf14_bf03_11eb_81e8_02420a390f61level0_row1\" class=\"row_heading level0 row1\" >2</th>\n",
       "                        <td id=\"T_d98cdf14_bf03_11eb_81e8_02420a390f61row1_col0\" class=\"data row1 col0\" >Добавить блоки рекомендаций товаров на сайт интернет магазина, чтобы повысить конверсию и средний чек заказа</td>\n",
       "                        <td id=\"T_d98cdf14_bf03_11eb_81e8_02420a390f61row1_col1\" class=\"data row1 col1\" >56</td>\n",
       "            </tr>\n",
       "            <tr>\n",
       "                        <th id=\"T_d98cdf14_bf03_11eb_81e8_02420a390f61level0_row2\" class=\"row_heading level0 row2\" >0</th>\n",
       "                        <td id=\"T_d98cdf14_bf03_11eb_81e8_02420a390f61row2_col0\" class=\"data row2 col0\" >Добавить два новых канала привлечения трафика, что позволит привлекать на 30% больше пользователей</td>\n",
       "                        <td id=\"T_d98cdf14_bf03_11eb_81e8_02420a390f61row2_col1\" class=\"data row2 col1\" >40</td>\n",
       "            </tr>\n",
       "            <tr>\n",
       "                        <th id=\"T_d98cdf14_bf03_11eb_81e8_02420a390f61level0_row3\" class=\"row_heading level0 row3\" >6</th>\n",
       "                        <td id=\"T_d98cdf14_bf03_11eb_81e8_02420a390f61row3_col0\" class=\"data row3 col0\" >Показать на главной странице баннеры с актуальными акциями и распродажами, чтобы увеличить конверсию</td>\n",
       "                        <td id=\"T_d98cdf14_bf03_11eb_81e8_02420a390f61row3_col1\" class=\"data row3 col1\" >40</td>\n",
       "            </tr>\n",
       "            <tr>\n",
       "                        <th id=\"T_d98cdf14_bf03_11eb_81e8_02420a390f61level0_row4\" class=\"row_heading level0 row4\" >8</th>\n",
       "                        <td id=\"T_d98cdf14_bf03_11eb_81e8_02420a390f61row4_col0\" class=\"data row4 col0\" >Запустить акцию, дающую скидку на товар в день рождения</td>\n",
       "                        <td id=\"T_d98cdf14_bf03_11eb_81e8_02420a390f61row4_col1\" class=\"data row4 col1\" >16.2</td>\n",
       "            </tr>\n",
       "            <tr>\n",
       "                        <th id=\"T_d98cdf14_bf03_11eb_81e8_02420a390f61level0_row5\" class=\"row_heading level0 row5\" >3</th>\n",
       "                        <td id=\"T_d98cdf14_bf03_11eb_81e8_02420a390f61row5_col0\" class=\"data row5 col0\" >Изменить структура категорий, что увеличит конверсию, т.к. пользователи быстрее найдут нужный товар</td>\n",
       "                        <td id=\"T_d98cdf14_bf03_11eb_81e8_02420a390f61row5_col1\" class=\"data row5 col1\" >9</td>\n",
       "            </tr>\n",
       "            <tr>\n",
       "                        <th id=\"T_d98cdf14_bf03_11eb_81e8_02420a390f61level0_row6\" class=\"row_heading level0 row6\" >1</th>\n",
       "                        <td id=\"T_d98cdf14_bf03_11eb_81e8_02420a390f61row6_col0\" class=\"data row6 col0\" >Запустить собственную службу доставки, что сократит срок доставки заказов</td>\n",
       "                        <td id=\"T_d98cdf14_bf03_11eb_81e8_02420a390f61row6_col1\" class=\"data row6 col1\" >4</td>\n",
       "            </tr>\n",
       "            <tr>\n",
       "                        <th id=\"T_d98cdf14_bf03_11eb_81e8_02420a390f61level0_row7\" class=\"row_heading level0 row7\" >5</th>\n",
       "                        <td id=\"T_d98cdf14_bf03_11eb_81e8_02420a390f61row7_col0\" class=\"data row7 col0\" >Добавить страницу отзывов клиентов о магазине, что позволит увеличить количество заказов</td>\n",
       "                        <td id=\"T_d98cdf14_bf03_11eb_81e8_02420a390f61row7_col1\" class=\"data row7 col1\" >4</td>\n",
       "            </tr>\n",
       "            <tr>\n",
       "                        <th id=\"T_d98cdf14_bf03_11eb_81e8_02420a390f61level0_row8\" class=\"row_heading level0 row8\" >4</th>\n",
       "                        <td id=\"T_d98cdf14_bf03_11eb_81e8_02420a390f61row8_col0\" class=\"data row8 col0\" >Изменить цвет фона главной страницы, чтобы увеличить вовлеченность пользователей</td>\n",
       "                        <td id=\"T_d98cdf14_bf03_11eb_81e8_02420a390f61row8_col1\" class=\"data row8 col1\" >3</td>\n",
       "            </tr>\n",
       "    </tbody></table>"
      ],
      "text/plain": [
       "<pandas.io.formats.style.Styler at 0x7f1bffff0b90>"
      ]
     },
     "metadata": {},
     "output_type": "display_data"
    }
   ],
   "source": [
    "hypothesis['RICE'] = (hypothesis['reach'] * hypothesis['impact'] * hypothesis['confidence']) / hypothesis['efforts']\n",
    "\n",
    "display(hypothesis[['hypothesis', 'RICE']].sort_values(by='RICE', ascending=False).style.background_gradient(cmap=cm))"
   ]
  },
  {
   "cell_type": "markdown",
   "metadata": {},
   "source": [
    "Наиболее перспективные гипотезы по RICE - \"Добавить форму подписки на все основные страницы, чтобы собрать базу клиентов для email-рассылок\" (7), \"Добавить блоки рекомендаций товаров на сайт интернет магазина, чтобы повысить конверсию и средний чек заказа\" (2), \"Добавить два новых канала привлечения трафика, что позволит привлекать на 30% больше пользователей\" (0), \"Показать на главной странице баннеры с актуальными акциями и распродажами, чтобы увеличить конверсию\" (6)."
   ]
  },
  {
   "cell_type": "markdown",
   "metadata": {},
   "source": [
    "### Изменение приоритизации гипотез при применении RICE вместо ICE."
   ]
  },
  {
   "cell_type": "code",
   "execution_count": 6,
   "metadata": {},
   "outputs": [
    {
     "data": {
      "text/html": [
       "<style  type=\"text/css\" >\n",
       "    #T_d99133fc_bf03_11eb_81e8_02420a390f61row0_col1 {\n",
       "            background-color:  #4daa4d;\n",
       "            color:  #000000;\n",
       "        }    #T_d99133fc_bf03_11eb_81e8_02420a390f61row0_col2 {\n",
       "            background-color:  #008000;\n",
       "            color:  #f1f1f1;\n",
       "        }    #T_d99133fc_bf03_11eb_81e8_02420a390f61row1_col1 {\n",
       "            background-color:  #8acc8a;\n",
       "            color:  #000000;\n",
       "        }    #T_d99133fc_bf03_11eb_81e8_02420a390f61row1_col2 {\n",
       "            background-color:  #76c176;\n",
       "            color:  #000000;\n",
       "        }    #T_d99133fc_bf03_11eb_81e8_02420a390f61row2_col1 {\n",
       "            background-color:  #2e992e;\n",
       "            color:  #000000;\n",
       "        }    #T_d99133fc_bf03_11eb_81e8_02420a390f61row2_col2 {\n",
       "            background-color:  #98d498;\n",
       "            color:  #000000;\n",
       "        }    #T_d99133fc_bf03_11eb_81e8_02420a390f61row3_col1 {\n",
       "            background-color:  #7ac47a;\n",
       "            color:  #000000;\n",
       "        }    #T_d99133fc_bf03_11eb_81e8_02420a390f61row3_col2 {\n",
       "            background-color:  #98d498;\n",
       "            color:  #000000;\n",
       "        }    #T_d99133fc_bf03_11eb_81e8_02420a390f61row4_col1 {\n",
       "            background-color:  #008000;\n",
       "            color:  #f1f1f1;\n",
       "        }    #T_d99133fc_bf03_11eb_81e8_02420a390f61row4_col2 {\n",
       "            background-color:  #caf0ca;\n",
       "            color:  #000000;\n",
       "        }    #T_d99133fc_bf03_11eb_81e8_02420a390f61row5_col1 {\n",
       "            background-color:  #e5ffe5;\n",
       "            color:  #000000;\n",
       "        }    #T_d99133fc_bf03_11eb_81e8_02420a390f61row5_col2 {\n",
       "            background-color:  #d9f8d9;\n",
       "            color:  #000000;\n",
       "        }    #T_d99133fc_bf03_11eb_81e8_02420a390f61row6_col1 {\n",
       "            background-color:  #d6f7d6;\n",
       "            color:  #000000;\n",
       "        }    #T_d99133fc_bf03_11eb_81e8_02420a390f61row6_col2 {\n",
       "            background-color:  #e4fee4;\n",
       "            color:  #000000;\n",
       "        }    #T_d99133fc_bf03_11eb_81e8_02420a390f61row7_col1 {\n",
       "            background-color:  #e5ffe5;\n",
       "            color:  #000000;\n",
       "        }    #T_d99133fc_bf03_11eb_81e8_02420a390f61row7_col2 {\n",
       "            background-color:  #e4fee4;\n",
       "            color:  #000000;\n",
       "        }    #T_d99133fc_bf03_11eb_81e8_02420a390f61row8_col1 {\n",
       "            background-color:  #e5ffe5;\n",
       "            color:  #000000;\n",
       "        }    #T_d99133fc_bf03_11eb_81e8_02420a390f61row8_col2 {\n",
       "            background-color:  #e5ffe5;\n",
       "            color:  #000000;\n",
       "        }</style><table id=\"T_d99133fc_bf03_11eb_81e8_02420a390f61\" ><thead>    <tr>        <th class=\"blank level0\" ></th>        <th class=\"col_heading level0 col0\" >hypothesis</th>        <th class=\"col_heading level0 col1\" >ICE</th>        <th class=\"col_heading level0 col2\" >RICE</th>    </tr></thead><tbody>\n",
       "                <tr>\n",
       "                        <th id=\"T_d99133fc_bf03_11eb_81e8_02420a390f61level0_row0\" class=\"row_heading level0 row0\" >7</th>\n",
       "                        <td id=\"T_d99133fc_bf03_11eb_81e8_02420a390f61row0_col0\" class=\"data row0 col0\" >Добавить форму подписки на все основные страницы, чтобы собрать базу клиентов для email-рассылок</td>\n",
       "                        <td id=\"T_d99133fc_bf03_11eb_81e8_02420a390f61row0_col1\" class=\"data row0 col1\" >11</td>\n",
       "                        <td id=\"T_d99133fc_bf03_11eb_81e8_02420a390f61row0_col2\" class=\"data row0 col2\" >112</td>\n",
       "            </tr>\n",
       "            <tr>\n",
       "                        <th id=\"T_d99133fc_bf03_11eb_81e8_02420a390f61level0_row1\" class=\"row_heading level0 row1\" >2</th>\n",
       "                        <td id=\"T_d99133fc_bf03_11eb_81e8_02420a390f61row1_col0\" class=\"data row1 col0\" >Добавить блоки рекомендаций товаров на сайт интернет магазина, чтобы повысить конверсию и средний чек заказа</td>\n",
       "                        <td id=\"T_d99133fc_bf03_11eb_81e8_02420a390f61row1_col1\" class=\"data row1 col1\" >7</td>\n",
       "                        <td id=\"T_d99133fc_bf03_11eb_81e8_02420a390f61row1_col2\" class=\"data row1 col2\" >56</td>\n",
       "            </tr>\n",
       "            <tr>\n",
       "                        <th id=\"T_d99133fc_bf03_11eb_81e8_02420a390f61level0_row2\" class=\"row_heading level0 row2\" >0</th>\n",
       "                        <td id=\"T_d99133fc_bf03_11eb_81e8_02420a390f61row2_col0\" class=\"data row2 col0\" >Добавить два новых канала привлечения трафика, что позволит привлекать на 30% больше пользователей</td>\n",
       "                        <td id=\"T_d99133fc_bf03_11eb_81e8_02420a390f61row2_col1\" class=\"data row2 col1\" >13</td>\n",
       "                        <td id=\"T_d99133fc_bf03_11eb_81e8_02420a390f61row2_col2\" class=\"data row2 col2\" >40</td>\n",
       "            </tr>\n",
       "            <tr>\n",
       "                        <th id=\"T_d99133fc_bf03_11eb_81e8_02420a390f61level0_row3\" class=\"row_heading level0 row3\" >6</th>\n",
       "                        <td id=\"T_d99133fc_bf03_11eb_81e8_02420a390f61row3_col0\" class=\"data row3 col0\" >Показать на главной странице баннеры с актуальными акциями и распродажами, чтобы увеличить конверсию</td>\n",
       "                        <td id=\"T_d99133fc_bf03_11eb_81e8_02420a390f61row3_col1\" class=\"data row3 col1\" >8</td>\n",
       "                        <td id=\"T_d99133fc_bf03_11eb_81e8_02420a390f61row3_col2\" class=\"data row3 col2\" >40</td>\n",
       "            </tr>\n",
       "            <tr>\n",
       "                        <th id=\"T_d99133fc_bf03_11eb_81e8_02420a390f61level0_row4\" class=\"row_heading level0 row4\" >8</th>\n",
       "                        <td id=\"T_d99133fc_bf03_11eb_81e8_02420a390f61row4_col0\" class=\"data row4 col0\" >Запустить акцию, дающую скидку на товар в день рождения</td>\n",
       "                        <td id=\"T_d99133fc_bf03_11eb_81e8_02420a390f61row4_col1\" class=\"data row4 col1\" >16</td>\n",
       "                        <td id=\"T_d99133fc_bf03_11eb_81e8_02420a390f61row4_col2\" class=\"data row4 col2\" >16.2</td>\n",
       "            </tr>\n",
       "            <tr>\n",
       "                        <th id=\"T_d99133fc_bf03_11eb_81e8_02420a390f61level0_row5\" class=\"row_heading level0 row5\" >3</th>\n",
       "                        <td id=\"T_d99133fc_bf03_11eb_81e8_02420a390f61row5_col0\" class=\"data row5 col0\" >Изменить структура категорий, что увеличит конверсию, т.к. пользователи быстрее найдут нужный товар</td>\n",
       "                        <td id=\"T_d99133fc_bf03_11eb_81e8_02420a390f61row5_col1\" class=\"data row5 col1\" >1</td>\n",
       "                        <td id=\"T_d99133fc_bf03_11eb_81e8_02420a390f61row5_col2\" class=\"data row5 col2\" >9</td>\n",
       "            </tr>\n",
       "            <tr>\n",
       "                        <th id=\"T_d99133fc_bf03_11eb_81e8_02420a390f61level0_row6\" class=\"row_heading level0 row6\" >1</th>\n",
       "                        <td id=\"T_d99133fc_bf03_11eb_81e8_02420a390f61row6_col0\" class=\"data row6 col0\" >Запустить собственную службу доставки, что сократит срок доставки заказов</td>\n",
       "                        <td id=\"T_d99133fc_bf03_11eb_81e8_02420a390f61row6_col1\" class=\"data row6 col1\" >2</td>\n",
       "                        <td id=\"T_d99133fc_bf03_11eb_81e8_02420a390f61row6_col2\" class=\"data row6 col2\" >4</td>\n",
       "            </tr>\n",
       "            <tr>\n",
       "                        <th id=\"T_d99133fc_bf03_11eb_81e8_02420a390f61level0_row7\" class=\"row_heading level0 row7\" >5</th>\n",
       "                        <td id=\"T_d99133fc_bf03_11eb_81e8_02420a390f61row7_col0\" class=\"data row7 col0\" >Добавить страницу отзывов клиентов о магазине, что позволит увеличить количество заказов</td>\n",
       "                        <td id=\"T_d99133fc_bf03_11eb_81e8_02420a390f61row7_col1\" class=\"data row7 col1\" >1</td>\n",
       "                        <td id=\"T_d99133fc_bf03_11eb_81e8_02420a390f61row7_col2\" class=\"data row7 col2\" >4</td>\n",
       "            </tr>\n",
       "            <tr>\n",
       "                        <th id=\"T_d99133fc_bf03_11eb_81e8_02420a390f61level0_row8\" class=\"row_heading level0 row8\" >4</th>\n",
       "                        <td id=\"T_d99133fc_bf03_11eb_81e8_02420a390f61row8_col0\" class=\"data row8 col0\" >Изменить цвет фона главной страницы, чтобы увеличить вовлеченность пользователей</td>\n",
       "                        <td id=\"T_d99133fc_bf03_11eb_81e8_02420a390f61row8_col1\" class=\"data row8 col1\" >1</td>\n",
       "                        <td id=\"T_d99133fc_bf03_11eb_81e8_02420a390f61row8_col2\" class=\"data row8 col2\" >3</td>\n",
       "            </tr>\n",
       "    </tbody></table>"
      ],
      "text/plain": [
       "<pandas.io.formats.style.Styler at 0x7f1c003af5d0>"
      ]
     },
     "metadata": {},
     "output_type": "display_data"
    }
   ],
   "source": [
    "display(hypothesis[['hypothesis', 'ICE', 'RICE']].sort_values(by='RICE', ascending=False).style.background_gradient(cmap=cm))"
   ]
  },
  {
   "cell_type": "markdown",
   "metadata": {},
   "source": [
    "При использовании RICE вместо ICE из топа вышла гипотеза под номером 8 - \"Запустить акцию, дающую скидку на товар в день рождения\", так как ее показатель reach составляет всего 1, но зато присоединились гипотезы \"Добавить блоки рекомендаций товаров на сайт интернет магазина, чтобы повысить конверсию и средний чек заказа\" (2) и \"Показать на главной странице баннеры с актуальными акциями и распродажами, чтобы увеличить конверсию\" (6) - их показатели reach равны 8 и 5 соответственно, а гипотеза под номером 7 - \"Добавить форму подписки на все основные страницы, чтобы собрать базу клиентов для email-рассылок\" вырвалась на первое место с охватом пользователей, оцененным в 10, опережая второе место в два раза по набранным балам."
   ]
  },
  {
   "cell_type": "markdown",
   "metadata": {},
   "source": [
    "## Часть 2. Анализ A/B-теста."
   ]
  },
  {
   "cell_type": "code",
   "execution_count": 7,
   "metadata": {},
   "outputs": [
    {
     "data": {
      "text/html": [
       "<div>\n",
       "<style scoped>\n",
       "    .dataframe tbody tr th:only-of-type {\n",
       "        vertical-align: middle;\n",
       "    }\n",
       "\n",
       "    .dataframe tbody tr th {\n",
       "        vertical-align: top;\n",
       "    }\n",
       "\n",
       "    .dataframe thead th {\n",
       "        text-align: right;\n",
       "    }\n",
       "</style>\n",
       "<table border=\"1\" class=\"dataframe\">\n",
       "  <thead>\n",
       "    <tr style=\"text-align: right;\">\n",
       "      <th></th>\n",
       "      <th>transactionId</th>\n",
       "      <th>visitorId</th>\n",
       "      <th>date</th>\n",
       "      <th>revenue</th>\n",
       "      <th>group</th>\n",
       "    </tr>\n",
       "  </thead>\n",
       "  <tbody>\n",
       "    <tr>\n",
       "      <td>0</td>\n",
       "      <td>3667963787</td>\n",
       "      <td>3312258926</td>\n",
       "      <td>2019-08-15</td>\n",
       "      <td>1650</td>\n",
       "      <td>B</td>\n",
       "    </tr>\n",
       "    <tr>\n",
       "      <td>1</td>\n",
       "      <td>2804400009</td>\n",
       "      <td>3642806036</td>\n",
       "      <td>2019-08-15</td>\n",
       "      <td>730</td>\n",
       "      <td>B</td>\n",
       "    </tr>\n",
       "    <tr>\n",
       "      <td>2</td>\n",
       "      <td>2961555356</td>\n",
       "      <td>4069496402</td>\n",
       "      <td>2019-08-15</td>\n",
       "      <td>400</td>\n",
       "      <td>A</td>\n",
       "    </tr>\n",
       "    <tr>\n",
       "      <td>3</td>\n",
       "      <td>3797467345</td>\n",
       "      <td>1196621759</td>\n",
       "      <td>2019-08-15</td>\n",
       "      <td>9759</td>\n",
       "      <td>B</td>\n",
       "    </tr>\n",
       "    <tr>\n",
       "      <td>4</td>\n",
       "      <td>2282983706</td>\n",
       "      <td>2322279887</td>\n",
       "      <td>2019-08-15</td>\n",
       "      <td>2308</td>\n",
       "      <td>B</td>\n",
       "    </tr>\n",
       "    <tr>\n",
       "      <td>...</td>\n",
       "      <td>...</td>\n",
       "      <td>...</td>\n",
       "      <td>...</td>\n",
       "      <td>...</td>\n",
       "      <td>...</td>\n",
       "    </tr>\n",
       "    <tr>\n",
       "      <td>1192</td>\n",
       "      <td>2662137336</td>\n",
       "      <td>3733762160</td>\n",
       "      <td>2019-08-14</td>\n",
       "      <td>6490</td>\n",
       "      <td>B</td>\n",
       "    </tr>\n",
       "    <tr>\n",
       "      <td>1193</td>\n",
       "      <td>2203539145</td>\n",
       "      <td>370388673</td>\n",
       "      <td>2019-08-14</td>\n",
       "      <td>3190</td>\n",
       "      <td>A</td>\n",
       "    </tr>\n",
       "    <tr>\n",
       "      <td>1194</td>\n",
       "      <td>1807773912</td>\n",
       "      <td>573423106</td>\n",
       "      <td>2019-08-14</td>\n",
       "      <td>10550</td>\n",
       "      <td>A</td>\n",
       "    </tr>\n",
       "    <tr>\n",
       "      <td>1195</td>\n",
       "      <td>1947021204</td>\n",
       "      <td>1614305549</td>\n",
       "      <td>2019-08-14</td>\n",
       "      <td>100</td>\n",
       "      <td>A</td>\n",
       "    </tr>\n",
       "    <tr>\n",
       "      <td>1196</td>\n",
       "      <td>3936777065</td>\n",
       "      <td>2108080724</td>\n",
       "      <td>2019-08-15</td>\n",
       "      <td>202740</td>\n",
       "      <td>B</td>\n",
       "    </tr>\n",
       "  </tbody>\n",
       "</table>\n",
       "<p>1197 rows × 5 columns</p>\n",
       "</div>"
      ],
      "text/plain": [
       "      transactionId   visitorId        date  revenue group\n",
       "0        3667963787  3312258926  2019-08-15     1650     B\n",
       "1        2804400009  3642806036  2019-08-15      730     B\n",
       "2        2961555356  4069496402  2019-08-15      400     A\n",
       "3        3797467345  1196621759  2019-08-15     9759     B\n",
       "4        2282983706  2322279887  2019-08-15     2308     B\n",
       "...             ...         ...         ...      ...   ...\n",
       "1192     2662137336  3733762160  2019-08-14     6490     B\n",
       "1193     2203539145   370388673  2019-08-14     3190     A\n",
       "1194     1807773912   573423106  2019-08-14    10550     A\n",
       "1195     1947021204  1614305549  2019-08-14      100     A\n",
       "1196     3936777065  2108080724  2019-08-15   202740     B\n",
       "\n",
       "[1197 rows x 5 columns]"
      ]
     },
     "metadata": {},
     "output_type": "display_data"
    }
   ],
   "source": [
    "# читаем и отображаем данные из таблички orders\n",
    "\n",
    "orders = pd.read_csv('/datasets/orders.csv')\n",
    "\n",
    "display(orders)"
   ]
  },
  {
   "cell_type": "code",
   "execution_count": 8,
   "metadata": {},
   "outputs": [
    {
     "data": {
      "text/html": [
       "<div>\n",
       "<style scoped>\n",
       "    .dataframe tbody tr th:only-of-type {\n",
       "        vertical-align: middle;\n",
       "    }\n",
       "\n",
       "    .dataframe tbody tr th {\n",
       "        vertical-align: top;\n",
       "    }\n",
       "\n",
       "    .dataframe thead th {\n",
       "        text-align: right;\n",
       "    }\n",
       "</style>\n",
       "<table border=\"1\" class=\"dataframe\">\n",
       "  <thead>\n",
       "    <tr style=\"text-align: right;\">\n",
       "      <th></th>\n",
       "      <th>date</th>\n",
       "      <th>group</th>\n",
       "      <th>visitors</th>\n",
       "    </tr>\n",
       "  </thead>\n",
       "  <tbody>\n",
       "    <tr>\n",
       "      <td>0</td>\n",
       "      <td>2019-08-01</td>\n",
       "      <td>A</td>\n",
       "      <td>719</td>\n",
       "    </tr>\n",
       "    <tr>\n",
       "      <td>1</td>\n",
       "      <td>2019-08-02</td>\n",
       "      <td>A</td>\n",
       "      <td>619</td>\n",
       "    </tr>\n",
       "    <tr>\n",
       "      <td>2</td>\n",
       "      <td>2019-08-03</td>\n",
       "      <td>A</td>\n",
       "      <td>507</td>\n",
       "    </tr>\n",
       "    <tr>\n",
       "      <td>3</td>\n",
       "      <td>2019-08-04</td>\n",
       "      <td>A</td>\n",
       "      <td>717</td>\n",
       "    </tr>\n",
       "    <tr>\n",
       "      <td>4</td>\n",
       "      <td>2019-08-05</td>\n",
       "      <td>A</td>\n",
       "      <td>756</td>\n",
       "    </tr>\n",
       "    <tr>\n",
       "      <td>...</td>\n",
       "      <td>...</td>\n",
       "      <td>...</td>\n",
       "      <td>...</td>\n",
       "    </tr>\n",
       "    <tr>\n",
       "      <td>57</td>\n",
       "      <td>2019-08-27</td>\n",
       "      <td>B</td>\n",
       "      <td>720</td>\n",
       "    </tr>\n",
       "    <tr>\n",
       "      <td>58</td>\n",
       "      <td>2019-08-28</td>\n",
       "      <td>B</td>\n",
       "      <td>654</td>\n",
       "    </tr>\n",
       "    <tr>\n",
       "      <td>59</td>\n",
       "      <td>2019-08-29</td>\n",
       "      <td>B</td>\n",
       "      <td>531</td>\n",
       "    </tr>\n",
       "    <tr>\n",
       "      <td>60</td>\n",
       "      <td>2019-08-30</td>\n",
       "      <td>B</td>\n",
       "      <td>490</td>\n",
       "    </tr>\n",
       "    <tr>\n",
       "      <td>61</td>\n",
       "      <td>2019-08-31</td>\n",
       "      <td>B</td>\n",
       "      <td>718</td>\n",
       "    </tr>\n",
       "  </tbody>\n",
       "</table>\n",
       "<p>62 rows × 3 columns</p>\n",
       "</div>"
      ],
      "text/plain": [
       "          date group  visitors\n",
       "0   2019-08-01     A       719\n",
       "1   2019-08-02     A       619\n",
       "2   2019-08-03     A       507\n",
       "3   2019-08-04     A       717\n",
       "4   2019-08-05     A       756\n",
       "..         ...   ...       ...\n",
       "57  2019-08-27     B       720\n",
       "58  2019-08-28     B       654\n",
       "59  2019-08-29     B       531\n",
       "60  2019-08-30     B       490\n",
       "61  2019-08-31     B       718\n",
       "\n",
       "[62 rows x 3 columns]"
      ]
     },
     "metadata": {},
     "output_type": "display_data"
    }
   ],
   "source": [
    "# читаем и отображаем данные из таблички visitors\n",
    "\n",
    "visitors = pd.read_csv('/datasets/visitors.csv')\n",
    "\n",
    "display(visitors)"
   ]
  },
  {
   "cell_type": "code",
   "execution_count": 9,
   "metadata": {},
   "outputs": [
    {
     "name": "stdout",
     "output_type": "stream",
     "text": [
      "<class 'pandas.core.frame.DataFrame'>\n",
      "RangeIndex: 1197 entries, 0 to 1196\n",
      "Data columns (total 5 columns):\n",
      "transactionId    1197 non-null int64\n",
      "visitorId        1197 non-null int64\n",
      "date             1197 non-null object\n",
      "revenue          1197 non-null int64\n",
      "group            1197 non-null object\n",
      "dtypes: int64(3), object(2)\n",
      "memory usage: 46.9+ KB\n",
      "None\n"
     ]
    }
   ],
   "source": [
    "print(orders.info())"
   ]
  },
  {
   "cell_type": "code",
   "execution_count": 10,
   "metadata": {},
   "outputs": [
    {
     "name": "stdout",
     "output_type": "stream",
     "text": [
      "<class 'pandas.core.frame.DataFrame'>\n",
      "RangeIndex: 62 entries, 0 to 61\n",
      "Data columns (total 3 columns):\n",
      "date        62 non-null object\n",
      "group       62 non-null object\n",
      "visitors    62 non-null int64\n",
      "dtypes: int64(1), object(2)\n",
      "memory usage: 1.6+ KB\n",
      "None\n"
     ]
    }
   ],
   "source": [
    "print(visitors.info())"
   ]
  },
  {
   "cell_type": "code",
   "execution_count": 11,
   "metadata": {},
   "outputs": [
    {
     "name": "stdout",
     "output_type": "stream",
     "text": [
      "2019-08-01 2019-08-31\n"
     ]
    }
   ],
   "source": [
    "print(orders['date'].min(), orders['date'].max())"
   ]
  },
  {
   "cell_type": "code",
   "execution_count": 12,
   "metadata": {},
   "outputs": [
    {
     "name": "stdout",
     "output_type": "stream",
     "text": [
      "2019-08-01 2019-08-31\n"
     ]
    }
   ],
   "source": [
    "print(visitors['date'].min(), visitors['date'].max())"
   ]
  },
  {
   "cell_type": "code",
   "execution_count": 13,
   "metadata": {},
   "outputs": [
    {
     "data": {
      "text/plain": [
       "0"
      ]
     },
     "execution_count": 13,
     "metadata": {},
     "output_type": "execute_result"
    }
   ],
   "source": [
    "orders.duplicated().sum()"
   ]
  },
  {
   "cell_type": "code",
   "execution_count": 14,
   "metadata": {},
   "outputs": [
    {
     "data": {
      "text/plain": [
       "0"
      ]
     },
     "execution_count": 14,
     "metadata": {},
     "output_type": "execute_result"
    }
   ],
   "source": [
    "visitors.duplicated().sum()"
   ]
  },
  {
   "cell_type": "markdown",
   "metadata": {},
   "source": [
    "В табличке с заказами 1197 записей, дубликатов и пропусков не обнаружено. Также нет дубликатов и пропусков в табличке с визитами, которая содержит 62 записи. Обе таблицы содержат в себе записи за один и тот же период - август 2019 года."
   ]
  },
  {
   "cell_type": "markdown",
   "metadata": {},
   "source": [
    "### Построение графика кумулятивной выручки по группам."
   ]
  },
  {
   "cell_type": "code",
   "execution_count": 15,
   "metadata": {},
   "outputs": [
    {
     "data": {
      "image/png": "[encoded data removed]",
      "text/plain": [
       "<Figure size 1080x360 with 1 Axes>"
      ]
     },
     "metadata": {
      "needs_background": "light"
     },
     "output_type": "display_data"
    }
   ],
   "source": [
    "datesGroups = orders[['date', 'group']].drop_duplicates()\n",
    "\n",
    "ordersAggregated = datesGroups.apply(\n",
    "    lambda x: orders[\n",
    "        np.logical_and(\n",
    "            orders['date'] <= x['date'], orders['group'] == x['group']\n",
    "        )\n",
    "    ].agg(\n",
    "        {\n",
    "            'date': 'max',\n",
    "            'group': 'max',\n",
    "            'transactionId': pd.Series.nunique,\n",
    "            'visitorId': pd.Series.nunique,\n",
    "            'revenue': 'sum',\n",
    "        }\n",
    "    ),\n",
    "    axis=1,\n",
    ").sort_values(by=['date', 'group'])\n",
    "\n",
    "visitorsAggregated = datesGroups.apply(\n",
    "    lambda x: visitors[\n",
    "        np.logical_and(\n",
    "            visitors['date'] <= x['date'], visitors['group'] == x['group']\n",
    "        )\n",
    "    ].agg({'date': 'max', 'group': 'max', 'visitors': 'sum'}),\n",
    "    axis=1,\n",
    ").sort_values(by=['date', 'group'])\n",
    "\n",
    "cumulativeData = ordersAggregated.merge(\n",
    "    visitorsAggregated, left_on=['date', 'group'], right_on=['date', 'group']\n",
    ")\n",
    "cumulativeData.columns = [\n",
    "    'date',\n",
    "    'group',\n",
    "    'orders',\n",
    "    'buyers',\n",
    "    'revenue',\n",
    "    'visitors',\n",
    "]\n",
    "\n",
    "# датафрейм с кумулятивным количеством заказов и кумулятивной выручкой по дням в группе А\n",
    "cumulativeRevenueA = cumulativeData[cumulativeData['group']=='A'][['date','revenue', 'orders']]\n",
    "\n",
    "# датафрейм с кумулятивным количеством заказов и кумулятивной выручкой по дням в группе B\n",
    "cumulativeRevenueB = cumulativeData[cumulativeData['group']=='B'][['date','revenue', 'orders']]\n",
    "\n",
    "plt.figure(figsize=(15, 5))\n",
    "\n",
    "# Строим график выручки группы А\n",
    "plt.plot(cumulativeRevenueA['date'], cumulativeRevenueA['revenue'], label='A')\n",
    "\n",
    "# Строим график выручки группы B\n",
    "plt.plot(cumulativeRevenueB['date'], cumulativeRevenueB['revenue'], label='B')\n",
    "\n",
    "plt.title('График кумулятивной выручки по группам')\n",
    "\n",
    "plt.xlabel('Дата')\n",
    "plt.ylabel('Сумма, руб')\n",
    "\n",
    "plt.xticks(rotation='vertical')\n",
    "\n",
    "plt.annotate('скачок', xy=('2019-08-17', 2800000), xytext=('2019-08-10', 3500000),\n",
    "            arrowprops=dict(facecolor='g'))\n",
    "plt.annotate('отрыв', xy=('2019-08-05', 800000), xytext=('2019-08-05', 2000000),\n",
    "            arrowprops=dict(facecolor='g'))\n",
    "\n",
    "plt.legend()\n",
    "plt.show()"
   ]
  },
  {
   "cell_type": "markdown",
   "metadata": {},
   "source": [
    "Выручка почти равномерно увеличивается в течение всего теста. Хороший знак.\n",
    "Однако график выручки группы В в одной из точек резко растет. Это может сигнализировать о всплесках числа заказов, либо о появлении очень дорогих заказов в выборке."
   ]
  },
  {
   "cell_type": "markdown",
   "metadata": {},
   "source": [
    "### Построение графика кумулятивного среднего чека по группам."
   ]
  },
  {
   "cell_type": "code",
   "execution_count": 16,
   "metadata": {},
   "outputs": [
    {
     "data": {
      "image/png": "[encoded data removed]",
      "text/plain": [
       "<Figure size 1080x360 with 1 Axes>"
      ]
     },
     "metadata": {
      "needs_background": "light"
     },
     "output_type": "display_data"
    }
   ],
   "source": [
    "plt.figure(figsize=(15, 5))\n",
    "\n",
    "plt.plot(cumulativeRevenueA['date'], cumulativeRevenueA['revenue']/cumulativeRevenueA['orders'], label='A')\n",
    "plt.plot(cumulativeRevenueB['date'], cumulativeRevenueB['revenue']/cumulativeRevenueB['orders'], label='B')\n",
    "\n",
    "plt.title('График кумулятивного среднего чека по группам')\n",
    "\n",
    "plt.xlabel('Дата')\n",
    "plt.ylabel('Сумма, руб')\n",
    "\n",
    "plt.annotate('скачок', xy=('2019-08-18', 8000), xytext=('2019-08-10', 9000),\n",
    "            arrowprops=dict(facecolor='g'))\n",
    "\n",
    "\n",
    "plt.xticks(rotation='vertical')\n",
    "\n",
    "plt.legend()\n",
    "plt.show()"
   ]
  },
  {
   "cell_type": "markdown",
   "metadata": {},
   "source": [
    "Средний чек очень неравномерен на протяжении всего теста: для группы В был обнаружен резкий скачок, а затем - спад. Для группы А можно выделить как два небольших спада, так и скачок ближе к середине измерений. В любом случае, средний чек группы В сильно опережает по размерам группу А."
   ]
  },
  {
   "cell_type": "markdown",
   "metadata": {},
   "source": [
    "### Построение графика относительного изменения кумулятивного среднего чека группы B к группе A."
   ]
  },
  {
   "cell_type": "code",
   "execution_count": 17,
   "metadata": {},
   "outputs": [
    {
     "data": {
      "image/png": "[encoded data removed]",
      "text/plain": [
       "<Figure size 1080x360 with 1 Axes>"
      ]
     },
     "metadata": {
      "needs_background": "light"
     },
     "output_type": "display_data"
    }
   ],
   "source": [
    "mergedCumulativeRevenue = cumulativeRevenueA.merge(cumulativeRevenueB, left_on='date', right_on='date', how='left', suffixes=['A', 'B'])\n",
    "\n",
    "plt.figure(figsize=(15, 5))\n",
    "\n",
    "plt.plot(\n",
    "    mergedCumulativeRevenue['date'], \n",
    "         (mergedCumulativeRevenue['revenueB']/mergedCumulativeRevenue['ordersB'])/(mergedCumulativeRevenue['revenueA']/mergedCumulativeRevenue['ordersA'])-1)\n",
    "\n",
    "\n",
    "plt.axhline(y=0, color='black', linestyle='--')\n",
    "\n",
    "plt.title('График относительного изменения кумулятивного среднего чека группы B к A')\n",
    "\n",
    "plt.xlabel('Дата')\n",
    "plt.ylabel('Разница между сегментами, доли')\n",
    "\n",
    "plt.xticks(rotation='vertical')\n",
    "\n",
    "plt.show()"
   ]
  },
  {
   "cell_type": "markdown",
   "metadata": {},
   "source": [
    "В нескольких точках график различия между сегментами сильно колеблется, это может говорить о крупных суммах покупок и выбросах."
   ]
  },
  {
   "cell_type": "markdown",
   "metadata": {},
   "source": [
    "### Построение графика кумулятивной конверсии по группам. Сделайте выводы и предположения."
   ]
  },
  {
   "cell_type": "code",
   "execution_count": 18,
   "metadata": {},
   "outputs": [
    {
     "data": {
      "image/png": "[encoded data removed]",
      "text/plain": [
       "<Figure size 1080x360 with 1 Axes>"
      ]
     },
     "metadata": {
      "needs_background": "light"
     },
     "output_type": "display_data"
    }
   ],
   "source": [
    "cumulativeData['conversion'] = cumulativeData['orders']/cumulativeData['visitors']\n",
    "\n",
    "# отделяем данные по группе A\n",
    "cumulativeDataA = cumulativeData[cumulativeData['group']=='A']\n",
    "\n",
    "# отделяем данные по группе B\n",
    "cumulativeDataB = cumulativeData[cumulativeData['group']=='B']\n",
    "\n",
    "# строим графики\n",
    "plt.figure(figsize=(15, 5))\n",
    "\n",
    "plt.title('График кумулятивной конверсии по группам')\n",
    "\n",
    "plt.plot(cumulativeDataA['date'], cumulativeDataA['conversion'], label='A')\n",
    "plt.plot(cumulativeDataB['date'], cumulativeDataB['conversion'], label='B')\n",
    "plt.legend()\n",
    "\n",
    "# задаем масштаб осей\n",
    "plt.axis(['2019-08-01', '2019-08-31', 0.025, 0.04])\n",
    "\n",
    "plt.xlabel('Дата')\n",
    "plt.ylabel('Конверсия')\n",
    "\n",
    "plt.annotate('скачок для В', xy=('2019-08-05', 0.031), xytext=('2019-08-03', 0.028),\n",
    "            arrowprops=dict(facecolor='g'))\n",
    "\n",
    "plt.annotate('спад для А', xy=('2019-08-04', 0.035), xytext=('2019-08-06', 0.037),\n",
    "            arrowprops=dict(facecolor='g'))\n",
    "\n",
    "\n",
    "plt.xticks(rotation='vertical')\n",
    "\n",
    "plt.legend()\n",
    "plt.show()"
   ]
  },
  {
   "cell_type": "markdown",
   "metadata": {},
   "source": [
    "Группы сильно колебались в начале измерений, но затем конверсия группы В вырвалась вперёд и зафиксировалась, а конверсия группы А просела и также зафиксировалась."
   ]
  },
  {
   "cell_type": "markdown",
   "metadata": {},
   "source": [
    "### Построение графика относительного изменения кумулятивной конверсии группы B к группе A."
   ]
  },
  {
   "cell_type": "code",
   "execution_count": 19,
   "metadata": {},
   "outputs": [
    {
     "data": {
      "image/png": "[encoded data removed]",
      "text/plain": [
       "<Figure size 1080x360 with 1 Axes>"
      ]
     },
     "metadata": {
      "needs_background": "light"
     },
     "output_type": "display_data"
    }
   ],
   "source": [
    "mergedCumulativeConversions = cumulativeDataA[['date','conversion']].merge(cumulativeDataB[['date','conversion']], left_on='date', right_on='date', how='left', suffixes=['A', 'B'])\n",
    "\n",
    "plt.figure(figsize=(15, 5))\n",
    "plt.plot(mergedCumulativeConversions['date'], mergedCumulativeConversions['conversionB']/mergedCumulativeConversions['conversionA']-1, label=\"Относительный прирост конверсии группы B относительно группы A\")\n",
    "\n",
    "plt.axhline(y=0, color='black', linestyle='--')\n",
    "plt.axhline(y=0.14, color='grey', linestyle='--')\n",
    "plt.axis(['2019-08-01', '2019-08-31', -0.2, 0.3])\n",
    "\n",
    "plt.axhline(y=0, color='black', linestyle='--')\n",
    "\n",
    "plt.title('График относительного изменения кумулятивной конверсии группы B к A')\n",
    "\n",
    "plt.xlabel('Дата')\n",
    "plt.ylabel('Разница между конверсией сегментов, доли')\n",
    "\n",
    "plt.xticks(rotation='vertical')\n",
    "\n",
    "plt.show()"
   ]
  },
  {
   "cell_type": "markdown",
   "metadata": {},
   "source": [
    "В начале теста показатели группы B значительно проигрывали группе A, затем вырвались вперёд, снова просели и снова поднялись. Ближе к концу теста конверсия снова падала, но теперь постепенно растёт."
   ]
  },
  {
   "cell_type": "markdown",
   "metadata": {},
   "source": [
    "### Построение точечного графика количества заказов по пользователям."
   ]
  },
  {
   "cell_type": "code",
   "execution_count": 20,
   "metadata": {},
   "outputs": [
    {
     "data": {
      "image/png": "[encoded data removed]",
      "text/plain": [
       "<Figure size 1080x360 with 1 Axes>"
      ]
     },
     "metadata": {
      "needs_background": "light"
     },
     "output_type": "display_data"
    }
   ],
   "source": [
    "ordersByUsers = (\n",
    "    orders.drop(['group', 'revenue', 'date'], axis=1)\n",
    "    .groupby('visitorId', as_index=False)\n",
    "    .agg({'transactionId': pd.Series.nunique})\n",
    ")\n",
    "ordersByUsers.columns = ['visitorId', 'orders']\n",
    "\n",
    "# серия из чисел от 0 до количества наблюдений в ordersByUsers\n",
    "x_values = pd.Series(range(0, len(ordersByUsers)))\n",
    "plt.figure(figsize=(15, 5))\n",
    "\n",
    "plt.title('График количества заказов по пользователям')\n",
    "plt.scatter(x_values, ordersByUsers['orders']) \n",
    "plt.show()"
   ]
  },
  {
   "cell_type": "markdown",
   "metadata": {},
   "source": [
    "Пользователей, заказавших больше двух раз мало, но не так мало, чтобы с уверенностью считать это аномалией, их точная доля не ясна, так что воспользуемся рассчетом перцентилей"
   ]
  },
  {
   "cell_type": "markdown",
   "metadata": {},
   "source": [
    "### Рассчет 95-го и 99-го перцентилей количества заказов на пользователя."
   ]
  },
  {
   "cell_type": "code",
   "execution_count": 21,
   "metadata": {},
   "outputs": [
    {
     "data": {
      "text/plain": [
       "array([2., 4.])"
      ]
     },
     "execution_count": 21,
     "metadata": {},
     "output_type": "execute_result"
    }
   ],
   "source": [
    "np.percentile(ordersByUsers['orders'], [95, 99])"
   ]
  },
  {
   "cell_type": "markdown",
   "metadata": {},
   "source": [
    "Не более 5% пользователей оформляли больше чем 2 заказа. Выберем это значение границей определения аномальных пользователей."
   ]
  },
  {
   "cell_type": "markdown",
   "metadata": {},
   "source": [
    "### Построение точечного графика стоимостей заказов."
   ]
  },
  {
   "cell_type": "code",
   "execution_count": 22,
   "metadata": {},
   "outputs": [
    {
     "data": {
      "image/png": "[encoded data removed]",
      "text/plain": [
       "<Figure size 1080x360 with 1 Axes>"
      ]
     },
     "metadata": {
      "needs_background": "light"
     },
     "output_type": "display_data"
    }
   ],
   "source": [
    "x_values = pd.Series(range(0, len(orders['revenue'])))\n",
    "plt.figure(figsize=(15, 5))\n",
    "\n",
    "plt.title('График стоимостей заказов')\n",
    "plt.scatter(x_values, orders['revenue']) \n",
    "plt.show()"
   ]
  },
  {
   "cell_type": "markdown",
   "metadata": {},
   "source": [
    "Есть несколько очень дорогих заказов, от которых мы избавимся позднее, очистив данные по 95 перцентилю."
   ]
  },
  {
   "cell_type": "markdown",
   "metadata": {},
   "source": [
    "### Рассчет 95-го и 99-го перцентилей стоимости заказов."
   ]
  },
  {
   "cell_type": "code",
   "execution_count": 23,
   "metadata": {},
   "outputs": [
    {
     "data": {
      "text/plain": [
       "array([28000. , 58233.2])"
      ]
     },
     "execution_count": 23,
     "metadata": {},
     "output_type": "execute_result"
    }
   ],
   "source": [
    "np.percentile(orders['revenue'], [95, 99])"
   ]
  },
  {
   "cell_type": "markdown",
   "metadata": {},
   "source": [
    "Не более 5% пользователей совершали заказ на сумму свыше 28000, выберем это значение границей определения аномальных пользователей."
   ]
  },
  {
   "cell_type": "markdown",
   "metadata": {},
   "source": [
    "### Рассчет статистической значимости различий в конверсии между группами по «сырым» данным."
   ]
  },
  {
   "cell_type": "markdown",
   "metadata": {},
   "source": [
    "Нулевая гипотеза: статистически значимых различий в конверсии по \"сырым\" данным между группами А и В нет. Обратная гипотеза: есть статистически значимые различия в конверсии между группами по \"сырым\" данным."
   ]
  },
  {
   "cell_type": "code",
   "execution_count": 24,
   "metadata": {},
   "outputs": [
    {
     "name": "stdout",
     "output_type": "stream",
     "text": [
      "0.01679\n",
      "0.138\n"
     ]
    }
   ],
   "source": [
    "visitorsADaily = visitors[visitors['group'] == 'A'][['date', 'visitors']]\n",
    "visitorsADaily.columns = ['date', 'visitorsPerDateA']\n",
    "\n",
    "visitorsACummulative = visitorsADaily.apply(\n",
    "    lambda x: visitorsADaily[visitorsADaily['date'] <= x['date']].agg(\n",
    "        {'date': 'max', 'visitorsPerDateA': 'sum'}\n",
    "    ),\n",
    "    axis=1,\n",
    ")\n",
    "visitorsACummulative.columns = ['date', 'visitorsCummulativeA']\n",
    "\n",
    "visitorsBDaily = visitors[visitors['group'] == 'B'][['date', 'visitors']]\n",
    "visitorsBDaily.columns = ['date', 'visitorsPerDateB']\n",
    "\n",
    "visitorsBCummulative = visitorsBDaily.apply(\n",
    "    lambda x: visitorsBDaily[visitorsBDaily['date'] <= x['date']].agg(\n",
    "        {'date': 'max', 'visitorsPerDateB': 'sum'}\n",
    "    ),\n",
    "    axis=1,\n",
    ")\n",
    "visitorsBCummulative.columns = ['date', 'visitorsCummulativeB']\n",
    "\n",
    "ordersADaily = (\n",
    "    orders[orders['group'] == 'A'][['date', 'transactionId', 'visitorId', 'revenue']]\n",
    "    .groupby('date', as_index=False)\n",
    "    .agg({'transactionId': pd.Series.nunique, 'revenue': 'sum'})\n",
    ")\n",
    "ordersADaily.columns = ['date', 'ordersPerDateA', 'revenuePerDateA']\n",
    "\n",
    "ordersACummulative = ordersADaily.apply(\n",
    "    lambda x: ordersADaily[ordersADaily['date'] <= x['date']].agg(\n",
    "        {'date': 'max', 'ordersPerDateA': 'sum', 'revenuePerDateA': 'sum'}\n",
    "    ),\n",
    "    axis=1,\n",
    ").sort_values(by=['date'])\n",
    "ordersACummulative.columns = [\n",
    "    'date',\n",
    "    'ordersCummulativeA',\n",
    "    'revenueCummulativeA',\n",
    "]\n",
    "\n",
    "ordersBDaily = (\n",
    "    orders[orders['group'] == 'B'][['date', 'transactionId', 'visitorId', 'revenue']]\n",
    "    .groupby('date', as_index=False)\n",
    "    .agg({'transactionId': pd.Series.nunique, 'revenue': 'sum'})\n",
    ")\n",
    "ordersBDaily.columns = ['date', 'ordersPerDateB', 'revenuePerDateB']\n",
    "\n",
    "ordersBCummulative = ordersBDaily.apply(\n",
    "    lambda x: ordersBDaily[ordersBDaily['date'] <= x['date']].agg(\n",
    "        {'date': 'max', 'ordersPerDateB': 'sum', 'revenuePerDateB': 'sum'}\n",
    "    ),\n",
    "    axis=1,\n",
    ").sort_values(by=['date'])\n",
    "ordersBCummulative.columns = [\n",
    "    'date',\n",
    "    'ordersCummulativeB',\n",
    "    'revenueCummulativeB',\n",
    "]\n",
    "\n",
    "data = (\n",
    "    ordersADaily.merge(\n",
    "        ordersBDaily, left_on='date', right_on='date', how='left'\n",
    "    )\n",
    "    .merge(ordersACummulative, left_on='date', right_on='date', how='left')\n",
    "    .merge(ordersBCummulative, left_on='date', right_on='date', how='left')\n",
    "    .merge(visitorsADaily, left_on='date', right_on='date', how='left')\n",
    "    .merge(visitorsBDaily, left_on='date', right_on='date', how='left')\n",
    "    .merge(visitorsACummulative, left_on='date', right_on='date', how='left')\n",
    "    .merge(visitorsBCummulative, left_on='date', right_on='date', how='left')\n",
    ")\n",
    "\n",
    "ordersByUsersA = (\n",
    "    orders[orders['group'] == 'A']\n",
    "    .groupby('visitorId', as_index=False)\n",
    "    .agg({'transactionId': pd.Series.nunique})\n",
    ")\n",
    "ordersByUsersA.columns = ['visitorId', 'orders']\n",
    "\n",
    "ordersByUsersB = (\n",
    "    orders[orders['group'] == 'B']\n",
    "    .groupby('visitorId', as_index=False)\n",
    "    .agg({'transactionId': pd.Series.nunique})\n",
    ")\n",
    "ordersByUsersB.columns = ['visitorId', 'orders']\n",
    "\n",
    "sampleA = pd.concat(\n",
    "    [ordersByUsersA['orders'],\n",
    "     pd.Series(\n",
    "         0, \n",
    "         index=np.arange(\n",
    "             data['visitorsPerDateA'].sum() - len(ordersByUsersA['orders'])\n",
    "         ), \n",
    "         name='orders'\n",
    "     )\n",
    "    ], \n",
    "    axis=0\n",
    ")\n",
    "sampleB = pd.concat(\n",
    "    [ordersByUsersB['orders'],\n",
    "     pd.Series(\n",
    "         0, \n",
    "         index=np.arange(\n",
    "             data['visitorsPerDateB'].sum() - len(ordersByUsersB['orders'])\n",
    "         ), \n",
    "         name='orders'\n",
    "     )\n",
    "    ], \n",
    "    axis=0\n",
    ")\n",
    "\n",
    "print(\"{0:.5f}\".format(stats.mannwhitneyu(sampleA, sampleB, True, 'two-sided')[1]))\n",
    "print(\"{0:.3f}\".format((data['ordersPerDateB'].sum()/data['visitorsPerDateB'].sum())/(data['ordersPerDateA'].sum()/data['visitorsPerDateA'].sum())-1))"
   ]
  },
  {
   "cell_type": "markdown",
   "metadata": {},
   "source": [
    "Вывод: По «сырым» данным есть различия в конверсии групп A и B.\n",
    "Первое число — p-value = 0.01679 меньше 0.05. Значит, отвергаем нулевую гипотезу о том, что статистически значимых различий в конверсии между группами нет. Однако относительный проигрыш группы А равен 13.8% — второе число в выводе."
   ]
  },
  {
   "cell_type": "markdown",
   "metadata": {},
   "source": [
    "### Рассчет статистической значимости различий в среднем чеке заказа между группами по «сырым» данным."
   ]
  },
  {
   "cell_type": "markdown",
   "metadata": {},
   "source": [
    "Нулевая гипотеза: статистически значимых различий в среднем чеке заказа по \"сырым\" данным между группами А и В нет. Обратная гипотеза: есть статистически значимые различия в среднем чеке заказа между группами по \"сырым\" данным."
   ]
  },
  {
   "cell_type": "code",
   "execution_count": 25,
   "metadata": {},
   "outputs": [
    {
     "name": "stdout",
     "output_type": "stream",
     "text": [
      "0.729\n",
      "0.259\n"
     ]
    }
   ],
   "source": [
    "data = (\n",
    "    ordersADaily.merge(\n",
    "        ordersBDaily, left_on='date', right_on='date', how='left'\n",
    "    )\n",
    "    .merge(ordersACummulative, left_on='date', right_on='date', how='left')\n",
    "    .merge(ordersBCummulative, left_on='date', right_on='date', how='left')\n",
    "    .merge(visitorsADaily, left_on='date', right_on='date', how='left')\n",
    "    .merge(visitorsBDaily, left_on='date', right_on='date', how='left')\n",
    "    .merge(visitorsACummulative, left_on='date', right_on='date', how='left')\n",
    "    .merge(visitorsBCummulative, left_on='date', right_on='date', how='left')\n",
    ")\n",
    "\n",
    "print('{0:.3f}'.format(stats.mannwhitneyu(orders[orders['group']=='A']['revenue'], orders[orders['group']=='B']['revenue'], True, 'two-sided')[1]))\n",
    "print('{0:.3f}'.format(orders[orders['group']=='B']['revenue'].mean()/orders[orders['group']=='A']['revenue'].mean()-1))"
   ]
  },
  {
   "cell_type": "markdown",
   "metadata": {},
   "source": [
    "Вывод: По «сырым» данным различий в конверсии групп A и B нет.\n",
    "Первое число — p-value = 0.729 больше 0.05. Значит, нулевую гипотезу о том, что статистически значимых различий в конверсии между группами нет, не отвергаем. Относительный проигрыш группы А равен 25.9% — второе число в выводе."
   ]
  },
  {
   "cell_type": "markdown",
   "metadata": {},
   "source": [
    "### Рассчет статистической значимости различий в конверсии между группами по «очищенным» данным."
   ]
  },
  {
   "cell_type": "markdown",
   "metadata": {},
   "source": [
    "Нулевая гипотеза: статистически значимых различий в конверсии по \"очищенным\" данным между группами А и В нет. Обратная гипотеза: есть статистически значимые различия в конверсии между группами по \"очищенным\" данным."
   ]
  },
  {
   "cell_type": "code",
   "execution_count": 26,
   "metadata": {},
   "outputs": [
    {
     "name": "stdout",
     "output_type": "stream",
     "text": [
      "1099    148427295\n",
      "18      199603092\n",
      "928     204675465\n",
      "23      237748145\n",
      "37      249864742\n",
      "Name: visitorId, dtype: int64\n"
     ]
    }
   ],
   "source": [
    "usersWithManyOrders = pd.concat(\n",
    "    [\n",
    "        ordersByUsersA[ordersByUsersA['orders'] > 2]['visitorId'],\n",
    "        ordersByUsersB[ordersByUsersB['orders'] > 2]['visitorId'],\n",
    "    ],\n",
    "    axis=0,\n",
    ")\n",
    "usersWithExpensiveOrders = orders[orders['revenue'] > 28000]['visitorId']\n",
    "abnormalUsers = (\n",
    "    pd.concat([usersWithManyOrders, usersWithExpensiveOrders], axis=0)\n",
    "    .drop_duplicates()\n",
    "    .sort_values()\n",
    ")\n",
    "print(abnormalUsers.head(5))"
   ]
  },
  {
   "cell_type": "code",
   "execution_count": 27,
   "metadata": {
    "scrolled": true
   },
   "outputs": [
    {
     "name": "stdout",
     "output_type": "stream",
     "text": [
      "0.01304\n",
      "0.173\n"
     ]
    }
   ],
   "source": [
    "sampleAFiltered = pd.concat(\n",
    "    [\n",
    "        ordersByUsersA[\n",
    "            np.logical_not(ordersByUsersA['visitorId'].isin(abnormalUsers))\n",
    "        ]['orders'],\n",
    "        pd.Series(\n",
    "            0,\n",
    "            index=np.arange(\n",
    "                data['visitorsPerDateA'].sum() - len(ordersByUsersA['orders'])\n",
    "            ),\n",
    "            name='orders',\n",
    "        ),\n",
    "    ],\n",
    "    axis=0,\n",
    ")\n",
    "\n",
    "sampleBFiltered = pd.concat(\n",
    "    [\n",
    "        ordersByUsersB[\n",
    "            np.logical_not(ordersByUsersB['visitorId'].isin(abnormalUsers))\n",
    "        ]['orders'],\n",
    "        pd.Series(\n",
    "            0,\n",
    "            index=np.arange(\n",
    "                data['visitorsPerDateB'].sum() - len(ordersByUsersB['orders'])\n",
    "            ),\n",
    "            name='orders',\n",
    "        ),\n",
    "    ],\n",
    "    axis=0,\n",
    ")\n",
    "print('{0:.5f}'.format(stats.mannwhitneyu(sampleAFiltered, sampleBFiltered, True, 'two-sided')[1]))\n",
    "print('{0:.3f}'.format(sampleBFiltered.mean()/sampleAFiltered.mean()-1))"
   ]
  },
  {
   "cell_type": "markdown",
   "metadata": {},
   "source": [
    "Вывод: По «очищенным» данным есть различия в конверсии между группами A и B.\n",
    "Первое число — p-value = 0.01304 меньше 0.05. Значит, нулевая гипотеза о том, что статистически значимых различий в конверсии между группами нет, не подтверждается. Относительный проигрыш группы А равен 17%."
   ]
  },
  {
   "cell_type": "markdown",
   "metadata": {},
   "source": [
    "### Рассчет статистической значимости различий в среднем чеке заказа между группами по «очищенным» данным."
   ]
  },
  {
   "cell_type": "markdown",
   "metadata": {},
   "source": [
    "Нулевая гипотеза: статистически значимых различий в среднем чеке заказа по \"очищенным\" данным между группами А и В нет. Обратная гипотеза: есть статистически значимые различия в среднем чеке заказа между группами по \"очищенным\" данным."
   ]
  },
  {
   "cell_type": "code",
   "execution_count": 28,
   "metadata": {},
   "outputs": [
    {
     "name": "stdout",
     "output_type": "stream",
     "text": [
      "0.738\n",
      "-0.020\n"
     ]
    }
   ],
   "source": [
    "print(\n",
    "    '{0:.3f}'.format(\n",
    "        stats.mannwhitneyu(\n",
    "            orders[\n",
    "                np.logical_and(\n",
    "                    orders['group'] == 'A',\n",
    "                    np.logical_not(orders['visitorId'].isin(abnormalUsers)),\n",
    "                )\n",
    "            ]['revenue'],\n",
    "            orders[\n",
    "                np.logical_and(\n",
    "                    orders['group'] == 'B',\n",
    "                    np.logical_not(orders['visitorId'].isin(abnormalUsers)),\n",
    "                )\n",
    "            ]['revenue'], True, 'two-sided'\n",
    "        )[1]\n",
    "    )\n",
    ")\n",
    "\n",
    "print(\n",
    "    \"{0:.3f}\".format(\n",
    "        orders[\n",
    "            np.logical_and(\n",
    "                orders['group'] == 'B',\n",
    "                np.logical_not(orders['visitorId'].isin(abnormalUsers)),\n",
    "            )\n",
    "        ]['revenue'].mean()\n",
    "        / orders[\n",
    "            np.logical_and(\n",
    "                orders['group'] == 'A',\n",
    "                np.logical_not(orders['visitorId'].isin(abnormalUsers)),\n",
    "            )\n",
    "        ]['revenue'].mean()\n",
    "        - 1\n",
    "    )\n",
    ")"
   ]
  },
  {
   "cell_type": "markdown",
   "metadata": {},
   "source": [
    "Вывод: По «очищенным» данным различий в среднем чеке заказа между группами A и B нет.\n",
    "Первое число — p-value = 0.738 больше 0.05. Значит, нулевую гипотезу о том, что статистически значимых различий в конверсии между группами нет, не отвергаем. Однако относительный проигрыш группы B равен 2%."
   ]
  },
  {
   "cell_type": "markdown",
   "metadata": {},
   "source": [
    "### Принятое решения по результатам теста."
   ]
  },
  {
   "cell_type": "markdown",
   "metadata": {},
   "source": [
    "Хотя графики к настоящему моменту так и не встали на плато, тест можно остановить. Конверсия для группы В превышает конверсию группы А на 17%, это значительный показатель, средний чек при этом можно считать примерно одинаковым. Группу В можно признать победителем."
   ]
  },
  {
   "cell_type": "markdown",
   "metadata": {},
   "source": [
    "## Общий вывод."
   ]
  },
  {
   "cell_type": "markdown",
   "metadata": {},
   "source": [
    "При проведении приоритизации гипотез были выявлены лидиующие гипотезы - методом ICE (без учета охвата) гипотезы \"Запустить акцию, дающую скидку на товар в день рождения\" (8), \"Добавить два новых канала привлечения трафика, что позволит привлекать на 30% больше пользователей\" (0), \"Добавить форму подписки на все основные страницы, чтобы собрать базу клиентов для email-рассылок\" (7). Методом RICE - \"Добавить форму подписки на все основные страницы, чтобы собрать базу клиентов для email-рассылок\" (7), \"Добавить блоки рекомендаций товаров на сайт интернет магазина, чтобы повысить конверсию и средний чек заказа\" (2), \"Добавить два новых канала привлечения трафика, что позволит привлекать на 30% больше пользователей\" (0), \"Показать на главной странице баннеры с актуальными акциями и распродажами, чтобы увеличить конверсию\" (6). При проверке гипотез все же рекомендуется учитывать объем аудитории, которая будет затронута, поэтому стоит сосредоточиться на списке гипотез, полученных методом RICE. \n",
    "\n",
    "Для конверсии изменение статистически значимо как и \"сырым\", и по \"очищенным\" данным. В \"сырых\" данных конверсия по группе B имеет прирост на 13,8%, в \"очищенных\" - прирост на 17,3%. Для среднего чека разница между группами А и В не ощутима, но по \"сырым\" данным группа А отстает на 25.9%, а по очищенным - опережает группу В на 2%. Тем не менее, в связи с высокой конверсией в 17.3%, группу В можно признать победителем и остановить тест."
   ]
  },
  {
   "cell_type": "code",
   "execution_count": null,
   "metadata": {},
   "outputs": [],
   "source": []
  }
 ],
 "metadata": {
  "kernelspec": {
   "display_name": "Python 3",
   "language": "python",
   "name": "python3"
  },
  "language_info": {
   "codemirror_mode": {
    "name": "ipython",
    "version": 3
   },
   "file_extension": ".py",
   "mimetype": "text/x-python",
   "name": "python",
   "nbconvert_exporter": "python",
   "pygments_lexer": "ipython3",
   "version": "3.7.8"
  },
  "toc": {
   "base_numbering": 1,
   "nav_menu": {},
   "number_sections": true,
   "sideBar": true,
   "skip_h1_title": true,
   "title_cell": "Оглавление",
   "title_sidebar": "Оглавление",
   "toc_cell": true,
   "toc_position": {
    "height": "calc(100% - 180px)",
    "left": "10px",
    "top": "150px",
    "width": "345.796875px"
   },
   "toc_section_display": true,
   "toc_window_display": false
  }
 },
 "nbformat": 4,
 "nbformat_minor": 2
}
