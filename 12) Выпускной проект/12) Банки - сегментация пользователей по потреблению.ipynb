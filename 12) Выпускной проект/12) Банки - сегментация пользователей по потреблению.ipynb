{
 "cells": [
  {
   "cell_type": "markdown",
   "metadata": {},
   "source": [
    "# Банки — Сегментация пользователей по потреблению."
   ]
  },
  {
   "cell_type": "markdown",
   "metadata": {},
   "source": [
    "# Материалы:\n",
    "- Презентация https://drive.google.com/file/d/1yOrPYg8WSdmKexzULz39m9Cd-VGmiJmF/view?usp=sharing\n",
    "- Дашборд https://public.tableau.com/app/profile/olya.kaydan/viz/_16249985248790/Dashboard2"
   ]
  },
  {
   "cell_type": "markdown",
   "metadata": {},
   "source": [
    "# Описание проекта"
   ]
  },
  {
   "cell_type": "markdown",
   "metadata": {},
   "source": [
    "Банк «Метанпром» разрабатывает стратегию взаимодействия с клиентами на основе аналитических данных.\n",
    "\n",
    "Цель: выделение основных целевых аудиторий для дальнейшей разработки программы мероприятий для каждой. \n",
    "\n",
    "Пользователь и заказчик проекта: менеджер продукта.\n",
    "\n",
    "Исследование является регулярным."
   ]
  },
  {
   "cell_type": "markdown",
   "metadata": {},
   "source": [
    "# Задачи"
   ]
  },
  {
   "cell_type": "markdown",
   "metadata": {},
   "source": [
    "Анализ клиентов регионального банка и сегментация пользователей по количеству потребляемых продуктов.\n",
    "- Проведение исследовательского анализа данных,\n",
    "- Сегментация пользователей на основе данных о количестве потребляемых продуктов,\n",
    "- Формулирование и проверка статистических гипотез."
   ]
  },
  {
   "cell_type": "markdown",
   "metadata": {},
   "source": [
    "# Описание данных:\n",
    "\n",
    "Датасет содержит данные о клиентах банка «Метанпром». Банк располагается в Ярославле и областных городах: Ростов Великий и Рыбинск.\n",
    "\n",
    "Колонки:\n",
    "\n",
    "- `userid` — идентификатор пользователя,\n",
    "- `score` — баллы кредитного скоринга,\n",
    "- `City` — город,\n",
    "- `Gender` — пол,\n",
    "- `Age` — возраст,\n",
    "- `Objects` — количество объектов в собственности,\n",
    "- `Balance` — баланс на счёте,\n",
    "- `Products` — количество продуктов, которыми пользуется клиент,\n",
    "- `CreditCard` — есть ли кредитная карта,\n",
    "- `Loyalty` — активный клиент,\n",
    "- `estimated_salary` — заработная плата клиента,\n",
    "- `Churn` — ушёл или нет."
   ]
  },
  {
   "cell_type": "markdown",
   "metadata": {
    "toc": true
   },
   "source": [
    "<h1>Содержание<span class=\"tocSkip\"></span></h1>\n",
    "<div class=\"toc\"><ul class=\"toc-item\"><li><span><a href=\"#Загрузка-данных\" data-toc-modified-id=\"Загрузка-данных-1\"><span class=\"toc-item-num\">1&nbsp;&nbsp;</span>Загрузка данных</a></span></li><li><span><a href=\"#Предобработка-данных\" data-toc-modified-id=\"Предобработка-данных-2\"><span class=\"toc-item-num\">2&nbsp;&nbsp;</span>Предобработка данных</a></span><ul class=\"toc-item\"><li><span><a href=\"#Выводы\" data-toc-modified-id=\"Выводы-2.1\"><span class=\"toc-item-num\">2.1&nbsp;&nbsp;</span>Выводы</a></span></li></ul></li><li><span><a href=\"#Исследовательский-анализ-данных-(EDA)\" data-toc-modified-id=\"Исследовательский-анализ-данных-(EDA)-3\"><span class=\"toc-item-num\">3&nbsp;&nbsp;</span>Исследовательский анализ данных (EDA)</a></span><ul class=\"toc-item\"><li><ul class=\"toc-item\"><li><span><a href=\"#Выводы\" data-toc-modified-id=\"Выводы-3.0.1\"><span class=\"toc-item-num\">3.0.1&nbsp;&nbsp;</span>Выводы</a></span></li></ul></li></ul></li><li><span><a href=\"#Кластеризация-пользователей-на-основе-данных-о-количестве-потребляемых-продуктов\" data-toc-modified-id=\"Кластеризация-пользователей-на-основе-данных-о-количестве-потребляемых-продуктов-4\"><span class=\"toc-item-num\">4&nbsp;&nbsp;</span>Кластеризация пользователей на основе данных о количестве потребляемых продуктов</a></span><ul class=\"toc-item\"><li><span><a href=\"#Выводы\" data-toc-modified-id=\"Выводы-4.1\"><span class=\"toc-item-num\">4.1&nbsp;&nbsp;</span>Выводы</a></span></li></ul></li><li><span><a href=\"#Формулировка-и-проверка-статистических-гипотез\" data-toc-modified-id=\"Формулировка-и-проверка-статистических-гипотез-5\"><span class=\"toc-item-num\">5&nbsp;&nbsp;</span>Формулировка и проверка статистических гипотез</a></span><ul class=\"toc-item\"><li><span><a href=\"#Гипотеза-о-различии-дохода-между-теми-клиентами,-которые-пользуются-двумя-продуктами-банка,-и-теми,-которые-пользуются-одним\" data-toc-modified-id=\"Гипотеза-о-различии-дохода-между-теми-клиентами,-которые-пользуются-двумя-продуктами-банка,-и-теми,-которые-пользуются-одним-5.1\"><span class=\"toc-item-num\">5.1&nbsp;&nbsp;</span>Гипотеза о различии дохода между теми клиентами, которые пользуются двумя продуктами банка, и теми, которые пользуются одним</a></span></li><li><span><a href=\"#Гипотеза-о-разнице-в-количестве-баллов-кредитного-скоринга,-которые-пользуются-тремя-продуктами-банка,-и-теми,-которые-пользуются-одним\" data-toc-modified-id=\"Гипотеза-о-разнице-в-количестве-баллов-кредитного-скоринга,-которые-пользуются-тремя-продуктами-банка,-и-теми,-которые-пользуются-одним-5.2\"><span class=\"toc-item-num\">5.2&nbsp;&nbsp;</span>Гипотеза о разнице в количестве баллов кредитного скоринга, которые пользуются тремя продуктами банка, и теми, которые пользуются одним</a></span></li><li><span><a href=\"#Выводы\" data-toc-modified-id=\"Выводы-5.3\"><span class=\"toc-item-num\">5.3&nbsp;&nbsp;</span>Выводы</a></span></li></ul></li><li><span><a href=\"#Выводы-и-рекомендации\" data-toc-modified-id=\"Выводы-и-рекомендации-6\"><span class=\"toc-item-num\">6&nbsp;&nbsp;</span>Выводы и рекомендации</a></span></li></ul></div>"
   ]
  },
  {
   "cell_type": "markdown",
   "metadata": {},
   "source": [
    "## Загрузка данных"
   ]
  },
  {
   "cell_type": "code",
   "execution_count": 1,
   "metadata": {},
   "outputs": [
    {
     "name": "stdout",
     "output_type": "stream",
     "text": [
      "Defaulting to user installation because normal site-packages is not writeable\n",
      "Collecting seaborn==0.11.1\n",
      "  Downloading seaborn-0.11.1-py3-none-any.whl (285 kB)\n",
      "\u001b[K     |████████████████████████████████| 285 kB 1.6 MB/s eta 0:00:01\n",
      "\u001b[?25hRequirement already satisfied: pandas>=0.23 in /opt/conda/lib/python3.7/site-packages (from seaborn==0.11.1) (0.25.1)\n",
      "Requirement already satisfied: matplotlib>=2.2 in /opt/conda/lib/python3.7/site-packages (from seaborn==0.11.1) (3.1.0)\n",
      "Requirement already satisfied: numpy>=1.15 in /opt/conda/lib/python3.7/site-packages (from seaborn==0.11.1) (1.19.5)\n",
      "Requirement already satisfied: scipy>=1.0 in /opt/conda/lib/python3.7/site-packages (from seaborn==0.11.1) (1.4.1)\n",
      "Requirement already satisfied: python-dateutil>=2.6.1 in /opt/conda/lib/python3.7/site-packages (from pandas>=0.23->seaborn==0.11.1) (2.8.1)\n",
      "Requirement already satisfied: pytz>=2017.2 in /opt/conda/lib/python3.7/site-packages (from pandas>=0.23->seaborn==0.11.1) (2021.1)\n",
      "Requirement already satisfied: pyparsing!=2.0.4,!=2.1.2,!=2.1.6,>=2.0.1 in /opt/conda/lib/python3.7/site-packages (from matplotlib>=2.2->seaborn==0.11.1) (2.4.7)\n",
      "Requirement already satisfied: kiwisolver>=1.0.1 in /opt/conda/lib/python3.7/site-packages (from matplotlib>=2.2->seaborn==0.11.1) (1.3.1)\n",
      "Requirement already satisfied: cycler>=0.10 in /opt/conda/lib/python3.7/site-packages (from matplotlib>=2.2->seaborn==0.11.1) (0.10.0)\n",
      "Requirement already satisfied: six>=1.5 in /opt/conda/lib/python3.7/site-packages (from python-dateutil>=2.6.1->pandas>=0.23->seaborn==0.11.1) (1.15.0)\n",
      "Installing collected packages: seaborn\n",
      "Successfully installed seaborn-0.11.1\n"
     ]
    }
   ],
   "source": [
    "# импортируем библиотеки\n",
    "!pip install seaborn==0.11.1\n",
    "\n",
    "import pandas as pd\n",
    "import matplotlib.pyplot as plt\n",
    "import seaborn as sns\n",
    "import numpy as np\n",
    "import warnings\n",
    "\n",
    "from matplotlib import pyplot\n",
    "from plotly.subplots import make_subplots\n",
    "from scipy import stats as st\n",
    "import plotly.graph_objects as go\n",
    "from scipy.stats import mannwhitneyu\n",
    "\n",
    "\n",
    "from scipy.cluster.hierarchy import dendrogram, linkage \n",
    "\n",
    "\n",
    "from sklearn.cluster import KMeans\n",
    "from sklearn.ensemble import RandomForestClassifier\n",
    "from sklearn.model_selection import train_test_split\n",
    "from sklearn.linear_model import LogisticRegression, Lasso, Ridge\n",
    "from sklearn.preprocessing import StandardScaler\n",
    "from sklearn.metrics import mean_absolute_error, mean_squared_error, r2_score, confusion_matrix, accuracy_score, precision_score, recall_score\n"
   ]
  },
  {
   "cell_type": "code",
   "execution_count": 2,
   "metadata": {},
   "outputs": [],
   "source": [
    "# записываем данные в табличку\n",
    "\n",
    "df = pd.read_csv('/datasets/bank_dataset.csv')"
   ]
  },
  {
   "cell_type": "code",
   "execution_count": 3,
   "metadata": {},
   "outputs": [
    {
     "name": "stdout",
     "output_type": "stream",
     "text": [
      "<class 'pandas.core.frame.DataFrame'>\n",
      "RangeIndex: 10000 entries, 0 to 9999\n",
      "Data columns (total 12 columns):\n",
      "userid              10000 non-null int64\n",
      "score               10000 non-null int64\n",
      "City                10000 non-null object\n",
      "Gender              10000 non-null object\n",
      "Age                 10000 non-null int64\n",
      "Objects             10000 non-null int64\n",
      "Balance             6383 non-null float64\n",
      "Products            10000 non-null int64\n",
      "CreditCard          10000 non-null int64\n",
      "Loyalty             10000 non-null int64\n",
      "estimated_salary    10000 non-null float64\n",
      "Churn               10000 non-null int64\n",
      "dtypes: float64(2), int64(8), object(2)\n",
      "memory usage: 937.6+ KB\n"
     ]
    }
   ],
   "source": [
    "# смотрим инфо\n",
    "\n",
    "df.info()"
   ]
  },
  {
   "cell_type": "code",
   "execution_count": 4,
   "metadata": {},
   "outputs": [
    {
     "data": {
      "text/html": [
       "<div>\n",
       "<style scoped>\n",
       "    .dataframe tbody tr th:only-of-type {\n",
       "        vertical-align: middle;\n",
       "    }\n",
       "\n",
       "    .dataframe tbody tr th {\n",
       "        vertical-align: top;\n",
       "    }\n",
       "\n",
       "    .dataframe thead th {\n",
       "        text-align: right;\n",
       "    }\n",
       "</style>\n",
       "<table border=\"1\" class=\"dataframe\">\n",
       "  <thead>\n",
       "    <tr style=\"text-align: right;\">\n",
       "      <th></th>\n",
       "      <th>userid</th>\n",
       "      <th>score</th>\n",
       "      <th>City</th>\n",
       "      <th>Gender</th>\n",
       "      <th>Age</th>\n",
       "      <th>Objects</th>\n",
       "      <th>Balance</th>\n",
       "      <th>Products</th>\n",
       "      <th>CreditCard</th>\n",
       "      <th>Loyalty</th>\n",
       "      <th>estimated_salary</th>\n",
       "      <th>Churn</th>\n",
       "    </tr>\n",
       "  </thead>\n",
       "  <tbody>\n",
       "    <tr>\n",
       "      <td>0</td>\n",
       "      <td>15677338</td>\n",
       "      <td>619</td>\n",
       "      <td>Ярославль</td>\n",
       "      <td>Ж</td>\n",
       "      <td>42</td>\n",
       "      <td>2</td>\n",
       "      <td>NaN</td>\n",
       "      <td>1</td>\n",
       "      <td>1</td>\n",
       "      <td>1</td>\n",
       "      <td>101348.88</td>\n",
       "      <td>1</td>\n",
       "    </tr>\n",
       "    <tr>\n",
       "      <td>1</td>\n",
       "      <td>15690047</td>\n",
       "      <td>608</td>\n",
       "      <td>Рыбинск</td>\n",
       "      <td>Ж</td>\n",
       "      <td>41</td>\n",
       "      <td>1</td>\n",
       "      <td>83807.86</td>\n",
       "      <td>1</td>\n",
       "      <td>0</td>\n",
       "      <td>1</td>\n",
       "      <td>112542.58</td>\n",
       "      <td>0</td>\n",
       "    </tr>\n",
       "    <tr>\n",
       "      <td>2</td>\n",
       "      <td>15662040</td>\n",
       "      <td>502</td>\n",
       "      <td>Ярославль</td>\n",
       "      <td>Ж</td>\n",
       "      <td>42</td>\n",
       "      <td>8</td>\n",
       "      <td>159660.80</td>\n",
       "      <td>3</td>\n",
       "      <td>1</td>\n",
       "      <td>0</td>\n",
       "      <td>113931.57</td>\n",
       "      <td>1</td>\n",
       "    </tr>\n",
       "    <tr>\n",
       "      <td>3</td>\n",
       "      <td>15744090</td>\n",
       "      <td>699</td>\n",
       "      <td>Ярославль</td>\n",
       "      <td>Ж</td>\n",
       "      <td>39</td>\n",
       "      <td>1</td>\n",
       "      <td>NaN</td>\n",
       "      <td>2</td>\n",
       "      <td>0</td>\n",
       "      <td>0</td>\n",
       "      <td>93826.63</td>\n",
       "      <td>0</td>\n",
       "    </tr>\n",
       "    <tr>\n",
       "      <td>4</td>\n",
       "      <td>15780624</td>\n",
       "      <td>850</td>\n",
       "      <td>Рыбинск</td>\n",
       "      <td>Ж</td>\n",
       "      <td>43</td>\n",
       "      <td>2</td>\n",
       "      <td>125510.82</td>\n",
       "      <td>1</td>\n",
       "      <td>1</td>\n",
       "      <td>1</td>\n",
       "      <td>79084.10</td>\n",
       "      <td>0</td>\n",
       "    </tr>\n",
       "  </tbody>\n",
       "</table>\n",
       "</div>"
      ],
      "text/plain": [
       "     userid  score       City Gender  Age  Objects    Balance  Products  \\\n",
       "0  15677338    619  Ярославль      Ж   42        2        NaN         1   \n",
       "1  15690047    608    Рыбинск      Ж   41        1   83807.86         1   \n",
       "2  15662040    502  Ярославль      Ж   42        8  159660.80         3   \n",
       "3  15744090    699  Ярославль      Ж   39        1        NaN         2   \n",
       "4  15780624    850    Рыбинск      Ж   43        2  125510.82         1   \n",
       "\n",
       "   CreditCard  Loyalty  estimated_salary  Churn  \n",
       "0           1        1         101348.88      1  \n",
       "1           0        1         112542.58      0  \n",
       "2           1        0         113931.57      1  \n",
       "3           0        0          93826.63      0  \n",
       "4           1        1          79084.10      0  "
      ]
     },
     "metadata": {},
     "output_type": "display_data"
    }
   ],
   "source": [
    "# отрисовываем первые пять строк\n",
    "\n",
    "display(df.head())"
   ]
  },
  {
   "cell_type": "markdown",
   "metadata": {},
   "source": [
    "Был открыт и изучен файл с предоставленными данными. Обнаружены пропуски, а также разный регистр букв в наименованиях большинства колонок."
   ]
  },
  {
   "cell_type": "markdown",
   "metadata": {},
   "source": [
    "## Предобработка данных"
   ]
  },
  {
   "cell_type": "code",
   "execution_count": 5,
   "metadata": {},
   "outputs": [],
   "source": [
    "# приводим к лоуеркейсу названия колонок\n",
    "\n",
    "df.columns = [each.lower() for each in df]"
   ]
  },
  {
   "cell_type": "code",
   "execution_count": 6,
   "metadata": {},
   "outputs": [
    {
     "data": {
      "text/plain": [
       "userid                 0\n",
       "score                  0\n",
       "city                   0\n",
       "gender                 0\n",
       "age                    0\n",
       "objects                0\n",
       "balance             3617\n",
       "products               0\n",
       "creditcard             0\n",
       "loyalty                0\n",
       "estimated_salary       0\n",
       "churn                  0\n",
       "dtype: int64"
      ]
     },
     "execution_count": 6,
     "metadata": {},
     "output_type": "execute_result"
    }
   ],
   "source": [
    "# смотрим пропуски\n",
    "\n",
    "df.isna().sum()"
   ]
  },
  {
   "cell_type": "code",
   "execution_count": 7,
   "metadata": {},
   "outputs": [
    {
     "data": {
      "text/plain": [
       "count      6383.000000\n",
       "mean     119827.493793\n",
       "std       30095.056462\n",
       "min        3768.690000\n",
       "25%      100181.975000\n",
       "50%      119839.690000\n",
       "75%      139512.290000\n",
       "max      250898.090000\n",
       "Name: balance, dtype: float64"
      ]
     },
     "execution_count": 7,
     "metadata": {},
     "output_type": "execute_result"
    }
   ],
   "source": [
    "# посмотрим средние значения и отклонения для колонки с пропусками\n",
    "\n",
    "df['balance'].describe()"
   ]
  },
  {
   "cell_type": "code",
   "execution_count": 8,
   "metadata": {},
   "outputs": [],
   "source": [
    "# заменим пропуски на нули - допустим, Nan обозначают те позиции, где у клиента нулевой баланс на карте\n",
    "\n",
    "df = df.fillna(0)"
   ]
  },
  {
   "cell_type": "code",
   "execution_count": 9,
   "metadata": {},
   "outputs": [
    {
     "data": {
      "text/plain": [
       "0"
      ]
     },
     "execution_count": 9,
     "metadata": {},
     "output_type": "execute_result"
    }
   ],
   "source": [
    "# смотрим дубли\n",
    "\n",
    "df.duplicated().sum()"
   ]
  },
  {
   "cell_type": "markdown",
   "metadata": {},
   "source": [
    "### Выводы"
   ]
  },
  {
   "cell_type": "markdown",
   "metadata": {},
   "source": [
    "Были приведены к нижнему регистру названия колонок. Затем при проверке пропусков они были обнаружены в колонке `balance`, поэтому мы описали значения колонок при помощи `describe`. Минимальная сумма на счету была равна при этом 3768.69. Предположим, пропущенные значения равны нулевому балансу - такое может произойти в том случае, если банковски продукт был приобретен, но ни разу не использовался, либо просто при полном снятии денег со счета, поэтому мы заменили пропуски на нули. В любом случае, предпочтительнее уточнить при возможности природу таких пропусков у коллег, которые предоставили данный датасет."
   ]
  },
  {
   "cell_type": "markdown",
   "metadata": {},
   "source": [
    "## Исследовательский анализ данных (EDA)"
   ]
  },
  {
   "cell_type": "code",
   "execution_count": 10,
   "metadata": {},
   "outputs": [
    {
     "data": {
      "text/html": [
       "<div>\n",
       "<style scoped>\n",
       "    .dataframe tbody tr th:only-of-type {\n",
       "        vertical-align: middle;\n",
       "    }\n",
       "\n",
       "    .dataframe tbody tr th {\n",
       "        vertical-align: top;\n",
       "    }\n",
       "\n",
       "    .dataframe thead th {\n",
       "        text-align: right;\n",
       "    }\n",
       "</style>\n",
       "<table border=\"1\" class=\"dataframe\">\n",
       "  <thead>\n",
       "    <tr style=\"text-align: right;\">\n",
       "      <th></th>\n",
       "      <th>userid</th>\n",
       "      <th>score</th>\n",
       "      <th>age</th>\n",
       "      <th>objects</th>\n",
       "      <th>balance</th>\n",
       "      <th>products</th>\n",
       "      <th>creditcard</th>\n",
       "      <th>loyalty</th>\n",
       "      <th>estimated_salary</th>\n",
       "      <th>churn</th>\n",
       "    </tr>\n",
       "  </thead>\n",
       "  <tbody>\n",
       "    <tr>\n",
       "      <td>count</td>\n",
       "      <td>1.000000e+04</td>\n",
       "      <td>10000.000000</td>\n",
       "      <td>10000.000000</td>\n",
       "      <td>10000.000000</td>\n",
       "      <td>10000.000000</td>\n",
       "      <td>10000.000000</td>\n",
       "      <td>10000.00000</td>\n",
       "      <td>10000.000000</td>\n",
       "      <td>10000.000000</td>\n",
       "      <td>10000.000000</td>\n",
       "    </tr>\n",
       "    <tr>\n",
       "      <td>mean</td>\n",
       "      <td>1.573368e+07</td>\n",
       "      <td>650.528800</td>\n",
       "      <td>38.921800</td>\n",
       "      <td>5.012800</td>\n",
       "      <td>76485.889288</td>\n",
       "      <td>1.530200</td>\n",
       "      <td>0.70550</td>\n",
       "      <td>0.515100</td>\n",
       "      <td>100090.239881</td>\n",
       "      <td>0.203700</td>\n",
       "    </tr>\n",
       "    <tr>\n",
       "      <td>std</td>\n",
       "      <td>7.193619e+04</td>\n",
       "      <td>96.653299</td>\n",
       "      <td>10.487806</td>\n",
       "      <td>2.892174</td>\n",
       "      <td>62397.405202</td>\n",
       "      <td>0.581654</td>\n",
       "      <td>0.45584</td>\n",
       "      <td>0.499797</td>\n",
       "      <td>57510.492818</td>\n",
       "      <td>0.402769</td>\n",
       "    </tr>\n",
       "    <tr>\n",
       "      <td>min</td>\n",
       "      <td>1.560844e+07</td>\n",
       "      <td>350.000000</td>\n",
       "      <td>18.000000</td>\n",
       "      <td>0.000000</td>\n",
       "      <td>0.000000</td>\n",
       "      <td>1.000000</td>\n",
       "      <td>0.00000</td>\n",
       "      <td>0.000000</td>\n",
       "      <td>11.580000</td>\n",
       "      <td>0.000000</td>\n",
       "    </tr>\n",
       "    <tr>\n",
       "      <td>25%</td>\n",
       "      <td>1.567126e+07</td>\n",
       "      <td>584.000000</td>\n",
       "      <td>32.000000</td>\n",
       "      <td>3.000000</td>\n",
       "      <td>0.000000</td>\n",
       "      <td>1.000000</td>\n",
       "      <td>0.00000</td>\n",
       "      <td>0.000000</td>\n",
       "      <td>51002.110000</td>\n",
       "      <td>0.000000</td>\n",
       "    </tr>\n",
       "    <tr>\n",
       "      <td>50%</td>\n",
       "      <td>1.573347e+07</td>\n",
       "      <td>652.000000</td>\n",
       "      <td>37.000000</td>\n",
       "      <td>5.000000</td>\n",
       "      <td>97198.540000</td>\n",
       "      <td>1.000000</td>\n",
       "      <td>1.00000</td>\n",
       "      <td>1.000000</td>\n",
       "      <td>100193.915000</td>\n",
       "      <td>0.000000</td>\n",
       "    </tr>\n",
       "    <tr>\n",
       "      <td>75%</td>\n",
       "      <td>1.579597e+07</td>\n",
       "      <td>718.000000</td>\n",
       "      <td>44.000000</td>\n",
       "      <td>7.000000</td>\n",
       "      <td>127644.240000</td>\n",
       "      <td>2.000000</td>\n",
       "      <td>1.00000</td>\n",
       "      <td>1.000000</td>\n",
       "      <td>149388.247500</td>\n",
       "      <td>0.000000</td>\n",
       "    </tr>\n",
       "    <tr>\n",
       "      <td>max</td>\n",
       "      <td>1.585843e+07</td>\n",
       "      <td>850.000000</td>\n",
       "      <td>92.000000</td>\n",
       "      <td>10.000000</td>\n",
       "      <td>250898.090000</td>\n",
       "      <td>4.000000</td>\n",
       "      <td>1.00000</td>\n",
       "      <td>1.000000</td>\n",
       "      <td>199992.480000</td>\n",
       "      <td>1.000000</td>\n",
       "    </tr>\n",
       "  </tbody>\n",
       "</table>\n",
       "</div>"
      ],
      "text/plain": [
       "             userid         score           age       objects        balance  \\\n",
       "count  1.000000e+04  10000.000000  10000.000000  10000.000000   10000.000000   \n",
       "mean   1.573368e+07    650.528800     38.921800      5.012800   76485.889288   \n",
       "std    7.193619e+04     96.653299     10.487806      2.892174   62397.405202   \n",
       "min    1.560844e+07    350.000000     18.000000      0.000000       0.000000   \n",
       "25%    1.567126e+07    584.000000     32.000000      3.000000       0.000000   \n",
       "50%    1.573347e+07    652.000000     37.000000      5.000000   97198.540000   \n",
       "75%    1.579597e+07    718.000000     44.000000      7.000000  127644.240000   \n",
       "max    1.585843e+07    850.000000     92.000000     10.000000  250898.090000   \n",
       "\n",
       "           products   creditcard       loyalty  estimated_salary         churn  \n",
       "count  10000.000000  10000.00000  10000.000000      10000.000000  10000.000000  \n",
       "mean       1.530200      0.70550      0.515100     100090.239881      0.203700  \n",
       "std        0.581654      0.45584      0.499797      57510.492818      0.402769  \n",
       "min        1.000000      0.00000      0.000000         11.580000      0.000000  \n",
       "25%        1.000000      0.00000      0.000000      51002.110000      0.000000  \n",
       "50%        1.000000      1.00000      1.000000     100193.915000      0.000000  \n",
       "75%        2.000000      1.00000      1.000000     149388.247500      0.000000  \n",
       "max        4.000000      1.00000      1.000000     199992.480000      1.000000  "
      ]
     },
     "execution_count": 10,
     "metadata": {},
     "output_type": "execute_result"
    }
   ],
   "source": [
    "# посмотрим на датасет: есть ли в нем отсутствующие признаки, \n",
    "# изучим средние значения и стандартные отклонения\n",
    "\n",
    "df.describe()"
   ]
  },
  {
   "cell_type": "markdown",
   "metadata": {},
   "source": [
    "Интересно отметить, что у большинства клиентов есть кредитная карта, самому старшему держателю продукта 92 года, отток у нас в выборке небольшой, в среднем люди используют один-два продукта, и владеют пятью объектами. Странно выглядит минимальная зарплата в 11.58."
   ]
  },
  {
   "cell_type": "code",
   "execution_count": 11,
   "metadata": {},
   "outputs": [
    {
     "data": {
      "text/html": [
       "<div>\n",
       "<style scoped>\n",
       "    .dataframe tbody tr th:only-of-type {\n",
       "        vertical-align: middle;\n",
       "    }\n",
       "\n",
       "    .dataframe tbody tr th {\n",
       "        vertical-align: top;\n",
       "    }\n",
       "\n",
       "    .dataframe thead th {\n",
       "        text-align: right;\n",
       "    }\n",
       "</style>\n",
       "<table border=\"1\" class=\"dataframe\">\n",
       "  <thead>\n",
       "    <tr style=\"text-align: right;\">\n",
       "      <th></th>\n",
       "      <th>userid</th>\n",
       "      <th>score</th>\n",
       "      <th>age</th>\n",
       "      <th>objects</th>\n",
       "      <th>balance</th>\n",
       "      <th>creditcard</th>\n",
       "      <th>loyalty</th>\n",
       "      <th>estimated_salary</th>\n",
       "      <th>churn</th>\n",
       "    </tr>\n",
       "    <tr>\n",
       "      <th>products</th>\n",
       "      <th></th>\n",
       "      <th></th>\n",
       "      <th></th>\n",
       "      <th></th>\n",
       "      <th></th>\n",
       "      <th></th>\n",
       "      <th></th>\n",
       "      <th></th>\n",
       "      <th></th>\n",
       "    </tr>\n",
       "  </thead>\n",
       "  <tbody>\n",
       "    <tr>\n",
       "      <td>1</td>\n",
       "      <td>1.573237e+07</td>\n",
       "      <td>649.120968</td>\n",
       "      <td>39.673092</td>\n",
       "      <td>4.974626</td>\n",
       "      <td>98551.870614</td>\n",
       "      <td>0.703777</td>\n",
       "      <td>0.504131</td>\n",
       "      <td>99487.256851</td>\n",
       "      <td>0.277144</td>\n",
       "    </tr>\n",
       "    <tr>\n",
       "      <td>2</td>\n",
       "      <td>1.573484e+07</td>\n",
       "      <td>652.188671</td>\n",
       "      <td>37.753595</td>\n",
       "      <td>5.051852</td>\n",
       "      <td>51879.145813</td>\n",
       "      <td>0.707190</td>\n",
       "      <td>0.532898</td>\n",
       "      <td>100452.012821</td>\n",
       "      <td>0.075817</td>\n",
       "    </tr>\n",
       "    <tr>\n",
       "      <td>3</td>\n",
       "      <td>1.574182e+07</td>\n",
       "      <td>648.105263</td>\n",
       "      <td>43.195489</td>\n",
       "      <td>5.003759</td>\n",
       "      <td>75458.328195</td>\n",
       "      <td>0.714286</td>\n",
       "      <td>0.424812</td>\n",
       "      <td>104318.130564</td>\n",
       "      <td>0.827068</td>\n",
       "    </tr>\n",
       "    <tr>\n",
       "      <td>4</td>\n",
       "      <td>1.571936e+07</td>\n",
       "      <td>653.583333</td>\n",
       "      <td>45.683333</td>\n",
       "      <td>5.300000</td>\n",
       "      <td>93733.135000</td>\n",
       "      <td>0.683333</td>\n",
       "      <td>0.483333</td>\n",
       "      <td>104763.723333</td>\n",
       "      <td>1.000000</td>\n",
       "    </tr>\n",
       "  </tbody>\n",
       "</table>\n",
       "</div>"
      ],
      "text/plain": [
       "                userid       score        age   objects       balance  \\\n",
       "products                                                                \n",
       "1         1.573237e+07  649.120968  39.673092  4.974626  98551.870614   \n",
       "2         1.573484e+07  652.188671  37.753595  5.051852  51879.145813   \n",
       "3         1.574182e+07  648.105263  43.195489  5.003759  75458.328195   \n",
       "4         1.571936e+07  653.583333  45.683333  5.300000  93733.135000   \n",
       "\n",
       "          creditcard   loyalty  estimated_salary     churn  \n",
       "products                                                    \n",
       "1           0.703777  0.504131      99487.256851  0.277144  \n",
       "2           0.707190  0.532898     100452.012821  0.075817  \n",
       "3           0.714286  0.424812     104318.130564  0.827068  \n",
       "4           0.683333  0.483333     104763.723333  1.000000  "
      ]
     },
     "metadata": {},
     "output_type": "display_data"
    }
   ],
   "source": [
    "# Посмотрим на средние значения признаков в группах по количеству используемых продуктов\n",
    "\n",
    "display(df.groupby('products').mean())"
   ]
  },
  {
   "cell_type": "markdown",
   "metadata": {},
   "source": [
    "Средние показатели у пользователей с разным количеством продуктов во многом схожи, но баланс на счету ниже у тех, кто пользуется двумя-тремя продуктами, а еще все владельцы четырех продуктов попали в группу оттока."
   ]
  },
  {
   "cell_type": "code",
   "execution_count": 13,
   "metadata": {
    "scrolled": false
   },
   "outputs": [
    {
     "data": {
      "image/png": "[encoded data removed]",
      "text/plain": [
       "<Figure size 1080x576 with 4 Axes>"
      ]
     },
     "metadata": {
      "needs_background": "light"
     },
     "output_type": "display_data"
    },
    {
     "data": {
      "image/png": "[encoded data removed]",
      "text/plain": [
       "<Figure size 1080x576 with 4 Axes>"
      ]
     },
     "metadata": {},
     "output_type": "display_data"
    },
    {
     "data": {
      "image/png": "[encoded data removed]",
      "text/plain": [
       "<Figure size 1080x576 with 4 Axes>"
      ]
     },
     "metadata": {},
     "output_type": "display_data"
    },
    {
     "data": {
      "image/png": "[encoded data removed]",
      "text/plain": [
       "<Figure size 1080x576 with 4 Axes>"
      ]
     },
     "metadata": {},
     "output_type": "display_data"
    },
    {
     "data": {
      "image/png": "[encoded data removed]",
      "text/plain": [
       "<Figure size 1080x576 with 4 Axes>"
      ]
     },
     "metadata": {},
     "output_type": "display_data"
    }
   ],
   "source": [
    "X = df.drop(['creditcard', 'loyalty', 'churn', 'products', 'userid', 'city', 'gender'], axis = 1)\n",
    "for col in X.columns:\n",
    "    g = sns.displot(data = df, x = col, col = 'products', palette = \"pastel\")\n",
    "    sns.set_style(style='white')\n",
    "    g.fig.set_figwidth(15)\n",
    "    g.fig.set_figheight(8)\n",
    "    g.set_axis_labels(col, 'Частота признака')\n",
    "    g.set_titles('{col_name}')\n",
    "    plt.show()"
   ]
  },
  {
   "cell_type": "markdown",
   "metadata": {},
   "source": [
    "Скоринговый балл для всех групп имеет нормальное распределение - так же, как и для возраста. Если бы не возникшие вопросы по поводу пропусков в балансе, то здесь тоже было бы нормальное распределение, но на данный момент мы имеем большое количество околонулевых значений. Для зарплат и количества объектов мы видим равномерное распределение (с пиками в зарплате у держателей трех и четырех продуктов)."
   ]
  },
  {
   "cell_type": "code",
   "execution_count": 14,
   "metadata": {
    "scrolled": false
   },
   "outputs": [
    {
     "data": {
      "image/png": "[encoded data removed]",
      "text/plain": [
       "<Figure size 360x360 with 1 Axes>"
      ]
     },
     "metadata": {},
     "output_type": "display_data"
    },
    {
     "data": {
      "image/png": "[encoded data removed]",
      "text/plain": [
       "<Figure size 360x360 with 1 Axes>"
      ]
     },
     "metadata": {},
     "output_type": "display_data"
    },
    {
     "data": {
      "image/png": "[encoded data removed]",
      "text/plain": [
       "<Figure size 360x360 with 1 Axes>"
      ]
     },
     "metadata": {},
     "output_type": "display_data"
    },
    {
     "data": {
      "image/png": "[encoded data removed]",
      "text/plain": [
       "<Figure size 360x360 with 1 Axes>"
      ]
     },
     "metadata": {},
     "output_type": "display_data"
    },
    {
     "data": {
      "image/png": "[encoded data removed]",
      "text/plain": [
       "<Figure size 360x360 with 1 Axes>"
      ]
     },
     "metadata": {},
     "output_type": "display_data"
    }
   ],
   "source": [
    "# столбчатые гистограммы признаков в группах по количеству используемых продуктов\n",
    "\n",
    "for col in df.drop(['userid', 'score', 'age', 'products', 'objects', 'balance', 'estimated_salary'], axis = 1).columns:\n",
    "    plt.figure(figsize=(5, 5))\n",
    "    sns.countplot(x = df[col], hue = 'products', palette='Set3', data = df)\n",
    "    plt.title('График частоты признака {}'.format(col))\n",
    "    plt.show()"
   ]
  },
  {
   "cell_type": "markdown",
   "metadata": {},
   "source": [
    "Самое большое количество клиентов - из Ярславля, в Рыбинске и Ростове Великом в два раза меньше (логично, учитывая плотность населения). Среди клиентов немного больше мужчин, и в два раза больше владельцев кредитных карт, чем тех, у кого их нет. Частота признака loyalty примерно одинакова. С оттоком самый интересный график - владельцы трех продуктов чаще уходят из банка, чем те, у кого их один или два, а вот держатели четырех продуктов полностью ушли в группу оттока."
   ]
  },
  {
   "cell_type": "code",
   "execution_count": 15,
   "metadata": {},
   "outputs": [
    {
     "data": {
      "image/png": "[encoded data removed]",
      "text/plain": [
       "<Figure size 1152x720 with 2 Axes>"
      ]
     },
     "metadata": {},
     "output_type": "display_data"
    }
   ],
   "source": [
    "# строим матрицу корреляций \n",
    "\n",
    "cm = df.corr()\n",
    "plt.figure(figsize=(16, 10))\n",
    "sns.heatmap(cm, annot = True, square = True, cmap = \"Blues\")\n",
    "plt.title('Матрица корреляций')\n",
    "plt.show()"
   ]
  },
  {
   "cell_type": "markdown",
   "metadata": {},
   "source": [
    "Коррелируют следующие признаки:\n",
    "- Отток и возраст\n",
    "- Отток и баланс на счету\n",
    "- Возраст и лояльность\n",
    "- Баланс и количество продуктов"
   ]
  },
  {
   "cell_type": "markdown",
   "metadata": {},
   "source": [
    "#### Выводы"
   ]
  },
  {
   "cell_type": "markdown",
   "metadata": {},
   "source": [
    "В целом, у нас складываются похожие картины для держателей всех четырех продуктов, за исключением информации по оттоку, в столбчатых гистограммах мы заметили, что большое количество клиентов с тремя продуктами ушли в отток, так же как и все владельцы четырех продуктов банка."
   ]
  },
  {
   "cell_type": "markdown",
   "metadata": {},
   "source": [
    "## Кластеризация пользователей на основе данных о количестве потребляемых продуктов"
   ]
  },
  {
   "cell_type": "code",
   "execution_count": 16,
   "metadata": {},
   "outputs": [],
   "source": [
    "X = df.drop(['products', 'city', 'gender'], axis = 1)\n",
    "#X = X.dropna()\n",
    "y = df['products']\n",
    "\n",
    "# разделяем модель на обучающую и валидационную выборку\n",
    "X_train, X_test, y_train, y_test = train_test_split(X, y, test_size = 0.2, random_state = 0)"
   ]
  },
  {
   "cell_type": "code",
   "execution_count": 17,
   "metadata": {},
   "outputs": [],
   "source": [
    "# создадим объект класса StandardScaler и применим его к обучающей выборке\n",
    "sc = StandardScaler()\n",
    "X_sc = sc.fit_transform(X)\n",
    "\n",
    "linked = linkage(X_sc, method = 'ward') "
   ]
  },
  {
   "cell_type": "code",
   "execution_count": 18,
   "metadata": {},
   "outputs": [
    {
     "data": {
      "image/png": "[encoded data removed]",
      "text/plain": [
       "<Figure size 1152x648 with 1 Axes>"
      ]
     },
     "metadata": {},
     "output_type": "display_data"
    }
   ],
   "source": [
    "# отрисуем дендрограмму\n",
    "\n",
    "plt.figure(figsize=(16, 9))  \n",
    "dendrogram(linked, orientation = 'top')\n",
    "plt.title('Кластеризация пользователей')\n",
    "plt.show()"
   ]
  },
  {
   "cell_type": "code",
   "execution_count": 19,
   "metadata": {},
   "outputs": [],
   "source": [
    "km = KMeans(n_clusters = 3, random_state=0)\n",
    "labels = km.fit_predict(X_sc)\n",
    "df['cluster'] = labels"
   ]
  },
  {
   "cell_type": "code",
   "execution_count": 20,
   "metadata": {},
   "outputs": [
    {
     "data": {
      "text/html": [
       "<div>\n",
       "<style scoped>\n",
       "    .dataframe tbody tr th:only-of-type {\n",
       "        vertical-align: middle;\n",
       "    }\n",
       "\n",
       "    .dataframe tbody tr th {\n",
       "        vertical-align: top;\n",
       "    }\n",
       "\n",
       "    .dataframe thead th {\n",
       "        text-align: right;\n",
       "    }\n",
       "</style>\n",
       "<table border=\"1\" class=\"dataframe\">\n",
       "  <thead>\n",
       "    <tr style=\"text-align: right;\">\n",
       "      <th></th>\n",
       "      <th>userid</th>\n",
       "      <th>score</th>\n",
       "      <th>city</th>\n",
       "      <th>gender</th>\n",
       "      <th>age</th>\n",
       "      <th>objects</th>\n",
       "      <th>balance</th>\n",
       "      <th>products</th>\n",
       "      <th>creditcard</th>\n",
       "      <th>loyalty</th>\n",
       "      <th>estimated_salary</th>\n",
       "      <th>churn</th>\n",
       "      <th>cluster</th>\n",
       "    </tr>\n",
       "  </thead>\n",
       "  <tbody>\n",
       "    <tr>\n",
       "      <td>0</td>\n",
       "      <td>15677338</td>\n",
       "      <td>619</td>\n",
       "      <td>Ярославль</td>\n",
       "      <td>Ж</td>\n",
       "      <td>42</td>\n",
       "      <td>2</td>\n",
       "      <td>0.00</td>\n",
       "      <td>1</td>\n",
       "      <td>1</td>\n",
       "      <td>1</td>\n",
       "      <td>101348.88</td>\n",
       "      <td>1</td>\n",
       "      <td>0</td>\n",
       "    </tr>\n",
       "    <tr>\n",
       "      <td>1</td>\n",
       "      <td>15690047</td>\n",
       "      <td>608</td>\n",
       "      <td>Рыбинск</td>\n",
       "      <td>Ж</td>\n",
       "      <td>41</td>\n",
       "      <td>1</td>\n",
       "      <td>83807.86</td>\n",
       "      <td>1</td>\n",
       "      <td>0</td>\n",
       "      <td>1</td>\n",
       "      <td>112542.58</td>\n",
       "      <td>0</td>\n",
       "      <td>2</td>\n",
       "    </tr>\n",
       "    <tr>\n",
       "      <td>2</td>\n",
       "      <td>15662040</td>\n",
       "      <td>502</td>\n",
       "      <td>Ярославль</td>\n",
       "      <td>Ж</td>\n",
       "      <td>42</td>\n",
       "      <td>8</td>\n",
       "      <td>159660.80</td>\n",
       "      <td>3</td>\n",
       "      <td>1</td>\n",
       "      <td>0</td>\n",
       "      <td>113931.57</td>\n",
       "      <td>1</td>\n",
       "      <td>0</td>\n",
       "    </tr>\n",
       "    <tr>\n",
       "      <td>3</td>\n",
       "      <td>15744090</td>\n",
       "      <td>699</td>\n",
       "      <td>Ярославль</td>\n",
       "      <td>Ж</td>\n",
       "      <td>39</td>\n",
       "      <td>1</td>\n",
       "      <td>0.00</td>\n",
       "      <td>2</td>\n",
       "      <td>0</td>\n",
       "      <td>0</td>\n",
       "      <td>93826.63</td>\n",
       "      <td>0</td>\n",
       "      <td>1</td>\n",
       "    </tr>\n",
       "    <tr>\n",
       "      <td>4</td>\n",
       "      <td>15780624</td>\n",
       "      <td>850</td>\n",
       "      <td>Рыбинск</td>\n",
       "      <td>Ж</td>\n",
       "      <td>43</td>\n",
       "      <td>2</td>\n",
       "      <td>125510.82</td>\n",
       "      <td>1</td>\n",
       "      <td>1</td>\n",
       "      <td>1</td>\n",
       "      <td>79084.10</td>\n",
       "      <td>0</td>\n",
       "      <td>2</td>\n",
       "    </tr>\n",
       "    <tr>\n",
       "      <td>...</td>\n",
       "      <td>...</td>\n",
       "      <td>...</td>\n",
       "      <td>...</td>\n",
       "      <td>...</td>\n",
       "      <td>...</td>\n",
       "      <td>...</td>\n",
       "      <td>...</td>\n",
       "      <td>...</td>\n",
       "      <td>...</td>\n",
       "      <td>...</td>\n",
       "      <td>...</td>\n",
       "      <td>...</td>\n",
       "      <td>...</td>\n",
       "    </tr>\n",
       "    <tr>\n",
       "      <td>9995</td>\n",
       "      <td>15648965</td>\n",
       "      <td>771</td>\n",
       "      <td>Ярославль</td>\n",
       "      <td>М</td>\n",
       "      <td>39</td>\n",
       "      <td>5</td>\n",
       "      <td>0.00</td>\n",
       "      <td>2</td>\n",
       "      <td>1</td>\n",
       "      <td>0</td>\n",
       "      <td>96270.64</td>\n",
       "      <td>0</td>\n",
       "      <td>1</td>\n",
       "    </tr>\n",
       "    <tr>\n",
       "      <td>9996</td>\n",
       "      <td>15612628</td>\n",
       "      <td>516</td>\n",
       "      <td>Ярославль</td>\n",
       "      <td>М</td>\n",
       "      <td>35</td>\n",
       "      <td>10</td>\n",
       "      <td>57369.61</td>\n",
       "      <td>1</td>\n",
       "      <td>1</td>\n",
       "      <td>1</td>\n",
       "      <td>101699.77</td>\n",
       "      <td>0</td>\n",
       "      <td>2</td>\n",
       "    </tr>\n",
       "    <tr>\n",
       "      <td>9997</td>\n",
       "      <td>15627268</td>\n",
       "      <td>709</td>\n",
       "      <td>Ярославль</td>\n",
       "      <td>Ж</td>\n",
       "      <td>36</td>\n",
       "      <td>7</td>\n",
       "      <td>0.00</td>\n",
       "      <td>1</td>\n",
       "      <td>0</td>\n",
       "      <td>1</td>\n",
       "      <td>42085.58</td>\n",
       "      <td>1</td>\n",
       "      <td>0</td>\n",
       "    </tr>\n",
       "    <tr>\n",
       "      <td>9998</td>\n",
       "      <td>15725091</td>\n",
       "      <td>772</td>\n",
       "      <td>Ростов Великий</td>\n",
       "      <td>М</td>\n",
       "      <td>42</td>\n",
       "      <td>3</td>\n",
       "      <td>75075.31</td>\n",
       "      <td>2</td>\n",
       "      <td>1</td>\n",
       "      <td>0</td>\n",
       "      <td>92888.52</td>\n",
       "      <td>1</td>\n",
       "      <td>0</td>\n",
       "    </tr>\n",
       "    <tr>\n",
       "      <td>9999</td>\n",
       "      <td>15671055</td>\n",
       "      <td>792</td>\n",
       "      <td>Ярославль</td>\n",
       "      <td>Ж</td>\n",
       "      <td>28</td>\n",
       "      <td>4</td>\n",
       "      <td>130142.79</td>\n",
       "      <td>1</td>\n",
       "      <td>1</td>\n",
       "      <td>0</td>\n",
       "      <td>38190.78</td>\n",
       "      <td>0</td>\n",
       "      <td>1</td>\n",
       "    </tr>\n",
       "  </tbody>\n",
       "</table>\n",
       "<p>10000 rows × 13 columns</p>\n",
       "</div>"
      ],
      "text/plain": [
       "        userid  score            city gender  age  objects    balance  \\\n",
       "0     15677338    619       Ярославль      Ж   42        2       0.00   \n",
       "1     15690047    608         Рыбинск      Ж   41        1   83807.86   \n",
       "2     15662040    502       Ярославль      Ж   42        8  159660.80   \n",
       "3     15744090    699       Ярославль      Ж   39        1       0.00   \n",
       "4     15780624    850         Рыбинск      Ж   43        2  125510.82   \n",
       "...        ...    ...             ...    ...  ...      ...        ...   \n",
       "9995  15648965    771       Ярославль      М   39        5       0.00   \n",
       "9996  15612628    516       Ярославль      М   35       10   57369.61   \n",
       "9997  15627268    709       Ярославль      Ж   36        7       0.00   \n",
       "9998  15725091    772  Ростов Великий      М   42        3   75075.31   \n",
       "9999  15671055    792       Ярославль      Ж   28        4  130142.79   \n",
       "\n",
       "      products  creditcard  loyalty  estimated_salary  churn  cluster  \n",
       "0            1           1        1         101348.88      1        0  \n",
       "1            1           0        1         112542.58      0        2  \n",
       "2            3           1        0         113931.57      1        0  \n",
       "3            2           0        0          93826.63      0        1  \n",
       "4            1           1        1          79084.10      0        2  \n",
       "...        ...         ...      ...               ...    ...      ...  \n",
       "9995         2           1        0          96270.64      0        1  \n",
       "9996         1           1        1         101699.77      0        2  \n",
       "9997         1           0        1          42085.58      1        0  \n",
       "9998         2           1        0          92888.52      1        0  \n",
       "9999         1           1        0          38190.78      0        1  \n",
       "\n",
       "[10000 rows x 13 columns]"
      ]
     },
     "execution_count": 20,
     "metadata": {},
     "output_type": "execute_result"
    }
   ],
   "source": [
    "df"
   ]
  },
  {
   "cell_type": "code",
   "execution_count": 21,
   "metadata": {},
   "outputs": [
    {
     "data": {
      "text/html": [
       "<div>\n",
       "<style scoped>\n",
       "    .dataframe tbody tr th:only-of-type {\n",
       "        vertical-align: middle;\n",
       "    }\n",
       "\n",
       "    .dataframe tbody tr th {\n",
       "        vertical-align: top;\n",
       "    }\n",
       "\n",
       "    .dataframe thead th {\n",
       "        text-align: right;\n",
       "    }\n",
       "</style>\n",
       "<table border=\"1\" class=\"dataframe\">\n",
       "  <thead>\n",
       "    <tr style=\"text-align: right;\">\n",
       "      <th>cluster</th>\n",
       "      <th>0</th>\n",
       "      <th>1</th>\n",
       "      <th>2</th>\n",
       "    </tr>\n",
       "  </thead>\n",
       "  <tbody>\n",
       "    <tr>\n",
       "      <td>userid</td>\n",
       "      <td>15,732,788.0</td>\n",
       "      <td>15,733,938.3</td>\n",
       "      <td>15,733,876.2</td>\n",
       "    </tr>\n",
       "    <tr>\n",
       "      <td>score</td>\n",
       "      <td>645.4</td>\n",
       "      <td>648.9</td>\n",
       "      <td>654.2</td>\n",
       "    </tr>\n",
       "    <tr>\n",
       "      <td>age</td>\n",
       "      <td>44.8</td>\n",
       "      <td>35.5</td>\n",
       "      <td>39.0</td>\n",
       "    </tr>\n",
       "    <tr>\n",
       "      <td>objects</td>\n",
       "      <td>4.9</td>\n",
       "      <td>5.1</td>\n",
       "      <td>5.0</td>\n",
       "    </tr>\n",
       "    <tr>\n",
       "      <td>balance</td>\n",
       "      <td>91,108.5</td>\n",
       "      <td>72,048.8</td>\n",
       "      <td>73,304.7</td>\n",
       "    </tr>\n",
       "    <tr>\n",
       "      <td>products</td>\n",
       "      <td>1.5</td>\n",
       "      <td>1.6</td>\n",
       "      <td>1.5</td>\n",
       "    </tr>\n",
       "    <tr>\n",
       "      <td>creditcard</td>\n",
       "      <td>0.7</td>\n",
       "      <td>0.7</td>\n",
       "      <td>0.7</td>\n",
       "    </tr>\n",
       "    <tr>\n",
       "      <td>loyalty</td>\n",
       "      <td>0.4</td>\n",
       "      <td>0.0</td>\n",
       "      <td>1.0</td>\n",
       "    </tr>\n",
       "    <tr>\n",
       "      <td>estimated_salary</td>\n",
       "      <td>101,465.7</td>\n",
       "      <td>100,342.6</td>\n",
       "      <td>99,253.1</td>\n",
       "    </tr>\n",
       "    <tr>\n",
       "      <td>churn</td>\n",
       "      <td>1.0</td>\n",
       "      <td>0.0</td>\n",
       "      <td>0.0</td>\n",
       "    </tr>\n",
       "  </tbody>\n",
       "</table>\n",
       "</div>"
      ],
      "text/plain": [
       "cluster                     0            1            2\n",
       "userid           15,732,788.0 15,733,938.3 15,733,876.2\n",
       "score                   645.4        648.9        654.2\n",
       "age                      44.8         35.5         39.0\n",
       "objects                   4.9          5.1          5.0\n",
       "balance              91,108.5     72,048.8     73,304.7\n",
       "products                  1.5          1.6          1.5\n",
       "creditcard                0.7          0.7          0.7\n",
       "loyalty                   0.4          0.0          1.0\n",
       "estimated_salary    101,465.7    100,342.6     99,253.1\n",
       "churn                     1.0          0.0          0.0"
      ]
     },
     "execution_count": 21,
     "metadata": {},
     "output_type": "execute_result"
    }
   ],
   "source": [
    "# выводим статистику по средним значениям наших признаков по кластеру\n",
    "\n",
    "pd.options.display.float_format = '{:,.1f}'.format\n",
    "df.groupby(['cluster']).mean().T"
   ]
  },
  {
   "cell_type": "code",
   "execution_count": 22,
   "metadata": {
    "scrolled": false
   },
   "outputs": [
    {
     "data": {
      "text/html": [
       "<div>\n",
       "<style scoped>\n",
       "    .dataframe tbody tr th:only-of-type {\n",
       "        vertical-align: middle;\n",
       "    }\n",
       "\n",
       "    .dataframe tbody tr th {\n",
       "        vertical-align: top;\n",
       "    }\n",
       "\n",
       "    .dataframe thead th {\n",
       "        text-align: right;\n",
       "    }\n",
       "</style>\n",
       "<table border=\"1\" class=\"dataframe\">\n",
       "  <thead>\n",
       "    <tr style=\"text-align: right;\">\n",
       "      <th>products</th>\n",
       "      <th>1</th>\n",
       "      <th>2</th>\n",
       "      <th>3</th>\n",
       "      <th>4</th>\n",
       "    </tr>\n",
       "  </thead>\n",
       "  <tbody>\n",
       "    <tr>\n",
       "      <td>userid</td>\n",
       "      <td>15,732,367.9</td>\n",
       "      <td>15,734,841.5</td>\n",
       "      <td>15,741,816.5</td>\n",
       "      <td>15,719,361.3</td>\n",
       "    </tr>\n",
       "    <tr>\n",
       "      <td>score</td>\n",
       "      <td>649.1</td>\n",
       "      <td>652.2</td>\n",
       "      <td>648.1</td>\n",
       "      <td>653.6</td>\n",
       "    </tr>\n",
       "    <tr>\n",
       "      <td>age</td>\n",
       "      <td>39.7</td>\n",
       "      <td>37.8</td>\n",
       "      <td>43.2</td>\n",
       "      <td>45.7</td>\n",
       "    </tr>\n",
       "    <tr>\n",
       "      <td>objects</td>\n",
       "      <td>5.0</td>\n",
       "      <td>5.1</td>\n",
       "      <td>5.0</td>\n",
       "      <td>5.3</td>\n",
       "    </tr>\n",
       "    <tr>\n",
       "      <td>balance</td>\n",
       "      <td>98,551.9</td>\n",
       "      <td>51,879.1</td>\n",
       "      <td>75,458.3</td>\n",
       "      <td>93,733.1</td>\n",
       "    </tr>\n",
       "    <tr>\n",
       "      <td>creditcard</td>\n",
       "      <td>0.7</td>\n",
       "      <td>0.7</td>\n",
       "      <td>0.7</td>\n",
       "      <td>0.7</td>\n",
       "    </tr>\n",
       "    <tr>\n",
       "      <td>loyalty</td>\n",
       "      <td>0.5</td>\n",
       "      <td>0.5</td>\n",
       "      <td>0.4</td>\n",
       "      <td>0.5</td>\n",
       "    </tr>\n",
       "    <tr>\n",
       "      <td>estimated_salary</td>\n",
       "      <td>99,487.3</td>\n",
       "      <td>100,452.0</td>\n",
       "      <td>104,318.1</td>\n",
       "      <td>104,763.7</td>\n",
       "    </tr>\n",
       "    <tr>\n",
       "      <td>churn</td>\n",
       "      <td>0.3</td>\n",
       "      <td>0.1</td>\n",
       "      <td>0.8</td>\n",
       "      <td>1.0</td>\n",
       "    </tr>\n",
       "    <tr>\n",
       "      <td>cluster</td>\n",
       "      <td>1.1</td>\n",
       "      <td>1.4</td>\n",
       "      <td>0.3</td>\n",
       "      <td>0.0</td>\n",
       "    </tr>\n",
       "  </tbody>\n",
       "</table>\n",
       "</div>"
      ],
      "text/plain": [
       "products                    1            2            3            4\n",
       "userid           15,732,367.9 15,734,841.5 15,741,816.5 15,719,361.3\n",
       "score                   649.1        652.2        648.1        653.6\n",
       "age                      39.7         37.8         43.2         45.7\n",
       "objects                   5.0          5.1          5.0          5.3\n",
       "balance              98,551.9     51,879.1     75,458.3     93,733.1\n",
       "creditcard                0.7          0.7          0.7          0.7\n",
       "loyalty                   0.5          0.5          0.4          0.5\n",
       "estimated_salary     99,487.3    100,452.0    104,318.1    104,763.7\n",
       "churn                     0.3          0.1          0.8          1.0\n",
       "cluster                   1.1          1.4          0.3          0.0"
      ]
     },
     "execution_count": 22,
     "metadata": {},
     "output_type": "execute_result"
    }
   ],
   "source": [
    "# смотрим средние значения для каждого из продуктов\n",
    "df.groupby(['products']).mean().T"
   ]
  },
  {
   "cell_type": "code",
   "execution_count": 23,
   "metadata": {},
   "outputs": [
    {
     "data": {
      "text/plain": [
       "1    5084\n",
       "2    4590\n",
       "3     266\n",
       "4      60\n",
       "Name: products, dtype: int64"
      ]
     },
     "execution_count": 23,
     "metadata": {},
     "output_type": "execute_result"
    }
   ],
   "source": [
    "# посмотрим на количество людей, которые пользуются различным числом продуктов\n",
    "\n",
    "df['products'].value_counts()"
   ]
  },
  {
   "cell_type": "markdown",
   "metadata": {},
   "source": [
    "### Выводы"
   ]
  },
  {
   "cell_type": "markdown",
   "metadata": {},
   "source": [
    "В итоговой табличке мы видим, что клиенты с одним продуктом попали в основном в первый кластер, с двумя продуктами - во второй, с тремя и четырьмя - в нулевой. Выделяются: возраст - он примерно находится примерно на уровне 45 лет в среднем для владельцев 3-4 продуктов, что выше на 5-10 лет, чем у остальных; лояльность также ниже у владельцев большого количества продуктов; а также показатель оттока - все из нулевого кластера (в основном с 3-4 продуктами) находятся в оттоке."
   ]
  },
  {
   "cell_type": "markdown",
   "metadata": {},
   "source": [
    "## Формулировка и проверка статистических гипотез"
   ]
  },
  {
   "cell_type": "markdown",
   "metadata": {},
   "source": [
    "### Гипотеза о различии дохода между теми клиентами, которые пользуются двумя продуктами банка, и теми, которые пользуются одним"
   ]
  },
  {
   "cell_type": "markdown",
   "metadata": {},
   "source": [
    "Нулевая гипотеза: распределение дохода между теми клиентами, которые пользуются двумя продуктами банка, и теми, которые пользуются одним одинаково. Альтернативная гипотеза: распределение дохода между теми клиентами, которые пользуются двумя продуктами банка, и теми, которые пользуются одним различается. Пороговое значение альфа устанавливаем равным 5%. Критерий для проверки гипотез: u-критерий Манна-Уитни."
   ]
  },
  {
   "cell_type": "code",
   "execution_count": 24,
   "metadata": {},
   "outputs": [
    {
     "name": "stdout",
     "output_type": "stream",
     "text": [
      "Распределение одинаковое (Не удалось отвергнуть нулевую гипотезу)\n"
     ]
    }
   ],
   "source": [
    "# проверяем нулевую гипотезу о равенстве распределения дохода между теми клиентами, \n",
    "# которые пользуются двумя продуктами банка, и теми, которые пользуются одним\n",
    "\n",
    "prod_1_salary = df.query('products == \"1\"')['estimated_salary']\n",
    "prod_2_salary = df.query('products == \"2\"')['estimated_salary']\n",
    "\n",
    "stat, p = mannwhitneyu(prod_1_salary, prod_2_salary)\n",
    "alpha = 0.05\n",
    "if p > alpha:\n",
    "    print('Распределение одинаковое (Не удалось отвергнуть нулевую гипотезу)')\n",
    "else:\n",
    "    print('Распределение различается (Отвергаем нулевую гипотезу)')"
   ]
  },
  {
   "cell_type": "markdown",
   "metadata": {},
   "source": [
    "### Гипотеза о разнице в количестве баллов кредитного скоринга, которые пользуются тремя продуктами банка, и теми, которые пользуются одним"
   ]
  },
  {
   "cell_type": "markdown",
   "metadata": {},
   "source": [
    "Скоринговый балл – это показатель платежеспособности заемщика, выраженный в цифровом формате. Чем больше балл, тем выше вероятность одобрения заявки. Даже с нулевой кредитной историей заемщик будет иметь свой рейтинг. Он будет зависеть от пола, возраста, места работы, должности, наличия собственности и т. д."
   ]
  },
  {
   "cell_type": "markdown",
   "metadata": {},
   "source": [
    "Нулевая гипотеза: средние показатели кредитного скоринга между теми клиентами, которые пользуются двумя продуктами банка, и теми, которые пользуются одним одинаковы. Альтернативная гипотеза: средние показатели кредитного скоринга между теми клиентами, которые пользуются двумя продуктами банка, и теми, которые пользуются одним различаются. Пороговое значение альфа устанавливаем равным 5%. Критерий для проверки гипотез: t-Критерий Стьюдента. Устанавливаем equal_var = False, так как дисперсии выборок нельзя считать равными."
   ]
  },
  {
   "cell_type": "code",
   "execution_count": 25,
   "metadata": {},
   "outputs": [
    {
     "name": "stdout",
     "output_type": "stream",
     "text": [
      "p-value равен 0.8655472062730479\n",
      "Не удалось отвергнуть нулевую гипотезу\n"
     ]
    }
   ],
   "source": [
    "# проверяем нулевую гипотезу о равенстве показателей кредитного скоринга между теми клиентами, \n",
    "# которые пользуются тремя продуктами банка, и теми, которые пользуются одним\n",
    "\n",
    "prod_1_score = df.query('products == \"1\"')['score']\n",
    "prod_3_score = df.query('products == \"3\"')['score']\n",
    "\n",
    "alpha = .05\n",
    "result = st.ttest_ind(prod_1_score, prod_3_score, equal_var = False)\n",
    "print('p-value равен', result.pvalue)\n",
    "if  result.pvalue < alpha:\n",
    "    print('Отвергаем нулевую гипотезу')\n",
    "else:\n",
    "    print('Не удалось отвергнуть нулевую гипотезу')"
   ]
  },
  {
   "cell_type": "markdown",
   "metadata": {},
   "source": [
    "### Выводы"
   ]
  },
  {
   "cell_type": "markdown",
   "metadata": {},
   "source": [
    "По полученным данным были проведены проверки двух гипотез: о равенстве дохода между теми клиентами, которые пользуются двумя продуктами банка, и теми, которые пользуются одним, а также о рвенстве в количестве баллов кредитного скоринга, которые пользуются тремя продуктами банка, и теми, которые пользуются одним. В обоих случаях отвергнуть нулевую гипотезу не удалось."
   ]
  },
  {
   "cell_type": "markdown",
   "metadata": {},
   "source": [
    "## Выводы и рекомендации"
   ]
  },
  {
   "cell_type": "markdown",
   "metadata": {},
   "source": [
    "Были выявлены несколько определяющих признаков при разделении на четыре группы (по количеству продуктов у клиента):\n",
    "- возраст (больше у владельцев бОльшего числа продуктов);\n",
    "- лояльность (ниже у владельцев бОльшего числа продуктов);\n",
    "- отток (выше у владельцев бОльшего числа продуктов);\n",
    "- пол (в основном, женщины среди владельцев четырех продуктов).\n",
    "\n",
    "По проверенным гипотезам о равенстве дохода между теми клиентами, которые пользуются двумя продуктами банка, и теми, которые пользуются одним, а также о рвенстве в количестве баллов кредитного скоринга, которые пользуются тремя продуктами банка, и теми, которые пользуются одним, ни одну из гипотез отвергнуть не удалось.\n",
    "\n",
    "На основании проведенного анализа и сегментации пользователей можно сделать следующие рекомендации:\n",
    "- поддерживать клиентов из 1 и 2 кластера, то есть тех, которые меньше стремятся к оттоку - это владельцы одного-двух продуктов;\n",
    "- для привлечения новых клиентов сосредоточиться на таких, которые будут соответствовать портрету вышеуказанных кластеров (возраст ближе к 35 годам, мужчины),\n",
    "- создать и развить маркетинговую стратегию для удержания в дальнейшем клиентов-владельцев трех-четырех продуктов, так как их общие показатели (баллы кредитного скоринга, заработная плата, баланс) не ниже, чем у других групп, НО данная рекомендация жизнеспособна только в том случае, если LTV соответствующих групп не ниже необходимого, так как само по себе количество клиентов в этих группах достаточно мало."
   ]
  }
 ],
 "metadata": {
  "ExecuteTimeLog": [
   {
    "duration": 2299,
    "start_time": "2021-06-28T16:21:21.804Z"
   },
   {
    "duration": 2148,
    "start_time": "2021-06-28T16:22:26.069Z"
   },
   {
    "duration": 30,
    "start_time": "2021-06-28T16:24:17.316Z"
   },
   {
    "duration": 37,
    "start_time": "2021-06-28T16:24:23.507Z"
   },
   {
    "duration": 17,
    "start_time": "2021-06-28T17:34:13.381Z"
   },
   {
    "duration": 13,
    "start_time": "2021-06-28T17:34:41.274Z"
   },
   {
    "duration": 5,
    "start_time": "2021-06-28T17:38:37.968Z"
   },
   {
    "duration": 10,
    "start_time": "2021-06-28T17:38:57.639Z"
   },
   {
    "duration": 15,
    "start_time": "2021-06-28T17:39:21.895Z"
   },
   {
    "duration": 55,
    "start_time": "2021-06-28T17:40:40.613Z"
   },
   {
    "duration": 579,
    "start_time": "2021-06-28T17:42:48.562Z"
   },
   {
    "duration": 21,
    "start_time": "2021-06-28T17:42:56.737Z"
   },
   {
    "duration": 1935,
    "start_time": "2021-06-28T17:48:09.602Z"
   },
   {
    "duration": 37,
    "start_time": "2021-06-28T17:48:11.540Z"
   },
   {
    "duration": 12,
    "start_time": "2021-06-28T17:48:11.580Z"
   },
   {
    "duration": 30,
    "start_time": "2021-06-28T17:48:11.594Z"
   },
   {
    "duration": 4,
    "start_time": "2021-06-28T17:48:11.626Z"
   },
   {
    "duration": 14,
    "start_time": "2021-06-28T17:48:11.633Z"
   },
   {
    "duration": 38,
    "start_time": "2021-06-28T17:48:11.650Z"
   },
   {
    "duration": 35,
    "start_time": "2021-06-28T17:48:11.691Z"
   },
   {
    "duration": 56,
    "start_time": "2021-06-28T17:48:11.729Z"
   },
   {
    "duration": 42,
    "start_time": "2021-06-28T17:48:11.787Z"
   },
   {
    "duration": 471,
    "start_time": "2021-06-28T17:48:11.832Z"
   },
   {
    "duration": 1723,
    "start_time": "2021-06-28T17:49:28.618Z"
   },
   {
    "duration": 2761,
    "start_time": "2021-06-28T17:50:42.123Z"
   },
   {
    "duration": 278,
    "start_time": "2021-06-28T17:55:27.609Z"
   },
   {
    "duration": 6733,
    "start_time": "2021-06-28T17:55:59.191Z"
   },
   {
    "duration": 32,
    "start_time": "2021-06-28T17:56:05.927Z"
   },
   {
    "duration": 11,
    "start_time": "2021-06-28T17:56:05.963Z"
   },
   {
    "duration": 20,
    "start_time": "2021-06-28T17:56:05.977Z"
   },
   {
    "duration": 26,
    "start_time": "2021-06-28T17:56:06.000Z"
   },
   {
    "duration": 14,
    "start_time": "2021-06-28T17:56:06.028Z"
   },
   {
    "duration": 31,
    "start_time": "2021-06-28T17:56:06.045Z"
   },
   {
    "duration": 48,
    "start_time": "2021-06-28T17:56:06.079Z"
   },
   {
    "duration": 57,
    "start_time": "2021-06-28T17:56:06.131Z"
   },
   {
    "duration": 47,
    "start_time": "2021-06-28T17:56:06.191Z"
   },
   {
    "duration": 3341,
    "start_time": "2021-06-28T17:56:06.240Z"
   },
   {
    "duration": 1254,
    "start_time": "2021-06-28T17:56:09.583Z"
   },
   {
    "duration": 1933,
    "start_time": "2021-06-28T17:57:27.228Z"
   },
   {
    "duration": 32,
    "start_time": "2021-06-28T17:57:29.164Z"
   },
   {
    "duration": 11,
    "start_time": "2021-06-28T17:57:29.199Z"
   },
   {
    "duration": 31,
    "start_time": "2021-06-28T17:57:29.213Z"
   },
   {
    "duration": 28,
    "start_time": "2021-06-28T17:57:29.247Z"
   },
   {
    "duration": 20,
    "start_time": "2021-06-28T17:57:29.278Z"
   },
   {
    "duration": 37,
    "start_time": "2021-06-28T17:57:29.301Z"
   },
   {
    "duration": 15,
    "start_time": "2021-06-28T17:57:29.342Z"
   },
   {
    "duration": 81,
    "start_time": "2021-06-28T17:57:29.360Z"
   },
   {
    "duration": 21,
    "start_time": "2021-06-28T17:57:29.444Z"
   },
   {
    "duration": 3511,
    "start_time": "2021-06-28T17:57:29.467Z"
   },
   {
    "duration": 3,
    "start_time": "2021-06-28T17:57:32.980Z"
   },
   {
    "duration": 2015,
    "start_time": "2021-06-28T17:58:17.104Z"
   },
   {
    "duration": 32,
    "start_time": "2021-06-28T17:58:19.122Z"
   },
   {
    "duration": 11,
    "start_time": "2021-06-28T17:58:19.157Z"
   },
   {
    "duration": 21,
    "start_time": "2021-06-28T17:58:19.171Z"
   },
   {
    "duration": 29,
    "start_time": "2021-06-28T17:58:19.195Z"
   },
   {
    "duration": 14,
    "start_time": "2021-06-28T17:58:19.227Z"
   },
   {
    "duration": 35,
    "start_time": "2021-06-28T17:58:19.243Z"
   },
   {
    "duration": 16,
    "start_time": "2021-06-28T17:58:19.282Z"
   },
   {
    "duration": 79,
    "start_time": "2021-06-28T17:58:19.300Z"
   },
   {
    "duration": 47,
    "start_time": "2021-06-28T17:58:19.381Z"
   },
   {
    "duration": 3109,
    "start_time": "2021-06-28T17:58:19.430Z"
   },
   {
    "duration": 3,
    "start_time": "2021-06-28T17:58:22.541Z"
   },
   {
    "duration": 464,
    "start_time": "2021-06-28T17:58:22.546Z"
   },
   {
    "duration": 10,
    "start_time": "2021-06-28T18:00:08.670Z"
   },
   {
    "duration": 9,
    "start_time": "2021-06-28T18:00:16.876Z"
   },
   {
    "duration": 1969,
    "start_time": "2021-06-28T18:00:37.630Z"
   },
   {
    "duration": 32,
    "start_time": "2021-06-28T18:00:39.602Z"
   },
   {
    "duration": 14,
    "start_time": "2021-06-28T18:00:39.638Z"
   },
   {
    "duration": 23,
    "start_time": "2021-06-28T18:00:39.657Z"
   },
   {
    "duration": 4,
    "start_time": "2021-06-28T18:00:39.683Z"
   },
   {
    "duration": 11,
    "start_time": "2021-06-28T18:00:39.725Z"
   },
   {
    "duration": 32,
    "start_time": "2021-06-28T18:00:39.739Z"
   },
   {
    "duration": 54,
    "start_time": "2021-06-28T18:00:39.774Z"
   },
   {
    "duration": 58,
    "start_time": "2021-06-28T18:00:39.833Z"
   },
   {
    "duration": 48,
    "start_time": "2021-06-28T18:00:39.894Z"
   },
   {
    "duration": 3260,
    "start_time": "2021-06-28T18:00:39.945Z"
   },
   {
    "duration": 2,
    "start_time": "2021-06-28T18:00:43.208Z"
   },
   {
    "duration": 9,
    "start_time": "2021-06-28T18:00:43.224Z"
   },
   {
    "duration": 610,
    "start_time": "2021-06-28T18:00:43.236Z"
   },
   {
    "duration": 7,
    "start_time": "2021-06-28T18:01:45.253Z"
   },
   {
    "duration": 16,
    "start_time": "2021-06-28T18:01:46.861Z"
   },
   {
    "duration": 59,
    "start_time": "2021-06-28T18:01:48.910Z"
   },
   {
    "duration": 23,
    "start_time": "2021-06-28T18:01:50.194Z"
   },
   {
    "duration": 3198,
    "start_time": "2021-06-28T18:01:52.774Z"
   },
   {
    "duration": 3,
    "start_time": "2021-06-28T18:01:55.975Z"
   },
   {
    "duration": 14,
    "start_time": "2021-06-28T18:01:55.981Z"
   },
   {
    "duration": 606,
    "start_time": "2021-06-28T18:03:24.191Z"
   },
   {
    "duration": 1451,
    "start_time": "2021-06-28T18:03:33.887Z"
   },
   {
    "duration": 1481,
    "start_time": "2021-06-28T18:03:49.341Z"
   },
   {
    "duration": 6582,
    "start_time": "2021-06-28T18:07:55.743Z"
   },
   {
    "duration": 30,
    "start_time": "2021-06-28T18:08:02.328Z"
   },
   {
    "duration": 13,
    "start_time": "2021-06-28T18:08:02.361Z"
   },
   {
    "duration": 21,
    "start_time": "2021-06-28T18:08:02.377Z"
   },
   {
    "duration": 17,
    "start_time": "2021-06-28T18:08:02.401Z"
   },
   {
    "duration": 24,
    "start_time": "2021-06-28T18:08:02.420Z"
   },
   {
    "duration": 15,
    "start_time": "2021-06-28T18:08:02.447Z"
   },
   {
    "duration": 38,
    "start_time": "2021-06-28T18:08:02.465Z"
   },
   {
    "duration": 69,
    "start_time": "2021-06-28T18:08:02.507Z"
   },
   {
    "duration": 22,
    "start_time": "2021-06-28T18:08:02.579Z"
   },
   {
    "duration": 3285,
    "start_time": "2021-06-28T18:08:02.603Z"
   },
   {
    "duration": 12,
    "start_time": "2021-06-28T18:08:05.897Z"
   },
   {
    "duration": 39,
    "start_time": "2021-06-28T18:08:05.912Z"
   },
   {
    "duration": 1597,
    "start_time": "2021-06-28T18:08:05.966Z"
   },
   {
    "duration": 3253,
    "start_time": "2021-06-28T18:12:15.671Z"
   },
   {
    "duration": 3056,
    "start_time": "2021-06-28T18:13:16.028Z"
   },
   {
    "duration": 1391,
    "start_time": "2021-06-28T18:13:55.595Z"
   },
   {
    "duration": 5809,
    "start_time": "2021-06-28T18:16:12.552Z"
   },
   {
    "duration": 884,
    "start_time": "2021-06-28T18:16:18.364Z"
   },
   {
    "duration": 12,
    "start_time": "2021-06-28T18:16:19.251Z"
   },
   {
    "duration": 37,
    "start_time": "2021-06-28T18:16:19.266Z"
   },
   {
    "duration": 19,
    "start_time": "2021-06-28T18:16:19.305Z"
   },
   {
    "duration": 28,
    "start_time": "2021-06-28T18:16:19.326Z"
   },
   {
    "duration": 16,
    "start_time": "2021-06-28T18:16:19.357Z"
   },
   {
    "duration": 21,
    "start_time": "2021-06-28T18:16:19.375Z"
   },
   {
    "duration": 62,
    "start_time": "2021-06-28T18:16:19.400Z"
   },
   {
    "duration": 24,
    "start_time": "2021-06-28T18:16:19.464Z"
   },
   {
    "duration": 3154,
    "start_time": "2021-06-28T18:16:19.490Z"
   },
   {
    "duration": 1488,
    "start_time": "2021-06-28T18:16:22.646Z"
   },
   {
    "duration": 1200,
    "start_time": "2021-06-28T18:16:24.136Z"
   },
   {
    "duration": 11,
    "start_time": "2021-06-28T18:20:41.819Z"
   },
   {
    "duration": 465,
    "start_time": "2021-06-28T18:21:37.961Z"
   },
   {
    "duration": 281,
    "start_time": "2021-06-28T18:22:43.483Z"
   },
   {
    "duration": 10,
    "start_time": "2021-06-28T18:22:56.775Z"
   },
   {
    "duration": 1340,
    "start_time": "2021-06-28T18:22:59.940Z"
   },
   {
    "duration": 5116,
    "start_time": "2021-06-28T18:25:25.186Z"
   },
   {
    "duration": 31,
    "start_time": "2021-06-28T18:25:30.305Z"
   },
   {
    "duration": 12,
    "start_time": "2021-06-28T18:25:30.339Z"
   },
   {
    "duration": 35,
    "start_time": "2021-06-28T18:25:30.354Z"
   },
   {
    "duration": 9,
    "start_time": "2021-06-28T18:25:30.392Z"
   },
   {
    "duration": 34,
    "start_time": "2021-06-28T18:25:30.403Z"
   },
   {
    "duration": 24,
    "start_time": "2021-06-28T18:25:30.439Z"
   },
   {
    "duration": 22,
    "start_time": "2021-06-28T18:25:30.466Z"
   },
   {
    "duration": 63,
    "start_time": "2021-06-28T18:25:30.492Z"
   },
   {
    "duration": 21,
    "start_time": "2021-06-28T18:25:30.558Z"
   },
   {
    "duration": 3106,
    "start_time": "2021-06-28T18:25:30.582Z"
   },
   {
    "duration": 1487,
    "start_time": "2021-06-28T18:25:33.690Z"
   },
   {
    "duration": 1295,
    "start_time": "2021-06-28T18:25:35.179Z"
   },
   {
    "duration": 11,
    "start_time": "2021-06-28T18:25:36.477Z"
   },
   {
    "duration": 5794,
    "start_time": "2021-06-28T18:25:36.490Z"
   },
   {
    "duration": 14,
    "start_time": "2021-06-28T18:31:28.738Z"
   },
   {
    "duration": 6035,
    "start_time": "2021-06-28T18:31:32.058Z"
   },
   {
    "duration": 343706,
    "start_time": "2021-06-28T18:32:05.309Z"
   },
   {
    "duration": 1982,
    "start_time": "2021-06-28T18:38:43.509Z"
   },
   {
    "duration": 31,
    "start_time": "2021-06-28T18:38:45.494Z"
   },
   {
    "duration": 11,
    "start_time": "2021-06-28T18:38:45.528Z"
   },
   {
    "duration": 23,
    "start_time": "2021-06-28T18:38:45.542Z"
   },
   {
    "duration": 16,
    "start_time": "2021-06-28T18:38:45.567Z"
   },
   {
    "duration": 11,
    "start_time": "2021-06-28T18:38:45.585Z"
   },
   {
    "duration": 29,
    "start_time": "2021-06-28T18:38:45.599Z"
   },
   {
    "duration": 23,
    "start_time": "2021-06-28T18:38:45.630Z"
   },
   {
    "duration": 78,
    "start_time": "2021-06-28T18:38:45.656Z"
   },
   {
    "duration": 22,
    "start_time": "2021-06-28T18:38:45.737Z"
   },
   {
    "duration": 3200,
    "start_time": "2021-06-28T18:38:45.761Z"
   },
   {
    "duration": 1591,
    "start_time": "2021-06-28T18:38:48.963Z"
   },
   {
    "duration": 1277,
    "start_time": "2021-06-28T18:38:50.557Z"
   },
   {
    "duration": 10,
    "start_time": "2021-06-28T18:38:51.837Z"
   },
   {
    "duration": 5993,
    "start_time": "2021-06-28T18:38:51.849Z"
   },
   {
    "duration": 346584,
    "start_time": "2021-06-28T18:38:57.844Z"
   },
   {
    "duration": 1501,
    "start_time": "2021-06-28T18:44:44.431Z"
   },
   {
    "duration": 47,
    "start_time": "2021-06-28T18:47:19.234Z"
   },
   {
    "duration": 20,
    "start_time": "2021-06-28T18:48:38.579Z"
   },
   {
    "duration": 30,
    "start_time": "2021-06-28T18:49:33.846Z"
   },
   {
    "duration": 20,
    "start_time": "2021-06-28T18:50:48.320Z"
   },
   {
    "duration": 19,
    "start_time": "2021-06-28T18:51:51.612Z"
   },
   {
    "duration": 6,
    "start_time": "2021-06-28T18:51:59.371Z"
   },
   {
    "duration": 19,
    "start_time": "2021-06-28T18:52:49.682Z"
   },
   {
    "duration": 17,
    "start_time": "2021-06-28T18:55:58.191Z"
   },
   {
    "duration": 1843,
    "start_time": "2021-06-28T18:56:43.301Z"
   },
   {
    "duration": 27,
    "start_time": "2021-06-28T18:56:45.147Z"
   },
   {
    "duration": 17,
    "start_time": "2021-06-28T18:56:47.195Z"
   },
   {
    "duration": 1875,
    "start_time": "2021-06-28T19:00:41.050Z"
   },
   {
    "duration": 28,
    "start_time": "2021-06-28T19:00:43.776Z"
   },
   {
    "duration": 17,
    "start_time": "2021-06-28T19:00:44.926Z"
   },
   {
    "duration": 19,
    "start_time": "2021-06-28T19:01:42.522Z"
   },
   {
    "duration": 19,
    "start_time": "2021-06-28T19:01:46.494Z"
   },
   {
    "duration": 19,
    "start_time": "2021-06-28T19:03:01.760Z"
   },
   {
    "duration": 20,
    "start_time": "2021-06-28T19:03:33.974Z"
   },
   {
    "duration": 17,
    "start_time": "2021-06-28T19:05:36.003Z"
   },
   {
    "duration": 2206,
    "start_time": "2021-06-28T19:09:45.990Z"
   },
   {
    "duration": 40,
    "start_time": "2021-06-28T19:09:48.199Z"
   },
   {
    "duration": 18,
    "start_time": "2021-06-28T19:09:49.555Z"
   },
   {
    "duration": 21,
    "start_time": "2021-06-28T19:10:02.862Z"
   },
   {
    "duration": 18,
    "start_time": "2021-06-28T19:11:13.776Z"
   },
   {
    "duration": 19,
    "start_time": "2021-06-28T19:11:34.859Z"
   },
   {
    "duration": 21,
    "start_time": "2021-06-28T19:11:53.700Z"
   },
   {
    "duration": 1925,
    "start_time": "2021-06-28T19:20:42.371Z"
   },
   {
    "duration": 881,
    "start_time": "2021-06-28T19:20:56.219Z"
   },
   {
    "duration": 1389,
    "start_time": "2021-06-28T19:21:02.970Z"
   },
   {
    "duration": 1333,
    "start_time": "2021-06-28T19:22:12.452Z"
   },
   {
    "duration": 1493,
    "start_time": "2021-06-28T19:23:23.765Z"
   },
   {
    "duration": 311,
    "start_time": "2021-06-28T19:25:42.173Z"
   },
   {
    "duration": 2033,
    "start_time": "2021-06-28T19:25:47.067Z"
   },
   {
    "duration": 1383,
    "start_time": "2021-06-28T19:26:18.740Z"
   },
   {
    "duration": 1478,
    "start_time": "2021-06-28T19:28:41.926Z"
   },
   {
    "duration": 2027,
    "start_time": "2021-06-28T19:34:31.097Z"
   },
   {
    "duration": 31,
    "start_time": "2021-06-28T19:34:33.127Z"
   },
   {
    "duration": 12,
    "start_time": "2021-06-28T19:34:33.161Z"
   },
   {
    "duration": 21,
    "start_time": "2021-06-28T19:34:33.175Z"
   },
   {
    "duration": 26,
    "start_time": "2021-06-28T19:34:33.198Z"
   },
   {
    "duration": 9,
    "start_time": "2021-06-28T19:34:33.226Z"
   },
   {
    "duration": 11,
    "start_time": "2021-06-28T19:34:33.238Z"
   },
   {
    "duration": 17,
    "start_time": "2021-06-28T19:34:33.252Z"
   },
   {
    "duration": 110,
    "start_time": "2021-06-28T19:34:33.273Z"
   },
   {
    "duration": 47,
    "start_time": "2021-06-28T19:34:33.386Z"
   },
   {
    "duration": 3109,
    "start_time": "2021-06-28T19:34:33.436Z"
   },
   {
    "duration": 1479,
    "start_time": "2021-06-28T19:34:36.548Z"
   },
   {
    "duration": 1217,
    "start_time": "2021-06-28T19:34:38.030Z"
   },
   {
    "duration": 11,
    "start_time": "2021-06-28T19:34:39.250Z"
   },
   {
    "duration": 5940,
    "start_time": "2021-06-28T19:34:39.263Z"
   },
   {
    "duration": 342443,
    "start_time": "2021-06-28T19:34:45.206Z"
   },
   {
    "duration": 2503,
    "start_time": "2021-06-28T19:40:27.651Z"
   },
   {
    "duration": 46,
    "start_time": "2021-06-28T19:40:30.157Z"
   },
   {
    "duration": 44,
    "start_time": "2021-06-28T19:40:30.206Z"
   },
   {
    "duration": 28,
    "start_time": "2021-06-28T19:40:30.253Z"
   },
   {
    "duration": 450,
    "start_time": "2021-06-28T19:49:09.429Z"
   },
   {
    "duration": 6,
    "start_time": "2021-06-28T19:49:44.803Z"
   },
   {
    "duration": 16,
    "start_time": "2021-06-28T19:49:49.518Z"
   },
   {
    "duration": 16,
    "start_time": "2021-06-28T19:50:03.178Z"
   },
   {
    "duration": 15,
    "start_time": "2021-06-28T19:55:07.989Z"
   },
   {
    "duration": 17,
    "start_time": "2021-06-28T20:11:00.646Z"
   },
   {
    "duration": 14,
    "start_time": "2021-06-28T20:12:51.737Z"
   },
   {
    "duration": 276,
    "start_time": "2021-06-28T20:13:08.085Z"
   },
   {
    "duration": 7,
    "start_time": "2021-06-28T20:13:31.069Z"
   },
   {
    "duration": 9,
    "start_time": "2021-06-28T20:13:36.545Z"
   },
   {
    "duration": 8,
    "start_time": "2021-06-28T20:14:51.695Z"
   },
   {
    "duration": 272,
    "start_time": "2021-06-28T20:19:27.226Z"
   },
   {
    "duration": 9,
    "start_time": "2021-06-28T20:19:47.415Z"
   },
   {
    "duration": 10,
    "start_time": "2021-06-28T20:20:18.415Z"
   },
   {
    "duration": 9,
    "start_time": "2021-06-28T20:22:12.680Z"
   },
   {
    "duration": 8,
    "start_time": "2021-06-28T20:25:16.859Z"
   },
   {
    "duration": 290,
    "start_time": "2021-06-28T20:26:46.795Z"
   },
   {
    "duration": 9,
    "start_time": "2021-06-28T20:26:53.180Z"
   },
   {
    "duration": 2038,
    "start_time": "2021-06-28T20:30:31.733Z"
   },
   {
    "duration": 32,
    "start_time": "2021-06-28T20:30:33.774Z"
   },
   {
    "duration": 17,
    "start_time": "2021-06-28T20:30:33.809Z"
   },
   {
    "duration": 20,
    "start_time": "2021-06-28T20:30:33.829Z"
   },
   {
    "duration": 8,
    "start_time": "2021-06-28T20:30:33.852Z"
   },
   {
    "duration": 23,
    "start_time": "2021-06-28T20:30:33.862Z"
   },
   {
    "duration": 7,
    "start_time": "2021-06-28T20:30:33.887Z"
   },
   {
    "duration": 42,
    "start_time": "2021-06-28T20:30:33.897Z"
   },
   {
    "duration": 56,
    "start_time": "2021-06-28T20:30:33.943Z"
   },
   {
    "duration": 42,
    "start_time": "2021-06-28T20:30:34.002Z"
   },
   {
    "duration": 3195,
    "start_time": "2021-06-28T20:30:34.047Z"
   },
   {
    "duration": 1510,
    "start_time": "2021-06-28T20:30:37.245Z"
   },
   {
    "duration": 1343,
    "start_time": "2021-06-28T20:30:38.757Z"
   },
   {
    "duration": 21,
    "start_time": "2021-06-28T20:30:40.103Z"
   },
   {
    "duration": 6023,
    "start_time": "2021-06-28T20:30:40.126Z"
   },
   {
    "duration": 335152,
    "start_time": "2021-06-28T20:30:46.151Z"
   },
   {
    "duration": 2099,
    "start_time": "2021-06-28T20:36:21.306Z"
   },
   {
    "duration": 38,
    "start_time": "2021-06-28T20:36:23.408Z"
   },
   {
    "duration": 23,
    "start_time": "2021-06-28T20:36:23.450Z"
   },
   {
    "duration": 57,
    "start_time": "2021-06-28T20:36:23.475Z"
   },
   {
    "duration": 12,
    "start_time": "2021-06-28T20:36:23.534Z"
   },
   {
    "duration": 11,
    "start_time": "2021-06-28T20:36:23.549Z"
   },
   {
    "duration": 19,
    "start_time": "2021-06-28T20:36:23.562Z"
   },
   {
    "duration": 3651,
    "start_time": "2021-06-29T14:26:43.798Z"
   },
   {
    "duration": 651,
    "start_time": "2021-06-29T14:26:48.910Z"
   },
   {
    "duration": 28,
    "start_time": "2021-06-29T14:26:58.360Z"
   },
   {
    "duration": 12,
    "start_time": "2021-06-29T14:26:58.904Z"
   },
   {
    "duration": 23,
    "start_time": "2021-06-29T14:27:01.399Z"
   },
   {
    "duration": 4,
    "start_time": "2021-06-29T14:27:02.948Z"
   },
   {
    "duration": 11,
    "start_time": "2021-06-29T14:27:03.489Z"
   },
   {
    "duration": 8,
    "start_time": "2021-06-29T14:27:03.971Z"
   },
   {
    "duration": 21,
    "start_time": "2021-06-29T14:27:04.569Z"
   },
   {
    "duration": 59,
    "start_time": "2021-06-29T14:27:07.853Z"
   },
   {
    "duration": 21,
    "start_time": "2021-06-29T14:27:13.329Z"
   },
   {
    "duration": 305,
    "start_time": "2021-06-29T14:29:54.758Z"
   },
   {
    "duration": 10,
    "start_time": "2021-06-29T14:30:04.204Z"
   },
   {
    "duration": 6102,
    "start_time": "2021-06-29T14:30:04.961Z"
   },
   {
    "duration": 1360,
    "start_time": "2021-06-29T14:30:17.305Z"
   },
   {
    "duration": 28,
    "start_time": "2021-06-29T14:30:19.426Z"
   },
   {
    "duration": 20,
    "start_time": "2021-06-29T14:30:20.939Z"
   },
   {
    "duration": 19,
    "start_time": "2021-06-29T14:30:24.553Z"
   },
   {
    "duration": 16,
    "start_time": "2021-06-29T14:30:54.961Z"
   },
   {
    "duration": 19,
    "start_time": "2021-06-29T14:30:56.365Z"
   },
   {
    "duration": 23,
    "start_time": "2021-06-29T14:32:02.101Z"
   },
   {
    "duration": 23,
    "start_time": "2021-06-29T14:32:08.364Z"
   },
   {
    "duration": 14,
    "start_time": "2021-06-29T15:02:10.835Z"
   },
   {
    "duration": 14,
    "start_time": "2021-06-29T15:02:58.184Z"
   },
   {
    "duration": 2062,
    "start_time": "2021-06-30T17:30:35.819Z"
   },
   {
    "duration": 33,
    "start_time": "2021-06-30T17:30:37.884Z"
   },
   {
    "duration": 13,
    "start_time": "2021-06-30T17:30:37.920Z"
   },
   {
    "duration": 24,
    "start_time": "2021-06-30T17:30:39.255Z"
   },
   {
    "duration": 4,
    "start_time": "2021-06-30T17:30:44.063Z"
   },
   {
    "duration": 10,
    "start_time": "2021-06-30T17:30:46.276Z"
   },
   {
    "duration": 12,
    "start_time": "2021-06-30T17:30:49.824Z"
   },
   {
    "duration": 1168,
    "start_time": "2021-06-30T18:09:29.964Z"
   },
   {
    "duration": 14,
    "start_time": "2021-06-30T18:09:37.017Z"
   },
   {
    "duration": 1313,
    "start_time": "2021-06-30T18:09:38.280Z"
   },
   {
    "duration": 2138,
    "start_time": "2021-06-30T18:09:49.437Z"
   },
   {
    "duration": 39,
    "start_time": "2021-06-30T18:09:51.578Z"
   },
   {
    "duration": 16,
    "start_time": "2021-06-30T18:09:51.620Z"
   },
   {
    "duration": 30,
    "start_time": "2021-06-30T18:09:51.639Z"
   },
   {
    "duration": 4,
    "start_time": "2021-06-30T18:09:51.672Z"
   },
   {
    "duration": 11,
    "start_time": "2021-06-30T18:09:51.702Z"
   },
   {
    "duration": 15,
    "start_time": "2021-06-30T18:09:51.716Z"
   },
   {
    "duration": 7,
    "start_time": "2021-06-30T18:09:51.735Z"
   },
   {
    "duration": 58,
    "start_time": "2021-06-30T18:09:51.745Z"
   },
   {
    "duration": 55,
    "start_time": "2021-06-30T18:09:51.806Z"
   },
   {
    "duration": 49,
    "start_time": "2021-06-30T18:09:51.864Z"
   },
   {
    "duration": 2801,
    "start_time": "2021-06-30T18:09:51.916Z"
   },
   {
    "duration": 1421,
    "start_time": "2021-06-30T18:09:54.720Z"
   },
   {
    "duration": 1336,
    "start_time": "2021-06-30T18:09:56.144Z"
   },
   {
    "duration": 23,
    "start_time": "2021-06-30T18:09:57.482Z"
   },
   {
    "duration": 6041,
    "start_time": "2021-06-30T18:09:57.508Z"
   },
   {
    "duration": 388552,
    "start_time": "2021-06-30T18:10:03.552Z"
   },
   {
    "duration": 1796,
    "start_time": "2021-06-30T18:16:32.107Z"
   },
   {
    "duration": 41,
    "start_time": "2021-06-30T18:16:33.906Z"
   },
   {
    "duration": 50,
    "start_time": "2021-06-30T18:16:33.950Z"
   },
   {
    "duration": 23,
    "start_time": "2021-06-30T18:16:34.004Z"
   },
   {
    "duration": 10,
    "start_time": "2021-06-30T18:16:34.030Z"
   },
   {
    "duration": 55,
    "start_time": "2021-06-30T18:16:34.046Z"
   },
   {
    "duration": 19,
    "start_time": "2021-06-30T18:16:34.104Z"
   },
   {
    "duration": 167,
    "start_time": "2021-06-30T18:19:15.334Z"
   },
   {
    "duration": 18,
    "start_time": "2021-06-30T18:19:44.818Z"
   },
   {
    "duration": 175,
    "start_time": "2021-06-30T18:21:07.328Z"
   },
   {
    "duration": 248,
    "start_time": "2021-06-30T18:22:20.958Z"
   },
   {
    "duration": 171,
    "start_time": "2021-06-30T18:22:45.287Z"
   },
   {
    "duration": 510,
    "start_time": "2021-06-30T18:23:34.997Z"
   },
   {
    "duration": 175,
    "start_time": "2021-06-30T18:24:03.141Z"
   },
   {
    "duration": 18,
    "start_time": "2021-06-30T18:27:42.388Z"
   },
   {
    "duration": 17,
    "start_time": "2021-06-30T18:27:53.059Z"
   },
   {
    "duration": 475,
    "start_time": "2021-06-30T18:58:15.996Z"
   },
   {
    "duration": 1989,
    "start_time": "2021-06-30T19:39:09.248Z"
   },
   {
    "duration": 40,
    "start_time": "2021-06-30T19:39:11.241Z"
   },
   {
    "duration": 20,
    "start_time": "2021-06-30T19:39:11.286Z"
   },
   {
    "duration": 25,
    "start_time": "2021-06-30T19:39:11.310Z"
   },
   {
    "duration": 11,
    "start_time": "2021-06-30T19:39:11.338Z"
   },
   {
    "duration": 47,
    "start_time": "2021-06-30T19:39:11.353Z"
   },
   {
    "duration": 18,
    "start_time": "2021-06-30T19:39:11.404Z"
   },
   {
    "duration": 16,
    "start_time": "2021-06-30T19:39:11.428Z"
   },
   {
    "duration": 40,
    "start_time": "2021-06-30T19:39:11.448Z"
   },
   {
    "duration": 63,
    "start_time": "2021-06-30T19:39:11.491Z"
   },
   {
    "duration": 44,
    "start_time": "2021-06-30T19:39:11.557Z"
   },
   {
    "duration": 2600,
    "start_time": "2021-06-30T19:39:11.604Z"
   },
   {
    "duration": 1424,
    "start_time": "2021-06-30T19:39:14.207Z"
   },
   {
    "duration": 1238,
    "start_time": "2021-06-30T19:39:15.634Z"
   },
   {
    "duration": 27,
    "start_time": "2021-06-30T19:39:16.874Z"
   },
   {
    "duration": 5940,
    "start_time": "2021-06-30T19:39:16.904Z"
   },
   {
    "duration": 367795,
    "start_time": "2021-06-30T19:39:22.847Z"
   },
   {
    "duration": 1666,
    "start_time": "2021-06-30T19:45:30.645Z"
   },
   {
    "duration": 108,
    "start_time": "2021-06-30T19:45:32.314Z"
   },
   {
    "duration": 19,
    "start_time": "2021-06-30T19:45:32.426Z"
   },
   {
    "duration": 210,
    "start_time": "2021-06-30T19:45:32.448Z"
   },
   {
    "duration": 10,
    "start_time": "2021-06-30T19:45:32.661Z"
   },
   {
    "duration": 46,
    "start_time": "2021-06-30T19:45:32.676Z"
   },
   {
    "duration": 15,
    "start_time": "2021-06-30T19:45:32.725Z"
   },
   {
    "duration": 89,
    "start_time": "2021-07-01T16:05:13.989Z"
   },
   {
    "duration": 86,
    "start_time": "2021-07-01T16:09:54.719Z"
   },
   {
    "duration": 1597,
    "start_time": "2021-07-01T16:10:11.129Z"
   },
   {
    "duration": 32,
    "start_time": "2021-07-01T16:10:12.729Z"
   },
   {
    "duration": 15,
    "start_time": "2021-07-01T16:10:14.009Z"
   },
   {
    "duration": 21,
    "start_time": "2021-07-01T16:10:16.428Z"
   },
   {
    "duration": 5,
    "start_time": "2021-07-01T16:10:19.039Z"
   },
   {
    "duration": 10,
    "start_time": "2021-07-01T16:10:19.781Z"
   },
   {
    "duration": 7,
    "start_time": "2021-07-01T16:10:34.099Z"
   },
   {
    "duration": 7,
    "start_time": "2021-07-01T16:10:45.947Z"
   },
   {
    "duration": 88,
    "start_time": "2021-07-01T16:11:34.850Z"
   },
   {
    "duration": 87,
    "start_time": "2021-07-01T16:12:09.471Z"
   },
   {
    "duration": 110,
    "start_time": "2021-07-01T19:23:30.361Z"
   },
   {
    "duration": 117,
    "start_time": "2021-07-01T19:26:12.577Z"
   },
   {
    "duration": 105,
    "start_time": "2021-07-01T19:28:47.165Z"
   },
   {
    "duration": 92,
    "start_time": "2021-07-01T19:28:53.031Z"
   },
   {
    "duration": 112,
    "start_time": "2021-07-01T19:31:33.968Z"
   },
   {
    "duration": 94,
    "start_time": "2021-07-01T19:45:29.966Z"
   },
   {
    "duration": 97,
    "start_time": "2021-07-01T19:55:37.692Z"
   },
   {
    "duration": 2251,
    "start_time": "2021-07-01T20:44:48.767Z"
   },
   {
    "duration": 38,
    "start_time": "2021-07-01T20:44:51.781Z"
   },
   {
    "duration": 12,
    "start_time": "2021-07-01T20:44:53.003Z"
   },
   {
    "duration": 26,
    "start_time": "2021-07-01T20:44:54.011Z"
   },
   {
    "duration": 5,
    "start_time": "2021-07-01T20:44:58.071Z"
   },
   {
    "duration": 9,
    "start_time": "2021-07-01T20:44:59.342Z"
   },
   {
    "duration": 13,
    "start_time": "2021-07-01T20:45:00.260Z"
   },
   {
    "duration": 9,
    "start_time": "2021-07-01T20:45:00.838Z"
   },
   {
    "duration": 17,
    "start_time": "2021-07-01T20:45:01.359Z"
   },
   {
    "duration": 27,
    "start_time": "2021-07-01T20:45:14.376Z"
   },
   {
    "duration": 926,
    "start_time": "2021-07-01T20:45:34.194Z"
   },
   {
    "duration": 20,
    "start_time": "2021-07-01T20:45:36.059Z"
   },
   {
    "duration": 8,
    "start_time": "2021-07-01T20:45:38.375Z"
   },
   {
    "duration": 109,
    "start_time": "2021-07-01T21:06:44.238Z"
   },
   {
    "duration": 12,
    "start_time": "2021-07-01T21:09:57.863Z"
   },
   {
    "duration": 1797,
    "start_time": "2021-07-01T21:10:21.527Z"
   },
   {
    "duration": 93,
    "start_time": "2021-07-01T21:11:29.051Z"
   },
   {
    "duration": 6829,
    "start_time": "2021-07-01T21:13:17.745Z"
   },
   {
    "duration": 114,
    "start_time": "2021-07-02T16:37:26.565Z"
   },
   {
    "duration": 2158,
    "start_time": "2021-07-02T16:38:03.550Z"
   },
   {
    "duration": 29,
    "start_time": "2021-07-02T16:38:05.710Z"
   },
   {
    "duration": 11,
    "start_time": "2021-07-02T16:38:05.742Z"
   },
   {
    "duration": 24,
    "start_time": "2021-07-02T16:38:05.762Z"
   },
   {
    "duration": 7,
    "start_time": "2021-07-02T16:38:05.789Z"
   },
   {
    "duration": 22,
    "start_time": "2021-07-02T16:38:05.799Z"
   },
   {
    "duration": 45,
    "start_time": "2021-07-02T16:38:05.824Z"
   },
   {
    "duration": 9,
    "start_time": "2021-07-02T16:38:05.875Z"
   },
   {
    "duration": 14,
    "start_time": "2021-07-02T16:38:05.887Z"
   },
   {
    "duration": 101,
    "start_time": "2021-07-02T16:38:05.904Z"
   },
   {
    "duration": 21,
    "start_time": "2021-07-02T16:38:06.007Z"
   },
   {
    "duration": 3168,
    "start_time": "2021-07-02T16:38:06.031Z"
   },
   {
    "duration": 647,
    "start_time": "2021-07-02T16:38:09.201Z"
   },
   {
    "duration": 302,
    "start_time": "2021-07-02T16:38:09.548Z"
   },
   {
    "duration": 301,
    "start_time": "2021-07-02T16:38:09.550Z"
   },
   {
    "duration": 300,
    "start_time": "2021-07-02T16:38:09.553Z"
   },
   {
    "duration": 299,
    "start_time": "2021-07-02T16:38:09.555Z"
   },
   {
    "duration": 298,
    "start_time": "2021-07-02T16:38:09.558Z"
   },
   {
    "duration": 297,
    "start_time": "2021-07-02T16:38:09.560Z"
   },
   {
    "duration": 263,
    "start_time": "2021-07-02T16:38:09.595Z"
   },
   {
    "duration": 263,
    "start_time": "2021-07-02T16:38:09.597Z"
   },
   {
    "duration": 262,
    "start_time": "2021-07-02T16:38:09.599Z"
   },
   {
    "duration": 261,
    "start_time": "2021-07-02T16:38:09.601Z"
   },
   {
    "duration": 260,
    "start_time": "2021-07-02T16:38:09.603Z"
   },
   {
    "duration": 260,
    "start_time": "2021-07-02T16:38:09.605Z"
   },
   {
    "duration": 4917,
    "start_time": "2021-07-02T16:38:58.415Z"
   },
   {
    "duration": 32,
    "start_time": "2021-07-02T16:39:05.303Z"
   },
   {
    "duration": 12,
    "start_time": "2021-07-02T16:39:06.504Z"
   },
   {
    "duration": 18,
    "start_time": "2021-07-02T16:39:07.147Z"
   },
   {
    "duration": 5,
    "start_time": "2021-07-02T16:39:09.627Z"
   },
   {
    "duration": 9,
    "start_time": "2021-07-02T16:39:10.778Z"
   },
   {
    "duration": 11,
    "start_time": "2021-07-02T16:39:11.815Z"
   },
   {
    "duration": 7,
    "start_time": "2021-07-02T16:39:19.306Z"
   },
   {
    "duration": 15,
    "start_time": "2021-07-02T16:39:19.844Z"
   },
   {
    "duration": 57,
    "start_time": "2021-07-02T16:39:23.994Z"
   },
   {
    "duration": 22,
    "start_time": "2021-07-02T16:39:25.834Z"
   },
   {
    "duration": 2651,
    "start_time": "2021-07-02T16:39:27.639Z"
   },
   {
    "duration": 395,
    "start_time": "2021-07-02T16:39:30.293Z"
   },
   {
    "duration": 6153,
    "start_time": "2021-07-02T16:40:10.673Z"
   },
   {
    "duration": 37,
    "start_time": "2021-07-02T16:40:16.829Z"
   },
   {
    "duration": 16,
    "start_time": "2021-07-02T16:40:16.870Z"
   },
   {
    "duration": 30,
    "start_time": "2021-07-02T16:40:16.889Z"
   },
   {
    "duration": 5,
    "start_time": "2021-07-02T16:40:16.922Z"
   },
   {
    "duration": 46,
    "start_time": "2021-07-02T16:40:16.929Z"
   },
   {
    "duration": 15,
    "start_time": "2021-07-02T16:40:16.978Z"
   },
   {
    "duration": 8,
    "start_time": "2021-07-02T16:40:16.996Z"
   },
   {
    "duration": 54,
    "start_time": "2021-07-02T16:40:17.012Z"
   },
   {
    "duration": 97,
    "start_time": "2021-07-02T16:40:17.070Z"
   },
   {
    "duration": 30,
    "start_time": "2021-07-02T16:40:17.170Z"
   },
   {
    "duration": 4957,
    "start_time": "2021-07-02T16:40:17.204Z"
   },
   {
    "duration": 3500,
    "start_time": "2021-07-02T16:40:22.165Z"
   },
   {
    "duration": 243,
    "start_time": "2021-07-02T16:40:25.425Z"
   },
   {
    "duration": 243,
    "start_time": "2021-07-02T16:40:25.427Z"
   },
   {
    "duration": 241,
    "start_time": "2021-07-02T16:40:25.430Z"
   },
   {
    "duration": 241,
    "start_time": "2021-07-02T16:40:25.432Z"
   },
   {
    "duration": 240,
    "start_time": "2021-07-02T16:40:25.434Z"
   },
   {
    "duration": 239,
    "start_time": "2021-07-02T16:40:25.436Z"
   },
   {
    "duration": 239,
    "start_time": "2021-07-02T16:40:25.438Z"
   },
   {
    "duration": 237,
    "start_time": "2021-07-02T16:40:25.441Z"
   },
   {
    "duration": 237,
    "start_time": "2021-07-02T16:40:25.443Z"
   },
   {
    "duration": 236,
    "start_time": "2021-07-02T16:40:25.445Z"
   },
   {
    "duration": 235,
    "start_time": "2021-07-02T16:40:25.448Z"
   },
   {
    "duration": 234,
    "start_time": "2021-07-02T16:40:25.450Z"
   },
   {
    "duration": 18357,
    "start_time": "2021-07-02T16:42:39.634Z"
   },
   {
    "duration": 18323,
    "start_time": "2021-07-02T16:44:59.139Z"
   },
   {
    "duration": 5953,
    "start_time": "2021-07-02T16:47:49.264Z"
   },
   {
    "duration": 38,
    "start_time": "2021-07-02T16:47:55.220Z"
   },
   {
    "duration": 17,
    "start_time": "2021-07-02T16:47:55.264Z"
   },
   {
    "duration": 30,
    "start_time": "2021-07-02T16:47:55.284Z"
   },
   {
    "duration": 5,
    "start_time": "2021-07-02T16:47:55.318Z"
   },
   {
    "duration": 44,
    "start_time": "2021-07-02T16:47:55.326Z"
   },
   {
    "duration": 17,
    "start_time": "2021-07-02T16:47:55.373Z"
   },
   {
    "duration": 7,
    "start_time": "2021-07-02T16:47:55.393Z"
   },
   {
    "duration": 15,
    "start_time": "2021-07-02T16:47:55.405Z"
   },
   {
    "duration": 95,
    "start_time": "2021-07-02T16:47:55.423Z"
   },
   {
    "duration": 41,
    "start_time": "2021-07-02T16:47:55.521Z"
   },
   {
    "duration": 3,
    "start_time": "2021-07-02T16:47:55.565Z"
   },
   {
    "duration": 15527,
    "start_time": "2021-07-02T16:47:55.570Z"
   },
   {
    "duration": 1613,
    "start_time": "2021-07-02T16:48:11.099Z"
   },
   {
    "duration": 1369,
    "start_time": "2021-07-02T16:48:12.714Z"
   },
   {
    "duration": 14,
    "start_time": "2021-07-02T16:48:14.086Z"
   },
   {
    "duration": 8786,
    "start_time": "2021-07-02T16:48:14.103Z"
   },
   {
    "duration": 5577,
    "start_time": "2021-07-02T16:48:58.810Z"
   },
   {
    "duration": 29,
    "start_time": "2021-07-02T16:49:04.390Z"
   },
   {
    "duration": 12,
    "start_time": "2021-07-02T16:49:04.422Z"
   },
   {
    "duration": 37,
    "start_time": "2021-07-02T16:49:04.437Z"
   },
   {
    "duration": 4,
    "start_time": "2021-07-02T16:49:04.476Z"
   },
   {
    "duration": 20,
    "start_time": "2021-07-02T16:49:04.482Z"
   },
   {
    "duration": 12,
    "start_time": "2021-07-02T16:49:04.505Z"
   },
   {
    "duration": 41,
    "start_time": "2021-07-02T16:49:04.521Z"
   },
   {
    "duration": 16,
    "start_time": "2021-07-02T16:49:04.565Z"
   },
   {
    "duration": 85,
    "start_time": "2021-07-02T16:49:04.583Z"
   },
   {
    "duration": 22,
    "start_time": "2021-07-02T16:49:04.670Z"
   },
   {
    "duration": 19,
    "start_time": "2021-07-02T16:49:04.694Z"
   },
   {
    "duration": 16529,
    "start_time": "2021-07-02T16:49:04.715Z"
   },
   {
    "duration": 1794,
    "start_time": "2021-07-02T16:49:21.246Z"
   },
   {
    "duration": 1386,
    "start_time": "2021-07-02T16:49:23.042Z"
   },
   {
    "duration": 11,
    "start_time": "2021-07-02T16:49:24.430Z"
   },
   {
    "duration": 8975,
    "start_time": "2021-07-02T16:49:24.444Z"
   },
   {
    "duration": 387802,
    "start_time": "2021-07-02T16:49:33.422Z"
   },
   {
    "duration": 1437,
    "start_time": "2021-07-02T16:56:01.226Z"
   },
   {
    "duration": 117,
    "start_time": "2021-07-02T16:56:02.665Z"
   },
   {
    "duration": 16,
    "start_time": "2021-07-02T16:56:02.784Z"
   },
   {
    "duration": 18,
    "start_time": "2021-07-02T16:56:02.803Z"
   },
   {
    "duration": 42,
    "start_time": "2021-07-02T16:56:02.826Z"
   },
   {
    "duration": 19,
    "start_time": "2021-07-02T16:56:02.870Z"
   },
   {
    "duration": 17,
    "start_time": "2021-07-02T16:56:02.891Z"
   },
   {
    "duration": 24125,
    "start_time": "2021-07-02T17:14:41.679Z"
   },
   {
    "duration": 22281,
    "start_time": "2021-07-02T17:15:18.742Z"
   },
   {
    "duration": 5425,
    "start_time": "2021-07-02T17:21:13.164Z"
   },
   {
    "duration": 28,
    "start_time": "2021-07-02T17:21:18.592Z"
   },
   {
    "duration": 11,
    "start_time": "2021-07-02T17:21:18.623Z"
   },
   {
    "duration": 34,
    "start_time": "2021-07-02T17:21:18.637Z"
   },
   {
    "duration": 5,
    "start_time": "2021-07-02T17:21:18.674Z"
   },
   {
    "duration": 15,
    "start_time": "2021-07-02T17:21:18.682Z"
   },
   {
    "duration": 13,
    "start_time": "2021-07-02T17:21:18.700Z"
   },
   {
    "duration": 7,
    "start_time": "2021-07-02T17:21:18.715Z"
   },
   {
    "duration": 16,
    "start_time": "2021-07-02T17:21:18.764Z"
   },
   {
    "duration": 80,
    "start_time": "2021-07-02T17:21:18.783Z"
   },
   {
    "duration": 23,
    "start_time": "2021-07-02T17:21:18.866Z"
   },
   {
    "duration": 3,
    "start_time": "2021-07-02T17:21:18.892Z"
   },
   {
    "duration": 17055,
    "start_time": "2021-07-02T17:21:18.897Z"
   },
   {
    "duration": 1652,
    "start_time": "2021-07-02T17:21:35.961Z"
   },
   {
    "duration": 1374,
    "start_time": "2021-07-02T17:21:37.616Z"
   },
   {
    "duration": 10,
    "start_time": "2021-07-02T17:21:38.992Z"
   },
   {
    "duration": 6226,
    "start_time": "2021-07-02T17:21:39.004Z"
   },
   {
    "duration": 5625,
    "start_time": "2021-07-02T17:27:24.299Z"
   },
   {
    "duration": 38,
    "start_time": "2021-07-02T17:27:29.927Z"
   },
   {
    "duration": 15,
    "start_time": "2021-07-02T17:27:29.969Z"
   },
   {
    "duration": 35,
    "start_time": "2021-07-02T17:27:29.987Z"
   },
   {
    "duration": 10,
    "start_time": "2021-07-02T17:27:30.025Z"
   },
   {
    "duration": 27,
    "start_time": "2021-07-02T17:27:30.037Z"
   },
   {
    "duration": 26,
    "start_time": "2021-07-02T17:27:30.067Z"
   },
   {
    "duration": 17,
    "start_time": "2021-07-02T17:27:30.097Z"
   },
   {
    "duration": 21,
    "start_time": "2021-07-02T17:27:30.117Z"
   },
   {
    "duration": 71,
    "start_time": "2021-07-02T17:27:30.140Z"
   },
   {
    "duration": 22,
    "start_time": "2021-07-02T17:27:30.214Z"
   },
   {
    "duration": 23,
    "start_time": "2021-07-02T17:27:30.239Z"
   },
   {
    "duration": 16516,
    "start_time": "2021-07-02T17:27:30.265Z"
   },
   {
    "duration": 15,
    "start_time": "2021-07-02T17:27:46.769Z"
   },
   {
    "duration": 14,
    "start_time": "2021-07-02T17:27:46.771Z"
   },
   {
    "duration": 13,
    "start_time": "2021-07-02T17:27:46.774Z"
   },
   {
    "duration": 12,
    "start_time": "2021-07-02T17:27:46.776Z"
   },
   {
    "duration": 11,
    "start_time": "2021-07-02T17:27:46.778Z"
   },
   {
    "duration": 10,
    "start_time": "2021-07-02T17:27:46.781Z"
   },
   {
    "duration": 10,
    "start_time": "2021-07-02T17:27:46.783Z"
   },
   {
    "duration": 10,
    "start_time": "2021-07-02T17:27:46.785Z"
   },
   {
    "duration": 9,
    "start_time": "2021-07-02T17:27:46.787Z"
   },
   {
    "duration": 9,
    "start_time": "2021-07-02T17:27:46.789Z"
   },
   {
    "duration": 8,
    "start_time": "2021-07-02T17:27:46.792Z"
   },
   {
    "duration": 8,
    "start_time": "2021-07-02T17:27:46.794Z"
   },
   {
    "duration": 5644,
    "start_time": "2021-07-02T17:28:27.645Z"
   },
   {
    "duration": 73,
    "start_time": "2021-07-02T17:28:33.293Z"
   },
   {
    "duration": 12,
    "start_time": "2021-07-02T17:28:33.369Z"
   },
   {
    "duration": 22,
    "start_time": "2021-07-02T17:28:33.384Z"
   },
   {
    "duration": 5,
    "start_time": "2021-07-02T17:28:33.409Z"
   },
   {
    "duration": 11,
    "start_time": "2021-07-02T17:28:33.417Z"
   },
   {
    "duration": 12,
    "start_time": "2021-07-02T17:28:33.431Z"
   },
   {
    "duration": 19,
    "start_time": "2021-07-02T17:28:33.447Z"
   },
   {
    "duration": 18,
    "start_time": "2021-07-02T17:28:33.469Z"
   },
   {
    "duration": 58,
    "start_time": "2021-07-02T17:28:33.490Z"
   },
   {
    "duration": 32,
    "start_time": "2021-07-02T17:28:33.551Z"
   },
   {
    "duration": 16,
    "start_time": "2021-07-02T17:28:33.585Z"
   },
   {
    "duration": 17624,
    "start_time": "2021-07-02T17:28:33.603Z"
   },
   {
    "duration": 1770,
    "start_time": "2021-07-02T17:28:51.229Z"
   },
   {
    "duration": 1380,
    "start_time": "2021-07-02T17:28:53.001Z"
   },
   {
    "duration": 11,
    "start_time": "2021-07-02T17:28:54.383Z"
   },
   {
    "duration": 6124,
    "start_time": "2021-07-02T17:28:54.397Z"
   },
   {
    "duration": 7105,
    "start_time": "2021-07-03T15:33:01.782Z"
   },
   {
    "duration": 28,
    "start_time": "2021-07-03T15:33:08.891Z"
   },
   {
    "duration": 13,
    "start_time": "2021-07-03T15:33:08.922Z"
   },
   {
    "duration": 42,
    "start_time": "2021-07-03T15:33:08.938Z"
   },
   {
    "duration": 4,
    "start_time": "2021-07-03T15:33:10.117Z"
   },
   {
    "duration": 9,
    "start_time": "2021-07-03T15:33:12.313Z"
   },
   {
    "duration": 11,
    "start_time": "2021-07-03T15:33:12.920Z"
   },
   {
    "duration": 6,
    "start_time": "2021-07-03T15:33:13.506Z"
   },
   {
    "duration": 18,
    "start_time": "2021-07-03T15:33:14.475Z"
   },
   {
    "duration": 65,
    "start_time": "2021-07-03T15:33:17.135Z"
   },
   {
    "duration": 22,
    "start_time": "2021-07-03T15:33:18.244Z"
   },
   {
    "duration": 3,
    "start_time": "2021-07-03T15:33:20.630Z"
   },
   {
    "duration": 91,
    "start_time": "2021-07-03T15:34:29.878Z"
   },
   {
    "duration": 123,
    "start_time": "2021-07-03T15:36:17.471Z"
   },
   {
    "duration": 12,
    "start_time": "2021-07-03T15:37:10.815Z"
   },
   {
    "duration": 5872,
    "start_time": "2021-07-03T15:37:11.060Z"
   },
   {
    "duration": 369478,
    "start_time": "2021-07-03T15:37:16.934Z"
   },
   {
    "duration": 1261,
    "start_time": "2021-07-03T15:43:26.415Z"
   },
   {
    "duration": 107,
    "start_time": "2021-07-03T15:43:27.682Z"
   },
   {
    "duration": 17,
    "start_time": "2021-07-03T15:43:27.791Z"
   },
   {
    "duration": 16,
    "start_time": "2021-07-03T15:43:27.810Z"
   },
   {
    "duration": 43,
    "start_time": "2021-07-03T15:43:27.829Z"
   },
   {
    "duration": 113,
    "start_time": "2021-07-03T15:43:27.876Z"
   },
   {
    "duration": 7082,
    "start_time": "2021-07-03T21:19:50.505Z"
   },
   {
    "duration": 29,
    "start_time": "2021-07-03T21:19:57.590Z"
   },
   {
    "duration": 29,
    "start_time": "2021-07-03T21:19:57.622Z"
   },
   {
    "duration": 25,
    "start_time": "2021-07-03T21:19:57.654Z"
   },
   {
    "duration": 4,
    "start_time": "2021-07-03T21:19:57.682Z"
   },
   {
    "duration": 13,
    "start_time": "2021-07-03T21:19:57.689Z"
   },
   {
    "duration": 18,
    "start_time": "2021-07-03T21:19:57.705Z"
   },
   {
    "duration": 8,
    "start_time": "2021-07-03T21:19:57.727Z"
   },
   {
    "duration": 34,
    "start_time": "2021-07-03T21:19:57.738Z"
   },
   {
    "duration": 58,
    "start_time": "2021-07-03T21:19:57.774Z"
   },
   {
    "duration": 21,
    "start_time": "2021-07-03T21:19:57.834Z"
   },
   {
    "duration": 4,
    "start_time": "2021-07-03T21:19:57.862Z"
   },
   {
    "duration": 25579,
    "start_time": "2021-07-03T21:19:57.868Z"
   },
   {
    "duration": 1651,
    "start_time": "2021-07-03T21:20:23.450Z"
   },
   {
    "duration": 1351,
    "start_time": "2021-07-03T21:20:25.104Z"
   },
   {
    "duration": 10,
    "start_time": "2021-07-03T21:20:26.461Z"
   },
   {
    "duration": 6024,
    "start_time": "2021-07-03T21:20:26.474Z"
   },
   {
    "duration": 371952,
    "start_time": "2021-07-03T21:20:32.501Z"
   },
   {
    "duration": 1803,
    "start_time": "2021-07-03T21:26:44.461Z"
   },
   {
    "duration": 30,
    "start_time": "2021-07-03T21:26:46.266Z"
   },
   {
    "duration": 19,
    "start_time": "2021-07-03T21:26:46.299Z"
   },
   {
    "duration": 59,
    "start_time": "2021-07-03T21:26:46.321Z"
   },
   {
    "duration": 8,
    "start_time": "2021-07-03T21:26:46.386Z"
   },
   {
    "duration": 19,
    "start_time": "2021-07-03T21:26:46.398Z"
   },
   {
    "duration": 17,
    "start_time": "2021-07-03T21:26:46.461Z"
   }
  ],
  "kernelspec": {
   "display_name": "Python 3",
   "language": "python",
   "name": "python3"
  },
  "language_info": {
   "codemirror_mode": {
    "name": "ipython",
    "version": 3
   },
   "file_extension": ".py",
   "mimetype": "text/x-python",
   "name": "python",
   "nbconvert_exporter": "python",
   "pygments_lexer": "ipython3",
   "version": "3.7.8"
  },
  "toc": {
   "base_numbering": 1,
   "nav_menu": {},
   "number_sections": true,
   "sideBar": true,
   "skip_h1_title": true,
   "title_cell": "Содержание",
   "title_sidebar": "Содержание",
   "toc_cell": true,
   "toc_position": {},
   "toc_section_display": true,
   "toc_window_display": true
  }
 },
 "nbformat": 4,
 "nbformat_minor": 2
}
