{
 "cells": [
  {
   "cell_type": "markdown",
   "metadata": {},
   "source": [
    "# Проект SQL"
   ]
  },
  {
   "cell_type": "markdown",
   "metadata": {},
   "source": [
    "# Описание проекта\n",
    "Коронавирус застал мир врасплох, изменив привычный порядок вещей. В свободное время жители городов больше не выходят на улицу, не посещают кафе и торговые центры. Зато стало больше времени для книг. Это заметили стартаперы — и бросились создавать приложения для тех, кто любит читать.\n",
    "\n",
    "Компания решила быть на волне и купила крупный сервис для чтения книг по подписке. Первая задача — проанализировать базу данных.\n",
    "В ней — информация о книгах, издательствах, авторах, а также пользовательские обзоры книг. Эти данные помогут сформулировать ценностное предложение для нового продукта."
   ]
  },
  {
   "cell_type": "markdown",
   "metadata": {},
   "source": [
    "# Техническое задание\n",
    "\n",
    "- Посчитать, сколько книг вышло после 1 января 2000 года;\n",
    "- Для каждой книги посчитать количество обзоров и среднюю оценку;\n",
    "- Определить издательство, которое выпустило наибольшее число книг толще 50 страниц — так мы исключим из анализа брошюры;\n",
    "- Определить автора с самой высокой средней оценкой книг — учитываются только книги с 50 и более оценками;\n",
    "- Посчитать среднее количество обзоров от пользователей, которые поставили больше 50 оценок."
   ]
  },
  {
   "cell_type": "markdown",
   "metadata": {},
   "source": [
    "# Описание данных\n",
    "\n",
    "**Таблица `books`**\n",
    "\n",
    "Содержит данные о книгах:\n",
    "\n",
    "- `book_id` — идентификатор книги;\n",
    "- `author_id` — идентификатор автора;\n",
    "- `title` — название книги;\n",
    "- `num_pages` — количество страниц;\n",
    "- `publication_date` — дата публикации книги;\n",
    "- `publisher_id` — идентификатор издателя.\n",
    "\n",
    "**Таблица `authors`**\n",
    "\n",
    "Содержит данные об авторах:\n",
    "\n",
    "- `author_id` — идентификатор автора;\n",
    "- `author` — имя автора.\n",
    "\n",
    "**Таблица `publishers`**\n",
    "\n",
    "Содержит данные об издательствах:\n",
    "\n",
    "- `publisher_id` — идентификатор издательства;\n",
    "- `publisher` — название издательства;\n",
    "\n",
    "**Таблица `ratings`**\n",
    "\n",
    "Содержит данные о пользовательских оценках книг:\n",
    "\n",
    "- `rating_id` — идентификатор оценки;\n",
    "- `book_id` — идентификатор книги;\n",
    "- `username` — имя пользователя, оставившего оценку;\n",
    "- `rating` — оценка книги.\n",
    "\n",
    "**Таблица `reviews`**\n",
    "\n",
    "Содержит данные о пользовательских обзорах на книги:\n",
    "\n",
    "- `review_id` — идентификатор обзора;\n",
    "- `book_id` — идентификатор книги;\n",
    "- `username` — имя пользователя, написавшего обзор;\n",
    "- `text` — текст обзора."
   ]
  },
  {
   "cell_type": "markdown",
   "metadata": {
    "toc": true
   },
   "source": [
    "<h1>Оглавление<span class=\"tocSkip\"></span></h1>\n",
    "<div class=\"toc\"><ul class=\"toc-item\"><li><span><a href=\"#Импорт-библиотек-и-параметров\" data-toc-modified-id=\"Импорт-библиотек-и-параметров-1\"><span class=\"toc-item-num\">1&nbsp;&nbsp;</span>Импорт библиотек и параметров</a></span></li><li><span><a href=\"#Просмотр-данных\" data-toc-modified-id=\"Просмотр-данных-2\"><span class=\"toc-item-num\">2&nbsp;&nbsp;</span>Просмотр данных</a></span></li><li><span><a href=\"#Количество-книг,-вышедших-после-1-января-2000-года\" data-toc-modified-id=\"Количество-книг,-вышедших-после-1-января-2000-года-3\"><span class=\"toc-item-num\">3&nbsp;&nbsp;</span>Количество книг, вышедших после 1 января 2000 года</a></span><ul class=\"toc-item\"><li><span><a href=\"#Вывод\" data-toc-modified-id=\"Вывод-3.1\"><span class=\"toc-item-num\">3.1&nbsp;&nbsp;</span>Вывод</a></span></li></ul></li><li><span><a href=\"#Количество-обзоров-и-средняя-оценка-для-каждой-книги\" data-toc-modified-id=\"Количество-обзоров-и-средняя-оценка-для-каждой-книги-4\"><span class=\"toc-item-num\">4&nbsp;&nbsp;</span>Количество обзоров и средняя оценка для каждой книги</a></span><ul class=\"toc-item\"><li><span><a href=\"#Вывод\" data-toc-modified-id=\"Вывод-4.1\"><span class=\"toc-item-num\">4.1&nbsp;&nbsp;</span>Вывод</a></span></li></ul></li><li><span><a href=\"#Издательство,-которое-выпустило-наибольшее-число-книг-толще-50-страниц\" data-toc-modified-id=\"Издательство,-которое-выпустило-наибольшее-число-книг-толще-50-страниц-5\"><span class=\"toc-item-num\">5&nbsp;&nbsp;</span>Издательство, которое выпустило наибольшее число книг толще 50 страниц</a></span><ul class=\"toc-item\"><li><span><a href=\"#Вывод\" data-toc-modified-id=\"Вывод-5.1\"><span class=\"toc-item-num\">5.1&nbsp;&nbsp;</span>Вывод</a></span></li></ul></li><li><span><a href=\"#Автор-с-самой-высокой-средней-оценкой-книг\" data-toc-modified-id=\"Автор-с-самой-высокой-средней-оценкой-книг-6\"><span class=\"toc-item-num\">6&nbsp;&nbsp;</span>Автор с самой высокой средней оценкой книг</a></span><ul class=\"toc-item\"><li><span><a href=\"#Вывод\" data-toc-modified-id=\"Вывод-6.1\"><span class=\"toc-item-num\">6.1&nbsp;&nbsp;</span>Вывод</a></span></li></ul></li><li><span><a href=\"#Среднее-количество-обзоров-от-пользователей,-которые-поставили-больше-50-оценок\" data-toc-modified-id=\"Среднее-количество-обзоров-от-пользователей,-которые-поставили-больше-50-оценок-7\"><span class=\"toc-item-num\">7&nbsp;&nbsp;</span>Среднее количество обзоров от пользователей, которые поставили больше 50 оценок</a></span><ul class=\"toc-item\"><li><span><a href=\"#Вывод\" data-toc-modified-id=\"Вывод-7.1\"><span class=\"toc-item-num\">7.1&nbsp;&nbsp;</span>Вывод</a></span></li><li><span><a href=\"#Чек-лист-доработок-\" data-toc-modified-id=\"Чек-лист-доработок--7.2\"><span class=\"toc-item-num\">7.2&nbsp;&nbsp;</span>Чек-лист доработок </a></span></li></ul></li></ul></div>"
   ]
  },
  {
   "cell_type": "markdown",
   "metadata": {},
   "source": [
    "## Импорт библиотек и параметров"
   ]
  },
  {
   "cell_type": "code",
   "execution_count": 1,
   "metadata": {},
   "outputs": [],
   "source": [
    "# импортируем библиотеки\n",
    "from IPython.display import display\n",
    "import pandas as pd\n",
    "from sqlalchemy import create_engine\n",
    "# устанавливаем параметры\n",
    "db_config = {'user': 'praktikum_student', # имя пользователя\n",
    "             'pwd': 'Sdf4$2;d-d30pp', # пароль\n",
    "             'host': 'rc1b-wcoijxj3yxfsf3fs.mdb.yandexcloud.net',\n",
    "             'port': 6432, # порт подключения\n",
    "             'db': 'data-analyst-final-project-db'} # название базы данных\n",
    "connection_string = 'postgresql://{}:{}@{}:{}/{}'.format(db_config['user'], \n",
    "                                                         db_config['pwd'], \n",
    "                                                         db_config['host'], \n",
    "                                                         db_config['port'],\n",
    "                                                         db_config['db']) \n",
    "engine = create_engine(connection_string, connect_args={'sslmode':'require'})\n",
    "# сохраняем коннектор"
   ]
  },
  {
   "cell_type": "markdown",
   "metadata": {},
   "source": [
    "## Просмотр данных"
   ]
  },
  {
   "cell_type": "code",
   "execution_count": 2,
   "metadata": {},
   "outputs": [
    {
     "data": {
      "text/html": [
       "<div>\n",
       "<style scoped>\n",
       "    .dataframe tbody tr th:only-of-type {\n",
       "        vertical-align: middle;\n",
       "    }\n",
       "\n",
       "    .dataframe tbody tr th {\n",
       "        vertical-align: top;\n",
       "    }\n",
       "\n",
       "    .dataframe thead th {\n",
       "        text-align: right;\n",
       "    }\n",
       "</style>\n",
       "<table border=\"1\" class=\"dataframe\">\n",
       "  <thead>\n",
       "    <tr style=\"text-align: right;\">\n",
       "      <th></th>\n",
       "      <th>book_id</th>\n",
       "      <th>author_id</th>\n",
       "      <th>title</th>\n",
       "      <th>num_pages</th>\n",
       "      <th>publication_date</th>\n",
       "      <th>publisher_id</th>\n",
       "    </tr>\n",
       "  </thead>\n",
       "  <tbody>\n",
       "    <tr>\n",
       "      <td>0</td>\n",
       "      <td>1</td>\n",
       "      <td>546</td>\n",
       "      <td>'Salem's Lot</td>\n",
       "      <td>594</td>\n",
       "      <td>2005-11-01</td>\n",
       "      <td>93</td>\n",
       "    </tr>\n",
       "    <tr>\n",
       "      <td>1</td>\n",
       "      <td>2</td>\n",
       "      <td>465</td>\n",
       "      <td>1 000 Places to See Before You Die</td>\n",
       "      <td>992</td>\n",
       "      <td>2003-05-22</td>\n",
       "      <td>336</td>\n",
       "    </tr>\n",
       "    <tr>\n",
       "      <td>2</td>\n",
       "      <td>3</td>\n",
       "      <td>407</td>\n",
       "      <td>13 Little Blue Envelopes (Little Blue Envelope...</td>\n",
       "      <td>322</td>\n",
       "      <td>2010-12-21</td>\n",
       "      <td>135</td>\n",
       "    </tr>\n",
       "    <tr>\n",
       "      <td>3</td>\n",
       "      <td>4</td>\n",
       "      <td>82</td>\n",
       "      <td>1491: New Revelations of the Americas Before C...</td>\n",
       "      <td>541</td>\n",
       "      <td>2006-10-10</td>\n",
       "      <td>309</td>\n",
       "    </tr>\n",
       "    <tr>\n",
       "      <td>4</td>\n",
       "      <td>5</td>\n",
       "      <td>125</td>\n",
       "      <td>1776</td>\n",
       "      <td>386</td>\n",
       "      <td>2006-07-04</td>\n",
       "      <td>268</td>\n",
       "    </tr>\n",
       "  </tbody>\n",
       "</table>\n",
       "</div>"
      ],
      "text/plain": [
       "   book_id  author_id                                              title  \\\n",
       "0        1        546                                       'Salem's Lot   \n",
       "1        2        465                 1 000 Places to See Before You Die   \n",
       "2        3        407  13 Little Blue Envelopes (Little Blue Envelope...   \n",
       "3        4         82  1491: New Revelations of the Americas Before C...   \n",
       "4        5        125                                               1776   \n",
       "\n",
       "   num_pages publication_date  publisher_id  \n",
       "0        594       2005-11-01            93  \n",
       "1        992       2003-05-22           336  \n",
       "2        322       2010-12-21           135  \n",
       "3        541       2006-10-10           309  \n",
       "4        386       2006-07-04           268  "
      ]
     },
     "execution_count": 2,
     "metadata": {},
     "output_type": "execute_result"
    }
   ],
   "source": [
    "# смотрим данные для таблицы books\n",
    "\n",
    "query = '''\n",
    "SELECT * \n",
    "FROM books\n",
    "LIMIT 5\n",
    "'''\n",
    "pd.io.sql.read_sql(query, con = engine)"
   ]
  },
  {
   "cell_type": "code",
   "execution_count": 3,
   "metadata": {},
   "outputs": [
    {
     "data": {
      "text/html": [
       "<div>\n",
       "<style scoped>\n",
       "    .dataframe tbody tr th:only-of-type {\n",
       "        vertical-align: middle;\n",
       "    }\n",
       "\n",
       "    .dataframe tbody tr th {\n",
       "        vertical-align: top;\n",
       "    }\n",
       "\n",
       "    .dataframe thead th {\n",
       "        text-align: right;\n",
       "    }\n",
       "</style>\n",
       "<table border=\"1\" class=\"dataframe\">\n",
       "  <thead>\n",
       "    <tr style=\"text-align: right;\">\n",
       "      <th></th>\n",
       "      <th>author_id</th>\n",
       "      <th>author</th>\n",
       "    </tr>\n",
       "  </thead>\n",
       "  <tbody>\n",
       "    <tr>\n",
       "      <td>0</td>\n",
       "      <td>1</td>\n",
       "      <td>A.S. Byatt</td>\n",
       "    </tr>\n",
       "    <tr>\n",
       "      <td>1</td>\n",
       "      <td>2</td>\n",
       "      <td>Aesop/Laura Harris/Laura Gibbs</td>\n",
       "    </tr>\n",
       "    <tr>\n",
       "      <td>2</td>\n",
       "      <td>3</td>\n",
       "      <td>Agatha Christie</td>\n",
       "    </tr>\n",
       "    <tr>\n",
       "      <td>3</td>\n",
       "      <td>4</td>\n",
       "      <td>Alan Brennert</td>\n",
       "    </tr>\n",
       "    <tr>\n",
       "      <td>4</td>\n",
       "      <td>5</td>\n",
       "      <td>Alan Moore/David   Lloyd</td>\n",
       "    </tr>\n",
       "  </tbody>\n",
       "</table>\n",
       "</div>"
      ],
      "text/plain": [
       "   author_id                          author\n",
       "0          1                      A.S. Byatt\n",
       "1          2  Aesop/Laura Harris/Laura Gibbs\n",
       "2          3                 Agatha Christie\n",
       "3          4                   Alan Brennert\n",
       "4          5        Alan Moore/David   Lloyd"
      ]
     },
     "execution_count": 3,
     "metadata": {},
     "output_type": "execute_result"
    }
   ],
   "source": [
    "# смотрим данные для таблицы authors\n",
    "\n",
    "query = '''\n",
    "SELECT * \n",
    "FROM authors\n",
    "LIMIT 5\n",
    "'''\n",
    "pd.io.sql.read_sql(query, con = engine)"
   ]
  },
  {
   "cell_type": "code",
   "execution_count": 4,
   "metadata": {},
   "outputs": [
    {
     "data": {
      "text/html": [
       "<div>\n",
       "<style scoped>\n",
       "    .dataframe tbody tr th:only-of-type {\n",
       "        vertical-align: middle;\n",
       "    }\n",
       "\n",
       "    .dataframe tbody tr th {\n",
       "        vertical-align: top;\n",
       "    }\n",
       "\n",
       "    .dataframe thead th {\n",
       "        text-align: right;\n",
       "    }\n",
       "</style>\n",
       "<table border=\"1\" class=\"dataframe\">\n",
       "  <thead>\n",
       "    <tr style=\"text-align: right;\">\n",
       "      <th></th>\n",
       "      <th>publisher_id</th>\n",
       "      <th>publisher</th>\n",
       "    </tr>\n",
       "  </thead>\n",
       "  <tbody>\n",
       "    <tr>\n",
       "      <td>0</td>\n",
       "      <td>1</td>\n",
       "      <td>Ace</td>\n",
       "    </tr>\n",
       "    <tr>\n",
       "      <td>1</td>\n",
       "      <td>2</td>\n",
       "      <td>Ace Book</td>\n",
       "    </tr>\n",
       "    <tr>\n",
       "      <td>2</td>\n",
       "      <td>3</td>\n",
       "      <td>Ace Books</td>\n",
       "    </tr>\n",
       "    <tr>\n",
       "      <td>3</td>\n",
       "      <td>4</td>\n",
       "      <td>Ace Hardcover</td>\n",
       "    </tr>\n",
       "    <tr>\n",
       "      <td>4</td>\n",
       "      <td>5</td>\n",
       "      <td>Addison Wesley Publishing Company</td>\n",
       "    </tr>\n",
       "  </tbody>\n",
       "</table>\n",
       "</div>"
      ],
      "text/plain": [
       "   publisher_id                          publisher\n",
       "0             1                                Ace\n",
       "1             2                           Ace Book\n",
       "2             3                          Ace Books\n",
       "3             4                      Ace Hardcover\n",
       "4             5  Addison Wesley Publishing Company"
      ]
     },
     "execution_count": 4,
     "metadata": {},
     "output_type": "execute_result"
    }
   ],
   "source": [
    "# смотрим данные для таблицы publishers\n",
    "\n",
    "query = '''\n",
    "SELECT * \n",
    "FROM publishers\n",
    "LIMIT 5\n",
    "'''\n",
    "pd.io.sql.read_sql(query, con = engine)"
   ]
  },
  {
   "cell_type": "code",
   "execution_count": 5,
   "metadata": {},
   "outputs": [
    {
     "data": {
      "text/html": [
       "<div>\n",
       "<style scoped>\n",
       "    .dataframe tbody tr th:only-of-type {\n",
       "        vertical-align: middle;\n",
       "    }\n",
       "\n",
       "    .dataframe tbody tr th {\n",
       "        vertical-align: top;\n",
       "    }\n",
       "\n",
       "    .dataframe thead th {\n",
       "        text-align: right;\n",
       "    }\n",
       "</style>\n",
       "<table border=\"1\" class=\"dataframe\">\n",
       "  <thead>\n",
       "    <tr style=\"text-align: right;\">\n",
       "      <th></th>\n",
       "      <th>rating_id</th>\n",
       "      <th>book_id</th>\n",
       "      <th>username</th>\n",
       "      <th>rating</th>\n",
       "    </tr>\n",
       "  </thead>\n",
       "  <tbody>\n",
       "    <tr>\n",
       "      <td>0</td>\n",
       "      <td>1</td>\n",
       "      <td>1</td>\n",
       "      <td>ryanfranco</td>\n",
       "      <td>4</td>\n",
       "    </tr>\n",
       "    <tr>\n",
       "      <td>1</td>\n",
       "      <td>2</td>\n",
       "      <td>1</td>\n",
       "      <td>grantpatricia</td>\n",
       "      <td>2</td>\n",
       "    </tr>\n",
       "    <tr>\n",
       "      <td>2</td>\n",
       "      <td>3</td>\n",
       "      <td>1</td>\n",
       "      <td>brandtandrea</td>\n",
       "      <td>5</td>\n",
       "    </tr>\n",
       "    <tr>\n",
       "      <td>3</td>\n",
       "      <td>4</td>\n",
       "      <td>2</td>\n",
       "      <td>lorichen</td>\n",
       "      <td>3</td>\n",
       "    </tr>\n",
       "    <tr>\n",
       "      <td>4</td>\n",
       "      <td>5</td>\n",
       "      <td>2</td>\n",
       "      <td>mariokeller</td>\n",
       "      <td>2</td>\n",
       "    </tr>\n",
       "  </tbody>\n",
       "</table>\n",
       "</div>"
      ],
      "text/plain": [
       "   rating_id  book_id       username  rating\n",
       "0          1        1     ryanfranco       4\n",
       "1          2        1  grantpatricia       2\n",
       "2          3        1   brandtandrea       5\n",
       "3          4        2       lorichen       3\n",
       "4          5        2    mariokeller       2"
      ]
     },
     "execution_count": 5,
     "metadata": {},
     "output_type": "execute_result"
    }
   ],
   "source": [
    "# смотрим данные для таблицы ratings\n",
    "\n",
    "query = '''\n",
    "SELECT * \n",
    "FROM ratings\n",
    "LIMIT 5\n",
    "'''\n",
    "pd.io.sql.read_sql(query, con = engine)"
   ]
  },
  {
   "cell_type": "code",
   "execution_count": 6,
   "metadata": {},
   "outputs": [
    {
     "data": {
      "text/html": [
       "<div>\n",
       "<style scoped>\n",
       "    .dataframe tbody tr th:only-of-type {\n",
       "        vertical-align: middle;\n",
       "    }\n",
       "\n",
       "    .dataframe tbody tr th {\n",
       "        vertical-align: top;\n",
       "    }\n",
       "\n",
       "    .dataframe thead th {\n",
       "        text-align: right;\n",
       "    }\n",
       "</style>\n",
       "<table border=\"1\" class=\"dataframe\">\n",
       "  <thead>\n",
       "    <tr style=\"text-align: right;\">\n",
       "      <th></th>\n",
       "      <th>review_id</th>\n",
       "      <th>book_id</th>\n",
       "      <th>username</th>\n",
       "      <th>text</th>\n",
       "    </tr>\n",
       "  </thead>\n",
       "  <tbody>\n",
       "    <tr>\n",
       "      <td>0</td>\n",
       "      <td>1</td>\n",
       "      <td>1</td>\n",
       "      <td>brandtandrea</td>\n",
       "      <td>Mention society tell send professor analysis. ...</td>\n",
       "    </tr>\n",
       "    <tr>\n",
       "      <td>1</td>\n",
       "      <td>2</td>\n",
       "      <td>1</td>\n",
       "      <td>ryanfranco</td>\n",
       "      <td>Foot glass pretty audience hit themselves. Amo...</td>\n",
       "    </tr>\n",
       "    <tr>\n",
       "      <td>2</td>\n",
       "      <td>3</td>\n",
       "      <td>2</td>\n",
       "      <td>lorichen</td>\n",
       "      <td>Listen treat keep worry. Miss husband tax but ...</td>\n",
       "    </tr>\n",
       "    <tr>\n",
       "      <td>3</td>\n",
       "      <td>4</td>\n",
       "      <td>3</td>\n",
       "      <td>johnsonamanda</td>\n",
       "      <td>Finally month interesting blue could nature cu...</td>\n",
       "    </tr>\n",
       "    <tr>\n",
       "      <td>4</td>\n",
       "      <td>5</td>\n",
       "      <td>3</td>\n",
       "      <td>scotttamara</td>\n",
       "      <td>Nation purpose heavy give wait song will. List...</td>\n",
       "    </tr>\n",
       "  </tbody>\n",
       "</table>\n",
       "</div>"
      ],
      "text/plain": [
       "   review_id  book_id       username  \\\n",
       "0          1        1   brandtandrea   \n",
       "1          2        1     ryanfranco   \n",
       "2          3        2       lorichen   \n",
       "3          4        3  johnsonamanda   \n",
       "4          5        3    scotttamara   \n",
       "\n",
       "                                                text  \n",
       "0  Mention society tell send professor analysis. ...  \n",
       "1  Foot glass pretty audience hit themselves. Amo...  \n",
       "2  Listen treat keep worry. Miss husband tax but ...  \n",
       "3  Finally month interesting blue could nature cu...  \n",
       "4  Nation purpose heavy give wait song will. List...  "
      ]
     },
     "execution_count": 6,
     "metadata": {},
     "output_type": "execute_result"
    }
   ],
   "source": [
    "# смотрим данные для таблицы reviews\n",
    "\n",
    "query = '''\n",
    "SELECT * \n",
    "FROM reviews\n",
    "LIMIT 5\n",
    "'''\n",
    "pd.io.sql.read_sql(query, con = engine)"
   ]
  },
  {
   "cell_type": "markdown",
   "metadata": {},
   "source": [
    "## Количество книг, вышедших после 1 января 2000 года"
   ]
  },
  {
   "cell_type": "code",
   "execution_count": 7,
   "metadata": {},
   "outputs": [
    {
     "data": {
      "text/html": [
       "<div>\n",
       "<style scoped>\n",
       "    .dataframe tbody tr th:only-of-type {\n",
       "        vertical-align: middle;\n",
       "    }\n",
       "\n",
       "    .dataframe tbody tr th {\n",
       "        vertical-align: top;\n",
       "    }\n",
       "\n",
       "    .dataframe thead th {\n",
       "        text-align: right;\n",
       "    }\n",
       "</style>\n",
       "<table border=\"1\" class=\"dataframe\">\n",
       "  <thead>\n",
       "    <tr style=\"text-align: right;\">\n",
       "      <th></th>\n",
       "      <th>count_of_books</th>\n",
       "    </tr>\n",
       "  </thead>\n",
       "  <tbody>\n",
       "    <tr>\n",
       "      <td>0</td>\n",
       "      <td>819</td>\n",
       "    </tr>\n",
       "  </tbody>\n",
       "</table>\n",
       "</div>"
      ],
      "text/plain": [
       "   count_of_books\n",
       "0             819"
      ]
     },
     "execution_count": 7,
     "metadata": {},
     "output_type": "execute_result"
    }
   ],
   "source": [
    "query = '''\n",
    "SELECT \n",
    "COUNT(book_id) AS count_of_books\n",
    "FROM books\n",
    "WHERE publication_date > '2000-01-01'\n",
    "'''\n",
    "pd.io.sql.read_sql(query, con = engine)"
   ]
  },
  {
   "cell_type": "markdown",
   "metadata": {},
   "source": [
    "### Вывод\n",
    "\n",
    "После 1 января 2000 года вышло 819 книг"
   ]
  },
  {
   "cell_type": "markdown",
   "metadata": {},
   "source": [
    "## Количество обзоров и средняя оценка для каждой книги"
   ]
  },
  {
   "cell_type": "code",
   "execution_count": 8,
   "metadata": {},
   "outputs": [
    {
     "data": {
      "text/html": [
       "<div>\n",
       "<style scoped>\n",
       "    .dataframe tbody tr th:only-of-type {\n",
       "        vertical-align: middle;\n",
       "    }\n",
       "\n",
       "    .dataframe tbody tr th {\n",
       "        vertical-align: top;\n",
       "    }\n",
       "\n",
       "    .dataframe thead th {\n",
       "        text-align: right;\n",
       "    }\n",
       "</style>\n",
       "<table border=\"1\" class=\"dataframe\">\n",
       "  <thead>\n",
       "    <tr style=\"text-align: right;\">\n",
       "      <th></th>\n",
       "      <th>title</th>\n",
       "      <th>count_of_review</th>\n",
       "      <th>avg_rate</th>\n",
       "    </tr>\n",
       "  </thead>\n",
       "  <tbody>\n",
       "    <tr>\n",
       "      <td>0</td>\n",
       "      <td>Twilight (Twilight  #1)</td>\n",
       "      <td>7</td>\n",
       "      <td>3.662500</td>\n",
       "    </tr>\n",
       "    <tr>\n",
       "      <td>1</td>\n",
       "      <td>Water for Elephants</td>\n",
       "      <td>6</td>\n",
       "      <td>3.977273</td>\n",
       "    </tr>\n",
       "    <tr>\n",
       "      <td>2</td>\n",
       "      <td>The Glass Castle</td>\n",
       "      <td>6</td>\n",
       "      <td>4.206897</td>\n",
       "    </tr>\n",
       "    <tr>\n",
       "      <td>3</td>\n",
       "      <td>Harry Potter and the Prisoner of Azkaban (Harr...</td>\n",
       "      <td>6</td>\n",
       "      <td>4.414634</td>\n",
       "    </tr>\n",
       "    <tr>\n",
       "      <td>4</td>\n",
       "      <td>The Curious Incident of the Dog in the Night-Time</td>\n",
       "      <td>6</td>\n",
       "      <td>4.081081</td>\n",
       "    </tr>\n",
       "    <tr>\n",
       "      <td>...</td>\n",
       "      <td>...</td>\n",
       "      <td>...</td>\n",
       "      <td>...</td>\n",
       "    </tr>\n",
       "    <tr>\n",
       "      <td>995</td>\n",
       "      <td>Anne Rice's The Vampire Lestat: A Graphic Novel</td>\n",
       "      <td>0</td>\n",
       "      <td>3.666667</td>\n",
       "    </tr>\n",
       "    <tr>\n",
       "      <td>996</td>\n",
       "      <td>The Natural Way to Draw</td>\n",
       "      <td>0</td>\n",
       "      <td>3.000000</td>\n",
       "    </tr>\n",
       "    <tr>\n",
       "      <td>997</td>\n",
       "      <td>The Cat in the Hat and Other Dr. Seuss Favorites</td>\n",
       "      <td>0</td>\n",
       "      <td>5.000000</td>\n",
       "    </tr>\n",
       "    <tr>\n",
       "      <td>998</td>\n",
       "      <td>Essential Tales and Poems</td>\n",
       "      <td>0</td>\n",
       "      <td>4.000000</td>\n",
       "    </tr>\n",
       "    <tr>\n",
       "      <td>999</td>\n",
       "      <td>Disney's Beauty and the Beast (A Little Golden...</td>\n",
       "      <td>0</td>\n",
       "      <td>4.000000</td>\n",
       "    </tr>\n",
       "  </tbody>\n",
       "</table>\n",
       "<p>1000 rows × 3 columns</p>\n",
       "</div>"
      ],
      "text/plain": [
       "                                                 title  count_of_review  \\\n",
       "0                              Twilight (Twilight  #1)                7   \n",
       "1                                  Water for Elephants                6   \n",
       "2                                     The Glass Castle                6   \n",
       "3    Harry Potter and the Prisoner of Azkaban (Harr...                6   \n",
       "4    The Curious Incident of the Dog in the Night-Time                6   \n",
       "..                                                 ...              ...   \n",
       "995    Anne Rice's The Vampire Lestat: A Graphic Novel                0   \n",
       "996                            The Natural Way to Draw                0   \n",
       "997   The Cat in the Hat and Other Dr. Seuss Favorites                0   \n",
       "998                          Essential Tales and Poems                0   \n",
       "999  Disney's Beauty and the Beast (A Little Golden...                0   \n",
       "\n",
       "     avg_rate  \n",
       "0    3.662500  \n",
       "1    3.977273  \n",
       "2    4.206897  \n",
       "3    4.414634  \n",
       "4    4.081081  \n",
       "..        ...  \n",
       "995  3.666667  \n",
       "996  3.000000  \n",
       "997  5.000000  \n",
       "998  4.000000  \n",
       "999  4.000000  \n",
       "\n",
       "[1000 rows x 3 columns]"
      ]
     },
     "execution_count": 8,
     "metadata": {},
     "output_type": "execute_result"
    }
   ],
   "source": [
    "query = ''' \n",
    "SELECT \n",
    "    books.title, \n",
    "    COUNT(DISTINCT reviews.review_id) AS count_of_review, \n",
    "    AVG(rating) AS avg_rate\n",
    "FROM books\n",
    "    LEFT JOIN ratings on ratings.book_id = books.book_id\n",
    "    LEFT JOIN reviews on reviews.book_id = books.book_id\n",
    "GROUP BY \n",
    "    books.book_id\n",
    "ORDER BY \n",
    "    count_of_review DESC\n",
    "'''\n",
    "\n",
    "pd.io.sql.read_sql(query, con = engine)"
   ]
  },
  {
   "cell_type": "markdown",
   "metadata": {},
   "source": [
    "### Вывод\n",
    "\n",
    "Книга с самым большим количеством отзывов - Twilight."
   ]
  },
  {
   "cell_type": "markdown",
   "metadata": {},
   "source": [
    "## Издательство, которое выпустило наибольшее число книг толще 50 страниц"
   ]
  },
  {
   "cell_type": "code",
   "execution_count": 9,
   "metadata": {},
   "outputs": [
    {
     "data": {
      "text/html": [
       "<div>\n",
       "<style scoped>\n",
       "    .dataframe tbody tr th:only-of-type {\n",
       "        vertical-align: middle;\n",
       "    }\n",
       "\n",
       "    .dataframe tbody tr th {\n",
       "        vertical-align: top;\n",
       "    }\n",
       "\n",
       "    .dataframe thead th {\n",
       "        text-align: right;\n",
       "    }\n",
       "</style>\n",
       "<table border=\"1\" class=\"dataframe\">\n",
       "  <thead>\n",
       "    <tr style=\"text-align: right;\">\n",
       "      <th></th>\n",
       "      <th>publisher</th>\n",
       "      <th>count_of_books</th>\n",
       "    </tr>\n",
       "  </thead>\n",
       "  <tbody>\n",
       "    <tr>\n",
       "      <td>0</td>\n",
       "      <td>Penguin Books</td>\n",
       "      <td>42</td>\n",
       "    </tr>\n",
       "  </tbody>\n",
       "</table>\n",
       "</div>"
      ],
      "text/plain": [
       "       publisher  count_of_books\n",
       "0  Penguin Books              42"
      ]
     },
     "metadata": {},
     "output_type": "display_data"
    }
   ],
   "source": [
    "query = '''\n",
    "SELECT \n",
    "    publishers.publisher, \n",
    "    COUNT(book_id) AS count_of_books\n",
    "FROM books \n",
    "    INNER JOIN publishers ON books.publisher_id = publishers.publisher_id\n",
    "WHERE\n",
    "  num_pages>50\n",
    "GROUP BY\n",
    "  publisher\n",
    "ORDER BY\n",
    "  count_of_books DESC\n",
    "LIMIT(1)  \n",
    "'''\n",
    "top_pub = pd.io.sql.read_sql(query, con = engine)\n",
    "display(top_pub)"
   ]
  },
  {
   "cell_type": "markdown",
   "metadata": {},
   "source": [
    "### Вывод\n",
    "\n",
    "Издательство, выпустившее наибольшее число книг толще 50 страниц - Penguin Books с количеством выпущенных книг равным 42."
   ]
  },
  {
   "cell_type": "markdown",
   "metadata": {},
   "source": [
    "## Автор с самой высокой средней оценкой книг"
   ]
  },
  {
   "cell_type": "code",
   "execution_count": 10,
   "metadata": {},
   "outputs": [
    {
     "data": {
      "text/html": [
       "<div>\n",
       "<style scoped>\n",
       "    .dataframe tbody tr th:only-of-type {\n",
       "        vertical-align: middle;\n",
       "    }\n",
       "\n",
       "    .dataframe tbody tr th {\n",
       "        vertical-align: top;\n",
       "    }\n",
       "\n",
       "    .dataframe thead th {\n",
       "        text-align: right;\n",
       "    }\n",
       "</style>\n",
       "<table border=\"1\" class=\"dataframe\">\n",
       "  <thead>\n",
       "    <tr style=\"text-align: right;\">\n",
       "      <th></th>\n",
       "      <th>author</th>\n",
       "      <th>max_avg_rating</th>\n",
       "    </tr>\n",
       "  </thead>\n",
       "  <tbody>\n",
       "    <tr>\n",
       "      <td>0</td>\n",
       "      <td>J.K. Rowling/Mary GrandPré</td>\n",
       "      <td>4.283844</td>\n",
       "    </tr>\n",
       "  </tbody>\n",
       "</table>\n",
       "</div>"
      ],
      "text/plain": [
       "                       author  max_avg_rating\n",
       "0  J.K. Rowling/Mary GrandPré        4.283844"
      ]
     },
     "metadata": {},
     "output_type": "display_data"
    }
   ],
   "source": [
    "query = '''\n",
    "SELECT \n",
    "    author, \n",
    "    AVG(subquery.avg_rating) AS max_avg_rating\n",
    "FROM \n",
    "    (SELECT \n",
    "        author,\n",
    "        books.book_id,\n",
    "        AVG(rating) AS avg_rating\n",
    "    FROM books\n",
    "        INNER JOIN authors ON books.author_id = authors.author_id\n",
    "        INNER JOIN ratings ON ratings.book_id = books.book_id\n",
    "    GROUP BY\n",
    "        author,\n",
    "        books.book_id\n",
    "    HAVING\n",
    "        COUNT(rating) > 50) AS subquery\n",
    "GROUP BY\n",
    "    author\n",
    "ORDER BY\n",
    "    max_avg_rating DESC\n",
    "LIMIT(1)\n",
    "'''\n",
    "top_author = pd.io.sql.read_sql(query, con = engine)\n",
    "display(top_author)"
   ]
  },
  {
   "cell_type": "markdown",
   "metadata": {},
   "source": [
    "### Вывод\n",
    "\n",
    "Автор с самой высокой средней оценкой книг - J.K. Rowling/Mary GrandPré (для книг с количеством оценок больше 50).\n",
    "\n",
    "`Я загуглила, Mary GrandPré - это иллюстратор`"
   ]
  },
  {
   "cell_type": "markdown",
   "metadata": {},
   "source": [
    "## Среднее количество обзоров от пользователей, которые поставили больше 50 оценок"
   ]
  },
  {
   "cell_type": "code",
   "execution_count": 11,
   "metadata": {},
   "outputs": [
    {
     "data": {
      "text/html": [
       "<div>\n",
       "<style scoped>\n",
       "    .dataframe tbody tr th:only-of-type {\n",
       "        vertical-align: middle;\n",
       "    }\n",
       "\n",
       "    .dataframe tbody tr th {\n",
       "        vertical-align: top;\n",
       "    }\n",
       "\n",
       "    .dataframe thead th {\n",
       "        text-align: right;\n",
       "    }\n",
       "</style>\n",
       "<table border=\"1\" class=\"dataframe\">\n",
       "  <thead>\n",
       "    <tr style=\"text-align: right;\">\n",
       "      <th></th>\n",
       "      <th>avg_reviews</th>\n",
       "    </tr>\n",
       "  </thead>\n",
       "  <tbody>\n",
       "    <tr>\n",
       "      <td>0</td>\n",
       "      <td>24.333333</td>\n",
       "    </tr>\n",
       "  </tbody>\n",
       "</table>\n",
       "</div>"
      ],
      "text/plain": [
       "   avg_reviews\n",
       "0    24.333333"
      ]
     },
     "metadata": {},
     "output_type": "display_data"
    }
   ],
   "source": [
    "query = '''\n",
    "SELECT \n",
    "    AVG(review_cnt) as avg_reviews\n",
    "    FROM \n",
    "        (SELECT\n",
    "            COUNT(review_id) as review_cnt\n",
    "            FROM\n",
    "                reviews\n",
    "            WHERE username IN\n",
    "                (SELECT\n",
    "                    username\n",
    "                FROM\n",
    "                    ratings\n",
    "                GROUP BY\n",
    "                    username\n",
    "                HAVING\n",
    "                    COUNT(ratings) > 50)\n",
    "                GROUP BY\n",
    "                    username) as sub_review_cnt \n",
    "'''\n",
    "review = pd.io.sql.read_sql(query, con = engine)\n",
    "display(review)"
   ]
  },
  {
   "cell_type": "markdown",
   "metadata": {},
   "source": [
    "### Вывод\n",
    "\n",
    "Среднее количество отзывов от пользователей, поставивших больше 50 оценок - 24,3."
   ]
  }
 ],
 "metadata": {
  "ExecuteTimeLog": [
   {
    "duration": 990,
    "start_time": "2021-07-09T09:23:51.495Z"
   },
   {
    "duration": 107,
    "start_time": "2021-07-09T09:23:52.488Z"
   },
   {
    "duration": 20,
    "start_time": "2021-07-09T09:23:52.598Z"
   },
   {
    "duration": 15,
    "start_time": "2021-07-09T09:23:52.621Z"
   },
   {
    "duration": 17,
    "start_time": "2021-07-09T09:23:52.639Z"
   },
   {
    "duration": 22,
    "start_time": "2021-07-09T09:23:52.658Z"
   },
   {
    "duration": 15,
    "start_time": "2021-07-09T09:23:52.682Z"
   },
   {
    "duration": 51,
    "start_time": "2021-07-09T09:23:52.700Z"
   },
   {
    "duration": 16,
    "start_time": "2021-07-09T09:23:52.754Z"
   },
   {
    "duration": 24,
    "start_time": "2021-07-09T09:23:52.772Z"
   },
   {
    "duration": 22,
    "start_time": "2021-07-09T09:23:52.798Z"
   },
   {
    "duration": 829,
    "start_time": "2021-07-09T09:24:33.333Z"
   },
   {
    "duration": 47,
    "start_time": "2021-07-09T09:24:34.165Z"
   },
   {
    "duration": 14,
    "start_time": "2021-07-09T09:24:34.215Z"
   },
   {
    "duration": 13,
    "start_time": "2021-07-09T09:24:34.232Z"
   },
   {
    "duration": 18,
    "start_time": "2021-07-09T09:24:34.247Z"
   },
   {
    "duration": 43,
    "start_time": "2021-07-09T09:24:34.267Z"
   },
   {
    "duration": 16,
    "start_time": "2021-07-09T09:24:34.312Z"
   },
   {
    "duration": 41,
    "start_time": "2021-07-09T09:24:34.331Z"
   },
   {
    "duration": 14,
    "start_time": "2021-07-09T09:24:34.374Z"
   },
   {
    "duration": 31,
    "start_time": "2021-07-09T09:24:34.390Z"
   },
   {
    "duration": 17,
    "start_time": "2021-07-09T09:24:34.423Z"
   },
   {
    "duration": 871,
    "start_time": "2021-07-09T09:25:26.730Z"
   },
   {
    "duration": 50,
    "start_time": "2021-07-09T09:25:27.604Z"
   },
   {
    "duration": 16,
    "start_time": "2021-07-09T09:25:27.657Z"
   },
   {
    "duration": 24,
    "start_time": "2021-07-09T09:25:27.676Z"
   },
   {
    "duration": 23,
    "start_time": "2021-07-09T09:25:27.703Z"
   },
   {
    "duration": 16,
    "start_time": "2021-07-09T09:25:27.729Z"
   },
   {
    "duration": 12,
    "start_time": "2021-07-09T09:25:27.748Z"
   },
   {
    "duration": 46,
    "start_time": "2021-07-09T09:25:27.763Z"
   },
   {
    "duration": 17,
    "start_time": "2021-07-09T09:25:27.812Z"
   },
   {
    "duration": 19,
    "start_time": "2021-07-09T09:25:27.831Z"
   },
   {
    "duration": 16,
    "start_time": "2021-07-09T09:25:27.852Z"
   },
   {
    "duration": 378,
    "start_time": "2021-07-09T10:02:28.913Z"
   },
   {
    "duration": 879,
    "start_time": "2021-07-09T10:02:34.715Z"
   },
   {
    "duration": 68,
    "start_time": "2021-07-09T10:02:35.597Z"
   },
   {
    "duration": 16,
    "start_time": "2021-07-09T10:02:35.668Z"
   },
   {
    "duration": 15,
    "start_time": "2021-07-09T10:02:35.686Z"
   },
   {
    "duration": 22,
    "start_time": "2021-07-09T10:02:35.703Z"
   },
   {
    "duration": 18,
    "start_time": "2021-07-09T10:02:35.728Z"
   },
   {
    "duration": 14,
    "start_time": "2021-07-09T10:02:35.748Z"
   },
   {
    "duration": 34,
    "start_time": "2021-07-09T10:02:35.785Z"
   },
   {
    "duration": 16,
    "start_time": "2021-07-09T10:02:35.822Z"
   },
   {
    "duration": 20,
    "start_time": "2021-07-09T10:02:35.841Z"
   },
   {
    "duration": 21,
    "start_time": "2021-07-09T10:02:35.864Z"
   },
   {
    "duration": 6,
    "start_time": "2021-07-09T10:02:50.489Z"
   },
   {
    "duration": 43,
    "start_time": "2021-07-09T10:02:55.873Z"
   },
   {
    "duration": 882,
    "start_time": "2021-07-09T10:51:15.608Z"
   },
   {
    "duration": 277,
    "start_time": "2021-07-09T10:51:16.496Z"
   },
   {
    "duration": 72,
    "start_time": "2021-07-09T10:51:16.776Z"
   },
   {
    "duration": 70,
    "start_time": "2021-07-09T10:51:16.851Z"
   },
   {
    "duration": 71,
    "start_time": "2021-07-09T10:51:16.924Z"
   },
   {
    "duration": 71,
    "start_time": "2021-07-09T10:51:16.998Z"
   },
   {
    "duration": 68,
    "start_time": "2021-07-09T10:51:17.071Z"
   },
   {
    "duration": 105,
    "start_time": "2021-07-09T10:51:17.143Z"
   },
   {
    "duration": 70,
    "start_time": "2021-07-09T10:51:17.251Z"
   },
   {
    "duration": 75,
    "start_time": "2021-07-09T10:51:17.324Z"
   },
   {
    "duration": 71,
    "start_time": "2021-07-09T10:51:17.401Z"
   },
   {
    "duration": 115,
    "start_time": "2021-07-09T10:52:36.163Z"
   },
   {
    "duration": 83,
    "start_time": "2021-07-09T10:53:26.596Z"
   },
   {
    "duration": 104,
    "start_time": "2021-07-09T10:53:45.785Z"
   },
   {
    "duration": 103,
    "start_time": "2021-07-09T10:57:51.996Z"
   },
   {
    "duration": 113,
    "start_time": "2021-07-09T10:57:59.106Z"
   },
   {
    "duration": 106,
    "start_time": "2021-07-09T10:58:37.486Z"
   },
   {
    "duration": 74,
    "start_time": "2021-07-09T10:58:51.502Z"
   },
   {
    "duration": 701,
    "start_time": "2021-07-09T10:59:22.456Z"
   },
   {
    "duration": 388,
    "start_time": "2021-07-09T10:59:41.577Z"
   },
   {
    "duration": 106,
    "start_time": "2021-07-09T10:59:53.295Z"
   },
   {
    "duration": 114,
    "start_time": "2021-07-09T11:01:00.095Z"
   },
   {
    "duration": 114,
    "start_time": "2021-07-09T11:01:11.256Z"
   },
   {
    "duration": 114,
    "start_time": "2021-07-09T11:01:22.170Z"
   },
   {
    "duration": 91,
    "start_time": "2021-07-09T11:12:29.674Z"
   },
   {
    "duration": 116,
    "start_time": "2021-07-09T11:12:38.671Z"
   },
   {
    "duration": 108,
    "start_time": "2021-07-09T11:16:18.510Z"
   },
   {
    "duration": 106,
    "start_time": "2021-07-09T11:18:11.974Z"
   },
   {
    "duration": 111,
    "start_time": "2021-07-09T11:19:09.136Z"
   },
   {
    "duration": 112,
    "start_time": "2021-07-09T11:19:44.274Z"
   },
   {
    "duration": 111,
    "start_time": "2021-07-09T11:20:21.576Z"
   },
   {
    "duration": 106,
    "start_time": "2021-07-09T11:21:41.049Z"
   },
   {
    "duration": 122,
    "start_time": "2021-07-09T11:21:51.765Z"
   },
   {
    "duration": 107,
    "start_time": "2021-07-09T11:22:19.763Z"
   },
   {
    "duration": 108,
    "start_time": "2021-07-09T11:22:57.931Z"
   },
   {
    "duration": 106,
    "start_time": "2021-07-09T11:23:13.035Z"
   },
   {
    "duration": 829,
    "start_time": "2021-07-09T11:24:18.609Z"
   },
   {
    "duration": 272,
    "start_time": "2021-07-09T11:24:19.441Z"
   },
   {
    "duration": 76,
    "start_time": "2021-07-09T11:24:19.716Z"
   },
   {
    "duration": 75,
    "start_time": "2021-07-09T11:24:19.795Z"
   },
   {
    "duration": 77,
    "start_time": "2021-07-09T11:24:19.872Z"
   },
   {
    "duration": 78,
    "start_time": "2021-07-09T11:24:19.951Z"
   },
   {
    "duration": 75,
    "start_time": "2021-07-09T11:24:20.032Z"
   },
   {
    "duration": 114,
    "start_time": "2021-07-09T11:24:20.110Z"
   },
   {
    "duration": 76,
    "start_time": "2021-07-09T11:24:20.226Z"
   },
   {
    "duration": 81,
    "start_time": "2021-07-09T11:24:20.306Z"
   },
   {
    "duration": 79,
    "start_time": "2021-07-09T11:24:20.390Z"
   },
   {
    "duration": 817,
    "start_time": "2021-07-09T11:32:35.200Z"
   },
   {
    "duration": 259,
    "start_time": "2021-07-09T11:32:36.020Z"
   },
   {
    "duration": 72,
    "start_time": "2021-07-09T11:32:36.285Z"
   },
   {
    "duration": 72,
    "start_time": "2021-07-09T11:32:36.360Z"
   },
   {
    "duration": 74,
    "start_time": "2021-07-09T11:32:36.434Z"
   },
   {
    "duration": 74,
    "start_time": "2021-07-09T11:32:36.510Z"
   },
   {
    "duration": 71,
    "start_time": "2021-07-09T11:32:36.586Z"
   },
   {
    "duration": 109,
    "start_time": "2021-07-09T11:32:36.661Z"
   },
   {
    "duration": 74,
    "start_time": "2021-07-09T11:32:36.772Z"
   },
   {
    "duration": 77,
    "start_time": "2021-07-09T11:32:36.848Z"
   },
   {
    "duration": 74,
    "start_time": "2021-07-09T11:32:36.928Z"
   }
  ],
  "kernelspec": {
   "display_name": "Python 3",
   "language": "python",
   "name": "python3"
  },
  "language_info": {
   "codemirror_mode": {
    "name": "ipython",
    "version": 3
   },
   "file_extension": ".py",
   "mimetype": "text/x-python",
   "name": "python",
   "nbconvert_exporter": "python",
   "pygments_lexer": "ipython3",
   "version": "3.7.8"
  },
  "toc": {
   "base_numbering": 1,
   "nav_menu": {},
   "number_sections": true,
   "sideBar": true,
   "skip_h1_title": true,
   "title_cell": "Оглавление",
   "title_sidebar": "Оглавление",
   "toc_cell": true,
   "toc_position": {},
   "toc_section_display": true,
   "toc_window_display": false
  }
 },
 "nbformat": 4,
 "nbformat_minor": 2
}
