{
 "cells": [
  {
   "cell_type": "markdown",
   "metadata": {},
   "source": [
    "# Прогнозирование оттока пользователей из сети фитнес-центров"
   ]
  },
  {
   "cell_type": "markdown",
   "metadata": {},
   "source": [
    "# Описание проекта\n",
    "\n",
    "Сеть фитнес-центров «Культурист-датасаентист» разрабатывает стратегию взаимодействия с клиентами на основе аналитических данных.\n",
    "Распространённая проблема фитнес-клубов и других сервисов — отток клиентов. Как понять, что клиент больше не с вами? Можно записать в отток тех, кто попросил закрыть договор или удалил аккаунт. Однако клиенты не всегда уходят демонстративно: чаще перестают пользоваться сервисом тихо.\n",
    "Индикаторы оттока зависят от специфики отрасли. Когда пользователь редко, но стабильно закупается в интернет-магазине — не похоже, что он «отвалился». А вот если две недели не заходит на канал с ежедневно обновляемым контентом, дела плохи: подписчик заскучал и, кажется, оставил вас.\n",
    "Для фитнес-центра можно считать, что клиент попал в отток, если за последний месяц ни разу не посетил спортзал. Конечно, не исключено, что он уехал на Бали и по приезде обязательно продолжит ходить на фитнес. Однако чаще бывает наоборот. Если клиент начал новую жизнь с понедельника, немного походил в спортзал, а потом пропал — скорее всего, он не вернётся.\n",
    "Чтобы бороться с оттоком, отдел по работе с клиентами «Культуриста-датасаентиста» перевёл в электронный вид множество клиентских анкет. Задача — провести анализ и подготовить план действий по удержанию клиентов."
   ]
  },
  {
   "cell_type": "markdown",
   "metadata": {},
   "source": [
    "# Описание данных\n",
    "\n",
    "«Культурист-датасаентист» предоставил сведения в csv-файлах. Заказчик подготовил данные, которые содержат данные на месяц до оттока и факт оттока на определённый месяц. Набор данных включает следующие поля:\n",
    "\n",
    "\n",
    "- 'Churn' — факт оттока в текущем месяце;\n",
    "\n",
    "\n",
    "Текущие поля в датасете:\n",
    "\n",
    "\n",
    "Данные клиента за предыдущий до проверки факта оттока месяц:\n",
    "- 'gender' — пол;\n",
    "- 'Near_Location' — проживание или работа в районе, где находится фитнес-центр;\n",
    "- 'Partner' — сотрудник компании-партнёра клуба (сотрудничество с компаниями, чьи сотрудники могут получать скидки на абонемент — в таком случае фитнес-центр хранит информацию о работодателе клиента);\n",
    "- 'Promo_friends' — факт первоначальной записи в рамках акции «приведи друга» (использовал промо-код от знакомого при оплате первого абонемента);\n",
    "- 'Phone' — наличие контактного телефона;\n",
    "- 'Age' — возраст;\n",
    "- 'Lifetime' — время с момента первого обращения в фитнес-центр (в месяцах).\n",
    "\n",
    "\n",
    "Информация на основе журнала посещений, покупок и информация о текущем статусе абонемента клиента:\n",
    "- 'Contract_period' — длительность текущего действующего абонемента (месяц, 3 месяца, 6 месяцев, год);\n",
    "- 'Month_to_end_contract' — срок до окончания текущего действующего абонемента (в месяцах);\n",
    "- 'Group_visits' — факт посещения групповых занятий;\n",
    "- 'Avg_class_frequency_total' — средняя частота посещений в неделю за все время с начала действия абонемента;\n",
    "- 'Avg_class_frequency_current_month' — средняя частота посещений в неделю за предыдущий месяц;\n",
    "- 'Avg_additional_charges_total' — суммарная выручка от других услуг фитнес-центра: кафе, спорт-товары, косметический и массажный салон."
   ]
  },
  {
   "cell_type": "markdown",
   "metadata": {
    "toc": true
   },
   "source": [
    "<h1>Оглавление<span class=\"tocSkip\"></span></h1>\n",
    "<div class=\"toc\"><ul class=\"toc-item\"><li><span><a href=\"#Загрузка-данных\" data-toc-modified-id=\"Загрузка-данных-1\"><span class=\"toc-item-num\">1&nbsp;&nbsp;</span>Загрузка данных</a></span></li><li><span><a href=\"#Предобработка-данных\" data-toc-modified-id=\"Предобработка-данных-2\"><span class=\"toc-item-num\">2&nbsp;&nbsp;</span>Предобработка данных</a></span></li><li><span><a href=\"#Исследовательский-анализ-данных-(EDA)\" data-toc-modified-id=\"Исследовательский-анализ-данных-(EDA)-3\"><span class=\"toc-item-num\">3&nbsp;&nbsp;</span>Исследовательский анализ данных (EDA)</a></span></li><li><span><a href=\"#Модель-прогнозирования-оттока-клиентов\" data-toc-modified-id=\"Модель-прогнозирования-оттока-клиентов-4\"><span class=\"toc-item-num\">4&nbsp;&nbsp;</span>Модель прогнозирования оттока клиентов</a></span><ul class=\"toc-item\"><li><span><a href=\"#LogisticRegression\" data-toc-modified-id=\"LogisticRegression-4.1\"><span class=\"toc-item-num\">4.1&nbsp;&nbsp;</span>LogisticRegression</a></span></li><li><span><a href=\"#RandomForestRegressor\" data-toc-modified-id=\"RandomForestRegressor-4.2\"><span class=\"toc-item-num\">4.2&nbsp;&nbsp;</span>RandomForestRegressor</a></span></li><li><span><a href=\"#Вывод\" data-toc-modified-id=\"Вывод-4.3\"><span class=\"toc-item-num\">4.3&nbsp;&nbsp;</span>Вывод</a></span></li></ul></li><li><span><a href=\"#Кластеризация-клиентов\" data-toc-modified-id=\"Кластеризация-клиентов-5\"><span class=\"toc-item-num\">5&nbsp;&nbsp;</span>Кластеризация клиентов</a></span></li><li><span><a href=\"#Выводы-и-базовые-рекомендации\" data-toc-modified-id=\"Выводы-и-базовые-рекомендации-6\"><span class=\"toc-item-num\">6&nbsp;&nbsp;</span>Выводы и базовые рекомендации</a></span></li></ul></div>"
   ]
  },
  {
   "cell_type": "markdown",
   "metadata": {},
   "source": [
    "## Загрузка данных"
   ]
  },
  {
   "cell_type": "code",
   "execution_count": 1,
   "metadata": {},
   "outputs": [],
   "source": [
    "# импортируем библиотеки\n",
    "\n",
    "import pandas as pd\n",
    "import matplotlib.pyplot as plt\n",
    "import seaborn as sns\n",
    "import numpy as np\n",
    "import warnings\n",
    "\n",
    "from matplotlib import pyplot\n",
    "from plotly.subplots import make_subplots\n",
    "import plotly.graph_objects as go\n",
    "\n",
    "\n",
    "from scipy.cluster.hierarchy import dendrogram, linkage \n",
    "\n",
    "\n",
    "from sklearn.cluster import KMeans\n",
    "from sklearn.ensemble import RandomForestClassifier\n",
    "from sklearn.model_selection import train_test_split\n",
    "from sklearn.linear_model import LogisticRegression, Lasso, Ridge\n",
    "from sklearn.preprocessing import StandardScaler\n",
    "from sklearn.metrics import mean_absolute_error, mean_squared_error, r2_score, confusion_matrix, accuracy_score, precision_score, recall_score"
   ]
  },
  {
   "cell_type": "code",
   "execution_count": 2,
   "metadata": {},
   "outputs": [],
   "source": [
    "# записываем данные в табличку\n",
    "\n",
    "gchurn = pd.read_csv('/datasets/gym_churn.csv')"
   ]
  },
  {
   "cell_type": "code",
   "execution_count": 3,
   "metadata": {},
   "outputs": [
    {
     "name": "stdout",
     "output_type": "stream",
     "text": [
      "<class 'pandas.core.frame.DataFrame'>\n",
      "RangeIndex: 4000 entries, 0 to 3999\n",
      "Data columns (total 14 columns):\n",
      "gender                               4000 non-null int64\n",
      "Near_Location                        4000 non-null int64\n",
      "Partner                              4000 non-null int64\n",
      "Promo_friends                        4000 non-null int64\n",
      "Phone                                4000 non-null int64\n",
      "Contract_period                      4000 non-null int64\n",
      "Group_visits                         4000 non-null int64\n",
      "Age                                  4000 non-null int64\n",
      "Avg_additional_charges_total         4000 non-null float64\n",
      "Month_to_end_contract                4000 non-null float64\n",
      "Lifetime                             4000 non-null int64\n",
      "Avg_class_frequency_total            4000 non-null float64\n",
      "Avg_class_frequency_current_month    4000 non-null float64\n",
      "Churn                                4000 non-null int64\n",
      "dtypes: float64(4), int64(10)\n",
      "memory usage: 437.6 KB\n"
     ]
    }
   ],
   "source": [
    "# смотрим инфо\n",
    "\n",
    "gchurn.info()"
   ]
  },
  {
   "cell_type": "code",
   "execution_count": 4,
   "metadata": {},
   "outputs": [
    {
     "data": {
      "text/html": [
       "<div>\n",
       "<style scoped>\n",
       "    .dataframe tbody tr th:only-of-type {\n",
       "        vertical-align: middle;\n",
       "    }\n",
       "\n",
       "    .dataframe tbody tr th {\n",
       "        vertical-align: top;\n",
       "    }\n",
       "\n",
       "    .dataframe thead th {\n",
       "        text-align: right;\n",
       "    }\n",
       "</style>\n",
       "<table border=\"1\" class=\"dataframe\">\n",
       "  <thead>\n",
       "    <tr style=\"text-align: right;\">\n",
       "      <th></th>\n",
       "      <th>gender</th>\n",
       "      <th>Near_Location</th>\n",
       "      <th>Partner</th>\n",
       "      <th>Promo_friends</th>\n",
       "      <th>Phone</th>\n",
       "      <th>Contract_period</th>\n",
       "      <th>Group_visits</th>\n",
       "      <th>Age</th>\n",
       "      <th>Avg_additional_charges_total</th>\n",
       "      <th>Month_to_end_contract</th>\n",
       "      <th>Lifetime</th>\n",
       "      <th>Avg_class_frequency_total</th>\n",
       "      <th>Avg_class_frequency_current_month</th>\n",
       "      <th>Churn</th>\n",
       "    </tr>\n",
       "  </thead>\n",
       "  <tbody>\n",
       "    <tr>\n",
       "      <td>0</td>\n",
       "      <td>1</td>\n",
       "      <td>1</td>\n",
       "      <td>1</td>\n",
       "      <td>1</td>\n",
       "      <td>0</td>\n",
       "      <td>6</td>\n",
       "      <td>1</td>\n",
       "      <td>29</td>\n",
       "      <td>14.227470</td>\n",
       "      <td>5.0</td>\n",
       "      <td>3</td>\n",
       "      <td>0.020398</td>\n",
       "      <td>0.000000</td>\n",
       "      <td>0</td>\n",
       "    </tr>\n",
       "    <tr>\n",
       "      <td>1</td>\n",
       "      <td>0</td>\n",
       "      <td>1</td>\n",
       "      <td>0</td>\n",
       "      <td>0</td>\n",
       "      <td>1</td>\n",
       "      <td>12</td>\n",
       "      <td>1</td>\n",
       "      <td>31</td>\n",
       "      <td>113.202938</td>\n",
       "      <td>12.0</td>\n",
       "      <td>7</td>\n",
       "      <td>1.922936</td>\n",
       "      <td>1.910244</td>\n",
       "      <td>0</td>\n",
       "    </tr>\n",
       "    <tr>\n",
       "      <td>2</td>\n",
       "      <td>0</td>\n",
       "      <td>1</td>\n",
       "      <td>1</td>\n",
       "      <td>0</td>\n",
       "      <td>1</td>\n",
       "      <td>1</td>\n",
       "      <td>0</td>\n",
       "      <td>28</td>\n",
       "      <td>129.448479</td>\n",
       "      <td>1.0</td>\n",
       "      <td>2</td>\n",
       "      <td>1.859098</td>\n",
       "      <td>1.736502</td>\n",
       "      <td>0</td>\n",
       "    </tr>\n",
       "    <tr>\n",
       "      <td>3</td>\n",
       "      <td>0</td>\n",
       "      <td>1</td>\n",
       "      <td>1</td>\n",
       "      <td>1</td>\n",
       "      <td>1</td>\n",
       "      <td>12</td>\n",
       "      <td>1</td>\n",
       "      <td>33</td>\n",
       "      <td>62.669863</td>\n",
       "      <td>12.0</td>\n",
       "      <td>2</td>\n",
       "      <td>3.205633</td>\n",
       "      <td>3.357215</td>\n",
       "      <td>0</td>\n",
       "    </tr>\n",
       "    <tr>\n",
       "      <td>4</td>\n",
       "      <td>1</td>\n",
       "      <td>1</td>\n",
       "      <td>1</td>\n",
       "      <td>1</td>\n",
       "      <td>1</td>\n",
       "      <td>1</td>\n",
       "      <td>0</td>\n",
       "      <td>26</td>\n",
       "      <td>198.362265</td>\n",
       "      <td>1.0</td>\n",
       "      <td>3</td>\n",
       "      <td>1.113884</td>\n",
       "      <td>1.120078</td>\n",
       "      <td>0</td>\n",
       "    </tr>\n",
       "  </tbody>\n",
       "</table>\n",
       "</div>"
      ],
      "text/plain": [
       "   gender  Near_Location  Partner  Promo_friends  Phone  Contract_period  \\\n",
       "0       1              1        1              1      0                6   \n",
       "1       0              1        0              0      1               12   \n",
       "2       0              1        1              0      1                1   \n",
       "3       0              1        1              1      1               12   \n",
       "4       1              1        1              1      1                1   \n",
       "\n",
       "   Group_visits  Age  Avg_additional_charges_total  Month_to_end_contract  \\\n",
       "0             1   29                     14.227470                    5.0   \n",
       "1             1   31                    113.202938                   12.0   \n",
       "2             0   28                    129.448479                    1.0   \n",
       "3             1   33                     62.669863                   12.0   \n",
       "4             0   26                    198.362265                    1.0   \n",
       "\n",
       "   Lifetime  Avg_class_frequency_total  Avg_class_frequency_current_month  \\\n",
       "0         3                   0.020398                           0.000000   \n",
       "1         7                   1.922936                           1.910244   \n",
       "2         2                   1.859098                           1.736502   \n",
       "3         2                   3.205633                           3.357215   \n",
       "4         3                   1.113884                           1.120078   \n",
       "\n",
       "   Churn  \n",
       "0      0  \n",
       "1      0  \n",
       "2      0  \n",
       "3      0  \n",
       "4      0  "
      ]
     },
     "execution_count": 4,
     "metadata": {},
     "output_type": "execute_result"
    }
   ],
   "source": [
    "# отрисовываем первые пять строк\n",
    "\n",
    "gchurn.head()"
   ]
  },
  {
   "cell_type": "markdown",
   "metadata": {},
   "source": [
    "Был открыт и изучен файл с предоставленными данными."
   ]
  },
  {
   "cell_type": "markdown",
   "metadata": {},
   "source": [
    "## Предобработка данных"
   ]
  },
  {
   "cell_type": "code",
   "execution_count": 3,
   "metadata": {},
   "outputs": [],
   "source": [
    "# приводим к лоуеркейсу названия колонок\n",
    "gchurn.columns = [each.lower() for each in gchurn]"
   ]
  },
  {
   "cell_type": "code",
   "execution_count": 6,
   "metadata": {},
   "outputs": [
    {
     "data": {
      "text/plain": [
       "gender                               0\n",
       "near_location                        0\n",
       "partner                              0\n",
       "promo_friends                        0\n",
       "phone                                0\n",
       "contract_period                      0\n",
       "group_visits                         0\n",
       "age                                  0\n",
       "avg_additional_charges_total         0\n",
       "month_to_end_contract                0\n",
       "lifetime                             0\n",
       "avg_class_frequency_total            0\n",
       "avg_class_frequency_current_month    0\n",
       "churn                                0\n",
       "dtype: int64"
      ]
     },
     "execution_count": 6,
     "metadata": {},
     "output_type": "execute_result"
    }
   ],
   "source": [
    "# смотрим пропуски\n",
    "gchurn.isna().sum()"
   ]
  },
  {
   "cell_type": "code",
   "execution_count": 7,
   "metadata": {},
   "outputs": [
    {
     "data": {
      "text/plain": [
       "0"
      ]
     },
     "execution_count": 7,
     "metadata": {},
     "output_type": "execute_result"
    }
   ],
   "source": [
    "# смотрим дубли\n",
    "gchurn.duplicated().sum()"
   ]
  },
  {
   "cell_type": "markdown",
   "metadata": {},
   "source": [
    "Привели к нижнему регистру названия колонок, убедились, что нет дублей и пропусков. Готово, данные восхитительны."
   ]
  },
  {
   "cell_type": "markdown",
   "metadata": {},
   "source": [
    "## Исследовательский анализ данных (EDA)"
   ]
  },
  {
   "cell_type": "code",
   "execution_count": 8,
   "metadata": {},
   "outputs": [
    {
     "data": {
      "text/html": [
       "<div>\n",
       "<style scoped>\n",
       "    .dataframe tbody tr th:only-of-type {\n",
       "        vertical-align: middle;\n",
       "    }\n",
       "\n",
       "    .dataframe tbody tr th {\n",
       "        vertical-align: top;\n",
       "    }\n",
       "\n",
       "    .dataframe thead th {\n",
       "        text-align: right;\n",
       "    }\n",
       "</style>\n",
       "<table border=\"1\" class=\"dataframe\">\n",
       "  <thead>\n",
       "    <tr style=\"text-align: right;\">\n",
       "      <th></th>\n",
       "      <th>gender</th>\n",
       "      <th>near_location</th>\n",
       "      <th>partner</th>\n",
       "      <th>promo_friends</th>\n",
       "      <th>phone</th>\n",
       "      <th>contract_period</th>\n",
       "      <th>group_visits</th>\n",
       "      <th>age</th>\n",
       "      <th>avg_additional_charges_total</th>\n",
       "      <th>month_to_end_contract</th>\n",
       "      <th>lifetime</th>\n",
       "      <th>avg_class_frequency_total</th>\n",
       "      <th>avg_class_frequency_current_month</th>\n",
       "      <th>churn</th>\n",
       "    </tr>\n",
       "  </thead>\n",
       "  <tbody>\n",
       "    <tr>\n",
       "      <td>count</td>\n",
       "      <td>4000.000000</td>\n",
       "      <td>4000.000000</td>\n",
       "      <td>4000.000000</td>\n",
       "      <td>4000.000000</td>\n",
       "      <td>4000.000000</td>\n",
       "      <td>4000.000000</td>\n",
       "      <td>4000.000000</td>\n",
       "      <td>4000.000000</td>\n",
       "      <td>4000.000000</td>\n",
       "      <td>4000.000000</td>\n",
       "      <td>4000.000000</td>\n",
       "      <td>4000.000000</td>\n",
       "      <td>4000.000000</td>\n",
       "      <td>4000.000000</td>\n",
       "    </tr>\n",
       "    <tr>\n",
       "      <td>mean</td>\n",
       "      <td>0.510250</td>\n",
       "      <td>0.845250</td>\n",
       "      <td>0.486750</td>\n",
       "      <td>0.308500</td>\n",
       "      <td>0.903500</td>\n",
       "      <td>4.681250</td>\n",
       "      <td>0.412250</td>\n",
       "      <td>29.184250</td>\n",
       "      <td>146.943728</td>\n",
       "      <td>4.322750</td>\n",
       "      <td>3.724750</td>\n",
       "      <td>1.879020</td>\n",
       "      <td>1.767052</td>\n",
       "      <td>0.265250</td>\n",
       "    </tr>\n",
       "    <tr>\n",
       "      <td>std</td>\n",
       "      <td>0.499957</td>\n",
       "      <td>0.361711</td>\n",
       "      <td>0.499887</td>\n",
       "      <td>0.461932</td>\n",
       "      <td>0.295313</td>\n",
       "      <td>4.549706</td>\n",
       "      <td>0.492301</td>\n",
       "      <td>3.258367</td>\n",
       "      <td>96.355602</td>\n",
       "      <td>4.191297</td>\n",
       "      <td>3.749267</td>\n",
       "      <td>0.972245</td>\n",
       "      <td>1.052906</td>\n",
       "      <td>0.441521</td>\n",
       "    </tr>\n",
       "    <tr>\n",
       "      <td>min</td>\n",
       "      <td>0.000000</td>\n",
       "      <td>0.000000</td>\n",
       "      <td>0.000000</td>\n",
       "      <td>0.000000</td>\n",
       "      <td>0.000000</td>\n",
       "      <td>1.000000</td>\n",
       "      <td>0.000000</td>\n",
       "      <td>18.000000</td>\n",
       "      <td>0.148205</td>\n",
       "      <td>1.000000</td>\n",
       "      <td>0.000000</td>\n",
       "      <td>0.000000</td>\n",
       "      <td>0.000000</td>\n",
       "      <td>0.000000</td>\n",
       "    </tr>\n",
       "    <tr>\n",
       "      <td>25%</td>\n",
       "      <td>0.000000</td>\n",
       "      <td>1.000000</td>\n",
       "      <td>0.000000</td>\n",
       "      <td>0.000000</td>\n",
       "      <td>1.000000</td>\n",
       "      <td>1.000000</td>\n",
       "      <td>0.000000</td>\n",
       "      <td>27.000000</td>\n",
       "      <td>68.868830</td>\n",
       "      <td>1.000000</td>\n",
       "      <td>1.000000</td>\n",
       "      <td>1.180875</td>\n",
       "      <td>0.963003</td>\n",
       "      <td>0.000000</td>\n",
       "    </tr>\n",
       "    <tr>\n",
       "      <td>50%</td>\n",
       "      <td>1.000000</td>\n",
       "      <td>1.000000</td>\n",
       "      <td>0.000000</td>\n",
       "      <td>0.000000</td>\n",
       "      <td>1.000000</td>\n",
       "      <td>1.000000</td>\n",
       "      <td>0.000000</td>\n",
       "      <td>29.000000</td>\n",
       "      <td>136.220159</td>\n",
       "      <td>1.000000</td>\n",
       "      <td>3.000000</td>\n",
       "      <td>1.832768</td>\n",
       "      <td>1.719574</td>\n",
       "      <td>0.000000</td>\n",
       "    </tr>\n",
       "    <tr>\n",
       "      <td>75%</td>\n",
       "      <td>1.000000</td>\n",
       "      <td>1.000000</td>\n",
       "      <td>1.000000</td>\n",
       "      <td>1.000000</td>\n",
       "      <td>1.000000</td>\n",
       "      <td>6.000000</td>\n",
       "      <td>1.000000</td>\n",
       "      <td>31.000000</td>\n",
       "      <td>210.949625</td>\n",
       "      <td>6.000000</td>\n",
       "      <td>5.000000</td>\n",
       "      <td>2.536078</td>\n",
       "      <td>2.510336</td>\n",
       "      <td>1.000000</td>\n",
       "    </tr>\n",
       "    <tr>\n",
       "      <td>max</td>\n",
       "      <td>1.000000</td>\n",
       "      <td>1.000000</td>\n",
       "      <td>1.000000</td>\n",
       "      <td>1.000000</td>\n",
       "      <td>1.000000</td>\n",
       "      <td>12.000000</td>\n",
       "      <td>1.000000</td>\n",
       "      <td>41.000000</td>\n",
       "      <td>552.590740</td>\n",
       "      <td>12.000000</td>\n",
       "      <td>31.000000</td>\n",
       "      <td>6.023668</td>\n",
       "      <td>6.146783</td>\n",
       "      <td>1.000000</td>\n",
       "    </tr>\n",
       "  </tbody>\n",
       "</table>\n",
       "</div>"
      ],
      "text/plain": [
       "            gender  near_location      partner  promo_friends        phone  \\\n",
       "count  4000.000000    4000.000000  4000.000000    4000.000000  4000.000000   \n",
       "mean      0.510250       0.845250     0.486750       0.308500     0.903500   \n",
       "std       0.499957       0.361711     0.499887       0.461932     0.295313   \n",
       "min       0.000000       0.000000     0.000000       0.000000     0.000000   \n",
       "25%       0.000000       1.000000     0.000000       0.000000     1.000000   \n",
       "50%       1.000000       1.000000     0.000000       0.000000     1.000000   \n",
       "75%       1.000000       1.000000     1.000000       1.000000     1.000000   \n",
       "max       1.000000       1.000000     1.000000       1.000000     1.000000   \n",
       "\n",
       "       contract_period  group_visits          age  \\\n",
       "count      4000.000000   4000.000000  4000.000000   \n",
       "mean          4.681250      0.412250    29.184250   \n",
       "std           4.549706      0.492301     3.258367   \n",
       "min           1.000000      0.000000    18.000000   \n",
       "25%           1.000000      0.000000    27.000000   \n",
       "50%           1.000000      0.000000    29.000000   \n",
       "75%           6.000000      1.000000    31.000000   \n",
       "max          12.000000      1.000000    41.000000   \n",
       "\n",
       "       avg_additional_charges_total  month_to_end_contract     lifetime  \\\n",
       "count                   4000.000000            4000.000000  4000.000000   \n",
       "mean                     146.943728               4.322750     3.724750   \n",
       "std                       96.355602               4.191297     3.749267   \n",
       "min                        0.148205               1.000000     0.000000   \n",
       "25%                       68.868830               1.000000     1.000000   \n",
       "50%                      136.220159               1.000000     3.000000   \n",
       "75%                      210.949625               6.000000     5.000000   \n",
       "max                      552.590740              12.000000    31.000000   \n",
       "\n",
       "       avg_class_frequency_total  avg_class_frequency_current_month  \\\n",
       "count                4000.000000                        4000.000000   \n",
       "mean                    1.879020                           1.767052   \n",
       "std                     0.972245                           1.052906   \n",
       "min                     0.000000                           0.000000   \n",
       "25%                     1.180875                           0.963003   \n",
       "50%                     1.832768                           1.719574   \n",
       "75%                     2.536078                           2.510336   \n",
       "max                     6.023668                           6.146783   \n",
       "\n",
       "             churn  \n",
       "count  4000.000000  \n",
       "mean      0.265250  \n",
       "std       0.441521  \n",
       "min       0.000000  \n",
       "25%       0.000000  \n",
       "50%       0.000000  \n",
       "75%       1.000000  \n",
       "max       1.000000  "
      ]
     },
     "execution_count": 8,
     "metadata": {},
     "output_type": "execute_result"
    }
   ],
   "source": [
    "# посмотрим на датасет: есть ли в нем отсутствующие признаки, \n",
    "# изучим средние значения и стандартные отклонения\n",
    "\n",
    "gchurn.describe()"
   ]
  },
  {
   "cell_type": "markdown",
   "metadata": {},
   "source": [
    "Чтобы узнать разброс значений, среднюю стоимость и медиану, используем метод .describe(): у нас нет отсутствующих признаков, большинство живет поблизости, мало кто участвовал в акции \"приведи друга\", большинство оставило номер телефона, меньше половины посешает групповые занятия, средний возраст - 29 лет, средний размер прибыли с посетителя - 146, в среднем договор истекает через 4 месяца, занятия люди посещают пару раз в неделю."
   ]
  },
  {
   "cell_type": "code",
   "execution_count": 9,
   "metadata": {},
   "outputs": [
    {
     "data": {
      "text/html": [
       "<div>\n",
       "<style scoped>\n",
       "    .dataframe tbody tr th:only-of-type {\n",
       "        vertical-align: middle;\n",
       "    }\n",
       "\n",
       "    .dataframe tbody tr th {\n",
       "        vertical-align: top;\n",
       "    }\n",
       "\n",
       "    .dataframe thead th {\n",
       "        text-align: right;\n",
       "    }\n",
       "</style>\n",
       "<table border=\"1\" class=\"dataframe\">\n",
       "  <thead>\n",
       "    <tr style=\"text-align: right;\">\n",
       "      <th></th>\n",
       "      <th>gender</th>\n",
       "      <th>near_location</th>\n",
       "      <th>partner</th>\n",
       "      <th>promo_friends</th>\n",
       "      <th>phone</th>\n",
       "      <th>contract_period</th>\n",
       "      <th>group_visits</th>\n",
       "      <th>age</th>\n",
       "      <th>avg_additional_charges_total</th>\n",
       "      <th>month_to_end_contract</th>\n",
       "      <th>lifetime</th>\n",
       "      <th>avg_class_frequency_total</th>\n",
       "      <th>avg_class_frequency_current_month</th>\n",
       "    </tr>\n",
       "    <tr>\n",
       "      <th>churn</th>\n",
       "      <th></th>\n",
       "      <th></th>\n",
       "      <th></th>\n",
       "      <th></th>\n",
       "      <th></th>\n",
       "      <th></th>\n",
       "      <th></th>\n",
       "      <th></th>\n",
       "      <th></th>\n",
       "      <th></th>\n",
       "      <th></th>\n",
       "      <th></th>\n",
       "      <th></th>\n",
       "    </tr>\n",
       "  </thead>\n",
       "  <tbody>\n",
       "    <tr>\n",
       "      <td>0</td>\n",
       "      <td>0.510037</td>\n",
       "      <td>0.873086</td>\n",
       "      <td>0.534195</td>\n",
       "      <td>0.353522</td>\n",
       "      <td>0.903709</td>\n",
       "      <td>5.747193</td>\n",
       "      <td>0.464103</td>\n",
       "      <td>29.976523</td>\n",
       "      <td>158.445715</td>\n",
       "      <td>5.283089</td>\n",
       "      <td>4.711807</td>\n",
       "      <td>2.024876</td>\n",
       "      <td>2.027882</td>\n",
       "    </tr>\n",
       "    <tr>\n",
       "      <td>1</td>\n",
       "      <td>0.510839</td>\n",
       "      <td>0.768143</td>\n",
       "      <td>0.355325</td>\n",
       "      <td>0.183789</td>\n",
       "      <td>0.902922</td>\n",
       "      <td>1.728558</td>\n",
       "      <td>0.268615</td>\n",
       "      <td>26.989632</td>\n",
       "      <td>115.082899</td>\n",
       "      <td>1.662582</td>\n",
       "      <td>0.990575</td>\n",
       "      <td>1.474995</td>\n",
       "      <td>1.044546</td>\n",
       "    </tr>\n",
       "  </tbody>\n",
       "</table>\n",
       "</div>"
      ],
      "text/plain": [
       "         gender  near_location   partner  promo_friends     phone  \\\n",
       "churn                                                               \n",
       "0      0.510037       0.873086  0.534195       0.353522  0.903709   \n",
       "1      0.510839       0.768143  0.355325       0.183789  0.902922   \n",
       "\n",
       "       contract_period  group_visits        age  avg_additional_charges_total  \\\n",
       "churn                                                                           \n",
       "0             5.747193      0.464103  29.976523                    158.445715   \n",
       "1             1.728558      0.268615  26.989632                    115.082899   \n",
       "\n",
       "       month_to_end_contract  lifetime  avg_class_frequency_total  \\\n",
       "churn                                                               \n",
       "0                   5.283089  4.711807                   2.024876   \n",
       "1                   1.662582  0.990575                   1.474995   \n",
       "\n",
       "       avg_class_frequency_current_month  \n",
       "churn                                     \n",
       "0                               2.027882  \n",
       "1                               1.044546  "
      ]
     },
     "metadata": {},
     "output_type": "display_data"
    }
   ],
   "source": [
    "# Посмотрите на средние значения признаков в двух группах — тех, кто ушел в отток и тех, кто остался\n",
    "\n",
    "display(gchurn.groupby('churn').mean())"
   ]
  },
  {
   "cell_type": "markdown",
   "metadata": {},
   "source": [
    "Те, кто ушел, живут чуть дальше, реже являются сотрудниками фирм-партнеров, меньше приходят по акции \"приведи друга\". Так же у них примерно в три раза меньше срок договора, они немного младше (на три года), реже посещают групповые занятия (почти в два раза), приносят меньше прибыли (на 40). Времени до окончания договора около 1,5 месяцев (против 5 у тех, кто не в оттоке), средний лайфтайм этой когорты в 5 раз меньше (меньше месяца), а посещеют занятия они в полтора-два раза реже чем те, кто не ушел."
   ]
  },
  {
   "cell_type": "code",
   "execution_count": 10,
   "metadata": {
    "scrolled": true
   },
   "outputs": [
    {
     "data": {
      "image/png": "[encoded data removed]",
      "text/plain": [
       "<Figure size 432x288 with 1 Axes>"
      ]
     },
     "metadata": {
      "needs_background": "light"
     },
     "output_type": "display_data"
    },
    {
     "data": {
      "image/png": "[encoded data removed]",
      "text/plain": [
       "<Figure size 432x288 with 1 Axes>"
      ]
     },
     "metadata": {
      "needs_background": "light"
     },
     "output_type": "display_data"
    },
    {
     "data": {
      "image/png": "[encoded data removed]",
      "text/plain": [
       "<Figure size 432x288 with 1 Axes>"
      ]
     },
     "metadata": {
      "needs_background": "light"
     },
     "output_type": "display_data"
    },
    {
     "data": {
      "image/png": "[encoded data removed]",
      "text/plain": [
       "<Figure size 432x288 with 1 Axes>"
      ]
     },
     "metadata": {
      "needs_background": "light"
     },
     "output_type": "display_data"
    },
    {
     "data": {
      "image/png": "[encoded data removed]",
      "text/plain": [
       "<Figure size 432x288 with 1 Axes>"
      ]
     },
     "metadata": {
      "needs_background": "light"
     },
     "output_type": "display_data"
    }
   ],
   "source": [
    "def feat_hist(dataframe, column_to_group, column_to_plot):\n",
    " \n",
    "    for c in column_to_plot:\n",
    "        for cl in dataframe[column_to_group].unique():\n",
    "            sns.distplot(dataframe[dataframe[column_to_group]==cl][c], \n",
    "                         label='{} = {}'.format(column_to_group, str(cl)), bins = 10)\n",
    "        plt.title(c)\n",
    "        plt.legend()\n",
    "        plt.show()\n",
    "\n",
    "feat_hist(gchurn, 'churn', gchurn.drop(['gender', 'near_location', 'partner', 'promo_friends', 'phone', 'contract_period', 'group_visits', 'age', 'churn'], axis = 1).columns)"
   ]
  },
  {
   "cell_type": "markdown",
   "metadata": {},
   "source": [
    "Данные распределены нормально для количества занятий в неделю за все время, а также для количества занятй в неделю за последний месяц для группы, которая вне оттока. Для других данных распределение смещено влево, к более низким показателям, присутствуют заметные выбросы. Выделяется график со временем до окончания договора - сильно заметны выбросы у группы оттока для тех, у кого контракт заканчивается в ближайшее время."
   ]
  },
  {
   "cell_type": "code",
   "execution_count": 12,
   "metadata": {},
   "outputs": [
    {
     "data": {
      "image/png": "[encoded data removed]",
      "text/plain": [
       "<Figure size 360x360 with 1 Axes>"
      ]
     },
     "metadata": {
      "needs_background": "light"
     },
     "output_type": "display_data"
    },
    {
     "data": {
      "image/png": "[encoded data removed]",
      "text/plain": [
       "<Figure size 360x360 with 1 Axes>"
      ]
     },
     "metadata": {
      "needs_background": "light"
     },
     "output_type": "display_data"
    },
    {
     "data": {
      "image/png": "[encoded data removed]",
      "text/plain": [
       "<Figure size 360x360 with 1 Axes>"
      ]
     },
     "metadata": {
      "needs_background": "light"
     },
     "output_type": "display_data"
    },
    {
     "data": {
      "image/png": "[encoded data removed]",
      "text/plain": [
       "<Figure size 360x360 with 1 Axes>"
      ]
     },
     "metadata": {
      "needs_background": "light"
     },
     "output_type": "display_data"
    },
    {
     "data": {
      "image/png": "[encoded data removed]",
      "text/plain": [
       "<Figure size 360x360 with 1 Axes>"
      ]
     },
     "metadata": {
      "needs_background": "light"
     },
     "output_type": "display_data"
    },
    {
     "data": {
      "image/png": "[encoded data removed]",
      "text/plain": [
       "<Figure size 360x360 with 1 Axes>"
      ]
     },
     "metadata": {
      "needs_background": "light"
     },
     "output_type": "display_data"
    },
    {
     "data": {
      "image/png": "[encoded data removed]",
      "text/plain": [
       "<Figure size 360x360 with 1 Axes>"
      ]
     },
     "metadata": {
      "needs_background": "light"
     },
     "output_type": "display_data"
    },
    {
     "data": {
      "image/png": "[encoded data removed]",
      "text/plain": [
       "<Figure size 360x360 with 1 Axes>"
      ]
     },
     "metadata": {
      "needs_background": "light"
     },
     "output_type": "display_data"
    }
   ],
   "source": [
    "# столбчатые гистограммы в двух группах — тех, кто ушел в отток и тех, кто остался\n",
    "\n",
    "for col in gchurn.drop(['churn', 'avg_additional_charges_total', 'month_to_end_contract', 'lifetime', 'avg_class_frequency_total', 'avg_class_frequency_current_month'], axis = 1).columns:\n",
    "    plt.figure(figsize=(5, 5))\n",
    "    sns.countplot(x = gchurn[col], hue = 'churn', data = gchurn)\n",
    "    plt.title('График частоты признака {}'.format(col))\n",
    "    plt.show()"
   ]
  },
  {
   "cell_type": "markdown",
   "metadata": {},
   "source": [
    "В столбчатых гистограммах частоты можно обратить внимание на графики локации (ярко выделяется группа \"не оттока\" для тех, кто живет поблизости, график возраста (смещен к более маленьким цифрам для тех, кто ушел)."
   ]
  },
  {
   "cell_type": "code",
   "execution_count": 13,
   "metadata": {},
   "outputs": [
    {
     "data": {
      "image/png": "[encoded data removed]",
      "text/plain": [
       "<Figure size 1152x720 with 2 Axes>"
      ]
     },
     "metadata": {
      "needs_background": "light"
     },
     "output_type": "display_data"
    }
   ],
   "source": [
    "# строим матрицу корреляций \n",
    "\n",
    "cm = gchurn.corr()\n",
    "plt.figure(figsize=(16, 10))\n",
    "sns.heatmap(cm, annot = True, square = True)\n",
    "plt.title('Матрица корреляций')\n",
    "plt.show()"
   ]
  },
  {
   "cell_type": "markdown",
   "metadata": {},
   "source": [
    "Здесь выделим \"черные\" ячейки, как положительно влияющие на то, что клиент останется с нами - срок контракта, возраст, время до окончания договора, то, сколько клиент уже занимается в нашем центре, частота посещений за последний месяц. Все эти показатели чем больше, тем лучше."
   ]
  },
  {
   "cell_type": "markdown",
   "metadata": {},
   "source": [
    "Кроме того, замечена сильная корреляция между парами признаков \"Количество месяцев в договоре\" и \"Количество месяцев до окончания договора\", а также \"Частота посещений зала за весь период в неделю\" и \"Частота посещений зала в неделю за последний месяц\", что вполне логично."
   ]
  },
  {
   "cell_type": "markdown",
   "metadata": {},
   "source": [
    "## Модель прогнозирования оттока клиентов"
   ]
  },
  {
   "cell_type": "code",
   "execution_count": 6,
   "metadata": {},
   "outputs": [],
   "source": [
    "X = gchurn.drop('churn', axis = 1)\n",
    "y = gchurn['churn']\n",
    "\n",
    "# разделяем модель на обучающую и валидационную выборку\n",
    "X_train, X_test, y_train, y_test = train_test_split(X, y, test_size = 0.2, random_state = 0)"
   ]
  },
  {
   "cell_type": "markdown",
   "metadata": {},
   "source": [
    "### LogisticRegression"
   ]
  },
  {
   "cell_type": "code",
   "execution_count": 15,
   "metadata": {},
   "outputs": [
    {
     "name": "stdout",
     "output_type": "stream",
     "text": [
      "Accuracy: 0.93\n",
      "Precision: 0.86\n",
      "Recall: 0.83\n"
     ]
    }
   ],
   "source": [
    "# зададим алгоритм для нашей модели\n",
    "modelLR = LogisticRegression(solver='liblinear')\n",
    "\n",
    "# обучим модель\n",
    "modelLR.fit(X_train, y_train)\n",
    "\n",
    "# воспользуемся уже обученной моделью, чтобы сделать прогнозы\n",
    "probabilitiesLR = modelLR.predict_proba(X_test)[:, 1]\n",
    "\n",
    "# бинарный прогноз\n",
    "predictionsLR = modelLR.predict(X_test)\n",
    "\n",
    "# выведите все изученные метрики для полученного прогноза\n",
    "print('Accuracy: {:.2f}'.format(accuracy_score(y_test, predictionsLR)))\n",
    "print('Precision: {:.2f}'.format(precision_score(y_test, predictionsLR)))\n",
    "print('Recall: {:.2f}'.format(recall_score(y_test, predictionsLR)))"
   ]
  },
  {
   "cell_type": "markdown",
   "metadata": {},
   "source": [
    "### RandomForestRegressor"
   ]
  },
  {
   "cell_type": "code",
   "execution_count": 16,
   "metadata": {},
   "outputs": [
    {
     "name": "stdout",
     "output_type": "stream",
     "text": [
      "Accuracy: 0.91\n",
      "Precision: 0.83\n",
      "Recall: 0.78\n"
     ]
    }
   ],
   "source": [
    "warnings.filterwarnings(\"ignore\")\n",
    "# зададим алгоритм для нашей модели\n",
    "modelRF = RandomForestClassifier(random_state=0) ### нужен random_state\n",
    "\n",
    "# обучим модель\n",
    "modelRF.fit(X_train, y_train)\n",
    "\n",
    "# воспользуемся уже обученной моделью, чтобы сделать прогнозы\n",
    "probabilitiesRF = modelRF.predict_proba(X_test)[:, 1]\n",
    "\n",
    "# бинарный прогноз\n",
    "predictionsRF = modelRF.predict(X_test)\n",
    "\n",
    "# выведите все изученные метрики для полученного прогноза\n",
    "print('Accuracy: {:.2f}'.format(accuracy_score(y_test, predictionsRF)))\n",
    "print('Precision: {:.2f}'.format(precision_score(y_test, predictionsRF)))\n",
    "print('Recall: {:.2f}'.format(recall_score(y_test, predictionsRF)))"
   ]
  },
  {
   "cell_type": "markdown",
   "metadata": {},
   "source": [
    "### Вывод"
   ]
  },
  {
   "cell_type": "markdown",
   "metadata": {},
   "source": [
    "Метрики модели LogisticRegression оказались более точными (на 0.02), точными (на 0.03) и полными (на 0.05)."
   ]
  },
  {
   "cell_type": "markdown",
   "metadata": {},
   "source": [
    "## Кластеризация клиентов"
   ]
  },
  {
   "cell_type": "code",
   "execution_count": 7,
   "metadata": {},
   "outputs": [],
   "source": [
    "# создадим объект класса StandardScaler и применим его к обучающей выборке\n",
    "sc = StandardScaler()\n",
    "X_sc = sc.fit_transform(X)\n",
    "\n",
    "linked = linkage(X_sc, method = 'ward') "
   ]
  },
  {
   "cell_type": "code",
   "execution_count": 18,
   "metadata": {},
   "outputs": [
    {
     "data": {
      "image/png": "[encoded data removed]",
      "text/plain": [
       "<Figure size 1152x648 with 1 Axes>"
      ]
     },
     "metadata": {
      "needs_background": "light"
     },
     "output_type": "display_data"
    }
   ],
   "source": [
    "# отрисуем дендрограмму\n",
    "\n",
    "plt.figure(figsize=(16, 9))  \n",
    "dendrogram(linked, orientation = 'top')\n",
    "plt.title('Кластеризация пользователей')\n",
    "plt.show()"
   ]
  },
  {
   "cell_type": "markdown",
   "metadata": {},
   "source": [
    "Цвета 4, следовательно, оставляем 4 кластера."
   ]
  },
  {
   "cell_type": "code",
   "execution_count": 8,
   "metadata": {},
   "outputs": [],
   "source": [
    "km = KMeans(n_clusters = 4, random_state=0)\n",
    "labels = km.fit_predict(X_sc)\n",
    "gchurn['cluster'] = labels"
   ]
  },
  {
   "cell_type": "code",
   "execution_count": 20,
   "metadata": {},
   "outputs": [
    {
     "data": {
      "text/html": [
       "<div>\n",
       "<style scoped>\n",
       "    .dataframe tbody tr th:only-of-type {\n",
       "        vertical-align: middle;\n",
       "    }\n",
       "\n",
       "    .dataframe tbody tr th {\n",
       "        vertical-align: top;\n",
       "    }\n",
       "\n",
       "    .dataframe thead th {\n",
       "        text-align: right;\n",
       "    }\n",
       "</style>\n",
       "<table border=\"1\" class=\"dataframe\">\n",
       "  <thead>\n",
       "    <tr style=\"text-align: right;\">\n",
       "      <th></th>\n",
       "      <th>cluster</th>\n",
       "      <th>count of members</th>\n",
       "      <th>churn</th>\n",
       "      <th>churn rate</th>\n",
       "    </tr>\n",
       "  </thead>\n",
       "  <tbody>\n",
       "    <tr>\n",
       "      <td>0</td>\n",
       "      <td>0</td>\n",
       "      <td>386</td>\n",
       "      <td>103</td>\n",
       "      <td>26.68</td>\n",
       "    </tr>\n",
       "    <tr>\n",
       "      <td>1</td>\n",
       "      <td>1</td>\n",
       "      <td>1479</td>\n",
       "      <td>828</td>\n",
       "      <td>55.98</td>\n",
       "    </tr>\n",
       "    <tr>\n",
       "      <td>2</td>\n",
       "      <td>2</td>\n",
       "      <td>1057</td>\n",
       "      <td>98</td>\n",
       "      <td>9.27</td>\n",
       "    </tr>\n",
       "    <tr>\n",
       "      <td>3</td>\n",
       "      <td>3</td>\n",
       "      <td>1078</td>\n",
       "      <td>32</td>\n",
       "      <td>2.97</td>\n",
       "    </tr>\n",
       "  </tbody>\n",
       "</table>\n",
       "</div>"
      ],
      "text/plain": [
       "   cluster  count of members  churn  churn rate\n",
       "0        0               386    103       26.68\n",
       "1        1              1479    828       55.98\n",
       "2        2              1057     98        9.27\n",
       "3        3              1078     32        2.97"
      ]
     },
     "metadata": {},
     "output_type": "display_data"
    }
   ],
   "source": [
    "# создаем сводную табличку, разделенную по кластерам и смотрим проценты оттока\n",
    "gchurn_pivot = gchurn.pivot_table(index='cluster', values='churn', \n",
    "                               aggfunc=['count', 'sum', lambda x: abs(round(((x == 0).sum() / x.count()-1)*100,2))]).reset_index()\n",
    "gchurn_pivot.columns = ['cluster', 'count of members', 'churn', 'churn rate']\n",
    "display(gchurn_pivot)"
   ]
  },
  {
   "cell_type": "markdown",
   "metadata": {},
   "source": [
    "Самые лояльные - во втором и третьем кластерах."
   ]
  },
  {
   "cell_type": "code",
   "execution_count": 21,
   "metadata": {},
   "outputs": [
    {
     "data": {
      "text/html": [
       "<div>\n",
       "<style scoped>\n",
       "    .dataframe tbody tr th:only-of-type {\n",
       "        vertical-align: middle;\n",
       "    }\n",
       "\n",
       "    .dataframe tbody tr th {\n",
       "        vertical-align: top;\n",
       "    }\n",
       "\n",
       "    .dataframe thead th {\n",
       "        text-align: right;\n",
       "    }\n",
       "</style>\n",
       "<table border=\"1\" class=\"dataframe\">\n",
       "  <thead>\n",
       "    <tr style=\"text-align: right;\">\n",
       "      <th>cluster</th>\n",
       "      <th>0</th>\n",
       "      <th>1</th>\n",
       "      <th>2</th>\n",
       "      <th>3</th>\n",
       "    </tr>\n",
       "  </thead>\n",
       "  <tbody>\n",
       "    <tr>\n",
       "      <td>gender</td>\n",
       "      <td>0.523316</td>\n",
       "      <td>0.486815</td>\n",
       "      <td>0.544939</td>\n",
       "      <td>0.503711</td>\n",
       "    </tr>\n",
       "    <tr>\n",
       "      <td>near_location</td>\n",
       "      <td>0.862694</td>\n",
       "      <td>0.759297</td>\n",
       "      <td>0.861873</td>\n",
       "      <td>0.940631</td>\n",
       "    </tr>\n",
       "    <tr>\n",
       "      <td>partner</td>\n",
       "      <td>0.471503</td>\n",
       "      <td>0.381339</td>\n",
       "      <td>0.343425</td>\n",
       "      <td>0.777365</td>\n",
       "    </tr>\n",
       "    <tr>\n",
       "      <td>promo_friends</td>\n",
       "      <td>0.305699</td>\n",
       "      <td>0.190669</td>\n",
       "      <td>0.205298</td>\n",
       "      <td>0.572356</td>\n",
       "    </tr>\n",
       "    <tr>\n",
       "      <td>phone</td>\n",
       "      <td>0.000000</td>\n",
       "      <td>1.000000</td>\n",
       "      <td>1.000000</td>\n",
       "      <td>1.000000</td>\n",
       "    </tr>\n",
       "    <tr>\n",
       "      <td>contract_period</td>\n",
       "      <td>4.777202</td>\n",
       "      <td>1.899256</td>\n",
       "      <td>2.403027</td>\n",
       "      <td>10.697588</td>\n",
       "    </tr>\n",
       "    <tr>\n",
       "      <td>group_visits</td>\n",
       "      <td>0.427461</td>\n",
       "      <td>0.292765</td>\n",
       "      <td>0.447493</td>\n",
       "      <td>0.536178</td>\n",
       "    </tr>\n",
       "    <tr>\n",
       "      <td>age</td>\n",
       "      <td>29.297927</td>\n",
       "      <td>28.048005</td>\n",
       "      <td>29.989593</td>\n",
       "      <td>29.912801</td>\n",
       "    </tr>\n",
       "    <tr>\n",
       "      <td>avg_additional_charges_total</td>\n",
       "      <td>144.208179</td>\n",
       "      <td>129.704525</td>\n",
       "      <td>157.358764</td>\n",
       "      <td>161.363032</td>\n",
       "    </tr>\n",
       "    <tr>\n",
       "      <td>month_to_end_contract</td>\n",
       "      <td>4.466321</td>\n",
       "      <td>1.805274</td>\n",
       "      <td>2.239357</td>\n",
       "      <td>9.768089</td>\n",
       "    </tr>\n",
       "    <tr>\n",
       "      <td>lifetime</td>\n",
       "      <td>3.940415</td>\n",
       "      <td>2.235294</td>\n",
       "      <td>4.704825</td>\n",
       "      <td>4.730056</td>\n",
       "    </tr>\n",
       "    <tr>\n",
       "      <td>avg_class_frequency_total</td>\n",
       "      <td>1.854211</td>\n",
       "      <td>1.204610</td>\n",
       "      <td>2.724796</td>\n",
       "      <td>1.983884</td>\n",
       "    </tr>\n",
       "    <tr>\n",
       "      <td>avg_class_frequency_current_month</td>\n",
       "      <td>1.723967</td>\n",
       "      <td>0.951590</td>\n",
       "      <td>2.711132</td>\n",
       "      <td>1.975592</td>\n",
       "    </tr>\n",
       "    <tr>\n",
       "      <td>churn</td>\n",
       "      <td>0.266839</td>\n",
       "      <td>0.559838</td>\n",
       "      <td>0.092715</td>\n",
       "      <td>0.029685</td>\n",
       "    </tr>\n",
       "  </tbody>\n",
       "</table>\n",
       "</div>"
      ],
      "text/plain": [
       "cluster                                     0           1           2  \\\n",
       "gender                               0.523316    0.486815    0.544939   \n",
       "near_location                        0.862694    0.759297    0.861873   \n",
       "partner                              0.471503    0.381339    0.343425   \n",
       "promo_friends                        0.305699    0.190669    0.205298   \n",
       "phone                                0.000000    1.000000    1.000000   \n",
       "contract_period                      4.777202    1.899256    2.403027   \n",
       "group_visits                         0.427461    0.292765    0.447493   \n",
       "age                                 29.297927   28.048005   29.989593   \n",
       "avg_additional_charges_total       144.208179  129.704525  157.358764   \n",
       "month_to_end_contract                4.466321    1.805274    2.239357   \n",
       "lifetime                             3.940415    2.235294    4.704825   \n",
       "avg_class_frequency_total            1.854211    1.204610    2.724796   \n",
       "avg_class_frequency_current_month    1.723967    0.951590    2.711132   \n",
       "churn                                0.266839    0.559838    0.092715   \n",
       "\n",
       "cluster                                     3  \n",
       "gender                               0.503711  \n",
       "near_location                        0.940631  \n",
       "partner                              0.777365  \n",
       "promo_friends                        0.572356  \n",
       "phone                                1.000000  \n",
       "contract_period                     10.697588  \n",
       "group_visits                         0.536178  \n",
       "age                                 29.912801  \n",
       "avg_additional_charges_total       161.363032  \n",
       "month_to_end_contract                9.768089  \n",
       "lifetime                             4.730056  \n",
       "avg_class_frequency_total            1.983884  \n",
       "avg_class_frequency_current_month    1.975592  \n",
       "churn                                0.029685  "
      ]
     },
     "execution_count": 21,
     "metadata": {},
     "output_type": "execute_result"
    }
   ],
   "source": [
    "# выводим статистику по средним значениям наших признаков по кластеру\n",
    "gchurn.groupby(['cluster']).mean().T"
   ]
  },
  {
   "cell_type": "markdown",
   "metadata": {},
   "source": [
    "Те значения, на которые мы обратили внимание в EDA прослеживаются и здесь - срок контракта для второго кластера (около года), групповые посещения, возраст ближе к 30 годам, срок до истечения контракта больше, более высокий лайфтайм когорт и более частые посещения."
   ]
  },
  {
   "cell_type": "code",
   "execution_count": 22,
   "metadata": {
    "scrolled": false
   },
   "outputs": [
    {
     "data": {
      "image/png": "[encoded data removed]",
      "text/plain": [
       "<Figure size 1080x360 with 1 Axes>"
      ]
     },
     "metadata": {
      "needs_background": "light"
     },
     "output_type": "display_data"
    },
    {
     "data": {
      "image/png": "[encoded data removed]",
      "text/plain": [
       "<Figure size 1080x360 with 1 Axes>"
      ]
     },
     "metadata": {
      "needs_background": "light"
     },
     "output_type": "display_data"
    },
    {
     "data": {
      "image/png": "[encoded data removed]",
      "text/plain": [
       "<Figure size 1080x360 with 1 Axes>"
      ]
     },
     "metadata": {
      "needs_background": "light"
     },
     "output_type": "display_data"
    },
    {
     "data": {
      "image/png": "[encoded data removed]",
      "text/plain": [
       "<Figure size 1080x360 with 1 Axes>"
      ]
     },
     "metadata": {
      "needs_background": "light"
     },
     "output_type": "display_data"
    },
    {
     "data": {
      "image/png": "[encoded data removed]",
      "text/plain": [
       "<Figure size 1080x360 with 1 Axes>"
      ]
     },
     "metadata": {
      "needs_background": "light"
     },
     "output_type": "display_data"
    },
    {
     "data": {
      "text/plain": [
       "<Figure size 1080x360 with 0 Axes>"
      ]
     },
     "metadata": {},
     "output_type": "display_data"
    }
   ],
   "source": [
    "for col in gchurn.drop(['gender', 'near_location', 'partner', 'promo_friends', 'phone', 'contract_period', 'group_visits', 'age', 'churn'], axis = 1).columns:\n",
    "    fig = plt.figure(figsize=(15,5 ))\n",
    "    #plt.figure(figsize=(15, 5))\n",
    "    if col != 'cluster':\n",
    "        cluster_0 = gchurn.loc[gchurn['cluster'] == 0]\n",
    "        cluster_1 = gchurn.loc[gchurn['cluster'] == 1]\n",
    "        cluster_2 = gchurn.loc[gchurn['cluster'] == 2]\n",
    "        cluster_3 = gchurn.loc[gchurn['cluster'] == 3]\n",
    "\n",
    "        sns.distplot(cluster_0[col])\n",
    "        sns.distplot(cluster_1[col])\n",
    "        sns.distplot(cluster_2[col])\n",
    "        sns.distplot(cluster_3[col])\n",
    "        fig.legend(labels=['cluster_0', 'cluster_1', 'cluster_2', 'cluster_3'])\n",
    "        plt.title('График распределения признака {} по кластерам'.format(col))\n",
    "        plt.show()"
   ]
  },
  {
   "cell_type": "code",
   "execution_count": 23,
   "metadata": {
    "scrolled": false
   },
   "outputs": [
    {
     "data": {
      "image/png": "[encoded data removed]",
      "text/plain": [
       "<Figure size 360x360 with 1 Axes>"
      ]
     },
     "metadata": {
      "needs_background": "light"
     },
     "output_type": "display_data"
    },
    {
     "data": {
      "image/png": "[encoded data removed]",
      "text/plain": [
       "<Figure size 360x360 with 1 Axes>"
      ]
     },
     "metadata": {
      "needs_background": "light"
     },
     "output_type": "display_data"
    },
    {
     "data": {
      "image/png": "[encoded data removed]",
      "text/plain": [
       "<Figure size 360x360 with 1 Axes>"
      ]
     },
     "metadata": {
      "needs_background": "light"
     },
     "output_type": "display_data"
    },
    {
     "data": {
      "image/png": "[encoded data removed]",
      "text/plain": [
       "<Figure size 360x360 with 1 Axes>"
      ]
     },
     "metadata": {
      "needs_background": "light"
     },
     "output_type": "display_data"
    },
    {
     "data": {
      "image/png": "[encoded data removed]",
      "text/plain": [
       "<Figure size 360x360 with 1 Axes>"
      ]
     },
     "metadata": {
      "needs_background": "light"
     },
     "output_type": "display_data"
    },
    {
     "data": {
      "image/png": "[encoded data removed]",
      "text/plain": [
       "<Figure size 360x360 with 1 Axes>"
      ]
     },
     "metadata": {
      "needs_background": "light"
     },
     "output_type": "display_data"
    },
    {
     "data": {
      "image/png": "[encoded data removed]",
      "text/plain": [
       "<Figure size 360x360 with 1 Axes>"
      ]
     },
     "metadata": {
      "needs_background": "light"
     },
     "output_type": "display_data"
    },
    {
     "data": {
      "image/png": "[encoded data removed]",
      "text/plain": [
       "<Figure size 360x360 with 1 Axes>"
      ]
     },
     "metadata": {
      "needs_background": "light"
     },
     "output_type": "display_data"
    },
    {
     "data": {
      "text/plain": [
       "<Figure size 360x360 with 0 Axes>"
      ]
     },
     "metadata": {},
     "output_type": "display_data"
    }
   ],
   "source": [
    "for col in gchurn.drop(['churn', 'avg_additional_charges_total', 'month_to_end_contract', 'lifetime', 'avg_class_frequency_total', 'avg_class_frequency_current_month'], axis = 1).columns:\n",
    "    plt.figure(figsize = (5, 5))\n",
    "    if col != 'cluster':\n",
    "        plt.title('График распределения признака {} по кластерам'.format(col))\n",
    "        sns.countplot(x = gchurn[col], hue = 'cluster', data = gchurn);    \n",
    "    plt.show()"
   ]
  },
  {
   "cell_type": "markdown",
   "metadata": {},
   "source": [
    "## Выводы и базовые рекомендации"
   ]
  },
  {
   "cell_type": "markdown",
   "metadata": {},
   "source": [
    "Самыми лояльными клиентами оказались те, кто закреплен после кластеризации в кластерах 2 и 3, их характеризует близость проживания от фитнес-центра, длительный срок контракта, больший возраст, время до окончания договора, то, сколько клиент уже занимается в нашем центре, высокая частота посещений за последний месяц.\n",
    "\n",
    "На основании проведенного исследования предлагается:\n",
    "- Поддерживать клиентов из кластеров 2 и 3,\n",
    "- Для привлечения новых клиентов сосредоточиться на таких, которые будут соответствовать портрету вышеуказанных кластеров (возраст ближе к 30 годам, проживающие неподалеку),\n",
    "- Для мотивации тех, кто находится в группах оттока предложить дополнительные условия, которые позволят им \"укрепиться\" в фитнес-центре - например, возможность перейти в другой центр из нашей сети, но ближе к их дому, предложить бесплатные групповые занятия или пару пробных бесплатных занятий с тренером - иногда люди уходят, если у них нет четкого плана действий - что именно им нужно делать на занятиях,\n",
    "- При привлечении новых клиентов создавать специальное предложение в формате более крупной скидки на абонемент с продолжительным сроком действия, либо акции формата 5 месяцев+1, 10 месяцев+2."
   ]
  }
 ],
 "metadata": {
  "ExecuteTimeLog": [
   {
    "duration": 1764,
    "start_time": "2021-06-16T20:56:09.497Z"
   },
   {
    "duration": 32,
    "start_time": "2021-06-16T20:56:11.265Z"
   },
   {
    "duration": 33,
    "start_time": "2021-06-16T20:56:19.228Z"
   },
   {
    "duration": 11,
    "start_time": "2021-06-16T20:58:44.309Z"
   },
   {
    "duration": 17,
    "start_time": "2021-06-16T20:59:02.140Z"
   },
   {
    "duration": 98,
    "start_time": "2021-06-16T21:02:11.401Z"
   },
   {
    "duration": 459,
    "start_time": "2021-06-16T21:02:23.931Z"
   },
   {
    "duration": 71,
    "start_time": "2021-06-16T21:03:52.486Z"
   },
   {
    "duration": 5,
    "start_time": "2021-06-16T21:07:18.639Z"
   },
   {
    "duration": 16,
    "start_time": "2021-06-16T21:08:18.745Z"
   },
   {
    "duration": 23,
    "start_time": "2021-06-16T21:08:43.535Z"
   },
   {
    "duration": 4,
    "start_time": "2021-06-16T21:12:44.992Z"
   },
   {
    "duration": 8,
    "start_time": "2021-06-16T21:15:01.117Z"
   },
   {
    "duration": 12,
    "start_time": "2021-06-16T21:15:04.673Z"
   },
   {
    "duration": 309,
    "start_time": "2021-06-16T21:28:23.949Z"
   },
   {
    "duration": 5071,
    "start_time": "2021-06-16T21:28:36.017Z"
   },
   {
    "duration": 360857,
    "start_time": "2021-06-16T21:31:25.533Z"
   },
   {
    "duration": 3086,
    "start_time": "2021-06-16T21:37:26.392Z"
   },
   {
    "duration": 1841,
    "start_time": "2021-06-16T21:38:19.299Z"
   },
   {
    "duration": 402,
    "start_time": "2021-06-17T20:51:51.140Z"
   },
   {
    "duration": 1655,
    "start_time": "2021-06-17T20:51:59.802Z"
   },
   {
    "duration": 25,
    "start_time": "2021-06-17T20:52:01.459Z"
   },
   {
    "duration": 32,
    "start_time": "2021-06-17T20:52:01.487Z"
   },
   {
    "duration": 24,
    "start_time": "2021-06-17T20:52:01.522Z"
   },
   {
    "duration": 4,
    "start_time": "2021-06-17T20:52:01.548Z"
   },
   {
    "duration": 27,
    "start_time": "2021-06-17T20:52:01.554Z"
   },
   {
    "duration": 33,
    "start_time": "2021-06-17T20:52:01.583Z"
   },
   {
    "duration": 91,
    "start_time": "2021-06-17T20:52:01.618Z"
   },
   {
    "duration": 23,
    "start_time": "2021-06-17T20:52:01.713Z"
   },
   {
    "duration": 5346,
    "start_time": "2021-06-17T20:52:01.739Z"
   },
   {
    "duration": 1551,
    "start_time": "2021-06-17T20:54:07.692Z"
   },
   {
    "duration": 25,
    "start_time": "2021-06-17T20:54:09.246Z"
   },
   {
    "duration": 509,
    "start_time": "2021-06-17T20:54:09.274Z"
   },
   {
    "duration": 107,
    "start_time": "2021-06-17T20:54:09.679Z"
   },
   {
    "duration": 107,
    "start_time": "2021-06-17T20:54:09.680Z"
   },
   {
    "duration": 108,
    "start_time": "2021-06-17T20:54:09.681Z"
   },
   {
    "duration": 107,
    "start_time": "2021-06-17T20:54:09.683Z"
   },
   {
    "duration": 50,
    "start_time": "2021-06-17T20:54:09.742Z"
   },
   {
    "duration": 49,
    "start_time": "2021-06-17T20:54:09.744Z"
   },
   {
    "duration": 50,
    "start_time": "2021-06-17T20:54:09.745Z"
   },
   {
    "duration": 50,
    "start_time": "2021-06-17T20:54:09.747Z"
   },
   {
    "duration": 50,
    "start_time": "2021-06-17T20:54:09.748Z"
   },
   {
    "duration": 50,
    "start_time": "2021-06-17T20:54:09.750Z"
   },
   {
    "duration": 1553,
    "start_time": "2021-06-17T20:54:19.987Z"
   },
   {
    "duration": 26,
    "start_time": "2021-06-17T20:54:21.542Z"
   },
   {
    "duration": 11,
    "start_time": "2021-06-17T20:54:21.571Z"
   },
   {
    "duration": 38,
    "start_time": "2021-06-17T20:54:21.585Z"
   },
   {
    "duration": 5,
    "start_time": "2021-06-17T20:54:21.626Z"
   },
   {
    "duration": 13,
    "start_time": "2021-06-17T20:54:21.633Z"
   },
   {
    "duration": 14,
    "start_time": "2021-06-17T20:54:21.649Z"
   },
   {
    "duration": 101,
    "start_time": "2021-06-17T20:54:21.665Z"
   },
   {
    "duration": 42,
    "start_time": "2021-06-17T20:54:21.770Z"
   },
   {
    "duration": 5052,
    "start_time": "2021-06-17T20:54:21.815Z"
   },
   {
    "duration": 1050,
    "start_time": "2021-06-17T20:58:21.859Z"
   },
   {
    "duration": 93,
    "start_time": "2021-06-17T20:58:22.820Z"
   },
   {
    "duration": 92,
    "start_time": "2021-06-17T20:58:22.822Z"
   },
   {
    "duration": 92,
    "start_time": "2021-06-17T20:58:22.824Z"
   },
   {
    "duration": 48,
    "start_time": "2021-06-17T20:58:22.870Z"
   },
   {
    "duration": 48,
    "start_time": "2021-06-17T20:58:22.871Z"
   },
   {
    "duration": 49,
    "start_time": "2021-06-17T20:58:22.872Z"
   },
   {
    "duration": 48,
    "start_time": "2021-06-17T20:58:22.874Z"
   },
   {
    "duration": 49,
    "start_time": "2021-06-17T20:58:22.875Z"
   },
   {
    "duration": 49,
    "start_time": "2021-06-17T20:58:22.876Z"
   },
   {
    "duration": 50,
    "start_time": "2021-06-17T20:58:22.877Z"
   },
   {
    "duration": 50,
    "start_time": "2021-06-17T20:58:22.878Z"
   },
   {
    "duration": 49,
    "start_time": "2021-06-17T20:58:22.880Z"
   },
   {
    "duration": 49,
    "start_time": "2021-06-17T20:58:22.881Z"
   },
   {
    "duration": 1603,
    "start_time": "2021-06-17T20:59:31.329Z"
   },
   {
    "duration": 1517,
    "start_time": "2021-06-17T20:59:38.155Z"
   },
   {
    "duration": 25,
    "start_time": "2021-06-17T20:59:39.675Z"
   },
   {
    "duration": 10,
    "start_time": "2021-06-17T20:59:39.703Z"
   },
   {
    "duration": 22,
    "start_time": "2021-06-17T20:59:39.715Z"
   },
   {
    "duration": 9,
    "start_time": "2021-06-17T20:59:39.740Z"
   },
   {
    "duration": 26,
    "start_time": "2021-06-17T20:59:39.752Z"
   },
   {
    "duration": 37,
    "start_time": "2021-06-17T20:59:39.781Z"
   },
   {
    "duration": 89,
    "start_time": "2021-06-17T20:59:39.821Z"
   },
   {
    "duration": 26,
    "start_time": "2021-06-17T20:59:39.916Z"
   },
   {
    "duration": 5093,
    "start_time": "2021-06-17T20:59:39.946Z"
   },
   {
    "duration": 1705,
    "start_time": "2021-06-17T21:00:49.098Z"
   },
   {
    "duration": 27,
    "start_time": "2021-06-17T21:00:50.806Z"
   },
   {
    "duration": 10,
    "start_time": "2021-06-17T21:00:50.837Z"
   },
   {
    "duration": 24,
    "start_time": "2021-06-17T21:00:50.850Z"
   },
   {
    "duration": 4,
    "start_time": "2021-06-17T21:00:50.876Z"
   },
   {
    "duration": 31,
    "start_time": "2021-06-17T21:00:50.882Z"
   },
   {
    "duration": 12,
    "start_time": "2021-06-17T21:00:50.916Z"
   },
   {
    "duration": 101,
    "start_time": "2021-06-17T21:00:50.930Z"
   },
   {
    "duration": 24,
    "start_time": "2021-06-17T21:00:51.034Z"
   },
   {
    "duration": 5111,
    "start_time": "2021-06-17T21:00:51.061Z"
   },
   {
    "duration": 2,
    "start_time": "2021-06-17T21:00:56.175Z"
   },
   {
    "duration": 8,
    "start_time": "2021-06-17T21:00:56.180Z"
   },
   {
    "duration": 596,
    "start_time": "2021-06-17T21:00:56.190Z"
   },
   {
    "duration": 59,
    "start_time": "2021-06-17T21:00:56.730Z"
   },
   {
    "duration": 1531,
    "start_time": "2021-06-17T21:02:57.830Z"
   },
   {
    "duration": 26,
    "start_time": "2021-06-17T21:02:59.364Z"
   },
   {
    "duration": 21,
    "start_time": "2021-06-17T21:02:59.393Z"
   },
   {
    "duration": 24,
    "start_time": "2021-06-17T21:02:59.417Z"
   },
   {
    "duration": 5,
    "start_time": "2021-06-17T21:02:59.444Z"
   },
   {
    "duration": 9,
    "start_time": "2021-06-17T21:02:59.451Z"
   },
   {
    "duration": 50,
    "start_time": "2021-06-17T21:02:59.462Z"
   },
   {
    "duration": 72,
    "start_time": "2021-06-17T21:02:59.515Z"
   },
   {
    "duration": 24,
    "start_time": "2021-06-17T21:02:59.609Z"
   },
   {
    "duration": 5219,
    "start_time": "2021-06-17T21:02:59.636Z"
   },
   {
    "duration": 3,
    "start_time": "2021-06-17T21:03:04.858Z"
   },
   {
    "duration": 10,
    "start_time": "2021-06-17T21:03:04.864Z"
   },
   {
    "duration": 136,
    "start_time": "2021-06-17T21:03:04.877Z"
   },
   {
    "duration": 98,
    "start_time": "2021-06-17T21:03:05.015Z"
   },
   {
    "duration": 158,
    "start_time": "2021-06-17T21:09:35.495Z"
   },
   {
    "duration": 1586,
    "start_time": "2021-06-17T21:11:48.976Z"
   },
   {
    "duration": 24,
    "start_time": "2021-06-17T21:11:50.564Z"
   },
   {
    "duration": 18,
    "start_time": "2021-06-17T21:11:50.591Z"
   },
   {
    "duration": 21,
    "start_time": "2021-06-17T21:11:50.611Z"
   },
   {
    "duration": 7,
    "start_time": "2021-06-17T21:11:50.634Z"
   },
   {
    "duration": 16,
    "start_time": "2021-06-17T21:11:50.643Z"
   },
   {
    "duration": 28,
    "start_time": "2021-06-17T21:11:50.661Z"
   },
   {
    "duration": 83,
    "start_time": "2021-06-17T21:11:50.692Z"
   },
   {
    "duration": 38,
    "start_time": "2021-06-17T21:11:50.777Z"
   },
   {
    "duration": 5140,
    "start_time": "2021-06-17T21:11:50.817Z"
   },
   {
    "duration": 3,
    "start_time": "2021-06-17T21:11:55.960Z"
   },
   {
    "duration": 8,
    "start_time": "2021-06-17T21:11:55.966Z"
   },
   {
    "duration": 33,
    "start_time": "2021-06-17T21:11:55.976Z"
   },
   {
    "duration": 298,
    "start_time": "2021-06-17T21:11:56.011Z"
   },
   {
    "duration": 1538,
    "start_time": "2021-06-17T21:13:24.613Z"
   },
   {
    "duration": 26,
    "start_time": "2021-06-17T21:13:26.154Z"
   },
   {
    "duration": 10,
    "start_time": "2021-06-17T21:13:26.183Z"
   },
   {
    "duration": 32,
    "start_time": "2021-06-17T21:13:26.195Z"
   },
   {
    "duration": 3,
    "start_time": "2021-06-17T21:13:26.230Z"
   },
   {
    "duration": 16,
    "start_time": "2021-06-17T21:13:26.235Z"
   },
   {
    "duration": 13,
    "start_time": "2021-06-17T21:13:26.253Z"
   },
   {
    "duration": 101,
    "start_time": "2021-06-17T21:13:26.269Z"
   },
   {
    "duration": 44,
    "start_time": "2021-06-17T21:13:26.373Z"
   },
   {
    "duration": 5110,
    "start_time": "2021-06-17T21:13:26.420Z"
   },
   {
    "duration": 3,
    "start_time": "2021-06-17T21:13:31.532Z"
   },
   {
    "duration": 66,
    "start_time": "2021-06-17T21:13:31.538Z"
   },
   {
    "duration": 35,
    "start_time": "2021-06-17T21:13:31.606Z"
   },
   {
    "duration": 13,
    "start_time": "2021-06-17T21:13:31.644Z"
   },
   {
    "duration": 177,
    "start_time": "2021-06-17T21:13:31.659Z"
   },
   {
    "duration": 970,
    "start_time": "2021-06-17T21:25:39.289Z"
   },
   {
    "duration": 2032,
    "start_time": "2021-06-17T21:25:49.718Z"
   },
   {
    "duration": 41,
    "start_time": "2021-06-17T21:25:51.714Z"
   },
   {
    "duration": 39,
    "start_time": "2021-06-17T21:25:51.717Z"
   },
   {
    "duration": 39,
    "start_time": "2021-06-17T21:25:51.718Z"
   },
   {
    "duration": 26,
    "start_time": "2021-06-17T21:25:51.733Z"
   },
   {
    "duration": 26,
    "start_time": "2021-06-17T21:25:51.734Z"
   },
   {
    "duration": 26,
    "start_time": "2021-06-17T21:25:51.736Z"
   },
   {
    "duration": 26,
    "start_time": "2021-06-17T21:25:51.737Z"
   },
   {
    "duration": 26,
    "start_time": "2021-06-17T21:25:51.738Z"
   },
   {
    "duration": -11,
    "start_time": "2021-06-17T21:25:51.776Z"
   },
   {
    "duration": -10,
    "start_time": "2021-06-17T21:25:51.777Z"
   },
   {
    "duration": -11,
    "start_time": "2021-06-17T21:25:51.779Z"
   },
   {
    "duration": -11,
    "start_time": "2021-06-17T21:25:51.780Z"
   },
   {
    "duration": -11,
    "start_time": "2021-06-17T21:25:51.781Z"
   },
   {
    "duration": -10,
    "start_time": "2021-06-17T21:25:51.782Z"
   },
   {
    "duration": 1671,
    "start_time": "2021-06-17T21:27:17.843Z"
   },
   {
    "duration": 24,
    "start_time": "2021-06-17T21:27:19.517Z"
   },
   {
    "duration": 11,
    "start_time": "2021-06-17T21:27:19.544Z"
   },
   {
    "duration": 27,
    "start_time": "2021-06-17T21:27:19.557Z"
   },
   {
    "duration": 23,
    "start_time": "2021-06-17T21:27:19.587Z"
   },
   {
    "duration": 10,
    "start_time": "2021-06-17T21:27:19.612Z"
   },
   {
    "duration": 16,
    "start_time": "2021-06-17T21:27:19.625Z"
   },
   {
    "duration": 110,
    "start_time": "2021-06-17T21:27:19.645Z"
   },
   {
    "duration": 26,
    "start_time": "2021-06-17T21:27:19.758Z"
   },
   {
    "duration": 5170,
    "start_time": "2021-06-17T21:27:19.808Z"
   },
   {
    "duration": 3,
    "start_time": "2021-06-17T21:27:24.982Z"
   },
   {
    "duration": 3,
    "start_time": "2021-06-17T21:27:25.008Z"
   },
   {
    "duration": 13,
    "start_time": "2021-06-17T21:27:25.014Z"
   },
   {
    "duration": 13,
    "start_time": "2021-06-17T21:27:25.029Z"
   },
   {
    "duration": 1082,
    "start_time": "2021-06-17T21:27:25.045Z"
   },
   {
    "duration": 967,
    "start_time": "2021-06-17T21:28:36.116Z"
   },
   {
    "duration": 194,
    "start_time": "2021-06-17T21:29:04.914Z"
   },
   {
    "duration": 4,
    "start_time": "2021-06-17T21:29:16.602Z"
   },
   {
    "duration": 1578,
    "start_time": "2021-06-17T21:32:38.176Z"
   },
   {
    "duration": 24,
    "start_time": "2021-06-17T21:32:39.756Z"
   },
   {
    "duration": 12,
    "start_time": "2021-06-17T21:32:39.783Z"
   },
   {
    "duration": 30,
    "start_time": "2021-06-17T21:32:39.797Z"
   },
   {
    "duration": 4,
    "start_time": "2021-06-17T21:32:39.830Z"
   },
   {
    "duration": 23,
    "start_time": "2021-06-17T21:32:39.835Z"
   },
   {
    "duration": 22,
    "start_time": "2021-06-17T21:32:39.860Z"
   },
   {
    "duration": 88,
    "start_time": "2021-06-17T21:32:39.885Z"
   },
   {
    "duration": 41,
    "start_time": "2021-06-17T21:32:39.976Z"
   },
   {
    "duration": 5028,
    "start_time": "2021-06-17T21:32:40.020Z"
   },
   {
    "duration": 3,
    "start_time": "2021-06-17T21:32:45.051Z"
   },
   {
    "duration": 12,
    "start_time": "2021-06-17T21:32:45.056Z"
   },
   {
    "duration": 12,
    "start_time": "2021-06-17T21:32:45.071Z"
   },
   {
    "duration": 32,
    "start_time": "2021-06-17T21:32:45.085Z"
   },
   {
    "duration": 1065,
    "start_time": "2021-06-17T21:32:45.119Z"
   },
   {
    "duration": 1562,
    "start_time": "2021-06-17T21:33:13.902Z"
   },
   {
    "duration": 24,
    "start_time": "2021-06-17T21:33:15.467Z"
   },
   {
    "duration": 17,
    "start_time": "2021-06-17T21:33:15.494Z"
   },
   {
    "duration": 26,
    "start_time": "2021-06-17T21:33:15.514Z"
   },
   {
    "duration": 3,
    "start_time": "2021-06-17T21:33:15.543Z"
   },
   {
    "duration": 9,
    "start_time": "2021-06-17T21:33:15.549Z"
   },
   {
    "duration": 12,
    "start_time": "2021-06-17T21:33:15.561Z"
   },
   {
    "duration": 71,
    "start_time": "2021-06-17T21:33:15.610Z"
   },
   {
    "duration": 45,
    "start_time": "2021-06-17T21:33:15.685Z"
   },
   {
    "duration": 5123,
    "start_time": "2021-06-17T21:33:15.733Z"
   },
   {
    "duration": 2,
    "start_time": "2021-06-17T21:33:20.859Z"
   },
   {
    "duration": 7,
    "start_time": "2021-06-17T21:33:20.864Z"
   },
   {
    "duration": 11,
    "start_time": "2021-06-17T21:33:20.873Z"
   },
   {
    "duration": 27,
    "start_time": "2021-06-17T21:33:20.887Z"
   },
   {
    "duration": 171,
    "start_time": "2021-06-17T21:33:20.917Z"
   },
   {
    "duration": 93,
    "start_time": "2021-06-18T13:53:34.857Z"
   },
   {
    "duration": -616,
    "start_time": "2021-06-18T13:53:35.569Z"
   },
   {
    "duration": -618,
    "start_time": "2021-06-18T13:53:35.572Z"
   },
   {
    "duration": -620,
    "start_time": "2021-06-18T13:53:35.576Z"
   },
   {
    "duration": -667,
    "start_time": "2021-06-18T13:53:35.624Z"
   },
   {
    "duration": -667,
    "start_time": "2021-06-18T13:53:35.626Z"
   },
   {
    "duration": -668,
    "start_time": "2021-06-18T13:53:35.628Z"
   },
   {
    "duration": -668,
    "start_time": "2021-06-18T13:53:35.629Z"
   },
   {
    "duration": -668,
    "start_time": "2021-06-18T13:53:35.630Z"
   },
   {
    "duration": -669,
    "start_time": "2021-06-18T13:53:35.633Z"
   },
   {
    "duration": -674,
    "start_time": "2021-06-18T13:53:35.639Z"
   },
   {
    "duration": -677,
    "start_time": "2021-06-18T13:53:35.643Z"
   },
   {
    "duration": -677,
    "start_time": "2021-06-18T13:53:35.644Z"
   },
   {
    "duration": -678,
    "start_time": "2021-06-18T13:53:35.647Z"
   },
   {
    "duration": -678,
    "start_time": "2021-06-18T13:53:35.648Z"
   },
   {
    "duration": 1518,
    "start_time": "2021-06-18T13:53:47.193Z"
   },
   {
    "duration": 27,
    "start_time": "2021-06-18T13:53:48.713Z"
   },
   {
    "duration": 11,
    "start_time": "2021-06-18T13:53:48.744Z"
   },
   {
    "duration": 21,
    "start_time": "2021-06-18T13:53:48.758Z"
   },
   {
    "duration": 4,
    "start_time": "2021-06-18T13:53:48.801Z"
   },
   {
    "duration": 17,
    "start_time": "2021-06-18T13:53:48.807Z"
   },
   {
    "duration": 12,
    "start_time": "2021-06-18T13:53:48.826Z"
   },
   {
    "duration": 92,
    "start_time": "2021-06-18T13:53:48.841Z"
   },
   {
    "duration": 23,
    "start_time": "2021-06-18T13:53:48.936Z"
   },
   {
    "duration": 5055,
    "start_time": "2021-06-18T13:53:48.962Z"
   },
   {
    "duration": 3,
    "start_time": "2021-06-18T13:53:54.020Z"
   },
   {
    "duration": 16,
    "start_time": "2021-06-18T13:53:54.025Z"
   },
   {
    "duration": 25,
    "start_time": "2021-06-18T13:53:54.043Z"
   },
   {
    "duration": 18,
    "start_time": "2021-06-18T13:53:54.070Z"
   },
   {
    "duration": 698,
    "start_time": "2021-06-18T13:53:54.090Z"
   },
   {
    "duration": 539,
    "start_time": "2021-06-18T13:57:03.662Z"
   },
   {
    "duration": 575,
    "start_time": "2021-06-18T14:03:46.698Z"
   },
   {
    "duration": 381,
    "start_time": "2021-06-18T14:04:09.320Z"
   },
   {
    "duration": 59,
    "start_time": "2021-06-18T14:04:19.643Z"
   },
   {
    "duration": 115,
    "start_time": "2021-06-18T14:05:08.392Z"
   },
   {
    "duration": 1533,
    "start_time": "2021-06-18T14:05:21.905Z"
   },
   {
    "duration": 27,
    "start_time": "2021-06-18T14:05:23.441Z"
   },
   {
    "duration": 13,
    "start_time": "2021-06-18T14:05:23.471Z"
   },
   {
    "duration": 34,
    "start_time": "2021-06-18T14:05:23.487Z"
   },
   {
    "duration": 10,
    "start_time": "2021-06-18T14:05:23.524Z"
   },
   {
    "duration": 24,
    "start_time": "2021-06-18T14:05:23.536Z"
   },
   {
    "duration": 21,
    "start_time": "2021-06-18T14:05:23.563Z"
   },
   {
    "duration": 74,
    "start_time": "2021-06-18T14:05:23.589Z"
   },
   {
    "duration": 45,
    "start_time": "2021-06-18T14:05:23.667Z"
   },
   {
    "duration": 4852,
    "start_time": "2021-06-18T14:05:23.714Z"
   },
   {
    "duration": 3,
    "start_time": "2021-06-18T14:05:28.569Z"
   },
   {
    "duration": 10,
    "start_time": "2021-06-18T14:05:28.575Z"
   },
   {
    "duration": 9,
    "start_time": "2021-06-18T14:05:28.601Z"
   },
   {
    "duration": 11,
    "start_time": "2021-06-18T14:05:28.612Z"
   },
   {
    "duration": 10,
    "start_time": "2021-06-18T14:05:28.625Z"
   },
   {
    "duration": 575,
    "start_time": "2021-06-18T14:05:28.638Z"
   },
   {
    "duration": 192,
    "start_time": "2021-06-18T14:05:50.409Z"
   },
   {
    "duration": 78,
    "start_time": "2021-06-18T14:07:38.730Z"
   },
   {
    "duration": 272,
    "start_time": "2021-06-18T14:07:54.825Z"
   },
   {
    "duration": 413,
    "start_time": "2021-06-18T14:08:03.371Z"
   },
   {
    "duration": 287,
    "start_time": "2021-06-18T14:08:39.876Z"
   },
   {
    "duration": 1530,
    "start_time": "2021-06-18T14:08:53.181Z"
   },
   {
    "duration": 27,
    "start_time": "2021-06-18T14:08:54.714Z"
   },
   {
    "duration": 10,
    "start_time": "2021-06-18T14:08:54.744Z"
   },
   {
    "duration": 22,
    "start_time": "2021-06-18T14:08:54.757Z"
   },
   {
    "duration": 20,
    "start_time": "2021-06-18T14:08:54.781Z"
   },
   {
    "duration": 16,
    "start_time": "2021-06-18T14:08:54.803Z"
   },
   {
    "duration": 18,
    "start_time": "2021-06-18T14:08:54.821Z"
   },
   {
    "duration": 96,
    "start_time": "2021-06-18T14:08:54.842Z"
   },
   {
    "duration": 26,
    "start_time": "2021-06-18T14:08:54.941Z"
   },
   {
    "duration": 5041,
    "start_time": "2021-06-18T14:08:54.969Z"
   },
   {
    "duration": 4,
    "start_time": "2021-06-18T14:09:00.012Z"
   },
   {
    "duration": 8,
    "start_time": "2021-06-18T14:09:00.018Z"
   },
   {
    "duration": 13,
    "start_time": "2021-06-18T14:09:00.028Z"
   },
   {
    "duration": 4,
    "start_time": "2021-06-18T14:09:00.043Z"
   },
   {
    "duration": 13,
    "start_time": "2021-06-18T14:09:00.049Z"
   },
   {
    "duration": 144,
    "start_time": "2021-06-18T14:09:00.064Z"
   },
   {
    "duration": 156,
    "start_time": "2021-06-18T14:09:00.211Z"
   },
   {
    "duration": 8,
    "start_time": "2021-06-18T14:35:47.136Z"
   },
   {
    "duration": 453,
    "start_time": "2021-06-18T14:35:48.643Z"
   },
   {
    "duration": 1570,
    "start_time": "2021-06-18T14:38:46.321Z"
   },
   {
    "duration": 28,
    "start_time": "2021-06-18T14:38:47.893Z"
   },
   {
    "duration": 10,
    "start_time": "2021-06-18T14:38:47.927Z"
   },
   {
    "duration": 25,
    "start_time": "2021-06-18T14:38:47.939Z"
   },
   {
    "duration": 5,
    "start_time": "2021-06-18T14:38:47.966Z"
   },
   {
    "duration": 32,
    "start_time": "2021-06-18T14:38:47.974Z"
   },
   {
    "duration": 13,
    "start_time": "2021-06-18T14:38:48.010Z"
   },
   {
    "duration": 107,
    "start_time": "2021-06-18T14:38:48.026Z"
   },
   {
    "duration": 23,
    "start_time": "2021-06-18T14:38:48.136Z"
   },
   {
    "duration": 3,
    "start_time": "2021-06-18T14:38:48.161Z"
   },
   {
    "duration": 9,
    "start_time": "2021-06-18T14:38:48.167Z"
   },
   {
    "duration": 10,
    "start_time": "2021-06-18T14:38:48.202Z"
   },
   {
    "duration": 11,
    "start_time": "2021-06-18T14:38:48.215Z"
   },
   {
    "duration": 182,
    "start_time": "2021-06-18T14:38:48.229Z"
   },
   {
    "duration": 148,
    "start_time": "2021-06-18T14:38:48.414Z"
   },
   {
    "duration": 818,
    "start_time": "2021-06-18T14:38:48.565Z"
   },
   {
    "duration": 139942,
    "start_time": "2021-06-18T14:38:49.385Z"
   },
   {
    "duration": 531,
    "start_time": "2021-06-18T14:46:23.516Z"
   },
   {
    "duration": 31,
    "start_time": "2021-06-18T14:47:31.223Z"
   },
   {
    "duration": 257,
    "start_time": "2021-06-18T14:47:34.522Z"
   },
   {
    "duration": 2194,
    "start_time": "2021-06-18T14:48:45.709Z"
   },
   {
    "duration": 1637,
    "start_time": "2021-06-18T14:49:05.980Z"
   },
   {
    "duration": 19,
    "start_time": "2021-06-18T15:04:05.512Z"
   },
   {
    "duration": 298,
    "start_time": "2021-06-18T15:12:41.287Z"
   },
   {
    "duration": 64,
    "start_time": "2021-06-18T15:12:51.207Z"
   },
   {
    "duration": 53,
    "start_time": "2021-06-18T15:15:34.893Z"
   },
   {
    "duration": 383,
    "start_time": "2021-06-19T13:12:57.860Z"
   },
   {
    "duration": 1639,
    "start_time": "2021-06-19T13:13:06.114Z"
   },
   {
    "duration": 27,
    "start_time": "2021-06-19T13:13:07.756Z"
   },
   {
    "duration": 12,
    "start_time": "2021-06-19T13:13:07.786Z"
   },
   {
    "duration": 40,
    "start_time": "2021-06-19T13:13:07.801Z"
   },
   {
    "duration": 4,
    "start_time": "2021-06-19T13:13:07.844Z"
   },
   {
    "duration": 11,
    "start_time": "2021-06-19T13:13:07.851Z"
   },
   {
    "duration": 14,
    "start_time": "2021-06-19T13:13:07.865Z"
   },
   {
    "duration": 108,
    "start_time": "2021-06-19T13:13:07.884Z"
   },
   {
    "duration": 51,
    "start_time": "2021-06-19T13:13:07.996Z"
   },
   {
    "duration": 4,
    "start_time": "2021-06-19T13:13:08.050Z"
   },
   {
    "duration": 6,
    "start_time": "2021-06-19T13:13:08.057Z"
   },
   {
    "duration": 6,
    "start_time": "2021-06-19T13:13:08.066Z"
   },
   {
    "duration": 14,
    "start_time": "2021-06-19T13:13:08.074Z"
   },
   {
    "duration": 201,
    "start_time": "2021-06-19T13:13:08.125Z"
   },
   {
    "duration": 151,
    "start_time": "2021-06-19T13:13:08.330Z"
   },
   {
    "duration": 829,
    "start_time": "2021-06-19T13:13:08.484Z"
   },
   {
    "duration": 1531,
    "start_time": "2021-06-19T13:14:16.968Z"
   },
   {
    "duration": 25,
    "start_time": "2021-06-19T13:14:18.502Z"
   },
   {
    "duration": 11,
    "start_time": "2021-06-19T13:14:18.530Z"
   },
   {
    "duration": 22,
    "start_time": "2021-06-19T13:14:18.543Z"
   },
   {
    "duration": 4,
    "start_time": "2021-06-19T13:14:18.569Z"
   },
   {
    "duration": 11,
    "start_time": "2021-06-19T13:14:18.575Z"
   },
   {
    "duration": 47,
    "start_time": "2021-06-19T13:14:18.588Z"
   },
   {
    "duration": 90,
    "start_time": "2021-06-19T13:14:18.638Z"
   },
   {
    "duration": 27,
    "start_time": "2021-06-19T13:14:18.732Z"
   },
   {
    "duration": 4,
    "start_time": "2021-06-19T13:14:18.762Z"
   },
   {
    "duration": 6,
    "start_time": "2021-06-19T13:14:18.769Z"
   },
   {
    "duration": 5,
    "start_time": "2021-06-19T13:14:18.777Z"
   },
   {
    "duration": 50,
    "start_time": "2021-06-19T13:14:18.785Z"
   },
   {
    "duration": 189,
    "start_time": "2021-06-19T13:14:18.838Z"
   },
   {
    "duration": 159,
    "start_time": "2021-06-19T13:14:19.030Z"
   },
   {
    "duration": 818,
    "start_time": "2021-06-19T13:14:19.192Z"
   },
   {
    "duration": 4,
    "start_time": "2021-06-19T13:14:20.012Z"
   },
   {
    "duration": 1905,
    "start_time": "2021-06-19T13:14:20.026Z"
   },
   {
    "duration": 52,
    "start_time": "2021-06-19T13:14:21.933Z"
   },
   {
    "duration": 51,
    "start_time": "2021-06-19T13:14:21.988Z"
   },
   {
    "duration": 6705,
    "start_time": "2021-06-19T13:14:22.042Z"
   },
   {
    "duration": 920,
    "start_time": "2021-06-19T13:15:22.708Z"
   },
   {
    "duration": 1505,
    "start_time": "2021-06-19T13:25:56.779Z"
   },
   {
    "duration": 25,
    "start_time": "2021-06-19T13:25:58.287Z"
   },
   {
    "duration": 15,
    "start_time": "2021-06-19T13:25:58.315Z"
   },
   {
    "duration": 24,
    "start_time": "2021-06-19T13:25:58.332Z"
   },
   {
    "duration": 3,
    "start_time": "2021-06-19T13:25:58.359Z"
   },
   {
    "duration": 11,
    "start_time": "2021-06-19T13:25:58.364Z"
   },
   {
    "duration": 49,
    "start_time": "2021-06-19T13:25:58.378Z"
   },
   {
    "duration": 70,
    "start_time": "2021-06-19T13:25:58.430Z"
   },
   {
    "duration": 45,
    "start_time": "2021-06-19T13:25:58.503Z"
   },
   {
    "duration": 5130,
    "start_time": "2021-06-19T13:25:58.550Z"
   },
   {
    "duration": 1521,
    "start_time": "2021-06-19T13:32:16.878Z"
   },
   {
    "duration": 25,
    "start_time": "2021-06-19T13:32:18.402Z"
   },
   {
    "duration": 11,
    "start_time": "2021-06-19T13:32:18.431Z"
   },
   {
    "duration": 23,
    "start_time": "2021-06-19T13:32:18.445Z"
   },
   {
    "duration": 4,
    "start_time": "2021-06-19T13:32:18.471Z"
   },
   {
    "duration": 13,
    "start_time": "2021-06-19T13:32:18.477Z"
   },
   {
    "duration": 15,
    "start_time": "2021-06-19T13:32:18.526Z"
   },
   {
    "duration": 93,
    "start_time": "2021-06-19T13:32:18.543Z"
   },
   {
    "duration": 24,
    "start_time": "2021-06-19T13:32:18.641Z"
   },
   {
    "duration": 5132,
    "start_time": "2021-06-19T13:32:18.668Z"
   },
   {
    "duration": 1610,
    "start_time": "2021-06-19T13:34:50.183Z"
   },
   {
    "duration": 30,
    "start_time": "2021-06-19T13:34:51.796Z"
   },
   {
    "duration": 14,
    "start_time": "2021-06-19T13:34:51.830Z"
   },
   {
    "duration": 27,
    "start_time": "2021-06-19T13:34:51.847Z"
   },
   {
    "duration": 10,
    "start_time": "2021-06-19T13:34:51.878Z"
   },
   {
    "duration": 42,
    "start_time": "2021-06-19T13:34:51.890Z"
   },
   {
    "duration": 14,
    "start_time": "2021-06-19T13:34:51.935Z"
   },
   {
    "duration": 106,
    "start_time": "2021-06-19T13:34:51.951Z"
   },
   {
    "duration": 24,
    "start_time": "2021-06-19T13:34:52.061Z"
   },
   {
    "duration": 5139,
    "start_time": "2021-06-19T13:34:52.088Z"
   },
   {
    "duration": 2,
    "start_time": "2021-06-19T13:34:57.230Z"
   },
   {
    "duration": 1979,
    "start_time": "2021-06-19T13:34:57.234Z"
   },
   {
    "duration": 13,
    "start_time": "2021-06-19T13:34:59.216Z"
   },
   {
    "duration": 195,
    "start_time": "2021-06-19T13:34:59.231Z"
   },
   {
    "duration": 148,
    "start_time": "2021-06-19T13:34:59.430Z"
   },
   {
    "duration": 817,
    "start_time": "2021-06-19T13:34:59.581Z"
   },
   {
    "duration": 140335,
    "start_time": "2021-06-19T13:35:00.401Z"
   },
   {
    "duration": 1702,
    "start_time": "2021-06-19T13:37:20.738Z"
   },
   {
    "duration": 118,
    "start_time": "2021-06-19T13:37:22.443Z"
   },
   {
    "duration": 21,
    "start_time": "2021-06-19T13:37:22.563Z"
   },
   {
    "duration": 4,
    "start_time": "2021-06-19T13:37:22.587Z"
   },
   {
    "duration": 520404,
    "start_time": "2021-06-19T13:37:22.626Z"
   },
   {
    "duration": 29,
    "start_time": "2021-06-19T13:53:09.372Z"
   },
   {
    "duration": 428,
    "start_time": "2021-06-19T19:21:47.373Z"
   },
   {
    "duration": 1553,
    "start_time": "2021-06-19T19:21:55.235Z"
   },
   {
    "duration": 24,
    "start_time": "2021-06-19T19:21:56.791Z"
   },
   {
    "duration": 11,
    "start_time": "2021-06-19T19:21:56.818Z"
   },
   {
    "duration": 26,
    "start_time": "2021-06-19T19:21:56.831Z"
   },
   {
    "duration": 4,
    "start_time": "2021-06-19T19:21:56.859Z"
   },
   {
    "duration": 13,
    "start_time": "2021-06-19T19:21:56.865Z"
   },
   {
    "duration": 13,
    "start_time": "2021-06-19T19:21:56.909Z"
   },
   {
    "duration": 92,
    "start_time": "2021-06-19T19:21:56.925Z"
   },
   {
    "duration": 22,
    "start_time": "2021-06-19T19:21:57.021Z"
   },
   {
    "duration": 5266,
    "start_time": "2021-06-19T19:21:57.046Z"
   },
   {
    "duration": 3,
    "start_time": "2021-06-19T19:22:02.315Z"
   },
   {
    "duration": 1993,
    "start_time": "2021-06-19T19:22:02.321Z"
   },
   {
    "duration": 9,
    "start_time": "2021-06-19T19:22:04.317Z"
   },
   {
    "duration": 183,
    "start_time": "2021-06-19T19:22:04.329Z"
   },
   {
    "duration": 159,
    "start_time": "2021-06-19T19:22:04.515Z"
   },
   {
    "duration": 819,
    "start_time": "2021-06-19T19:22:04.676Z"
   },
   {
    "duration": 1532,
    "start_time": "2021-06-19T19:22:35.235Z"
   },
   {
    "duration": 25,
    "start_time": "2021-06-19T19:22:36.770Z"
   },
   {
    "duration": 15,
    "start_time": "2021-06-19T19:22:36.798Z"
   },
   {
    "duration": 23,
    "start_time": "2021-06-19T19:22:36.816Z"
   },
   {
    "duration": 7,
    "start_time": "2021-06-19T19:22:36.842Z"
   },
   {
    "duration": 12,
    "start_time": "2021-06-19T19:22:36.852Z"
   },
   {
    "duration": 46,
    "start_time": "2021-06-19T19:22:36.867Z"
   },
   {
    "duration": 72,
    "start_time": "2021-06-19T19:22:36.916Z"
   },
   {
    "duration": 24,
    "start_time": "2021-06-19T19:22:37.009Z"
   },
   {
    "duration": 5213,
    "start_time": "2021-06-19T19:22:37.036Z"
   },
   {
    "duration": 3,
    "start_time": "2021-06-19T19:22:42.251Z"
   },
   {
    "duration": 1953,
    "start_time": "2021-06-19T19:22:42.257Z"
   },
   {
    "duration": 10,
    "start_time": "2021-06-19T19:22:44.212Z"
   },
   {
    "duration": 186,
    "start_time": "2021-06-19T19:22:44.224Z"
   },
   {
    "duration": 161,
    "start_time": "2021-06-19T19:22:44.413Z"
   },
   {
    "duration": 820,
    "start_time": "2021-06-19T19:22:44.577Z"
   },
   {
    "duration": 3,
    "start_time": "2021-06-19T19:22:45.400Z"
   },
   {
    "duration": 1921,
    "start_time": "2021-06-19T19:22:45.408Z"
   },
   {
    "duration": 87,
    "start_time": "2021-06-19T19:22:47.332Z"
   },
   {
    "duration": 19,
    "start_time": "2021-06-19T19:22:47.421Z"
   },
   {
    "duration": 12,
    "start_time": "2021-06-19T19:22:47.442Z"
   },
   {
    "duration": 614,
    "start_time": "2021-06-19T19:22:47.457Z"
   },
   {
    "duration": 1574,
    "start_time": "2021-06-19T19:27:11.089Z"
   },
   {
    "duration": 25,
    "start_time": "2021-06-19T19:27:12.666Z"
   },
   {
    "duration": 23,
    "start_time": "2021-06-19T19:27:12.695Z"
   },
   {
    "duration": 25,
    "start_time": "2021-06-19T19:27:12.722Z"
   },
   {
    "duration": 4,
    "start_time": "2021-06-19T19:27:12.749Z"
   },
   {
    "duration": 25,
    "start_time": "2021-06-19T19:27:12.755Z"
   },
   {
    "duration": 32,
    "start_time": "2021-06-19T19:27:12.783Z"
   },
   {
    "duration": 68,
    "start_time": "2021-06-19T19:27:12.819Z"
   },
   {
    "duration": 25,
    "start_time": "2021-06-19T19:27:12.909Z"
   },
   {
    "duration": 5116,
    "start_time": "2021-06-19T19:27:12.936Z"
   },
   {
    "duration": 3,
    "start_time": "2021-06-19T19:27:18.054Z"
   },
   {
    "duration": 1950,
    "start_time": "2021-06-19T19:27:18.059Z"
   },
   {
    "duration": 9,
    "start_time": "2021-06-19T19:27:20.012Z"
   },
   {
    "duration": 187,
    "start_time": "2021-06-19T19:27:20.023Z"
   },
   {
    "duration": 159,
    "start_time": "2021-06-19T19:27:20.214Z"
   },
   {
    "duration": 835,
    "start_time": "2021-06-19T19:27:20.376Z"
   },
   {
    "duration": 4,
    "start_time": "2021-06-19T19:27:21.214Z"
   },
   {
    "duration": 1990,
    "start_time": "2021-06-19T19:27:21.221Z"
   },
   {
    "duration": 52,
    "start_time": "2021-06-19T19:27:23.214Z"
   },
   {
    "duration": 45,
    "start_time": "2021-06-19T19:27:23.269Z"
   },
   {
    "duration": 3,
    "start_time": "2021-06-19T19:27:23.317Z"
   },
   {
    "duration": 189,
    "start_time": "2021-06-19T19:27:23.322Z"
   },
   {
    "duration": -415,
    "start_time": "2021-06-19T19:27:23.929Z"
   },
   {
    "duration": -415,
    "start_time": "2021-06-19T19:27:23.930Z"
   },
   {
    "duration": 8185,
    "start_time": "2021-06-19T19:28:14.106Z"
   },
   {
    "duration": 7485,
    "start_time": "2021-06-19T19:29:13.744Z"
   },
   {
    "duration": 7331,
    "start_time": "2021-06-19T19:29:24.078Z"
   },
   {
    "duration": 975,
    "start_time": "2021-06-19T19:29:36.179Z"
   },
   {
    "duration": 7584,
    "start_time": "2021-06-19T19:29:52.279Z"
   },
   {
    "duration": 308,
    "start_time": "2021-06-19T19:34:51.821Z"
   },
   {
    "duration": 363,
    "start_time": "2021-06-19T19:35:23.383Z"
   },
   {
    "duration": 468,
    "start_time": "2021-06-19T19:36:15.871Z"
   },
   {
    "duration": 392,
    "start_time": "2021-06-19T19:36:21.966Z"
   },
   {
    "duration": 1319,
    "start_time": "2021-06-19T19:36:43.232Z"
   },
   {
    "duration": 763,
    "start_time": "2021-06-19T19:38:03.303Z"
   },
   {
    "duration": 541403,
    "start_time": "2021-06-19T19:38:35.850Z"
   },
   {
    "duration": 305,
    "start_time": "2021-06-19T19:47:37.256Z"
   },
   {
    "duration": 5,
    "start_time": "2021-06-19T19:48:26.816Z"
   },
   {
    "duration": 333,
    "start_time": "2021-06-19T19:48:35.161Z"
   },
   {
    "duration": 1555,
    "start_time": "2021-06-19T19:53:34.928Z"
   },
   {
    "duration": 25,
    "start_time": "2021-06-19T19:53:36.486Z"
   },
   {
    "duration": 14,
    "start_time": "2021-06-19T19:53:36.514Z"
   },
   {
    "duration": 32,
    "start_time": "2021-06-19T19:53:36.531Z"
   },
   {
    "duration": 6,
    "start_time": "2021-06-19T19:53:36.566Z"
   },
   {
    "duration": 33,
    "start_time": "2021-06-19T19:53:36.575Z"
   },
   {
    "duration": 14,
    "start_time": "2021-06-19T19:53:36.610Z"
   },
   {
    "duration": 95,
    "start_time": "2021-06-19T19:53:36.628Z"
   },
   {
    "duration": 24,
    "start_time": "2021-06-19T19:53:36.726Z"
   },
   {
    "duration": 9,
    "start_time": "2021-06-19T19:53:36.753Z"
   },
   {
    "duration": 14,
    "start_time": "2021-06-19T19:53:36.764Z"
   },
   {
    "duration": 18,
    "start_time": "2021-06-19T19:53:36.780Z"
   },
   {
    "duration": 33,
    "start_time": "2021-06-19T19:53:36.801Z"
   },
   {
    "duration": 178,
    "start_time": "2021-06-19T19:53:36.836Z"
   },
   {
    "duration": 159,
    "start_time": "2021-06-19T19:53:37.018Z"
   },
   {
    "duration": 862,
    "start_time": "2021-06-19T19:53:37.180Z"
   },
   {
    "duration": 3,
    "start_time": "2021-06-19T19:53:38.044Z"
   },
   {
    "duration": 1789,
    "start_time": "2021-06-19T19:53:38.049Z"
   },
   {
    "duration": 72,
    "start_time": "2021-06-19T19:53:39.841Z"
   },
   {
    "duration": 19,
    "start_time": "2021-06-19T19:53:39.915Z"
   },
   {
    "duration": 3,
    "start_time": "2021-06-19T19:53:39.937Z"
   },
   {
    "duration": 481,
    "start_time": "2021-06-19T19:53:39.942Z"
   },
   {
    "duration": -327,
    "start_time": "2021-06-19T19:53:40.753Z"
   },
   {
    "duration": -327,
    "start_time": "2021-06-19T19:53:40.754Z"
   },
   {
    "duration": 353,
    "start_time": "2021-06-19T19:54:46.434Z"
   },
   {
    "duration": 352,
    "start_time": "2021-06-19T19:57:11.238Z"
   },
   {
    "duration": 5695,
    "start_time": "2021-06-19T19:57:17.498Z"
   },
   {
    "duration": 132,
    "start_time": "2021-06-19T20:00:37.376Z"
   },
   {
    "duration": 843,
    "start_time": "2021-06-19T20:01:05.253Z"
   },
   {
    "duration": 814,
    "start_time": "2021-06-19T20:01:31.424Z"
   },
   {
    "duration": 1201,
    "start_time": "2021-06-19T20:01:42.024Z"
   },
   {
    "duration": 9063,
    "start_time": "2021-06-19T20:01:55.152Z"
   },
   {
    "duration": 10261,
    "start_time": "2021-06-19T20:02:37.248Z"
   },
   {
    "duration": 11517,
    "start_time": "2021-06-19T20:03:17.409Z"
   },
   {
    "duration": 10825,
    "start_time": "2021-06-19T20:05:15.550Z"
   },
   {
    "duration": 10608,
    "start_time": "2021-06-19T20:06:57.622Z"
   },
   {
    "duration": 10483,
    "start_time": "2021-06-19T20:09:47.637Z"
   },
   {
    "duration": 364,
    "start_time": "2021-06-19T20:10:20.256Z"
   },
   {
    "duration": 865,
    "start_time": "2021-06-19T20:10:53.032Z"
   },
   {
    "duration": 10367,
    "start_time": "2021-06-19T20:11:36.061Z"
   },
   {
    "duration": 10454,
    "start_time": "2021-06-19T20:12:33.377Z"
   },
   {
    "duration": 1522,
    "start_time": "2021-06-19T20:17:15.047Z"
   },
   {
    "duration": 25,
    "start_time": "2021-06-19T20:17:16.571Z"
   },
   {
    "duration": 15,
    "start_time": "2021-06-19T20:17:16.599Z"
   },
   {
    "duration": 22,
    "start_time": "2021-06-19T20:17:16.617Z"
   },
   {
    "duration": 6,
    "start_time": "2021-06-19T20:17:16.641Z"
   },
   {
    "duration": 9,
    "start_time": "2021-06-19T20:17:16.649Z"
   },
   {
    "duration": 51,
    "start_time": "2021-06-19T20:17:16.660Z"
   },
   {
    "duration": 71,
    "start_time": "2021-06-19T20:17:16.714Z"
   },
   {
    "duration": 40,
    "start_time": "2021-06-19T20:17:16.789Z"
   },
   {
    "duration": 5305,
    "start_time": "2021-06-19T20:17:16.832Z"
   },
   {
    "duration": 363915,
    "start_time": "2021-06-19T20:17:22.140Z"
   },
   {
    "duration": 3247,
    "start_time": "2021-06-19T20:23:26.058Z"
   },
   {
    "duration": 10,
    "start_time": "2021-06-19T20:23:29.308Z"
   },
   {
    "duration": 197,
    "start_time": "2021-06-19T20:23:29.320Z"
   },
   {
    "duration": 156,
    "start_time": "2021-06-19T20:23:29.521Z"
   },
   {
    "duration": 872,
    "start_time": "2021-06-19T20:23:29.680Z"
   },
   {
    "duration": 3,
    "start_time": "2021-06-19T20:23:30.554Z"
   },
   {
    "duration": 1861,
    "start_time": "2021-06-19T20:23:30.560Z"
   },
   {
    "duration": 51,
    "start_time": "2021-06-19T20:23:32.423Z"
   },
   {
    "duration": 45,
    "start_time": "2021-06-19T20:23:32.476Z"
   },
   {
    "duration": 10008,
    "start_time": "2021-06-19T20:23:32.523Z"
   },
   {
    "duration": 515877,
    "start_time": "2021-06-19T20:23:42.533Z"
   },
   {
    "duration": 49,
    "start_time": "2021-06-19T21:19:26.298Z"
   },
   {
    "duration": 52,
    "start_time": "2021-06-19T21:19:47.420Z"
   },
   {
    "duration": 71,
    "start_time": "2021-06-19T21:19:58.579Z"
   },
   {
    "duration": 49,
    "start_time": "2021-06-19T21:20:25.264Z"
   },
   {
    "duration": 11089,
    "start_time": "2021-06-19T21:21:35.596Z"
   },
   {
    "duration": 12875,
    "start_time": "2021-06-19T21:21:57.754Z"
   },
   {
    "duration": 460,
    "start_time": "2021-06-19T21:23:37.429Z"
   },
   {
    "duration": 825,
    "start_time": "2021-06-19T21:25:42.691Z"
   },
   {
    "duration": 10819,
    "start_time": "2021-06-19T21:26:25.919Z"
   },
   {
    "duration": 1534,
    "start_time": "2021-06-19T22:45:24.457Z"
   },
   {
    "duration": 25,
    "start_time": "2021-06-19T22:45:25.994Z"
   },
   {
    "duration": 11,
    "start_time": "2021-06-19T22:45:26.022Z"
   },
   {
    "duration": 26,
    "start_time": "2021-06-19T22:45:26.036Z"
   },
   {
    "duration": 4,
    "start_time": "2021-06-19T22:45:26.065Z"
   },
   {
    "duration": 38,
    "start_time": "2021-06-19T22:45:26.072Z"
   },
   {
    "duration": 13,
    "start_time": "2021-06-19T22:45:26.112Z"
   },
   {
    "duration": 90,
    "start_time": "2021-06-19T22:45:26.127Z"
   },
   {
    "duration": 23,
    "start_time": "2021-06-19T22:45:26.221Z"
   },
   {
    "duration": 5178,
    "start_time": "2021-06-19T22:45:26.247Z"
   },
   {
    "duration": 1510,
    "start_time": "2021-06-20T06:39:25.391Z"
   },
   {
    "duration": 26,
    "start_time": "2021-06-20T06:39:26.903Z"
   },
   {
    "duration": 12,
    "start_time": "2021-06-20T06:39:26.932Z"
   },
   {
    "duration": 23,
    "start_time": "2021-06-20T06:39:26.956Z"
   },
   {
    "duration": 3,
    "start_time": "2021-06-20T06:39:26.982Z"
   },
   {
    "duration": 10,
    "start_time": "2021-06-20T06:39:26.988Z"
   },
   {
    "duration": 13,
    "start_time": "2021-06-20T06:39:27.000Z"
   },
   {
    "duration": 103,
    "start_time": "2021-06-20T06:39:27.016Z"
   },
   {
    "duration": 48,
    "start_time": "2021-06-20T06:39:27.122Z"
   },
   {
    "duration": 6160,
    "start_time": "2021-06-20T06:39:27.173Z"
   },
   {
    "duration": 352632,
    "start_time": "2021-06-20T06:39:42.382Z"
   },
   {
    "duration": 2969,
    "start_time": "2021-06-20T06:52:33.047Z"
   },
   {
    "duration": 13,
    "start_time": "2021-06-20T06:56:33.955Z"
   },
   {
    "duration": 137,
    "start_time": "2021-06-20T06:56:38.924Z"
   },
   {
    "duration": 65,
    "start_time": "2021-06-20T06:57:03.872Z"
   },
   {
    "duration": 778,
    "start_time": "2021-06-20T06:58:55.607Z"
   },
   {
    "duration": 131884,
    "start_time": "2021-06-20T06:59:00.380Z"
   },
   {
    "duration": 1761,
    "start_time": "2021-06-20T07:01:19.699Z"
   },
   {
    "duration": 47,
    "start_time": "2021-06-20T07:01:25.281Z"
   },
   {
    "duration": 19,
    "start_time": "2021-06-20T07:01:43.099Z"
   },
   {
    "duration": 10448,
    "start_time": "2021-06-20T07:04:25.591Z"
   },
   {
    "duration": 497630,
    "start_time": "2021-06-20T07:05:02.965Z"
   },
   {
    "duration": 345,
    "start_time": "2021-06-20T12:36:48.846Z"
   },
   {
    "duration": 1081,
    "start_time": "2021-06-20T12:37:06.904Z"
   },
   {
    "duration": 23,
    "start_time": "2021-06-20T12:37:07.986Z"
   },
   {
    "duration": 6,
    "start_time": "2021-06-20T12:37:08.011Z"
   },
   {
    "duration": 16,
    "start_time": "2021-06-20T12:37:08.019Z"
   },
   {
    "duration": 3,
    "start_time": "2021-06-20T12:37:08.037Z"
   },
   {
    "duration": 9,
    "start_time": "2021-06-20T12:37:08.042Z"
   },
   {
    "duration": 9,
    "start_time": "2021-06-20T12:37:08.052Z"
   },
   {
    "duration": 294,
    "start_time": "2021-06-20T12:37:08.063Z"
   },
   {
    "duration": -441,
    "start_time": "2021-06-20T12:37:08.800Z"
   },
   {
    "duration": -443,
    "start_time": "2021-06-20T12:37:08.803Z"
   },
   {
    "duration": -444,
    "start_time": "2021-06-20T12:37:08.805Z"
   },
   {
    "duration": -446,
    "start_time": "2021-06-20T12:37:08.808Z"
   },
   {
    "duration": -453,
    "start_time": "2021-06-20T12:37:08.816Z"
   },
   {
    "duration": -454,
    "start_time": "2021-06-20T12:37:08.818Z"
   },
   {
    "duration": -455,
    "start_time": "2021-06-20T12:37:08.820Z"
   },
   {
    "duration": -456,
    "start_time": "2021-06-20T12:37:08.822Z"
   },
   {
    "duration": -457,
    "start_time": "2021-06-20T12:37:08.824Z"
   },
   {
    "duration": -457,
    "start_time": "2021-06-20T12:37:08.825Z"
   },
   {
    "duration": -458,
    "start_time": "2021-06-20T12:37:08.827Z"
   },
   {
    "duration": -459,
    "start_time": "2021-06-20T12:37:08.829Z"
   },
   {
    "duration": -460,
    "start_time": "2021-06-20T12:37:08.831Z"
   },
   {
    "duration": -462,
    "start_time": "2021-06-20T12:37:08.834Z"
   },
   {
    "duration": -463,
    "start_time": "2021-06-20T12:37:08.836Z"
   },
   {
    "duration": 198,
    "start_time": "2021-06-20T12:38:06.966Z"
   },
   {
    "duration": 175,
    "start_time": "2021-06-20T12:38:29.112Z"
   },
   {
    "duration": 180,
    "start_time": "2021-06-20T12:41:00.861Z"
   },
   {
    "duration": 3402,
    "start_time": "2021-06-20T12:41:11.577Z"
   },
   {
    "duration": 1040,
    "start_time": "2021-06-20T12:54:25.241Z"
   },
   {
    "duration": 23,
    "start_time": "2021-06-20T12:54:26.285Z"
   },
   {
    "duration": 8,
    "start_time": "2021-06-20T12:54:26.310Z"
   },
   {
    "duration": 15,
    "start_time": "2021-06-20T12:54:26.320Z"
   },
   {
    "duration": 3,
    "start_time": "2021-06-20T12:54:26.337Z"
   },
   {
    "duration": 8,
    "start_time": "2021-06-20T12:54:26.342Z"
   },
   {
    "duration": 8,
    "start_time": "2021-06-20T12:54:26.351Z"
   },
   {
    "duration": 64,
    "start_time": "2021-06-20T12:54:26.362Z"
   },
   {
    "duration": 14,
    "start_time": "2021-06-20T12:54:26.427Z"
   },
   {
    "duration": 3325,
    "start_time": "2021-06-20T12:54:26.442Z"
   },
   {
    "duration": 2,
    "start_time": "2021-06-20T12:54:29.768Z"
   },
   {
    "duration": 1142,
    "start_time": "2021-06-20T12:55:08.045Z"
   },
   {
    "duration": 22,
    "start_time": "2021-06-20T12:55:09.189Z"
   },
   {
    "duration": 7,
    "start_time": "2021-06-20T12:55:09.213Z"
   },
   {
    "duration": 14,
    "start_time": "2021-06-20T12:55:09.222Z"
   },
   {
    "duration": 2,
    "start_time": "2021-06-20T12:55:09.238Z"
   },
   {
    "duration": 7,
    "start_time": "2021-06-20T12:55:09.242Z"
   },
   {
    "duration": 8,
    "start_time": "2021-06-20T12:55:09.251Z"
   },
   {
    "duration": 67,
    "start_time": "2021-06-20T12:55:09.260Z"
   },
   {
    "duration": 14,
    "start_time": "2021-06-20T12:55:09.330Z"
   },
   {
    "duration": 3325,
    "start_time": "2021-06-20T12:55:09.346Z"
   },
   {
    "duration": 2,
    "start_time": "2021-06-20T12:55:12.673Z"
   },
   {
    "duration": 231171,
    "start_time": "2021-06-20T12:55:12.684Z"
   },
   {
    "duration": 2235,
    "start_time": "2021-06-20T12:59:03.857Z"
   },
   {
    "duration": 7,
    "start_time": "2021-06-20T12:59:06.094Z"
   },
   {
    "duration": 90,
    "start_time": "2021-06-20T12:59:06.103Z"
   },
   {
    "duration": 145,
    "start_time": "2021-06-20T12:59:06.194Z"
   },
   {
    "duration": 505,
    "start_time": "2021-06-20T12:59:06.384Z"
   },
   {
    "duration": 84946,
    "start_time": "2021-06-20T12:59:06.891Z"
   },
   {
    "duration": 1355,
    "start_time": "2021-06-20T13:00:31.839Z"
   },
   {
    "duration": 115,
    "start_time": "2021-06-20T13:00:33.196Z"
   },
   {
    "duration": 12,
    "start_time": "2021-06-20T13:00:33.312Z"
   },
   {
    "duration": 6268,
    "start_time": "2021-06-20T13:00:33.326Z"
   },
   {
    "duration": 293272,
    "start_time": "2021-06-20T13:00:39.595Z"
   },
   {
    "duration": 1110,
    "start_time": "2021-06-20T13:10:35.864Z"
   },
   {
    "duration": 23,
    "start_time": "2021-06-20T13:10:36.976Z"
   },
   {
    "duration": 7,
    "start_time": "2021-06-20T13:10:37.002Z"
   },
   {
    "duration": 16,
    "start_time": "2021-06-20T13:10:37.011Z"
   },
   {
    "duration": 2,
    "start_time": "2021-06-20T13:10:37.029Z"
   },
   {
    "duration": 10,
    "start_time": "2021-06-20T13:10:37.033Z"
   },
   {
    "duration": 10,
    "start_time": "2021-06-20T13:10:37.045Z"
   },
   {
    "duration": 70,
    "start_time": "2021-06-20T13:10:37.056Z"
   },
   {
    "duration": 13,
    "start_time": "2021-06-20T13:10:37.129Z"
   },
   {
    "duration": 3254,
    "start_time": "2021-06-20T13:10:37.144Z"
   },
   {
    "duration": 2,
    "start_time": "2021-06-20T13:10:40.400Z"
   },
   {
    "duration": 230533,
    "start_time": "2021-06-20T13:10:40.403Z"
   },
   {
    "duration": 2227,
    "start_time": "2021-06-20T13:14:30.938Z"
   },
   {
    "duration": 18,
    "start_time": "2021-06-20T13:14:33.166Z"
   },
   {
    "duration": 99,
    "start_time": "2021-06-20T13:14:33.186Z"
   },
   {
    "duration": 136,
    "start_time": "2021-06-20T13:14:33.287Z"
   },
   {
    "duration": 542,
    "start_time": "2021-06-20T13:14:33.424Z"
   },
   {
    "duration": 84520,
    "start_time": "2021-06-20T13:14:33.967Z"
   },
   {
    "duration": 1496,
    "start_time": "2021-06-20T13:15:58.489Z"
   },
   {
    "duration": 29,
    "start_time": "2021-06-20T13:15:59.987Z"
   },
   {
    "duration": 12,
    "start_time": "2021-06-20T13:16:00.018Z"
   },
   {
    "duration": 6018,
    "start_time": "2021-06-20T13:16:00.031Z"
   },
   {
    "duration": 291823,
    "start_time": "2021-06-20T13:16:06.051Z"
   },
   {
    "duration": 7,
    "start_time": "2021-06-20T17:02:48.280Z"
   },
   {
    "duration": 1555,
    "start_time": "2021-06-20T17:05:27.286Z"
   },
   {
    "duration": 26,
    "start_time": "2021-06-20T17:05:28.843Z"
   },
   {
    "duration": 11,
    "start_time": "2021-06-20T17:05:29.593Z"
   },
   {
    "duration": 415,
    "start_time": "2021-06-20T17:05:41.629Z"
   },
   {
    "duration": 277,
    "start_time": "2021-06-20T17:05:48.287Z"
   },
   {
    "duration": 294,
    "start_time": "2021-06-20T17:05:53.337Z"
   },
   {
    "duration": 5,
    "start_time": "2021-06-20T17:06:10.031Z"
   },
   {
    "duration": 12,
    "start_time": "2021-06-20T17:06:21.448Z"
   },
   {
    "duration": 831,
    "start_time": "2021-06-20T17:06:26.287Z"
   },
   {
    "duration": 1924,
    "start_time": "2021-06-20T17:06:30.170Z"
   },
   {
    "duration": 6,
    "start_time": "2021-06-20T17:06:49.112Z"
   },
   {
    "duration": 286,
    "start_time": "2021-06-20T17:06:50.246Z"
   },
   {
    "duration": 839,
    "start_time": "2021-06-20T17:06:59.993Z"
   },
   {
    "duration": 855,
    "start_time": "2021-06-20T17:09:56.163Z"
   },
   {
    "duration": 294,
    "start_time": "2021-06-20T17:13:08.551Z"
   },
   {
    "duration": 785,
    "start_time": "2021-06-20T17:13:49.026Z"
   },
   {
    "duration": 1364,
    "start_time": "2021-06-20T17:13:57.521Z"
   },
   {
    "duration": 7,
    "start_time": "2021-06-20T17:14:30.308Z"
   },
   {
    "duration": 639,
    "start_time": "2021-06-20T17:14:40.841Z"
   },
   {
    "duration": 279,
    "start_time": "2021-06-20T18:03:08.677Z"
   },
   {
    "duration": 3522,
    "start_time": "2021-06-20T18:03:24.243Z"
   },
   {
    "duration": 3687,
    "start_time": "2021-06-20T18:03:39.823Z"
   },
   {
    "duration": 2055,
    "start_time": "2021-06-20T18:04:15.921Z"
   },
   {
    "duration": 28,
    "start_time": "2021-06-20T18:04:17.980Z"
   },
   {
    "duration": 12,
    "start_time": "2021-06-20T18:04:18.012Z"
   },
   {
    "duration": 27,
    "start_time": "2021-06-20T18:04:18.027Z"
   },
   {
    "duration": 29,
    "start_time": "2021-06-20T18:04:18.056Z"
   },
   {
    "duration": 12,
    "start_time": "2021-06-20T18:04:18.088Z"
   },
   {
    "duration": 13,
    "start_time": "2021-06-20T18:04:18.103Z"
   },
   {
    "duration": 113,
    "start_time": "2021-06-20T18:04:18.119Z"
   },
   {
    "duration": 26,
    "start_time": "2021-06-20T18:04:18.238Z"
   },
   {
    "duration": 4,
    "start_time": "2021-06-20T18:04:18.283Z"
   },
   {
    "duration": 2680,
    "start_time": "2021-06-20T18:04:18.290Z"
   },
   {
    "duration": 1929,
    "start_time": "2021-06-20T18:05:37.122Z"
   },
   {
    "duration": 25,
    "start_time": "2021-06-20T18:05:39.054Z"
   },
   {
    "duration": 10,
    "start_time": "2021-06-20T18:05:39.082Z"
   },
   {
    "duration": 22,
    "start_time": "2021-06-20T18:05:39.095Z"
   },
   {
    "duration": 5,
    "start_time": "2021-06-20T18:05:39.120Z"
   },
   {
    "duration": 12,
    "start_time": "2021-06-20T18:05:39.128Z"
   },
   {
    "duration": 45,
    "start_time": "2021-06-20T18:05:39.143Z"
   },
   {
    "duration": 68,
    "start_time": "2021-06-20T18:05:39.192Z"
   },
   {
    "duration": 39,
    "start_time": "2021-06-20T18:05:39.263Z"
   },
   {
    "duration": 2307,
    "start_time": "2021-06-20T18:05:39.304Z"
   },
   {
    "duration": 2188,
    "start_time": "2021-06-20T18:05:41.613Z"
   },
   {
    "duration": 1978,
    "start_time": "2021-06-20T18:06:27.746Z"
   },
   {
    "duration": 25,
    "start_time": "2021-06-20T18:06:29.726Z"
   },
   {
    "duration": 9,
    "start_time": "2021-06-20T18:06:29.754Z"
   },
   {
    "duration": 31,
    "start_time": "2021-06-20T18:06:29.766Z"
   },
   {
    "duration": 4,
    "start_time": "2021-06-20T18:06:29.800Z"
   },
   {
    "duration": 13,
    "start_time": "2021-06-20T18:06:29.806Z"
   },
   {
    "duration": 14,
    "start_time": "2021-06-20T18:06:29.821Z"
   },
   {
    "duration": 101,
    "start_time": "2021-06-20T18:06:29.837Z"
   },
   {
    "duration": 40,
    "start_time": "2021-06-20T18:06:29.943Z"
   },
   {
    "duration": 2339,
    "start_time": "2021-06-20T18:06:29.986Z"
   },
   {
    "duration": 7497,
    "start_time": "2021-06-20T18:06:32.329Z"
   },
   {
    "duration": 2080,
    "start_time": "2021-06-20T18:10:08.891Z"
   },
   {
    "duration": 25,
    "start_time": "2021-06-20T18:10:10.974Z"
   },
   {
    "duration": 10,
    "start_time": "2021-06-20T18:10:11.002Z"
   },
   {
    "duration": 25,
    "start_time": "2021-06-20T18:10:11.016Z"
   },
   {
    "duration": 4,
    "start_time": "2021-06-20T18:10:11.045Z"
   },
   {
    "duration": 10,
    "start_time": "2021-06-20T18:10:11.085Z"
   },
   {
    "duration": 20,
    "start_time": "2021-06-20T18:10:11.098Z"
   },
   {
    "duration": 133,
    "start_time": "2021-06-20T18:10:11.123Z"
   },
   {
    "duration": 45,
    "start_time": "2021-06-20T18:10:11.260Z"
   },
   {
    "duration": 3510,
    "start_time": "2021-06-20T18:10:11.308Z"
   },
   {
    "duration": 2285,
    "start_time": "2021-06-20T18:10:14.821Z"
   },
   {
    "duration": 1995,
    "start_time": "2021-06-20T18:11:38.213Z"
   },
   {
    "duration": 24,
    "start_time": "2021-06-20T18:11:40.211Z"
   },
   {
    "duration": 17,
    "start_time": "2021-06-20T18:11:40.238Z"
   },
   {
    "duration": 38,
    "start_time": "2021-06-20T18:11:40.258Z"
   },
   {
    "duration": 6,
    "start_time": "2021-06-20T18:11:40.299Z"
   },
   {
    "duration": 18,
    "start_time": "2021-06-20T18:11:40.308Z"
   },
   {
    "duration": 17,
    "start_time": "2021-06-20T18:11:40.330Z"
   },
   {
    "duration": 93,
    "start_time": "2021-06-20T18:11:40.351Z"
   },
   {
    "duration": 44,
    "start_time": "2021-06-20T18:11:40.447Z"
   },
   {
    "duration": 2035,
    "start_time": "2021-06-20T18:11:40.493Z"
   },
   {
    "duration": 2333,
    "start_time": "2021-06-20T18:11:42.530Z"
   },
   {
    "duration": 1969,
    "start_time": "2021-06-20T18:16:58.780Z"
   },
   {
    "duration": 23,
    "start_time": "2021-06-20T18:17:00.752Z"
   },
   {
    "duration": 12,
    "start_time": "2021-06-20T18:17:00.779Z"
   },
   {
    "duration": 25,
    "start_time": "2021-06-20T18:17:00.794Z"
   },
   {
    "duration": 20,
    "start_time": "2021-06-20T18:17:00.821Z"
   },
   {
    "duration": 13,
    "start_time": "2021-06-20T18:17:00.844Z"
   },
   {
    "duration": 28,
    "start_time": "2021-06-20T18:17:00.860Z"
   },
   {
    "duration": 69,
    "start_time": "2021-06-20T18:17:00.891Z"
   },
   {
    "duration": 40,
    "start_time": "2021-06-20T18:17:00.964Z"
   },
   {
    "duration": 2068,
    "start_time": "2021-06-20T18:17:01.007Z"
   },
   {
    "duration": 3,
    "start_time": "2021-06-20T18:17:03.082Z"
   },
   {
    "duration": 2253,
    "start_time": "2021-06-20T18:17:03.088Z"
   },
   {
    "duration": 1867,
    "start_time": "2021-06-20T18:17:05.344Z"
   },
   {
    "duration": 12,
    "start_time": "2021-06-20T18:17:07.214Z"
   },
   {
    "duration": 157,
    "start_time": "2021-06-20T18:17:07.229Z"
   },
   {
    "duration": 183,
    "start_time": "2021-06-20T18:17:07.389Z"
   },
   {
    "duration": 1219,
    "start_time": "2021-06-20T18:17:07.584Z"
   },
   {
    "duration": 139281,
    "start_time": "2021-06-20T18:17:08.806Z"
   },
   {
    "duration": 1805,
    "start_time": "2021-06-20T18:19:28.089Z"
   },
   {
    "duration": 48,
    "start_time": "2021-06-20T18:19:29.897Z"
   },
   {
    "duration": 47,
    "start_time": "2021-06-20T18:19:29.947Z"
   },
   {
    "duration": 9271,
    "start_time": "2021-06-20T18:19:29.996Z"
   },
   {
    "duration": 3326,
    "start_time": "2021-06-20T18:27:44.661Z"
   },
   {
    "duration": 3792,
    "start_time": "2021-06-20T18:28:07.830Z"
   },
   {
    "duration": 2894,
    "start_time": "2021-06-20T18:28:17.401Z"
   },
   {
    "duration": 1997,
    "start_time": "2021-06-20T18:28:32.591Z"
   },
   {
    "duration": 26,
    "start_time": "2021-06-20T18:28:34.591Z"
   },
   {
    "duration": 12,
    "start_time": "2021-06-20T18:28:34.621Z"
   },
   {
    "duration": 24,
    "start_time": "2021-06-20T18:28:34.636Z"
   },
   {
    "duration": 5,
    "start_time": "2021-06-20T18:28:34.685Z"
   },
   {
    "duration": 10,
    "start_time": "2021-06-20T18:28:34.692Z"
   },
   {
    "duration": 13,
    "start_time": "2021-06-20T18:28:34.705Z"
   },
   {
    "duration": 111,
    "start_time": "2021-06-20T18:28:34.721Z"
   },
   {
    "duration": 24,
    "start_time": "2021-06-20T18:28:34.834Z"
   },
   {
    "duration": 2290,
    "start_time": "2021-06-20T18:28:34.861Z"
   },
   {
    "duration": 4,
    "start_time": "2021-06-20T18:28:37.154Z"
   },
   {
    "duration": 2303,
    "start_time": "2021-06-20T18:28:37.161Z"
   },
   {
    "duration": 2681,
    "start_time": "2021-06-20T18:28:39.467Z"
   },
   {
    "duration": 13,
    "start_time": "2021-06-20T18:28:42.151Z"
   },
   {
    "duration": 115,
    "start_time": "2021-06-20T18:28:42.184Z"
   },
   {
    "duration": 153,
    "start_time": "2021-06-20T18:28:42.382Z"
   },
   {
    "duration": 824,
    "start_time": "2021-06-20T18:28:42.537Z"
   },
   {
    "duration": 157651,
    "start_time": "2021-06-20T18:28:43.364Z"
   },
   {
    "duration": 1173,
    "start_time": "2021-06-20T18:31:21.019Z"
   },
   {
    "duration": 48,
    "start_time": "2021-06-20T18:31:22.195Z"
   },
   {
    "duration": 50,
    "start_time": "2021-06-20T18:31:22.246Z"
   },
   {
    "duration": 3926,
    "start_time": "2021-06-20T18:31:22.302Z"
   },
   {
    "duration": 3197,
    "start_time": "2021-06-20T18:31:26.233Z"
   },
   {
    "duration": 2072,
    "start_time": "2021-06-20T18:34:26.056Z"
   },
   {
    "duration": 26,
    "start_time": "2021-06-20T18:34:28.132Z"
   },
   {
    "duration": 11,
    "start_time": "2021-06-20T18:34:28.161Z"
   },
   {
    "duration": 30,
    "start_time": "2021-06-20T18:34:28.187Z"
   },
   {
    "duration": 3,
    "start_time": "2021-06-20T18:34:28.220Z"
   },
   {
    "duration": 15,
    "start_time": "2021-06-20T18:34:28.226Z"
   },
   {
    "duration": 46,
    "start_time": "2021-06-20T18:34:28.244Z"
   },
   {
    "duration": 90,
    "start_time": "2021-06-20T18:34:28.300Z"
   },
   {
    "duration": 26,
    "start_time": "2021-06-20T18:34:28.394Z"
   },
   {
    "duration": 2223,
    "start_time": "2021-06-20T18:34:28.422Z"
   },
   {
    "duration": 4,
    "start_time": "2021-06-20T18:34:30.647Z"
   },
   {
    "duration": 2526,
    "start_time": "2021-06-20T18:34:30.654Z"
   },
   {
    "duration": 2932,
    "start_time": "2021-06-20T18:34:33.186Z"
   },
   {
    "duration": 14,
    "start_time": "2021-06-20T18:34:36.121Z"
   },
   {
    "duration": 165,
    "start_time": "2021-06-20T18:34:36.138Z"
   },
   {
    "duration": 144,
    "start_time": "2021-06-20T18:34:36.311Z"
   },
   {
    "duration": 884,
    "start_time": "2021-06-20T18:34:36.458Z"
   },
   {
    "duration": 146457,
    "start_time": "2021-06-20T18:34:37.344Z"
   },
   {
    "duration": 1586,
    "start_time": "2021-06-20T18:37:03.804Z"
   },
   {
    "duration": 76,
    "start_time": "2021-06-20T18:37:05.393Z"
   },
   {
    "duration": 33,
    "start_time": "2021-06-20T18:37:05.471Z"
   },
   {
    "duration": 3629,
    "start_time": "2021-06-20T18:37:05.507Z"
   },
   {
    "duration": 4032,
    "start_time": "2021-06-20T18:37:09.139Z"
   },
   {
    "duration": 9707,
    "start_time": "2021-06-21T11:40:14.585Z"
   },
   {
    "duration": 27,
    "start_time": "2021-06-21T11:40:24.295Z"
   },
   {
    "duration": 12,
    "start_time": "2021-06-21T11:40:24.325Z"
   },
   {
    "duration": 24,
    "start_time": "2021-06-21T11:40:24.340Z"
   },
   {
    "duration": 4,
    "start_time": "2021-06-21T11:40:24.368Z"
   },
   {
    "duration": 13,
    "start_time": "2021-06-21T11:40:24.375Z"
   },
   {
    "duration": 20,
    "start_time": "2021-06-21T11:40:24.424Z"
   },
   {
    "duration": 148,
    "start_time": "2021-06-21T11:40:24.449Z"
   },
   {
    "duration": 46,
    "start_time": "2021-06-21T11:40:24.602Z"
   },
   {
    "duration": 2076,
    "start_time": "2021-06-21T11:40:24.651Z"
   },
   {
    "duration": 4,
    "start_time": "2021-06-21T11:40:26.730Z"
   },
   {
    "duration": 3243,
    "start_time": "2021-06-21T11:40:26.736Z"
   },
   {
    "duration": 479,
    "start_time": "2021-06-21T11:45:09.637Z"
   },
   {
    "duration": 5129,
    "start_time": "2021-06-21T11:45:26.566Z"
   },
   {
    "duration": 2175,
    "start_time": "2021-06-21T11:45:46.652Z"
   },
   {
    "duration": 25,
    "start_time": "2021-06-21T11:45:49.632Z"
   },
   {
    "duration": 3,
    "start_time": "2021-06-21T11:45:55.401Z"
   },
   {
    "duration": 1121,
    "start_time": "2021-06-21T11:46:06.037Z"
   },
   {
    "duration": 1418,
    "start_time": "2021-06-21T11:47:52.332Z"
   },
   {
    "duration": 11,
    "start_time": "2021-06-21T12:00:33.537Z"
   },
   {
    "duration": 923,
    "start_time": "2021-06-21T12:00:37.756Z"
   },
   {
    "duration": 1406,
    "start_time": "2021-06-21T12:00:41.322Z"
   },
   {
    "duration": 1828,
    "start_time": "2021-06-21T12:02:47.596Z"
   },
   {
    "duration": 1887,
    "start_time": "2021-06-21T12:03:02.849Z"
   }
  ],
  "kernelspec": {
   "display_name": "Python 3",
   "language": "python",
   "name": "python3"
  },
  "language_info": {
   "codemirror_mode": {
    "name": "ipython",
    "version": 3
   },
   "file_extension": ".py",
   "mimetype": "text/x-python",
   "name": "python",
   "nbconvert_exporter": "python",
   "pygments_lexer": "ipython3",
   "version": "3.7.8"
  },
  "toc": {
   "base_numbering": 1,
   "nav_menu": {},
   "number_sections": true,
   "sideBar": true,
   "skip_h1_title": true,
   "title_cell": "Оглавление",
   "title_sidebar": "Contents",
   "toc_cell": true,
   "toc_position": {},
   "toc_section_display": true,
   "toc_window_display": false
  }
 },
 "nbformat": 4,
 "nbformat_minor": 2
}
